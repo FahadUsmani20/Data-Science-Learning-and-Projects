{
 "cells": [
  {
   "cell_type": "markdown",
   "metadata": {},
   "source": [
    "### Plotly and Cufflinks"
   ]
  },
  {
   "cell_type": "code",
   "execution_count": 1,
   "metadata": {},
   "outputs": [],
   "source": [
    "import numpy as np\n",
    "import pandas as pd\n",
    "import matplotlib.pyplot as plt\n",
    "\n",
    "%matplotlib inline"
   ]
  },
  {
   "cell_type": "code",
   "execution_count": 2,
   "metadata": {},
   "outputs": [
    {
     "name": "stdout",
     "output_type": "stream",
     "text": [
      "5.18.0\n"
     ]
    }
   ],
   "source": [
    "from plotly import __version__\n",
    "from plotly.offline import download_plotlyjs, init_notebook_mode, plot, iplot\n",
    "\n",
    "print(__version__)"
   ]
  },
  {
   "cell_type": "code",
   "execution_count": 3,
   "metadata": {},
   "outputs": [],
   "source": [
    "import cufflinks as cf"
   ]
  },
  {
   "cell_type": "code",
   "execution_count": 4,
   "metadata": {},
   "outputs": [
    {
     "data": {
      "text/html": [
       "        <script type=\"text/javascript\">\n",
       "        window.PlotlyConfig = {MathJaxConfig: 'local'};\n",
       "        if (window.MathJax && window.MathJax.Hub && window.MathJax.Hub.Config) {window.MathJax.Hub.Config({SVG: {font: \"STIX-Web\"}});}\n",
       "        if (typeof require !== 'undefined') {\n",
       "        require.undef(\"plotly\");\n",
       "        requirejs.config({\n",
       "            paths: {\n",
       "                'plotly': ['https://cdn.plot.ly/plotly-2.27.0.min']\n",
       "            }\n",
       "        });\n",
       "        require(['plotly'], function(Plotly) {\n",
       "            window._Plotly = Plotly;\n",
       "        });\n",
       "        }\n",
       "        </script>\n",
       "        "
      ]
     },
     "metadata": {},
     "output_type": "display_data"
    }
   ],
   "source": [
    "# For Notebooks\n",
    "init_notebook_mode(connected=True)"
   ]
  },
  {
   "cell_type": "code",
   "execution_count": 5,
   "metadata": {},
   "outputs": [
    {
     "data": {
      "text/html": [
       "        <script type=\"text/javascript\">\n",
       "        window.PlotlyConfig = {MathJaxConfig: 'local'};\n",
       "        if (window.MathJax && window.MathJax.Hub && window.MathJax.Hub.Config) {window.MathJax.Hub.Config({SVG: {font: \"STIX-Web\"}});}\n",
       "        if (typeof require !== 'undefined') {\n",
       "        require.undef(\"plotly\");\n",
       "        requirejs.config({\n",
       "            paths: {\n",
       "                'plotly': ['https://cdn.plot.ly/plotly-2.27.0.min']\n",
       "            }\n",
       "        });\n",
       "        require(['plotly'], function(Plotly) {\n",
       "            window._Plotly = Plotly;\n",
       "        });\n",
       "        }\n",
       "        </script>\n",
       "        "
      ]
     },
     "metadata": {},
     "output_type": "display_data"
    }
   ],
   "source": [
    "# For offline use\n",
    "cf.go_offline()"
   ]
  },
  {
   "cell_type": "code",
   "execution_count": 6,
   "metadata": {},
   "outputs": [],
   "source": [
    "df = pd.DataFrame(data = np.random.rand(100, 4), columns = \"A B C D\".split())"
   ]
  },
  {
   "cell_type": "code",
   "execution_count": 7,
   "metadata": {},
   "outputs": [
    {
     "data": {
      "text/html": [
       "<div>\n",
       "<style scoped>\n",
       "    .dataframe tbody tr th:only-of-type {\n",
       "        vertical-align: middle;\n",
       "    }\n",
       "\n",
       "    .dataframe tbody tr th {\n",
       "        vertical-align: top;\n",
       "    }\n",
       "\n",
       "    .dataframe thead th {\n",
       "        text-align: right;\n",
       "    }\n",
       "</style>\n",
       "<table border=\"1\" class=\"dataframe\">\n",
       "  <thead>\n",
       "    <tr style=\"text-align: right;\">\n",
       "      <th></th>\n",
       "      <th>A</th>\n",
       "      <th>B</th>\n",
       "      <th>C</th>\n",
       "      <th>D</th>\n",
       "    </tr>\n",
       "  </thead>\n",
       "  <tbody>\n",
       "    <tr>\n",
       "      <th>0</th>\n",
       "      <td>0.685193</td>\n",
       "      <td>0.422667</td>\n",
       "      <td>0.356186</td>\n",
       "      <td>0.513849</td>\n",
       "    </tr>\n",
       "    <tr>\n",
       "      <th>1</th>\n",
       "      <td>0.011777</td>\n",
       "      <td>0.402553</td>\n",
       "      <td>0.944844</td>\n",
       "      <td>0.429778</td>\n",
       "    </tr>\n",
       "    <tr>\n",
       "      <th>2</th>\n",
       "      <td>0.671169</td>\n",
       "      <td>0.393297</td>\n",
       "      <td>0.240163</td>\n",
       "      <td>0.104042</td>\n",
       "    </tr>\n",
       "    <tr>\n",
       "      <th>3</th>\n",
       "      <td>0.760276</td>\n",
       "      <td>0.708975</td>\n",
       "      <td>0.201188</td>\n",
       "      <td>0.274507</td>\n",
       "    </tr>\n",
       "    <tr>\n",
       "      <th>4</th>\n",
       "      <td>0.334034</td>\n",
       "      <td>0.886022</td>\n",
       "      <td>0.151223</td>\n",
       "      <td>0.043016</td>\n",
       "    </tr>\n",
       "  </tbody>\n",
       "</table>\n",
       "</div>"
      ],
      "text/plain": [
       "          A         B         C         D\n",
       "0  0.685193  0.422667  0.356186  0.513849\n",
       "1  0.011777  0.402553  0.944844  0.429778\n",
       "2  0.671169  0.393297  0.240163  0.104042\n",
       "3  0.760276  0.708975  0.201188  0.274507\n",
       "4  0.334034  0.886022  0.151223  0.043016"
      ]
     },
     "execution_count": 7,
     "metadata": {},
     "output_type": "execute_result"
    }
   ],
   "source": [
    "df.head()"
   ]
  },
  {
   "cell_type": "code",
   "execution_count": 8,
   "metadata": {},
   "outputs": [
    {
     "name": "stdout",
     "output_type": "stream",
     "text": [
      "<class 'pandas.core.frame.DataFrame'>\n",
      "RangeIndex: 100 entries, 0 to 99\n",
      "Data columns (total 4 columns):\n",
      " #   Column  Non-Null Count  Dtype  \n",
      "---  ------  --------------  -----  \n",
      " 0   A       100 non-null    float64\n",
      " 1   B       100 non-null    float64\n",
      " 2   C       100 non-null    float64\n",
      " 3   D       100 non-null    float64\n",
      "dtypes: float64(4)\n",
      "memory usage: 3.2 KB\n"
     ]
    }
   ],
   "source": [
    "df.info()"
   ]
  },
  {
   "cell_type": "code",
   "execution_count": 9,
   "metadata": {},
   "outputs": [],
   "source": [
    "df2 = pd.DataFrame({'Category':['A','B','C'],'Values':[32,43,50]})"
   ]
  },
  {
   "cell_type": "code",
   "execution_count": 10,
   "metadata": {},
   "outputs": [
    {
     "data": {
      "text/html": [
       "<div>\n",
       "<style scoped>\n",
       "    .dataframe tbody tr th:only-of-type {\n",
       "        vertical-align: middle;\n",
       "    }\n",
       "\n",
       "    .dataframe tbody tr th {\n",
       "        vertical-align: top;\n",
       "    }\n",
       "\n",
       "    .dataframe thead th {\n",
       "        text-align: right;\n",
       "    }\n",
       "</style>\n",
       "<table border=\"1\" class=\"dataframe\">\n",
       "  <thead>\n",
       "    <tr style=\"text-align: right;\">\n",
       "      <th></th>\n",
       "      <th>Category</th>\n",
       "      <th>Values</th>\n",
       "    </tr>\n",
       "  </thead>\n",
       "  <tbody>\n",
       "    <tr>\n",
       "      <th>0</th>\n",
       "      <td>A</td>\n",
       "      <td>32</td>\n",
       "    </tr>\n",
       "    <tr>\n",
       "      <th>1</th>\n",
       "      <td>B</td>\n",
       "      <td>43</td>\n",
       "    </tr>\n",
       "    <tr>\n",
       "      <th>2</th>\n",
       "      <td>C</td>\n",
       "      <td>50</td>\n",
       "    </tr>\n",
       "  </tbody>\n",
       "</table>\n",
       "</div>"
      ],
      "text/plain": [
       "  Category  Values\n",
       "0        A      32\n",
       "1        B      43\n",
       "2        C      50"
      ]
     },
     "execution_count": 10,
     "metadata": {},
     "output_type": "execute_result"
    }
   ],
   "source": [
    "df2.head()"
   ]
  },
  {
   "cell_type": "markdown",
   "metadata": {},
   "source": [
    "### Using Cufflinks and iplot()\n",
    "\n",
    "* scatter\n",
    "* bar\n",
    "* box\n",
    "* spread\n",
    "* ratio\n",
    "* heatmap\n",
    "* surface\n",
    "* histogram\n",
    "* bubble"
   ]
  },
  {
   "cell_type": "code",
   "execution_count": 11,
   "metadata": {},
   "outputs": [
    {
     "data": {
      "application/vnd.plotly.v1+json": {
       "config": {
        "linkText": "Export to plot.ly",
        "plotlyServerURL": "https://plot.ly",
        "showLink": true
       },
       "data": [
        {
         "line": {
          "color": "rgba(255, 153, 51, 1.0)",
          "dash": "solid",
          "shape": "linear",
          "width": 1.3
         },
         "marker": {
          "size": 10,
          "symbol": "circle"
         },
         "mode": "markers",
         "name": "B",
         "text": "",
         "type": "scatter",
         "x": [
          0.6851931426351257,
          0.011776897866929925,
          0.6711687969096942,
          0.7602761239010867,
          0.3340338832786466,
          0.7816642209869414,
          0.5146777368811686,
          0.27757936324960786,
          0.45619519359886995,
          0.7826118703504528,
          0.1793926410604133,
          0.3733918907281869,
          0.40085382837520656,
          0.7618058206808223,
          0.9548275340972647,
          0.9359040309881265,
          0.9292539323643081,
          0.26699051788428463,
          0.10651570835837199,
          0.47149437820267437,
          0.4723558429116048,
          0.8924910812604379,
          0.6033388501809807,
          0.4182015649088362,
          0.770232704093313,
          0.009509643654387667,
          0.19572361958541018,
          0.9554512516562105,
          0.6532818924769286,
          0.5036202794270261,
          0.16213807970495941,
          0.3259476854783766,
          0.4767630067990336,
          0.19238066856053038,
          0.5094150020031566,
          0.15289906315505475,
          0.25973946838954154,
          0.8479357729311677,
          0.7315736915507024,
          0.8759466725937207,
          0.0039892864183248555,
          0.9223470930587958,
          0.6197722470563477,
          0.8915203806250959,
          0.49874906370424277,
          0.8225743297774892,
          0.8321877277647997,
          0.9337619528161556,
          0.566430332989835,
          0.08749478659048193,
          0.7062816404886239,
          0.10971798726716797,
          0.8090217481133684,
          0.9348440936553413,
          0.5470523235663101,
          0.9929227017449651,
          0.3055033289453378,
          0.8233020655085458,
          0.6399880075867787,
          0.4259085634802027,
          0.2271003082781351,
          0.9603863275665787,
          0.5754718198360809,
          0.6855922475545655,
          0.8000215864503785,
          0.8882799595071866,
          0.3241319292623662,
          0.02510558337714941,
          0.06417188996909506,
          0.04396342402257025,
          0.09297676877375738,
          0.8371524654524803,
          0.6923717442984694,
          0.017999027479590257,
          0.6084020829648865,
          0.8653194757514951,
          0.892365537710933,
          0.9669928639688513,
          0.9172442534485912,
          0.7037940251904705,
          0.535592906715179,
          0.5143379520921977,
          0.03561205339677431,
          0.841369886530009,
          0.724365948331164,
          0.4113079899678703,
          0.9664246333130304,
          0.9775693874432042,
          0.2442457321332865,
          0.10445602074912241,
          0.04761806409626401,
          0.520870656725141,
          0.9114110263365339,
          0.9649354330695963,
          0.5508033886063982,
          0.9174235511977848,
          0.7837412414053477,
          0.36246755694057575,
          0.1328875015634834,
          0.6268064453069518
         ],
         "y": [
          0.42266747208389555,
          0.4025529479209352,
          0.39329654633743705,
          0.7089745237385758,
          0.8860223422354788,
          0.39529151946139907,
          0.8858426705003635,
          0.7331624810794318,
          0.7988126303942001,
          0.07056472330669372,
          0.690489663051068,
          0.7550914443538574,
          0.2346450175788274,
          0.3472108096739044,
          0.6940324907465701,
          0.9854109807099428,
          0.17432375474191653,
          0.6323086937207173,
          0.018811432365633207,
          0.34363817749418213,
          0.16907863810594215,
          0.1880173195378385,
          0.2838855731082722,
          0.58633569166344,
          0.7313784980764263,
          0.4217352907134324,
          0.0821310918890209,
          0.5802391456930355,
          0.3227803268815147,
          0.1374991881569092,
          0.2864621476593546,
          0.19149129939914444,
          0.9832226435073113,
          0.6364963320943695,
          0.27947567276258256,
          0.26949286081671076,
          0.9805085759405282,
          0.6999272814650266,
          0.591582308601422,
          0.8607311892983199,
          0.25907295320215706,
          0.10024379132139893,
          0.5819390306343086,
          0.5522721660384126,
          0.22890535806939616,
          0.5545316245108332,
          0.6440610954172484,
          0.1114944589432354,
          0.7479585083642296,
          0.3874151625265263,
          0.9761135772858062,
          0.7332172159647825,
          0.3422539745509602,
          0.6429353253166763,
          0.8821621570152173,
          0.4884007673373636,
          0.6959144740845423,
          0.18689551402856497,
          0.20447107279468102,
          0.1612271442359685,
          0.49526183884171393,
          0.902412854780535,
          0.039160470695294824,
          0.023922135921567778,
          0.4623623853095533,
          0.5671486755300885,
          0.79530536593901,
          0.23776063858335006,
          0.7334239134015752,
          0.8329837817282485,
          0.21663846070326986,
          0.48422265908275763,
          0.7183641746039793,
          0.7886167134052354,
          0.1595354492877974,
          0.3716498483596541,
          0.9311235868724613,
          0.6447795579762172,
          0.30540876045655563,
          0.02459361591469833,
          0.8829687393024542,
          0.4566429789993859,
          0.16355927849690421,
          0.6187702383650091,
          0.8931607555718876,
          0.711878986423076,
          0.43774619353263144,
          0.49253425211216895,
          0.9330458248294381,
          0.8519322649822875,
          0.75431544317232,
          0.24172360392386216,
          0.5482403192688711,
          0.6137944497061548,
          0.8364759617290806,
          0.45066006104456136,
          0.24196271044178141,
          0.7692594805027758,
          0.8516824597359812,
          0.3178770681491705
         ]
        }
       ],
       "layout": {
        "legend": {
         "bgcolor": "#F5F6F9",
         "font": {
          "color": "#4D5663"
         }
        },
        "paper_bgcolor": "#F5F6F9",
        "plot_bgcolor": "#F5F6F9",
        "template": {
         "data": {
          "bar": [
           {
            "error_x": {
             "color": "#2a3f5f"
            },
            "error_y": {
             "color": "#2a3f5f"
            },
            "marker": {
             "line": {
              "color": "#E5ECF6",
              "width": 0.5
             },
             "pattern": {
              "fillmode": "overlay",
              "size": 10,
              "solidity": 0.2
             }
            },
            "type": "bar"
           }
          ],
          "barpolar": [
           {
            "marker": {
             "line": {
              "color": "#E5ECF6",
              "width": 0.5
             },
             "pattern": {
              "fillmode": "overlay",
              "size": 10,
              "solidity": 0.2
             }
            },
            "type": "barpolar"
           }
          ],
          "carpet": [
           {
            "aaxis": {
             "endlinecolor": "#2a3f5f",
             "gridcolor": "white",
             "linecolor": "white",
             "minorgridcolor": "white",
             "startlinecolor": "#2a3f5f"
            },
            "baxis": {
             "endlinecolor": "#2a3f5f",
             "gridcolor": "white",
             "linecolor": "white",
             "minorgridcolor": "white",
             "startlinecolor": "#2a3f5f"
            },
            "type": "carpet"
           }
          ],
          "choropleth": [
           {
            "colorbar": {
             "outlinewidth": 0,
             "ticks": ""
            },
            "type": "choropleth"
           }
          ],
          "contour": [
           {
            "colorbar": {
             "outlinewidth": 0,
             "ticks": ""
            },
            "colorscale": [
             [
              0,
              "#0d0887"
             ],
             [
              0.1111111111111111,
              "#46039f"
             ],
             [
              0.2222222222222222,
              "#7201a8"
             ],
             [
              0.3333333333333333,
              "#9c179e"
             ],
             [
              0.4444444444444444,
              "#bd3786"
             ],
             [
              0.5555555555555556,
              "#d8576b"
             ],
             [
              0.6666666666666666,
              "#ed7953"
             ],
             [
              0.7777777777777778,
              "#fb9f3a"
             ],
             [
              0.8888888888888888,
              "#fdca26"
             ],
             [
              1,
              "#f0f921"
             ]
            ],
            "type": "contour"
           }
          ],
          "contourcarpet": [
           {
            "colorbar": {
             "outlinewidth": 0,
             "ticks": ""
            },
            "type": "contourcarpet"
           }
          ],
          "heatmap": [
           {
            "colorbar": {
             "outlinewidth": 0,
             "ticks": ""
            },
            "colorscale": [
             [
              0,
              "#0d0887"
             ],
             [
              0.1111111111111111,
              "#46039f"
             ],
             [
              0.2222222222222222,
              "#7201a8"
             ],
             [
              0.3333333333333333,
              "#9c179e"
             ],
             [
              0.4444444444444444,
              "#bd3786"
             ],
             [
              0.5555555555555556,
              "#d8576b"
             ],
             [
              0.6666666666666666,
              "#ed7953"
             ],
             [
              0.7777777777777778,
              "#fb9f3a"
             ],
             [
              0.8888888888888888,
              "#fdca26"
             ],
             [
              1,
              "#f0f921"
             ]
            ],
            "type": "heatmap"
           }
          ],
          "heatmapgl": [
           {
            "colorbar": {
             "outlinewidth": 0,
             "ticks": ""
            },
            "colorscale": [
             [
              0,
              "#0d0887"
             ],
             [
              0.1111111111111111,
              "#46039f"
             ],
             [
              0.2222222222222222,
              "#7201a8"
             ],
             [
              0.3333333333333333,
              "#9c179e"
             ],
             [
              0.4444444444444444,
              "#bd3786"
             ],
             [
              0.5555555555555556,
              "#d8576b"
             ],
             [
              0.6666666666666666,
              "#ed7953"
             ],
             [
              0.7777777777777778,
              "#fb9f3a"
             ],
             [
              0.8888888888888888,
              "#fdca26"
             ],
             [
              1,
              "#f0f921"
             ]
            ],
            "type": "heatmapgl"
           }
          ],
          "histogram": [
           {
            "marker": {
             "pattern": {
              "fillmode": "overlay",
              "size": 10,
              "solidity": 0.2
             }
            },
            "type": "histogram"
           }
          ],
          "histogram2d": [
           {
            "colorbar": {
             "outlinewidth": 0,
             "ticks": ""
            },
            "colorscale": [
             [
              0,
              "#0d0887"
             ],
             [
              0.1111111111111111,
              "#46039f"
             ],
             [
              0.2222222222222222,
              "#7201a8"
             ],
             [
              0.3333333333333333,
              "#9c179e"
             ],
             [
              0.4444444444444444,
              "#bd3786"
             ],
             [
              0.5555555555555556,
              "#d8576b"
             ],
             [
              0.6666666666666666,
              "#ed7953"
             ],
             [
              0.7777777777777778,
              "#fb9f3a"
             ],
             [
              0.8888888888888888,
              "#fdca26"
             ],
             [
              1,
              "#f0f921"
             ]
            ],
            "type": "histogram2d"
           }
          ],
          "histogram2dcontour": [
           {
            "colorbar": {
             "outlinewidth": 0,
             "ticks": ""
            },
            "colorscale": [
             [
              0,
              "#0d0887"
             ],
             [
              0.1111111111111111,
              "#46039f"
             ],
             [
              0.2222222222222222,
              "#7201a8"
             ],
             [
              0.3333333333333333,
              "#9c179e"
             ],
             [
              0.4444444444444444,
              "#bd3786"
             ],
             [
              0.5555555555555556,
              "#d8576b"
             ],
             [
              0.6666666666666666,
              "#ed7953"
             ],
             [
              0.7777777777777778,
              "#fb9f3a"
             ],
             [
              0.8888888888888888,
              "#fdca26"
             ],
             [
              1,
              "#f0f921"
             ]
            ],
            "type": "histogram2dcontour"
           }
          ],
          "mesh3d": [
           {
            "colorbar": {
             "outlinewidth": 0,
             "ticks": ""
            },
            "type": "mesh3d"
           }
          ],
          "parcoords": [
           {
            "line": {
             "colorbar": {
              "outlinewidth": 0,
              "ticks": ""
             }
            },
            "type": "parcoords"
           }
          ],
          "pie": [
           {
            "automargin": true,
            "type": "pie"
           }
          ],
          "scatter": [
           {
            "fillpattern": {
             "fillmode": "overlay",
             "size": 10,
             "solidity": 0.2
            },
            "type": "scatter"
           }
          ],
          "scatter3d": [
           {
            "line": {
             "colorbar": {
              "outlinewidth": 0,
              "ticks": ""
             }
            },
            "marker": {
             "colorbar": {
              "outlinewidth": 0,
              "ticks": ""
             }
            },
            "type": "scatter3d"
           }
          ],
          "scattercarpet": [
           {
            "marker": {
             "colorbar": {
              "outlinewidth": 0,
              "ticks": ""
             }
            },
            "type": "scattercarpet"
           }
          ],
          "scattergeo": [
           {
            "marker": {
             "colorbar": {
              "outlinewidth": 0,
              "ticks": ""
             }
            },
            "type": "scattergeo"
           }
          ],
          "scattergl": [
           {
            "marker": {
             "colorbar": {
              "outlinewidth": 0,
              "ticks": ""
             }
            },
            "type": "scattergl"
           }
          ],
          "scattermapbox": [
           {
            "marker": {
             "colorbar": {
              "outlinewidth": 0,
              "ticks": ""
             }
            },
            "type": "scattermapbox"
           }
          ],
          "scatterpolar": [
           {
            "marker": {
             "colorbar": {
              "outlinewidth": 0,
              "ticks": ""
             }
            },
            "type": "scatterpolar"
           }
          ],
          "scatterpolargl": [
           {
            "marker": {
             "colorbar": {
              "outlinewidth": 0,
              "ticks": ""
             }
            },
            "type": "scatterpolargl"
           }
          ],
          "scatterternary": [
           {
            "marker": {
             "colorbar": {
              "outlinewidth": 0,
              "ticks": ""
             }
            },
            "type": "scatterternary"
           }
          ],
          "surface": [
           {
            "colorbar": {
             "outlinewidth": 0,
             "ticks": ""
            },
            "colorscale": [
             [
              0,
              "#0d0887"
             ],
             [
              0.1111111111111111,
              "#46039f"
             ],
             [
              0.2222222222222222,
              "#7201a8"
             ],
             [
              0.3333333333333333,
              "#9c179e"
             ],
             [
              0.4444444444444444,
              "#bd3786"
             ],
             [
              0.5555555555555556,
              "#d8576b"
             ],
             [
              0.6666666666666666,
              "#ed7953"
             ],
             [
              0.7777777777777778,
              "#fb9f3a"
             ],
             [
              0.8888888888888888,
              "#fdca26"
             ],
             [
              1,
              "#f0f921"
             ]
            ],
            "type": "surface"
           }
          ],
          "table": [
           {
            "cells": {
             "fill": {
              "color": "#EBF0F8"
             },
             "line": {
              "color": "white"
             }
            },
            "header": {
             "fill": {
              "color": "#C8D4E3"
             },
             "line": {
              "color": "white"
             }
            },
            "type": "table"
           }
          ]
         },
         "layout": {
          "annotationdefaults": {
           "arrowcolor": "#2a3f5f",
           "arrowhead": 0,
           "arrowwidth": 1
          },
          "autotypenumbers": "strict",
          "coloraxis": {
           "colorbar": {
            "outlinewidth": 0,
            "ticks": ""
           }
          },
          "colorscale": {
           "diverging": [
            [
             0,
             "#8e0152"
            ],
            [
             0.1,
             "#c51b7d"
            ],
            [
             0.2,
             "#de77ae"
            ],
            [
             0.3,
             "#f1b6da"
            ],
            [
             0.4,
             "#fde0ef"
            ],
            [
             0.5,
             "#f7f7f7"
            ],
            [
             0.6,
             "#e6f5d0"
            ],
            [
             0.7,
             "#b8e186"
            ],
            [
             0.8,
             "#7fbc41"
            ],
            [
             0.9,
             "#4d9221"
            ],
            [
             1,
             "#276419"
            ]
           ],
           "sequential": [
            [
             0,
             "#0d0887"
            ],
            [
             0.1111111111111111,
             "#46039f"
            ],
            [
             0.2222222222222222,
             "#7201a8"
            ],
            [
             0.3333333333333333,
             "#9c179e"
            ],
            [
             0.4444444444444444,
             "#bd3786"
            ],
            [
             0.5555555555555556,
             "#d8576b"
            ],
            [
             0.6666666666666666,
             "#ed7953"
            ],
            [
             0.7777777777777778,
             "#fb9f3a"
            ],
            [
             0.8888888888888888,
             "#fdca26"
            ],
            [
             1,
             "#f0f921"
            ]
           ],
           "sequentialminus": [
            [
             0,
             "#0d0887"
            ],
            [
             0.1111111111111111,
             "#46039f"
            ],
            [
             0.2222222222222222,
             "#7201a8"
            ],
            [
             0.3333333333333333,
             "#9c179e"
            ],
            [
             0.4444444444444444,
             "#bd3786"
            ],
            [
             0.5555555555555556,
             "#d8576b"
            ],
            [
             0.6666666666666666,
             "#ed7953"
            ],
            [
             0.7777777777777778,
             "#fb9f3a"
            ],
            [
             0.8888888888888888,
             "#fdca26"
            ],
            [
             1,
             "#f0f921"
            ]
           ]
          },
          "colorway": [
           "#636efa",
           "#EF553B",
           "#00cc96",
           "#ab63fa",
           "#FFA15A",
           "#19d3f3",
           "#FF6692",
           "#B6E880",
           "#FF97FF",
           "#FECB52"
          ],
          "font": {
           "color": "#2a3f5f"
          },
          "geo": {
           "bgcolor": "white",
           "lakecolor": "white",
           "landcolor": "#E5ECF6",
           "showlakes": true,
           "showland": true,
           "subunitcolor": "white"
          },
          "hoverlabel": {
           "align": "left"
          },
          "hovermode": "closest",
          "mapbox": {
           "style": "light"
          },
          "paper_bgcolor": "white",
          "plot_bgcolor": "#E5ECF6",
          "polar": {
           "angularaxis": {
            "gridcolor": "white",
            "linecolor": "white",
            "ticks": ""
           },
           "bgcolor": "#E5ECF6",
           "radialaxis": {
            "gridcolor": "white",
            "linecolor": "white",
            "ticks": ""
           }
          },
          "scene": {
           "xaxis": {
            "backgroundcolor": "#E5ECF6",
            "gridcolor": "white",
            "gridwidth": 2,
            "linecolor": "white",
            "showbackground": true,
            "ticks": "",
            "zerolinecolor": "white"
           },
           "yaxis": {
            "backgroundcolor": "#E5ECF6",
            "gridcolor": "white",
            "gridwidth": 2,
            "linecolor": "white",
            "showbackground": true,
            "ticks": "",
            "zerolinecolor": "white"
           },
           "zaxis": {
            "backgroundcolor": "#E5ECF6",
            "gridcolor": "white",
            "gridwidth": 2,
            "linecolor": "white",
            "showbackground": true,
            "ticks": "",
            "zerolinecolor": "white"
           }
          },
          "shapedefaults": {
           "line": {
            "color": "#2a3f5f"
           }
          },
          "ternary": {
           "aaxis": {
            "gridcolor": "white",
            "linecolor": "white",
            "ticks": ""
           },
           "baxis": {
            "gridcolor": "white",
            "linecolor": "white",
            "ticks": ""
           },
           "bgcolor": "#E5ECF6",
           "caxis": {
            "gridcolor": "white",
            "linecolor": "white",
            "ticks": ""
           }
          },
          "title": {
           "x": 0.05
          },
          "xaxis": {
           "automargin": true,
           "gridcolor": "white",
           "linecolor": "white",
           "ticks": "",
           "title": {
            "standoff": 15
           },
           "zerolinecolor": "white",
           "zerolinewidth": 2
          },
          "yaxis": {
           "automargin": true,
           "gridcolor": "white",
           "linecolor": "white",
           "ticks": "",
           "title": {
            "standoff": 15
           },
           "zerolinecolor": "white",
           "zerolinewidth": 2
          }
         }
        },
        "title": {
         "font": {
          "color": "#4D5663"
         }
        },
        "xaxis": {
         "gridcolor": "#E1E5ED",
         "showgrid": true,
         "tickfont": {
          "color": "#4D5663"
         },
         "title": {
          "font": {
           "color": "#4D5663"
          },
          "text": ""
         },
         "zerolinecolor": "#E1E5ED"
        },
        "yaxis": {
         "gridcolor": "#E1E5ED",
         "showgrid": true,
         "tickfont": {
          "color": "#4D5663"
         },
         "title": {
          "font": {
           "color": "#4D5663"
          },
          "text": ""
         },
         "zerolinecolor": "#E1E5ED"
        }
       }
      },
      "text/html": [
       "<div>                            <div id=\"b786ca9d-56c5-494f-85e8-6c3228f6721a\" class=\"plotly-graph-div\" style=\"height:525px; width:100%;\"></div>            <script type=\"text/javascript\">                require([\"plotly\"], function(Plotly) {                    window.PLOTLYENV=window.PLOTLYENV || {};\n",
       "                    window.PLOTLYENV.BASE_URL='https://plot.ly';                                    if (document.getElementById(\"b786ca9d-56c5-494f-85e8-6c3228f6721a\")) {                    Plotly.newPlot(                        \"b786ca9d-56c5-494f-85e8-6c3228f6721a\",                        [{\"line\":{\"color\":\"rgba(255, 153, 51, 1.0)\",\"dash\":\"solid\",\"shape\":\"linear\",\"width\":1.3},\"marker\":{\"size\":10,\"symbol\":\"circle\"},\"mode\":\"markers\",\"name\":\"B\",\"text\":\"\",\"x\":[0.6851931426351257,0.011776897866929925,0.6711687969096942,0.7602761239010867,0.3340338832786466,0.7816642209869414,0.5146777368811686,0.27757936324960786,0.45619519359886995,0.7826118703504528,0.1793926410604133,0.3733918907281869,0.40085382837520656,0.7618058206808223,0.9548275340972647,0.9359040309881265,0.9292539323643081,0.26699051788428463,0.10651570835837199,0.47149437820267437,0.4723558429116048,0.8924910812604379,0.6033388501809807,0.4182015649088362,0.770232704093313,0.009509643654387667,0.19572361958541018,0.9554512516562105,0.6532818924769286,0.5036202794270261,0.16213807970495941,0.3259476854783766,0.4767630067990336,0.19238066856053038,0.5094150020031566,0.15289906315505475,0.25973946838954154,0.8479357729311677,0.7315736915507024,0.8759466725937207,0.0039892864183248555,0.9223470930587958,0.6197722470563477,0.8915203806250959,0.49874906370424277,0.8225743297774892,0.8321877277647997,0.9337619528161556,0.566430332989835,0.08749478659048193,0.7062816404886239,0.10971798726716797,0.8090217481133684,0.9348440936553413,0.5470523235663101,0.9929227017449651,0.3055033289453378,0.8233020655085458,0.6399880075867787,0.4259085634802027,0.2271003082781351,0.9603863275665787,0.5754718198360809,0.6855922475545655,0.8000215864503785,0.8882799595071866,0.3241319292623662,0.02510558337714941,0.06417188996909506,0.04396342402257025,0.09297676877375738,0.8371524654524803,0.6923717442984694,0.017999027479590257,0.6084020829648865,0.8653194757514951,0.892365537710933,0.9669928639688513,0.9172442534485912,0.7037940251904705,0.535592906715179,0.5143379520921977,0.03561205339677431,0.841369886530009,0.724365948331164,0.4113079899678703,0.9664246333130304,0.9775693874432042,0.2442457321332865,0.10445602074912241,0.04761806409626401,0.520870656725141,0.9114110263365339,0.9649354330695963,0.5508033886063982,0.9174235511977848,0.7837412414053477,0.36246755694057575,0.1328875015634834,0.6268064453069518],\"y\":[0.42266747208389555,0.4025529479209352,0.39329654633743705,0.7089745237385758,0.8860223422354788,0.39529151946139907,0.8858426705003635,0.7331624810794318,0.7988126303942001,0.07056472330669372,0.690489663051068,0.7550914443538574,0.2346450175788274,0.3472108096739044,0.6940324907465701,0.9854109807099428,0.17432375474191653,0.6323086937207173,0.018811432365633207,0.34363817749418213,0.16907863810594215,0.1880173195378385,0.2838855731082722,0.58633569166344,0.7313784980764263,0.4217352907134324,0.0821310918890209,0.5802391456930355,0.3227803268815147,0.1374991881569092,0.2864621476593546,0.19149129939914444,0.9832226435073113,0.6364963320943695,0.27947567276258256,0.26949286081671076,0.9805085759405282,0.6999272814650266,0.591582308601422,0.8607311892983199,0.25907295320215706,0.10024379132139893,0.5819390306343086,0.5522721660384126,0.22890535806939616,0.5545316245108332,0.6440610954172484,0.1114944589432354,0.7479585083642296,0.3874151625265263,0.9761135772858062,0.7332172159647825,0.3422539745509602,0.6429353253166763,0.8821621570152173,0.4884007673373636,0.6959144740845423,0.18689551402856497,0.20447107279468102,0.1612271442359685,0.49526183884171393,0.902412854780535,0.039160470695294824,0.023922135921567778,0.4623623853095533,0.5671486755300885,0.79530536593901,0.23776063858335006,0.7334239134015752,0.8329837817282485,0.21663846070326986,0.48422265908275763,0.7183641746039793,0.7886167134052354,0.1595354492877974,0.3716498483596541,0.9311235868724613,0.6447795579762172,0.30540876045655563,0.02459361591469833,0.8829687393024542,0.4566429789993859,0.16355927849690421,0.6187702383650091,0.8931607555718876,0.711878986423076,0.43774619353263144,0.49253425211216895,0.9330458248294381,0.8519322649822875,0.75431544317232,0.24172360392386216,0.5482403192688711,0.6137944497061548,0.8364759617290806,0.45066006104456136,0.24196271044178141,0.7692594805027758,0.8516824597359812,0.3178770681491705],\"type\":\"scatter\"}],                        {\"legend\":{\"bgcolor\":\"#F5F6F9\",\"font\":{\"color\":\"#4D5663\"}},\"paper_bgcolor\":\"#F5F6F9\",\"plot_bgcolor\":\"#F5F6F9\",\"template\":{\"data\":{\"barpolar\":[{\"marker\":{\"line\":{\"color\":\"#E5ECF6\",\"width\":0.5},\"pattern\":{\"fillmode\":\"overlay\",\"size\":10,\"solidity\":0.2}},\"type\":\"barpolar\"}],\"bar\":[{\"error_x\":{\"color\":\"#2a3f5f\"},\"error_y\":{\"color\":\"#2a3f5f\"},\"marker\":{\"line\":{\"color\":\"#E5ECF6\",\"width\":0.5},\"pattern\":{\"fillmode\":\"overlay\",\"size\":10,\"solidity\":0.2}},\"type\":\"bar\"}],\"carpet\":[{\"aaxis\":{\"endlinecolor\":\"#2a3f5f\",\"gridcolor\":\"white\",\"linecolor\":\"white\",\"minorgridcolor\":\"white\",\"startlinecolor\":\"#2a3f5f\"},\"baxis\":{\"endlinecolor\":\"#2a3f5f\",\"gridcolor\":\"white\",\"linecolor\":\"white\",\"minorgridcolor\":\"white\",\"startlinecolor\":\"#2a3f5f\"},\"type\":\"carpet\"}],\"choropleth\":[{\"colorbar\":{\"outlinewidth\":0,\"ticks\":\"\"},\"type\":\"choropleth\"}],\"contourcarpet\":[{\"colorbar\":{\"outlinewidth\":0,\"ticks\":\"\"},\"type\":\"contourcarpet\"}],\"contour\":[{\"colorbar\":{\"outlinewidth\":0,\"ticks\":\"\"},\"colorscale\":[[0.0,\"#0d0887\"],[0.1111111111111111,\"#46039f\"],[0.2222222222222222,\"#7201a8\"],[0.3333333333333333,\"#9c179e\"],[0.4444444444444444,\"#bd3786\"],[0.5555555555555556,\"#d8576b\"],[0.6666666666666666,\"#ed7953\"],[0.7777777777777778,\"#fb9f3a\"],[0.8888888888888888,\"#fdca26\"],[1.0,\"#f0f921\"]],\"type\":\"contour\"}],\"heatmapgl\":[{\"colorbar\":{\"outlinewidth\":0,\"ticks\":\"\"},\"colorscale\":[[0.0,\"#0d0887\"],[0.1111111111111111,\"#46039f\"],[0.2222222222222222,\"#7201a8\"],[0.3333333333333333,\"#9c179e\"],[0.4444444444444444,\"#bd3786\"],[0.5555555555555556,\"#d8576b\"],[0.6666666666666666,\"#ed7953\"],[0.7777777777777778,\"#fb9f3a\"],[0.8888888888888888,\"#fdca26\"],[1.0,\"#f0f921\"]],\"type\":\"heatmapgl\"}],\"heatmap\":[{\"colorbar\":{\"outlinewidth\":0,\"ticks\":\"\"},\"colorscale\":[[0.0,\"#0d0887\"],[0.1111111111111111,\"#46039f\"],[0.2222222222222222,\"#7201a8\"],[0.3333333333333333,\"#9c179e\"],[0.4444444444444444,\"#bd3786\"],[0.5555555555555556,\"#d8576b\"],[0.6666666666666666,\"#ed7953\"],[0.7777777777777778,\"#fb9f3a\"],[0.8888888888888888,\"#fdca26\"],[1.0,\"#f0f921\"]],\"type\":\"heatmap\"}],\"histogram2dcontour\":[{\"colorbar\":{\"outlinewidth\":0,\"ticks\":\"\"},\"colorscale\":[[0.0,\"#0d0887\"],[0.1111111111111111,\"#46039f\"],[0.2222222222222222,\"#7201a8\"],[0.3333333333333333,\"#9c179e\"],[0.4444444444444444,\"#bd3786\"],[0.5555555555555556,\"#d8576b\"],[0.6666666666666666,\"#ed7953\"],[0.7777777777777778,\"#fb9f3a\"],[0.8888888888888888,\"#fdca26\"],[1.0,\"#f0f921\"]],\"type\":\"histogram2dcontour\"}],\"histogram2d\":[{\"colorbar\":{\"outlinewidth\":0,\"ticks\":\"\"},\"colorscale\":[[0.0,\"#0d0887\"],[0.1111111111111111,\"#46039f\"],[0.2222222222222222,\"#7201a8\"],[0.3333333333333333,\"#9c179e\"],[0.4444444444444444,\"#bd3786\"],[0.5555555555555556,\"#d8576b\"],[0.6666666666666666,\"#ed7953\"],[0.7777777777777778,\"#fb9f3a\"],[0.8888888888888888,\"#fdca26\"],[1.0,\"#f0f921\"]],\"type\":\"histogram2d\"}],\"histogram\":[{\"marker\":{\"pattern\":{\"fillmode\":\"overlay\",\"size\":10,\"solidity\":0.2}},\"type\":\"histogram\"}],\"mesh3d\":[{\"colorbar\":{\"outlinewidth\":0,\"ticks\":\"\"},\"type\":\"mesh3d\"}],\"parcoords\":[{\"line\":{\"colorbar\":{\"outlinewidth\":0,\"ticks\":\"\"}},\"type\":\"parcoords\"}],\"pie\":[{\"automargin\":true,\"type\":\"pie\"}],\"scatter3d\":[{\"line\":{\"colorbar\":{\"outlinewidth\":0,\"ticks\":\"\"}},\"marker\":{\"colorbar\":{\"outlinewidth\":0,\"ticks\":\"\"}},\"type\":\"scatter3d\"}],\"scattercarpet\":[{\"marker\":{\"colorbar\":{\"outlinewidth\":0,\"ticks\":\"\"}},\"type\":\"scattercarpet\"}],\"scattergeo\":[{\"marker\":{\"colorbar\":{\"outlinewidth\":0,\"ticks\":\"\"}},\"type\":\"scattergeo\"}],\"scattergl\":[{\"marker\":{\"colorbar\":{\"outlinewidth\":0,\"ticks\":\"\"}},\"type\":\"scattergl\"}],\"scattermapbox\":[{\"marker\":{\"colorbar\":{\"outlinewidth\":0,\"ticks\":\"\"}},\"type\":\"scattermapbox\"}],\"scatterpolargl\":[{\"marker\":{\"colorbar\":{\"outlinewidth\":0,\"ticks\":\"\"}},\"type\":\"scatterpolargl\"}],\"scatterpolar\":[{\"marker\":{\"colorbar\":{\"outlinewidth\":0,\"ticks\":\"\"}},\"type\":\"scatterpolar\"}],\"scatter\":[{\"fillpattern\":{\"fillmode\":\"overlay\",\"size\":10,\"solidity\":0.2},\"type\":\"scatter\"}],\"scatterternary\":[{\"marker\":{\"colorbar\":{\"outlinewidth\":0,\"ticks\":\"\"}},\"type\":\"scatterternary\"}],\"surface\":[{\"colorbar\":{\"outlinewidth\":0,\"ticks\":\"\"},\"colorscale\":[[0.0,\"#0d0887\"],[0.1111111111111111,\"#46039f\"],[0.2222222222222222,\"#7201a8\"],[0.3333333333333333,\"#9c179e\"],[0.4444444444444444,\"#bd3786\"],[0.5555555555555556,\"#d8576b\"],[0.6666666666666666,\"#ed7953\"],[0.7777777777777778,\"#fb9f3a\"],[0.8888888888888888,\"#fdca26\"],[1.0,\"#f0f921\"]],\"type\":\"surface\"}],\"table\":[{\"cells\":{\"fill\":{\"color\":\"#EBF0F8\"},\"line\":{\"color\":\"white\"}},\"header\":{\"fill\":{\"color\":\"#C8D4E3\"},\"line\":{\"color\":\"white\"}},\"type\":\"table\"}]},\"layout\":{\"annotationdefaults\":{\"arrowcolor\":\"#2a3f5f\",\"arrowhead\":0,\"arrowwidth\":1},\"autotypenumbers\":\"strict\",\"coloraxis\":{\"colorbar\":{\"outlinewidth\":0,\"ticks\":\"\"}},\"colorscale\":{\"diverging\":[[0,\"#8e0152\"],[0.1,\"#c51b7d\"],[0.2,\"#de77ae\"],[0.3,\"#f1b6da\"],[0.4,\"#fde0ef\"],[0.5,\"#f7f7f7\"],[0.6,\"#e6f5d0\"],[0.7,\"#b8e186\"],[0.8,\"#7fbc41\"],[0.9,\"#4d9221\"],[1,\"#276419\"]],\"sequential\":[[0.0,\"#0d0887\"],[0.1111111111111111,\"#46039f\"],[0.2222222222222222,\"#7201a8\"],[0.3333333333333333,\"#9c179e\"],[0.4444444444444444,\"#bd3786\"],[0.5555555555555556,\"#d8576b\"],[0.6666666666666666,\"#ed7953\"],[0.7777777777777778,\"#fb9f3a\"],[0.8888888888888888,\"#fdca26\"],[1.0,\"#f0f921\"]],\"sequentialminus\":[[0.0,\"#0d0887\"],[0.1111111111111111,\"#46039f\"],[0.2222222222222222,\"#7201a8\"],[0.3333333333333333,\"#9c179e\"],[0.4444444444444444,\"#bd3786\"],[0.5555555555555556,\"#d8576b\"],[0.6666666666666666,\"#ed7953\"],[0.7777777777777778,\"#fb9f3a\"],[0.8888888888888888,\"#fdca26\"],[1.0,\"#f0f921\"]]},\"colorway\":[\"#636efa\",\"#EF553B\",\"#00cc96\",\"#ab63fa\",\"#FFA15A\",\"#19d3f3\",\"#FF6692\",\"#B6E880\",\"#FF97FF\",\"#FECB52\"],\"font\":{\"color\":\"#2a3f5f\"},\"geo\":{\"bgcolor\":\"white\",\"lakecolor\":\"white\",\"landcolor\":\"#E5ECF6\",\"showlakes\":true,\"showland\":true,\"subunitcolor\":\"white\"},\"hoverlabel\":{\"align\":\"left\"},\"hovermode\":\"closest\",\"mapbox\":{\"style\":\"light\"},\"paper_bgcolor\":\"white\",\"plot_bgcolor\":\"#E5ECF6\",\"polar\":{\"angularaxis\":{\"gridcolor\":\"white\",\"linecolor\":\"white\",\"ticks\":\"\"},\"bgcolor\":\"#E5ECF6\",\"radialaxis\":{\"gridcolor\":\"white\",\"linecolor\":\"white\",\"ticks\":\"\"}},\"scene\":{\"xaxis\":{\"backgroundcolor\":\"#E5ECF6\",\"gridcolor\":\"white\",\"gridwidth\":2,\"linecolor\":\"white\",\"showbackground\":true,\"ticks\":\"\",\"zerolinecolor\":\"white\"},\"yaxis\":{\"backgroundcolor\":\"#E5ECF6\",\"gridcolor\":\"white\",\"gridwidth\":2,\"linecolor\":\"white\",\"showbackground\":true,\"ticks\":\"\",\"zerolinecolor\":\"white\"},\"zaxis\":{\"backgroundcolor\":\"#E5ECF6\",\"gridcolor\":\"white\",\"gridwidth\":2,\"linecolor\":\"white\",\"showbackground\":true,\"ticks\":\"\",\"zerolinecolor\":\"white\"}},\"shapedefaults\":{\"line\":{\"color\":\"#2a3f5f\"}},\"ternary\":{\"aaxis\":{\"gridcolor\":\"white\",\"linecolor\":\"white\",\"ticks\":\"\"},\"baxis\":{\"gridcolor\":\"white\",\"linecolor\":\"white\",\"ticks\":\"\"},\"bgcolor\":\"#E5ECF6\",\"caxis\":{\"gridcolor\":\"white\",\"linecolor\":\"white\",\"ticks\":\"\"}},\"title\":{\"x\":0.05},\"xaxis\":{\"automargin\":true,\"gridcolor\":\"white\",\"linecolor\":\"white\",\"ticks\":\"\",\"title\":{\"standoff\":15},\"zerolinecolor\":\"white\",\"zerolinewidth\":2},\"yaxis\":{\"automargin\":true,\"gridcolor\":\"white\",\"linecolor\":\"white\",\"ticks\":\"\",\"title\":{\"standoff\":15},\"zerolinecolor\":\"white\",\"zerolinewidth\":2}}},\"title\":{\"font\":{\"color\":\"#4D5663\"}},\"xaxis\":{\"gridcolor\":\"#E1E5ED\",\"showgrid\":true,\"tickfont\":{\"color\":\"#4D5663\"},\"title\":{\"font\":{\"color\":\"#4D5663\"},\"text\":\"\"},\"zerolinecolor\":\"#E1E5ED\"},\"yaxis\":{\"gridcolor\":\"#E1E5ED\",\"showgrid\":true,\"tickfont\":{\"color\":\"#4D5663\"},\"title\":{\"font\":{\"color\":\"#4D5663\"},\"text\":\"\"},\"zerolinecolor\":\"#E1E5ED\"}},                        {\"showLink\": true, \"linkText\": \"Export to plot.ly\", \"plotlyServerURL\": \"https://plot.ly\", \"responsive\": true}                    ).then(function(){\n",
       "                            \n",
       "var gd = document.getElementById('b786ca9d-56c5-494f-85e8-6c3228f6721a');\n",
       "var x = new MutationObserver(function (mutations, observer) {{\n",
       "        var display = window.getComputedStyle(gd).display;\n",
       "        if (!display || display === 'none') {{\n",
       "            console.log([gd, 'removed!']);\n",
       "            Plotly.purge(gd);\n",
       "            observer.disconnect();\n",
       "        }}\n",
       "}});\n",
       "\n",
       "// Listen for the removal of the full notebook cells\n",
       "var notebookContainer = gd.closest('#notebook-container');\n",
       "if (notebookContainer) {{\n",
       "    x.observe(notebookContainer, {childList: true});\n",
       "}}\n",
       "\n",
       "// Listen for the clearing of the current output cell\n",
       "var outputEl = gd.closest('.output');\n",
       "if (outputEl) {{\n",
       "    x.observe(outputEl, {childList: true});\n",
       "}}\n",
       "\n",
       "                        })                };                });            </script>        </div>"
      ]
     },
     "metadata": {},
     "output_type": "display_data"
    }
   ],
   "source": [
    "df.iplot(kind = 'scatter', x = 'A', y = 'B', mode = 'markers', size= 10)"
   ]
  },
  {
   "cell_type": "code",
   "execution_count": 12,
   "metadata": {},
   "outputs": [
    {
     "data": {
      "application/vnd.plotly.v1+json": {
       "config": {
        "linkText": "Export to plot.ly",
        "plotlyServerURL": "https://plot.ly",
        "showLink": true
       },
       "data": [
        {
         "marker": {
          "color": "rgba(255, 153, 51, 0.6)",
          "line": {
           "color": "rgba(255, 153, 51, 1.0)",
           "width": 1
          }
         },
         "name": "Values",
         "orientation": "v",
         "text": "",
         "type": "bar",
         "x": [
          "A",
          "B",
          "C"
         ],
         "y": [
          32,
          43,
          50
         ]
        }
       ],
       "layout": {
        "legend": {
         "bgcolor": "#F5F6F9",
         "font": {
          "color": "#4D5663"
         }
        },
        "paper_bgcolor": "#F5F6F9",
        "plot_bgcolor": "#F5F6F9",
        "template": {
         "data": {
          "bar": [
           {
            "error_x": {
             "color": "#2a3f5f"
            },
            "error_y": {
             "color": "#2a3f5f"
            },
            "marker": {
             "line": {
              "color": "#E5ECF6",
              "width": 0.5
             },
             "pattern": {
              "fillmode": "overlay",
              "size": 10,
              "solidity": 0.2
             }
            },
            "type": "bar"
           }
          ],
          "barpolar": [
           {
            "marker": {
             "line": {
              "color": "#E5ECF6",
              "width": 0.5
             },
             "pattern": {
              "fillmode": "overlay",
              "size": 10,
              "solidity": 0.2
             }
            },
            "type": "barpolar"
           }
          ],
          "carpet": [
           {
            "aaxis": {
             "endlinecolor": "#2a3f5f",
             "gridcolor": "white",
             "linecolor": "white",
             "minorgridcolor": "white",
             "startlinecolor": "#2a3f5f"
            },
            "baxis": {
             "endlinecolor": "#2a3f5f",
             "gridcolor": "white",
             "linecolor": "white",
             "minorgridcolor": "white",
             "startlinecolor": "#2a3f5f"
            },
            "type": "carpet"
           }
          ],
          "choropleth": [
           {
            "colorbar": {
             "outlinewidth": 0,
             "ticks": ""
            },
            "type": "choropleth"
           }
          ],
          "contour": [
           {
            "colorbar": {
             "outlinewidth": 0,
             "ticks": ""
            },
            "colorscale": [
             [
              0,
              "#0d0887"
             ],
             [
              0.1111111111111111,
              "#46039f"
             ],
             [
              0.2222222222222222,
              "#7201a8"
             ],
             [
              0.3333333333333333,
              "#9c179e"
             ],
             [
              0.4444444444444444,
              "#bd3786"
             ],
             [
              0.5555555555555556,
              "#d8576b"
             ],
             [
              0.6666666666666666,
              "#ed7953"
             ],
             [
              0.7777777777777778,
              "#fb9f3a"
             ],
             [
              0.8888888888888888,
              "#fdca26"
             ],
             [
              1,
              "#f0f921"
             ]
            ],
            "type": "contour"
           }
          ],
          "contourcarpet": [
           {
            "colorbar": {
             "outlinewidth": 0,
             "ticks": ""
            },
            "type": "contourcarpet"
           }
          ],
          "heatmap": [
           {
            "colorbar": {
             "outlinewidth": 0,
             "ticks": ""
            },
            "colorscale": [
             [
              0,
              "#0d0887"
             ],
             [
              0.1111111111111111,
              "#46039f"
             ],
             [
              0.2222222222222222,
              "#7201a8"
             ],
             [
              0.3333333333333333,
              "#9c179e"
             ],
             [
              0.4444444444444444,
              "#bd3786"
             ],
             [
              0.5555555555555556,
              "#d8576b"
             ],
             [
              0.6666666666666666,
              "#ed7953"
             ],
             [
              0.7777777777777778,
              "#fb9f3a"
             ],
             [
              0.8888888888888888,
              "#fdca26"
             ],
             [
              1,
              "#f0f921"
             ]
            ],
            "type": "heatmap"
           }
          ],
          "heatmapgl": [
           {
            "colorbar": {
             "outlinewidth": 0,
             "ticks": ""
            },
            "colorscale": [
             [
              0,
              "#0d0887"
             ],
             [
              0.1111111111111111,
              "#46039f"
             ],
             [
              0.2222222222222222,
              "#7201a8"
             ],
             [
              0.3333333333333333,
              "#9c179e"
             ],
             [
              0.4444444444444444,
              "#bd3786"
             ],
             [
              0.5555555555555556,
              "#d8576b"
             ],
             [
              0.6666666666666666,
              "#ed7953"
             ],
             [
              0.7777777777777778,
              "#fb9f3a"
             ],
             [
              0.8888888888888888,
              "#fdca26"
             ],
             [
              1,
              "#f0f921"
             ]
            ],
            "type": "heatmapgl"
           }
          ],
          "histogram": [
           {
            "marker": {
             "pattern": {
              "fillmode": "overlay",
              "size": 10,
              "solidity": 0.2
             }
            },
            "type": "histogram"
           }
          ],
          "histogram2d": [
           {
            "colorbar": {
             "outlinewidth": 0,
             "ticks": ""
            },
            "colorscale": [
             [
              0,
              "#0d0887"
             ],
             [
              0.1111111111111111,
              "#46039f"
             ],
             [
              0.2222222222222222,
              "#7201a8"
             ],
             [
              0.3333333333333333,
              "#9c179e"
             ],
             [
              0.4444444444444444,
              "#bd3786"
             ],
             [
              0.5555555555555556,
              "#d8576b"
             ],
             [
              0.6666666666666666,
              "#ed7953"
             ],
             [
              0.7777777777777778,
              "#fb9f3a"
             ],
             [
              0.8888888888888888,
              "#fdca26"
             ],
             [
              1,
              "#f0f921"
             ]
            ],
            "type": "histogram2d"
           }
          ],
          "histogram2dcontour": [
           {
            "colorbar": {
             "outlinewidth": 0,
             "ticks": ""
            },
            "colorscale": [
             [
              0,
              "#0d0887"
             ],
             [
              0.1111111111111111,
              "#46039f"
             ],
             [
              0.2222222222222222,
              "#7201a8"
             ],
             [
              0.3333333333333333,
              "#9c179e"
             ],
             [
              0.4444444444444444,
              "#bd3786"
             ],
             [
              0.5555555555555556,
              "#d8576b"
             ],
             [
              0.6666666666666666,
              "#ed7953"
             ],
             [
              0.7777777777777778,
              "#fb9f3a"
             ],
             [
              0.8888888888888888,
              "#fdca26"
             ],
             [
              1,
              "#f0f921"
             ]
            ],
            "type": "histogram2dcontour"
           }
          ],
          "mesh3d": [
           {
            "colorbar": {
             "outlinewidth": 0,
             "ticks": ""
            },
            "type": "mesh3d"
           }
          ],
          "parcoords": [
           {
            "line": {
             "colorbar": {
              "outlinewidth": 0,
              "ticks": ""
             }
            },
            "type": "parcoords"
           }
          ],
          "pie": [
           {
            "automargin": true,
            "type": "pie"
           }
          ],
          "scatter": [
           {
            "fillpattern": {
             "fillmode": "overlay",
             "size": 10,
             "solidity": 0.2
            },
            "type": "scatter"
           }
          ],
          "scatter3d": [
           {
            "line": {
             "colorbar": {
              "outlinewidth": 0,
              "ticks": ""
             }
            },
            "marker": {
             "colorbar": {
              "outlinewidth": 0,
              "ticks": ""
             }
            },
            "type": "scatter3d"
           }
          ],
          "scattercarpet": [
           {
            "marker": {
             "colorbar": {
              "outlinewidth": 0,
              "ticks": ""
             }
            },
            "type": "scattercarpet"
           }
          ],
          "scattergeo": [
           {
            "marker": {
             "colorbar": {
              "outlinewidth": 0,
              "ticks": ""
             }
            },
            "type": "scattergeo"
           }
          ],
          "scattergl": [
           {
            "marker": {
             "colorbar": {
              "outlinewidth": 0,
              "ticks": ""
             }
            },
            "type": "scattergl"
           }
          ],
          "scattermapbox": [
           {
            "marker": {
             "colorbar": {
              "outlinewidth": 0,
              "ticks": ""
             }
            },
            "type": "scattermapbox"
           }
          ],
          "scatterpolar": [
           {
            "marker": {
             "colorbar": {
              "outlinewidth": 0,
              "ticks": ""
             }
            },
            "type": "scatterpolar"
           }
          ],
          "scatterpolargl": [
           {
            "marker": {
             "colorbar": {
              "outlinewidth": 0,
              "ticks": ""
             }
            },
            "type": "scatterpolargl"
           }
          ],
          "scatterternary": [
           {
            "marker": {
             "colorbar": {
              "outlinewidth": 0,
              "ticks": ""
             }
            },
            "type": "scatterternary"
           }
          ],
          "surface": [
           {
            "colorbar": {
             "outlinewidth": 0,
             "ticks": ""
            },
            "colorscale": [
             [
              0,
              "#0d0887"
             ],
             [
              0.1111111111111111,
              "#46039f"
             ],
             [
              0.2222222222222222,
              "#7201a8"
             ],
             [
              0.3333333333333333,
              "#9c179e"
             ],
             [
              0.4444444444444444,
              "#bd3786"
             ],
             [
              0.5555555555555556,
              "#d8576b"
             ],
             [
              0.6666666666666666,
              "#ed7953"
             ],
             [
              0.7777777777777778,
              "#fb9f3a"
             ],
             [
              0.8888888888888888,
              "#fdca26"
             ],
             [
              1,
              "#f0f921"
             ]
            ],
            "type": "surface"
           }
          ],
          "table": [
           {
            "cells": {
             "fill": {
              "color": "#EBF0F8"
             },
             "line": {
              "color": "white"
             }
            },
            "header": {
             "fill": {
              "color": "#C8D4E3"
             },
             "line": {
              "color": "white"
             }
            },
            "type": "table"
           }
          ]
         },
         "layout": {
          "annotationdefaults": {
           "arrowcolor": "#2a3f5f",
           "arrowhead": 0,
           "arrowwidth": 1
          },
          "autotypenumbers": "strict",
          "coloraxis": {
           "colorbar": {
            "outlinewidth": 0,
            "ticks": ""
           }
          },
          "colorscale": {
           "diverging": [
            [
             0,
             "#8e0152"
            ],
            [
             0.1,
             "#c51b7d"
            ],
            [
             0.2,
             "#de77ae"
            ],
            [
             0.3,
             "#f1b6da"
            ],
            [
             0.4,
             "#fde0ef"
            ],
            [
             0.5,
             "#f7f7f7"
            ],
            [
             0.6,
             "#e6f5d0"
            ],
            [
             0.7,
             "#b8e186"
            ],
            [
             0.8,
             "#7fbc41"
            ],
            [
             0.9,
             "#4d9221"
            ],
            [
             1,
             "#276419"
            ]
           ],
           "sequential": [
            [
             0,
             "#0d0887"
            ],
            [
             0.1111111111111111,
             "#46039f"
            ],
            [
             0.2222222222222222,
             "#7201a8"
            ],
            [
             0.3333333333333333,
             "#9c179e"
            ],
            [
             0.4444444444444444,
             "#bd3786"
            ],
            [
             0.5555555555555556,
             "#d8576b"
            ],
            [
             0.6666666666666666,
             "#ed7953"
            ],
            [
             0.7777777777777778,
             "#fb9f3a"
            ],
            [
             0.8888888888888888,
             "#fdca26"
            ],
            [
             1,
             "#f0f921"
            ]
           ],
           "sequentialminus": [
            [
             0,
             "#0d0887"
            ],
            [
             0.1111111111111111,
             "#46039f"
            ],
            [
             0.2222222222222222,
             "#7201a8"
            ],
            [
             0.3333333333333333,
             "#9c179e"
            ],
            [
             0.4444444444444444,
             "#bd3786"
            ],
            [
             0.5555555555555556,
             "#d8576b"
            ],
            [
             0.6666666666666666,
             "#ed7953"
            ],
            [
             0.7777777777777778,
             "#fb9f3a"
            ],
            [
             0.8888888888888888,
             "#fdca26"
            ],
            [
             1,
             "#f0f921"
            ]
           ]
          },
          "colorway": [
           "#636efa",
           "#EF553B",
           "#00cc96",
           "#ab63fa",
           "#FFA15A",
           "#19d3f3",
           "#FF6692",
           "#B6E880",
           "#FF97FF",
           "#FECB52"
          ],
          "font": {
           "color": "#2a3f5f"
          },
          "geo": {
           "bgcolor": "white",
           "lakecolor": "white",
           "landcolor": "#E5ECF6",
           "showlakes": true,
           "showland": true,
           "subunitcolor": "white"
          },
          "hoverlabel": {
           "align": "left"
          },
          "hovermode": "closest",
          "mapbox": {
           "style": "light"
          },
          "paper_bgcolor": "white",
          "plot_bgcolor": "#E5ECF6",
          "polar": {
           "angularaxis": {
            "gridcolor": "white",
            "linecolor": "white",
            "ticks": ""
           },
           "bgcolor": "#E5ECF6",
           "radialaxis": {
            "gridcolor": "white",
            "linecolor": "white",
            "ticks": ""
           }
          },
          "scene": {
           "xaxis": {
            "backgroundcolor": "#E5ECF6",
            "gridcolor": "white",
            "gridwidth": 2,
            "linecolor": "white",
            "showbackground": true,
            "ticks": "",
            "zerolinecolor": "white"
           },
           "yaxis": {
            "backgroundcolor": "#E5ECF6",
            "gridcolor": "white",
            "gridwidth": 2,
            "linecolor": "white",
            "showbackground": true,
            "ticks": "",
            "zerolinecolor": "white"
           },
           "zaxis": {
            "backgroundcolor": "#E5ECF6",
            "gridcolor": "white",
            "gridwidth": 2,
            "linecolor": "white",
            "showbackground": true,
            "ticks": "",
            "zerolinecolor": "white"
           }
          },
          "shapedefaults": {
           "line": {
            "color": "#2a3f5f"
           }
          },
          "ternary": {
           "aaxis": {
            "gridcolor": "white",
            "linecolor": "white",
            "ticks": ""
           },
           "baxis": {
            "gridcolor": "white",
            "linecolor": "white",
            "ticks": ""
           },
           "bgcolor": "#E5ECF6",
           "caxis": {
            "gridcolor": "white",
            "linecolor": "white",
            "ticks": ""
           }
          },
          "title": {
           "x": 0.05
          },
          "xaxis": {
           "automargin": true,
           "gridcolor": "white",
           "linecolor": "white",
           "ticks": "",
           "title": {
            "standoff": 15
           },
           "zerolinecolor": "white",
           "zerolinewidth": 2
          },
          "yaxis": {
           "automargin": true,
           "gridcolor": "white",
           "linecolor": "white",
           "ticks": "",
           "title": {
            "standoff": 15
           },
           "zerolinecolor": "white",
           "zerolinewidth": 2
          }
         }
        },
        "title": {
         "font": {
          "color": "#4D5663"
         }
        },
        "xaxis": {
         "gridcolor": "#E1E5ED",
         "showgrid": true,
         "tickfont": {
          "color": "#4D5663"
         },
         "title": {
          "font": {
           "color": "#4D5663"
          },
          "text": ""
         },
         "zerolinecolor": "#E1E5ED"
        },
        "yaxis": {
         "gridcolor": "#E1E5ED",
         "showgrid": true,
         "tickfont": {
          "color": "#4D5663"
         },
         "title": {
          "font": {
           "color": "#4D5663"
          },
          "text": ""
         },
         "zerolinecolor": "#E1E5ED"
        }
       }
      },
      "text/html": [
       "<div>                            <div id=\"95ed84d0-b927-4bda-8d6c-40ca0d24d476\" class=\"plotly-graph-div\" style=\"height:525px; width:100%;\"></div>            <script type=\"text/javascript\">                require([\"plotly\"], function(Plotly) {                    window.PLOTLYENV=window.PLOTLYENV || {};\n",
       "                    window.PLOTLYENV.BASE_URL='https://plot.ly';                                    if (document.getElementById(\"95ed84d0-b927-4bda-8d6c-40ca0d24d476\")) {                    Plotly.newPlot(                        \"95ed84d0-b927-4bda-8d6c-40ca0d24d476\",                        [{\"marker\":{\"color\":\"rgba(255, 153, 51, 0.6)\",\"line\":{\"color\":\"rgba(255, 153, 51, 1.0)\",\"width\":1}},\"name\":\"Values\",\"orientation\":\"v\",\"text\":\"\",\"x\":[\"A\",\"B\",\"C\"],\"y\":[32,43,50],\"type\":\"bar\"}],                        {\"legend\":{\"bgcolor\":\"#F5F6F9\",\"font\":{\"color\":\"#4D5663\"}},\"paper_bgcolor\":\"#F5F6F9\",\"plot_bgcolor\":\"#F5F6F9\",\"template\":{\"data\":{\"barpolar\":[{\"marker\":{\"line\":{\"color\":\"#E5ECF6\",\"width\":0.5},\"pattern\":{\"fillmode\":\"overlay\",\"size\":10,\"solidity\":0.2}},\"type\":\"barpolar\"}],\"bar\":[{\"error_x\":{\"color\":\"#2a3f5f\"},\"error_y\":{\"color\":\"#2a3f5f\"},\"marker\":{\"line\":{\"color\":\"#E5ECF6\",\"width\":0.5},\"pattern\":{\"fillmode\":\"overlay\",\"size\":10,\"solidity\":0.2}},\"type\":\"bar\"}],\"carpet\":[{\"aaxis\":{\"endlinecolor\":\"#2a3f5f\",\"gridcolor\":\"white\",\"linecolor\":\"white\",\"minorgridcolor\":\"white\",\"startlinecolor\":\"#2a3f5f\"},\"baxis\":{\"endlinecolor\":\"#2a3f5f\",\"gridcolor\":\"white\",\"linecolor\":\"white\",\"minorgridcolor\":\"white\",\"startlinecolor\":\"#2a3f5f\"},\"type\":\"carpet\"}],\"choropleth\":[{\"colorbar\":{\"outlinewidth\":0,\"ticks\":\"\"},\"type\":\"choropleth\"}],\"contourcarpet\":[{\"colorbar\":{\"outlinewidth\":0,\"ticks\":\"\"},\"type\":\"contourcarpet\"}],\"contour\":[{\"colorbar\":{\"outlinewidth\":0,\"ticks\":\"\"},\"colorscale\":[[0.0,\"#0d0887\"],[0.1111111111111111,\"#46039f\"],[0.2222222222222222,\"#7201a8\"],[0.3333333333333333,\"#9c179e\"],[0.4444444444444444,\"#bd3786\"],[0.5555555555555556,\"#d8576b\"],[0.6666666666666666,\"#ed7953\"],[0.7777777777777778,\"#fb9f3a\"],[0.8888888888888888,\"#fdca26\"],[1.0,\"#f0f921\"]],\"type\":\"contour\"}],\"heatmapgl\":[{\"colorbar\":{\"outlinewidth\":0,\"ticks\":\"\"},\"colorscale\":[[0.0,\"#0d0887\"],[0.1111111111111111,\"#46039f\"],[0.2222222222222222,\"#7201a8\"],[0.3333333333333333,\"#9c179e\"],[0.4444444444444444,\"#bd3786\"],[0.5555555555555556,\"#d8576b\"],[0.6666666666666666,\"#ed7953\"],[0.7777777777777778,\"#fb9f3a\"],[0.8888888888888888,\"#fdca26\"],[1.0,\"#f0f921\"]],\"type\":\"heatmapgl\"}],\"heatmap\":[{\"colorbar\":{\"outlinewidth\":0,\"ticks\":\"\"},\"colorscale\":[[0.0,\"#0d0887\"],[0.1111111111111111,\"#46039f\"],[0.2222222222222222,\"#7201a8\"],[0.3333333333333333,\"#9c179e\"],[0.4444444444444444,\"#bd3786\"],[0.5555555555555556,\"#d8576b\"],[0.6666666666666666,\"#ed7953\"],[0.7777777777777778,\"#fb9f3a\"],[0.8888888888888888,\"#fdca26\"],[1.0,\"#f0f921\"]],\"type\":\"heatmap\"}],\"histogram2dcontour\":[{\"colorbar\":{\"outlinewidth\":0,\"ticks\":\"\"},\"colorscale\":[[0.0,\"#0d0887\"],[0.1111111111111111,\"#46039f\"],[0.2222222222222222,\"#7201a8\"],[0.3333333333333333,\"#9c179e\"],[0.4444444444444444,\"#bd3786\"],[0.5555555555555556,\"#d8576b\"],[0.6666666666666666,\"#ed7953\"],[0.7777777777777778,\"#fb9f3a\"],[0.8888888888888888,\"#fdca26\"],[1.0,\"#f0f921\"]],\"type\":\"histogram2dcontour\"}],\"histogram2d\":[{\"colorbar\":{\"outlinewidth\":0,\"ticks\":\"\"},\"colorscale\":[[0.0,\"#0d0887\"],[0.1111111111111111,\"#46039f\"],[0.2222222222222222,\"#7201a8\"],[0.3333333333333333,\"#9c179e\"],[0.4444444444444444,\"#bd3786\"],[0.5555555555555556,\"#d8576b\"],[0.6666666666666666,\"#ed7953\"],[0.7777777777777778,\"#fb9f3a\"],[0.8888888888888888,\"#fdca26\"],[1.0,\"#f0f921\"]],\"type\":\"histogram2d\"}],\"histogram\":[{\"marker\":{\"pattern\":{\"fillmode\":\"overlay\",\"size\":10,\"solidity\":0.2}},\"type\":\"histogram\"}],\"mesh3d\":[{\"colorbar\":{\"outlinewidth\":0,\"ticks\":\"\"},\"type\":\"mesh3d\"}],\"parcoords\":[{\"line\":{\"colorbar\":{\"outlinewidth\":0,\"ticks\":\"\"}},\"type\":\"parcoords\"}],\"pie\":[{\"automargin\":true,\"type\":\"pie\"}],\"scatter3d\":[{\"line\":{\"colorbar\":{\"outlinewidth\":0,\"ticks\":\"\"}},\"marker\":{\"colorbar\":{\"outlinewidth\":0,\"ticks\":\"\"}},\"type\":\"scatter3d\"}],\"scattercarpet\":[{\"marker\":{\"colorbar\":{\"outlinewidth\":0,\"ticks\":\"\"}},\"type\":\"scattercarpet\"}],\"scattergeo\":[{\"marker\":{\"colorbar\":{\"outlinewidth\":0,\"ticks\":\"\"}},\"type\":\"scattergeo\"}],\"scattergl\":[{\"marker\":{\"colorbar\":{\"outlinewidth\":0,\"ticks\":\"\"}},\"type\":\"scattergl\"}],\"scattermapbox\":[{\"marker\":{\"colorbar\":{\"outlinewidth\":0,\"ticks\":\"\"}},\"type\":\"scattermapbox\"}],\"scatterpolargl\":[{\"marker\":{\"colorbar\":{\"outlinewidth\":0,\"ticks\":\"\"}},\"type\":\"scatterpolargl\"}],\"scatterpolar\":[{\"marker\":{\"colorbar\":{\"outlinewidth\":0,\"ticks\":\"\"}},\"type\":\"scatterpolar\"}],\"scatter\":[{\"fillpattern\":{\"fillmode\":\"overlay\",\"size\":10,\"solidity\":0.2},\"type\":\"scatter\"}],\"scatterternary\":[{\"marker\":{\"colorbar\":{\"outlinewidth\":0,\"ticks\":\"\"}},\"type\":\"scatterternary\"}],\"surface\":[{\"colorbar\":{\"outlinewidth\":0,\"ticks\":\"\"},\"colorscale\":[[0.0,\"#0d0887\"],[0.1111111111111111,\"#46039f\"],[0.2222222222222222,\"#7201a8\"],[0.3333333333333333,\"#9c179e\"],[0.4444444444444444,\"#bd3786\"],[0.5555555555555556,\"#d8576b\"],[0.6666666666666666,\"#ed7953\"],[0.7777777777777778,\"#fb9f3a\"],[0.8888888888888888,\"#fdca26\"],[1.0,\"#f0f921\"]],\"type\":\"surface\"}],\"table\":[{\"cells\":{\"fill\":{\"color\":\"#EBF0F8\"},\"line\":{\"color\":\"white\"}},\"header\":{\"fill\":{\"color\":\"#C8D4E3\"},\"line\":{\"color\":\"white\"}},\"type\":\"table\"}]},\"layout\":{\"annotationdefaults\":{\"arrowcolor\":\"#2a3f5f\",\"arrowhead\":0,\"arrowwidth\":1},\"autotypenumbers\":\"strict\",\"coloraxis\":{\"colorbar\":{\"outlinewidth\":0,\"ticks\":\"\"}},\"colorscale\":{\"diverging\":[[0,\"#8e0152\"],[0.1,\"#c51b7d\"],[0.2,\"#de77ae\"],[0.3,\"#f1b6da\"],[0.4,\"#fde0ef\"],[0.5,\"#f7f7f7\"],[0.6,\"#e6f5d0\"],[0.7,\"#b8e186\"],[0.8,\"#7fbc41\"],[0.9,\"#4d9221\"],[1,\"#276419\"]],\"sequential\":[[0.0,\"#0d0887\"],[0.1111111111111111,\"#46039f\"],[0.2222222222222222,\"#7201a8\"],[0.3333333333333333,\"#9c179e\"],[0.4444444444444444,\"#bd3786\"],[0.5555555555555556,\"#d8576b\"],[0.6666666666666666,\"#ed7953\"],[0.7777777777777778,\"#fb9f3a\"],[0.8888888888888888,\"#fdca26\"],[1.0,\"#f0f921\"]],\"sequentialminus\":[[0.0,\"#0d0887\"],[0.1111111111111111,\"#46039f\"],[0.2222222222222222,\"#7201a8\"],[0.3333333333333333,\"#9c179e\"],[0.4444444444444444,\"#bd3786\"],[0.5555555555555556,\"#d8576b\"],[0.6666666666666666,\"#ed7953\"],[0.7777777777777778,\"#fb9f3a\"],[0.8888888888888888,\"#fdca26\"],[1.0,\"#f0f921\"]]},\"colorway\":[\"#636efa\",\"#EF553B\",\"#00cc96\",\"#ab63fa\",\"#FFA15A\",\"#19d3f3\",\"#FF6692\",\"#B6E880\",\"#FF97FF\",\"#FECB52\"],\"font\":{\"color\":\"#2a3f5f\"},\"geo\":{\"bgcolor\":\"white\",\"lakecolor\":\"white\",\"landcolor\":\"#E5ECF6\",\"showlakes\":true,\"showland\":true,\"subunitcolor\":\"white\"},\"hoverlabel\":{\"align\":\"left\"},\"hovermode\":\"closest\",\"mapbox\":{\"style\":\"light\"},\"paper_bgcolor\":\"white\",\"plot_bgcolor\":\"#E5ECF6\",\"polar\":{\"angularaxis\":{\"gridcolor\":\"white\",\"linecolor\":\"white\",\"ticks\":\"\"},\"bgcolor\":\"#E5ECF6\",\"radialaxis\":{\"gridcolor\":\"white\",\"linecolor\":\"white\",\"ticks\":\"\"}},\"scene\":{\"xaxis\":{\"backgroundcolor\":\"#E5ECF6\",\"gridcolor\":\"white\",\"gridwidth\":2,\"linecolor\":\"white\",\"showbackground\":true,\"ticks\":\"\",\"zerolinecolor\":\"white\"},\"yaxis\":{\"backgroundcolor\":\"#E5ECF6\",\"gridcolor\":\"white\",\"gridwidth\":2,\"linecolor\":\"white\",\"showbackground\":true,\"ticks\":\"\",\"zerolinecolor\":\"white\"},\"zaxis\":{\"backgroundcolor\":\"#E5ECF6\",\"gridcolor\":\"white\",\"gridwidth\":2,\"linecolor\":\"white\",\"showbackground\":true,\"ticks\":\"\",\"zerolinecolor\":\"white\"}},\"shapedefaults\":{\"line\":{\"color\":\"#2a3f5f\"}},\"ternary\":{\"aaxis\":{\"gridcolor\":\"white\",\"linecolor\":\"white\",\"ticks\":\"\"},\"baxis\":{\"gridcolor\":\"white\",\"linecolor\":\"white\",\"ticks\":\"\"},\"bgcolor\":\"#E5ECF6\",\"caxis\":{\"gridcolor\":\"white\",\"linecolor\":\"white\",\"ticks\":\"\"}},\"title\":{\"x\":0.05},\"xaxis\":{\"automargin\":true,\"gridcolor\":\"white\",\"linecolor\":\"white\",\"ticks\":\"\",\"title\":{\"standoff\":15},\"zerolinecolor\":\"white\",\"zerolinewidth\":2},\"yaxis\":{\"automargin\":true,\"gridcolor\":\"white\",\"linecolor\":\"white\",\"ticks\":\"\",\"title\":{\"standoff\":15},\"zerolinecolor\":\"white\",\"zerolinewidth\":2}}},\"title\":{\"font\":{\"color\":\"#4D5663\"}},\"xaxis\":{\"gridcolor\":\"#E1E5ED\",\"showgrid\":true,\"tickfont\":{\"color\":\"#4D5663\"},\"title\":{\"font\":{\"color\":\"#4D5663\"},\"text\":\"\"},\"zerolinecolor\":\"#E1E5ED\"},\"yaxis\":{\"gridcolor\":\"#E1E5ED\",\"showgrid\":true,\"tickfont\":{\"color\":\"#4D5663\"},\"title\":{\"font\":{\"color\":\"#4D5663\"},\"text\":\"\"},\"zerolinecolor\":\"#E1E5ED\"}},                        {\"showLink\": true, \"linkText\": \"Export to plot.ly\", \"plotlyServerURL\": \"https://plot.ly\", \"responsive\": true}                    ).then(function(){\n",
       "                            \n",
       "var gd = document.getElementById('95ed84d0-b927-4bda-8d6c-40ca0d24d476');\n",
       "var x = new MutationObserver(function (mutations, observer) {{\n",
       "        var display = window.getComputedStyle(gd).display;\n",
       "        if (!display || display === 'none') {{\n",
       "            console.log([gd, 'removed!']);\n",
       "            Plotly.purge(gd);\n",
       "            observer.disconnect();\n",
       "        }}\n",
       "}});\n",
       "\n",
       "// Listen for the removal of the full notebook cells\n",
       "var notebookContainer = gd.closest('#notebook-container');\n",
       "if (notebookContainer) {{\n",
       "    x.observe(notebookContainer, {childList: true});\n",
       "}}\n",
       "\n",
       "// Listen for the clearing of the current output cell\n",
       "var outputEl = gd.closest('.output');\n",
       "if (outputEl) {{\n",
       "    x.observe(outputEl, {childList: true});\n",
       "}}\n",
       "\n",
       "                        })                };                });            </script>        </div>"
      ]
     },
     "metadata": {},
     "output_type": "display_data"
    }
   ],
   "source": [
    "df2.iplot(kind = 'bar', x = 'Category', y = 'Values')"
   ]
  },
  {
   "cell_type": "code",
   "execution_count": 14,
   "metadata": {},
   "outputs": [
    {
     "data": {
      "application/vnd.plotly.v1+json": {
       "config": {
        "linkText": "Export to plot.ly",
        "plotlyServerURL": "https://plot.ly",
        "showLink": true
       },
       "data": [
        {
         "marker": {
          "color": "rgba(255, 153, 51, 0.6)",
          "line": {
           "color": "rgba(255, 153, 51, 1.0)",
           "width": 1
          }
         },
         "name": "None",
         "orientation": "v",
         "text": "",
         "type": "bar",
         "x": [
          "A",
          "B",
          "C",
          "D"
         ],
         "y": [
          100,
          100,
          100,
          100
         ]
        }
       ],
       "layout": {
        "legend": {
         "bgcolor": "#F5F6F9",
         "font": {
          "color": "#4D5663"
         }
        },
        "paper_bgcolor": "#F5F6F9",
        "plot_bgcolor": "#F5F6F9",
        "template": {
         "data": {
          "bar": [
           {
            "error_x": {
             "color": "#2a3f5f"
            },
            "error_y": {
             "color": "#2a3f5f"
            },
            "marker": {
             "line": {
              "color": "#E5ECF6",
              "width": 0.5
             },
             "pattern": {
              "fillmode": "overlay",
              "size": 10,
              "solidity": 0.2
             }
            },
            "type": "bar"
           }
          ],
          "barpolar": [
           {
            "marker": {
             "line": {
              "color": "#E5ECF6",
              "width": 0.5
             },
             "pattern": {
              "fillmode": "overlay",
              "size": 10,
              "solidity": 0.2
             }
            },
            "type": "barpolar"
           }
          ],
          "carpet": [
           {
            "aaxis": {
             "endlinecolor": "#2a3f5f",
             "gridcolor": "white",
             "linecolor": "white",
             "minorgridcolor": "white",
             "startlinecolor": "#2a3f5f"
            },
            "baxis": {
             "endlinecolor": "#2a3f5f",
             "gridcolor": "white",
             "linecolor": "white",
             "minorgridcolor": "white",
             "startlinecolor": "#2a3f5f"
            },
            "type": "carpet"
           }
          ],
          "choropleth": [
           {
            "colorbar": {
             "outlinewidth": 0,
             "ticks": ""
            },
            "type": "choropleth"
           }
          ],
          "contour": [
           {
            "colorbar": {
             "outlinewidth": 0,
             "ticks": ""
            },
            "colorscale": [
             [
              0,
              "#0d0887"
             ],
             [
              0.1111111111111111,
              "#46039f"
             ],
             [
              0.2222222222222222,
              "#7201a8"
             ],
             [
              0.3333333333333333,
              "#9c179e"
             ],
             [
              0.4444444444444444,
              "#bd3786"
             ],
             [
              0.5555555555555556,
              "#d8576b"
             ],
             [
              0.6666666666666666,
              "#ed7953"
             ],
             [
              0.7777777777777778,
              "#fb9f3a"
             ],
             [
              0.8888888888888888,
              "#fdca26"
             ],
             [
              1,
              "#f0f921"
             ]
            ],
            "type": "contour"
           }
          ],
          "contourcarpet": [
           {
            "colorbar": {
             "outlinewidth": 0,
             "ticks": ""
            },
            "type": "contourcarpet"
           }
          ],
          "heatmap": [
           {
            "colorbar": {
             "outlinewidth": 0,
             "ticks": ""
            },
            "colorscale": [
             [
              0,
              "#0d0887"
             ],
             [
              0.1111111111111111,
              "#46039f"
             ],
             [
              0.2222222222222222,
              "#7201a8"
             ],
             [
              0.3333333333333333,
              "#9c179e"
             ],
             [
              0.4444444444444444,
              "#bd3786"
             ],
             [
              0.5555555555555556,
              "#d8576b"
             ],
             [
              0.6666666666666666,
              "#ed7953"
             ],
             [
              0.7777777777777778,
              "#fb9f3a"
             ],
             [
              0.8888888888888888,
              "#fdca26"
             ],
             [
              1,
              "#f0f921"
             ]
            ],
            "type": "heatmap"
           }
          ],
          "heatmapgl": [
           {
            "colorbar": {
             "outlinewidth": 0,
             "ticks": ""
            },
            "colorscale": [
             [
              0,
              "#0d0887"
             ],
             [
              0.1111111111111111,
              "#46039f"
             ],
             [
              0.2222222222222222,
              "#7201a8"
             ],
             [
              0.3333333333333333,
              "#9c179e"
             ],
             [
              0.4444444444444444,
              "#bd3786"
             ],
             [
              0.5555555555555556,
              "#d8576b"
             ],
             [
              0.6666666666666666,
              "#ed7953"
             ],
             [
              0.7777777777777778,
              "#fb9f3a"
             ],
             [
              0.8888888888888888,
              "#fdca26"
             ],
             [
              1,
              "#f0f921"
             ]
            ],
            "type": "heatmapgl"
           }
          ],
          "histogram": [
           {
            "marker": {
             "pattern": {
              "fillmode": "overlay",
              "size": 10,
              "solidity": 0.2
             }
            },
            "type": "histogram"
           }
          ],
          "histogram2d": [
           {
            "colorbar": {
             "outlinewidth": 0,
             "ticks": ""
            },
            "colorscale": [
             [
              0,
              "#0d0887"
             ],
             [
              0.1111111111111111,
              "#46039f"
             ],
             [
              0.2222222222222222,
              "#7201a8"
             ],
             [
              0.3333333333333333,
              "#9c179e"
             ],
             [
              0.4444444444444444,
              "#bd3786"
             ],
             [
              0.5555555555555556,
              "#d8576b"
             ],
             [
              0.6666666666666666,
              "#ed7953"
             ],
             [
              0.7777777777777778,
              "#fb9f3a"
             ],
             [
              0.8888888888888888,
              "#fdca26"
             ],
             [
              1,
              "#f0f921"
             ]
            ],
            "type": "histogram2d"
           }
          ],
          "histogram2dcontour": [
           {
            "colorbar": {
             "outlinewidth": 0,
             "ticks": ""
            },
            "colorscale": [
             [
              0,
              "#0d0887"
             ],
             [
              0.1111111111111111,
              "#46039f"
             ],
             [
              0.2222222222222222,
              "#7201a8"
             ],
             [
              0.3333333333333333,
              "#9c179e"
             ],
             [
              0.4444444444444444,
              "#bd3786"
             ],
             [
              0.5555555555555556,
              "#d8576b"
             ],
             [
              0.6666666666666666,
              "#ed7953"
             ],
             [
              0.7777777777777778,
              "#fb9f3a"
             ],
             [
              0.8888888888888888,
              "#fdca26"
             ],
             [
              1,
              "#f0f921"
             ]
            ],
            "type": "histogram2dcontour"
           }
          ],
          "mesh3d": [
           {
            "colorbar": {
             "outlinewidth": 0,
             "ticks": ""
            },
            "type": "mesh3d"
           }
          ],
          "parcoords": [
           {
            "line": {
             "colorbar": {
              "outlinewidth": 0,
              "ticks": ""
             }
            },
            "type": "parcoords"
           }
          ],
          "pie": [
           {
            "automargin": true,
            "type": "pie"
           }
          ],
          "scatter": [
           {
            "fillpattern": {
             "fillmode": "overlay",
             "size": 10,
             "solidity": 0.2
            },
            "type": "scatter"
           }
          ],
          "scatter3d": [
           {
            "line": {
             "colorbar": {
              "outlinewidth": 0,
              "ticks": ""
             }
            },
            "marker": {
             "colorbar": {
              "outlinewidth": 0,
              "ticks": ""
             }
            },
            "type": "scatter3d"
           }
          ],
          "scattercarpet": [
           {
            "marker": {
             "colorbar": {
              "outlinewidth": 0,
              "ticks": ""
             }
            },
            "type": "scattercarpet"
           }
          ],
          "scattergeo": [
           {
            "marker": {
             "colorbar": {
              "outlinewidth": 0,
              "ticks": ""
             }
            },
            "type": "scattergeo"
           }
          ],
          "scattergl": [
           {
            "marker": {
             "colorbar": {
              "outlinewidth": 0,
              "ticks": ""
             }
            },
            "type": "scattergl"
           }
          ],
          "scattermapbox": [
           {
            "marker": {
             "colorbar": {
              "outlinewidth": 0,
              "ticks": ""
             }
            },
            "type": "scattermapbox"
           }
          ],
          "scatterpolar": [
           {
            "marker": {
             "colorbar": {
              "outlinewidth": 0,
              "ticks": ""
             }
            },
            "type": "scatterpolar"
           }
          ],
          "scatterpolargl": [
           {
            "marker": {
             "colorbar": {
              "outlinewidth": 0,
              "ticks": ""
             }
            },
            "type": "scatterpolargl"
           }
          ],
          "scatterternary": [
           {
            "marker": {
             "colorbar": {
              "outlinewidth": 0,
              "ticks": ""
             }
            },
            "type": "scatterternary"
           }
          ],
          "surface": [
           {
            "colorbar": {
             "outlinewidth": 0,
             "ticks": ""
            },
            "colorscale": [
             [
              0,
              "#0d0887"
             ],
             [
              0.1111111111111111,
              "#46039f"
             ],
             [
              0.2222222222222222,
              "#7201a8"
             ],
             [
              0.3333333333333333,
              "#9c179e"
             ],
             [
              0.4444444444444444,
              "#bd3786"
             ],
             [
              0.5555555555555556,
              "#d8576b"
             ],
             [
              0.6666666666666666,
              "#ed7953"
             ],
             [
              0.7777777777777778,
              "#fb9f3a"
             ],
             [
              0.8888888888888888,
              "#fdca26"
             ],
             [
              1,
              "#f0f921"
             ]
            ],
            "type": "surface"
           }
          ],
          "table": [
           {
            "cells": {
             "fill": {
              "color": "#EBF0F8"
             },
             "line": {
              "color": "white"
             }
            },
            "header": {
             "fill": {
              "color": "#C8D4E3"
             },
             "line": {
              "color": "white"
             }
            },
            "type": "table"
           }
          ]
         },
         "layout": {
          "annotationdefaults": {
           "arrowcolor": "#2a3f5f",
           "arrowhead": 0,
           "arrowwidth": 1
          },
          "autotypenumbers": "strict",
          "coloraxis": {
           "colorbar": {
            "outlinewidth": 0,
            "ticks": ""
           }
          },
          "colorscale": {
           "diverging": [
            [
             0,
             "#8e0152"
            ],
            [
             0.1,
             "#c51b7d"
            ],
            [
             0.2,
             "#de77ae"
            ],
            [
             0.3,
             "#f1b6da"
            ],
            [
             0.4,
             "#fde0ef"
            ],
            [
             0.5,
             "#f7f7f7"
            ],
            [
             0.6,
             "#e6f5d0"
            ],
            [
             0.7,
             "#b8e186"
            ],
            [
             0.8,
             "#7fbc41"
            ],
            [
             0.9,
             "#4d9221"
            ],
            [
             1,
             "#276419"
            ]
           ],
           "sequential": [
            [
             0,
             "#0d0887"
            ],
            [
             0.1111111111111111,
             "#46039f"
            ],
            [
             0.2222222222222222,
             "#7201a8"
            ],
            [
             0.3333333333333333,
             "#9c179e"
            ],
            [
             0.4444444444444444,
             "#bd3786"
            ],
            [
             0.5555555555555556,
             "#d8576b"
            ],
            [
             0.6666666666666666,
             "#ed7953"
            ],
            [
             0.7777777777777778,
             "#fb9f3a"
            ],
            [
             0.8888888888888888,
             "#fdca26"
            ],
            [
             1,
             "#f0f921"
            ]
           ],
           "sequentialminus": [
            [
             0,
             "#0d0887"
            ],
            [
             0.1111111111111111,
             "#46039f"
            ],
            [
             0.2222222222222222,
             "#7201a8"
            ],
            [
             0.3333333333333333,
             "#9c179e"
            ],
            [
             0.4444444444444444,
             "#bd3786"
            ],
            [
             0.5555555555555556,
             "#d8576b"
            ],
            [
             0.6666666666666666,
             "#ed7953"
            ],
            [
             0.7777777777777778,
             "#fb9f3a"
            ],
            [
             0.8888888888888888,
             "#fdca26"
            ],
            [
             1,
             "#f0f921"
            ]
           ]
          },
          "colorway": [
           "#636efa",
           "#EF553B",
           "#00cc96",
           "#ab63fa",
           "#FFA15A",
           "#19d3f3",
           "#FF6692",
           "#B6E880",
           "#FF97FF",
           "#FECB52"
          ],
          "font": {
           "color": "#2a3f5f"
          },
          "geo": {
           "bgcolor": "white",
           "lakecolor": "white",
           "landcolor": "#E5ECF6",
           "showlakes": true,
           "showland": true,
           "subunitcolor": "white"
          },
          "hoverlabel": {
           "align": "left"
          },
          "hovermode": "closest",
          "mapbox": {
           "style": "light"
          },
          "paper_bgcolor": "white",
          "plot_bgcolor": "#E5ECF6",
          "polar": {
           "angularaxis": {
            "gridcolor": "white",
            "linecolor": "white",
            "ticks": ""
           },
           "bgcolor": "#E5ECF6",
           "radialaxis": {
            "gridcolor": "white",
            "linecolor": "white",
            "ticks": ""
           }
          },
          "scene": {
           "xaxis": {
            "backgroundcolor": "#E5ECF6",
            "gridcolor": "white",
            "gridwidth": 2,
            "linecolor": "white",
            "showbackground": true,
            "ticks": "",
            "zerolinecolor": "white"
           },
           "yaxis": {
            "backgroundcolor": "#E5ECF6",
            "gridcolor": "white",
            "gridwidth": 2,
            "linecolor": "white",
            "showbackground": true,
            "ticks": "",
            "zerolinecolor": "white"
           },
           "zaxis": {
            "backgroundcolor": "#E5ECF6",
            "gridcolor": "white",
            "gridwidth": 2,
            "linecolor": "white",
            "showbackground": true,
            "ticks": "",
            "zerolinecolor": "white"
           }
          },
          "shapedefaults": {
           "line": {
            "color": "#2a3f5f"
           }
          },
          "ternary": {
           "aaxis": {
            "gridcolor": "white",
            "linecolor": "white",
            "ticks": ""
           },
           "baxis": {
            "gridcolor": "white",
            "linecolor": "white",
            "ticks": ""
           },
           "bgcolor": "#E5ECF6",
           "caxis": {
            "gridcolor": "white",
            "linecolor": "white",
            "ticks": ""
           }
          },
          "title": {
           "x": 0.05
          },
          "xaxis": {
           "automargin": true,
           "gridcolor": "white",
           "linecolor": "white",
           "ticks": "",
           "title": {
            "standoff": 15
           },
           "zerolinecolor": "white",
           "zerolinewidth": 2
          },
          "yaxis": {
           "automargin": true,
           "gridcolor": "white",
           "linecolor": "white",
           "ticks": "",
           "title": {
            "standoff": 15
           },
           "zerolinecolor": "white",
           "zerolinewidth": 2
          }
         }
        },
        "title": {
         "font": {
          "color": "#4D5663"
         }
        },
        "xaxis": {
         "gridcolor": "#E1E5ED",
         "showgrid": true,
         "tickfont": {
          "color": "#4D5663"
         },
         "title": {
          "font": {
           "color": "#4D5663"
          },
          "text": ""
         },
         "zerolinecolor": "#E1E5ED"
        },
        "yaxis": {
         "gridcolor": "#E1E5ED",
         "showgrid": true,
         "tickfont": {
          "color": "#4D5663"
         },
         "title": {
          "font": {
           "color": "#4D5663"
          },
          "text": ""
         },
         "zerolinecolor": "#E1E5ED"
        }
       }
      },
      "text/html": [
       "<div>                            <div id=\"c1cbe586-3f01-4fc7-83ab-e1b4d0e9f831\" class=\"plotly-graph-div\" style=\"height:525px; width:100%;\"></div>            <script type=\"text/javascript\">                require([\"plotly\"], function(Plotly) {                    window.PLOTLYENV=window.PLOTLYENV || {};\n",
       "                    window.PLOTLYENV.BASE_URL='https://plot.ly';                                    if (document.getElementById(\"c1cbe586-3f01-4fc7-83ab-e1b4d0e9f831\")) {                    Plotly.newPlot(                        \"c1cbe586-3f01-4fc7-83ab-e1b4d0e9f831\",                        [{\"marker\":{\"color\":\"rgba(255, 153, 51, 0.6)\",\"line\":{\"color\":\"rgba(255, 153, 51, 1.0)\",\"width\":1}},\"name\":\"None\",\"orientation\":\"v\",\"text\":\"\",\"x\":[\"A\",\"B\",\"C\",\"D\"],\"y\":[100,100,100,100],\"type\":\"bar\"}],                        {\"legend\":{\"bgcolor\":\"#F5F6F9\",\"font\":{\"color\":\"#4D5663\"}},\"paper_bgcolor\":\"#F5F6F9\",\"plot_bgcolor\":\"#F5F6F9\",\"template\":{\"data\":{\"barpolar\":[{\"marker\":{\"line\":{\"color\":\"#E5ECF6\",\"width\":0.5},\"pattern\":{\"fillmode\":\"overlay\",\"size\":10,\"solidity\":0.2}},\"type\":\"barpolar\"}],\"bar\":[{\"error_x\":{\"color\":\"#2a3f5f\"},\"error_y\":{\"color\":\"#2a3f5f\"},\"marker\":{\"line\":{\"color\":\"#E5ECF6\",\"width\":0.5},\"pattern\":{\"fillmode\":\"overlay\",\"size\":10,\"solidity\":0.2}},\"type\":\"bar\"}],\"carpet\":[{\"aaxis\":{\"endlinecolor\":\"#2a3f5f\",\"gridcolor\":\"white\",\"linecolor\":\"white\",\"minorgridcolor\":\"white\",\"startlinecolor\":\"#2a3f5f\"},\"baxis\":{\"endlinecolor\":\"#2a3f5f\",\"gridcolor\":\"white\",\"linecolor\":\"white\",\"minorgridcolor\":\"white\",\"startlinecolor\":\"#2a3f5f\"},\"type\":\"carpet\"}],\"choropleth\":[{\"colorbar\":{\"outlinewidth\":0,\"ticks\":\"\"},\"type\":\"choropleth\"}],\"contourcarpet\":[{\"colorbar\":{\"outlinewidth\":0,\"ticks\":\"\"},\"type\":\"contourcarpet\"}],\"contour\":[{\"colorbar\":{\"outlinewidth\":0,\"ticks\":\"\"},\"colorscale\":[[0.0,\"#0d0887\"],[0.1111111111111111,\"#46039f\"],[0.2222222222222222,\"#7201a8\"],[0.3333333333333333,\"#9c179e\"],[0.4444444444444444,\"#bd3786\"],[0.5555555555555556,\"#d8576b\"],[0.6666666666666666,\"#ed7953\"],[0.7777777777777778,\"#fb9f3a\"],[0.8888888888888888,\"#fdca26\"],[1.0,\"#f0f921\"]],\"type\":\"contour\"}],\"heatmapgl\":[{\"colorbar\":{\"outlinewidth\":0,\"ticks\":\"\"},\"colorscale\":[[0.0,\"#0d0887\"],[0.1111111111111111,\"#46039f\"],[0.2222222222222222,\"#7201a8\"],[0.3333333333333333,\"#9c179e\"],[0.4444444444444444,\"#bd3786\"],[0.5555555555555556,\"#d8576b\"],[0.6666666666666666,\"#ed7953\"],[0.7777777777777778,\"#fb9f3a\"],[0.8888888888888888,\"#fdca26\"],[1.0,\"#f0f921\"]],\"type\":\"heatmapgl\"}],\"heatmap\":[{\"colorbar\":{\"outlinewidth\":0,\"ticks\":\"\"},\"colorscale\":[[0.0,\"#0d0887\"],[0.1111111111111111,\"#46039f\"],[0.2222222222222222,\"#7201a8\"],[0.3333333333333333,\"#9c179e\"],[0.4444444444444444,\"#bd3786\"],[0.5555555555555556,\"#d8576b\"],[0.6666666666666666,\"#ed7953\"],[0.7777777777777778,\"#fb9f3a\"],[0.8888888888888888,\"#fdca26\"],[1.0,\"#f0f921\"]],\"type\":\"heatmap\"}],\"histogram2dcontour\":[{\"colorbar\":{\"outlinewidth\":0,\"ticks\":\"\"},\"colorscale\":[[0.0,\"#0d0887\"],[0.1111111111111111,\"#46039f\"],[0.2222222222222222,\"#7201a8\"],[0.3333333333333333,\"#9c179e\"],[0.4444444444444444,\"#bd3786\"],[0.5555555555555556,\"#d8576b\"],[0.6666666666666666,\"#ed7953\"],[0.7777777777777778,\"#fb9f3a\"],[0.8888888888888888,\"#fdca26\"],[1.0,\"#f0f921\"]],\"type\":\"histogram2dcontour\"}],\"histogram2d\":[{\"colorbar\":{\"outlinewidth\":0,\"ticks\":\"\"},\"colorscale\":[[0.0,\"#0d0887\"],[0.1111111111111111,\"#46039f\"],[0.2222222222222222,\"#7201a8\"],[0.3333333333333333,\"#9c179e\"],[0.4444444444444444,\"#bd3786\"],[0.5555555555555556,\"#d8576b\"],[0.6666666666666666,\"#ed7953\"],[0.7777777777777778,\"#fb9f3a\"],[0.8888888888888888,\"#fdca26\"],[1.0,\"#f0f921\"]],\"type\":\"histogram2d\"}],\"histogram\":[{\"marker\":{\"pattern\":{\"fillmode\":\"overlay\",\"size\":10,\"solidity\":0.2}},\"type\":\"histogram\"}],\"mesh3d\":[{\"colorbar\":{\"outlinewidth\":0,\"ticks\":\"\"},\"type\":\"mesh3d\"}],\"parcoords\":[{\"line\":{\"colorbar\":{\"outlinewidth\":0,\"ticks\":\"\"}},\"type\":\"parcoords\"}],\"pie\":[{\"automargin\":true,\"type\":\"pie\"}],\"scatter3d\":[{\"line\":{\"colorbar\":{\"outlinewidth\":0,\"ticks\":\"\"}},\"marker\":{\"colorbar\":{\"outlinewidth\":0,\"ticks\":\"\"}},\"type\":\"scatter3d\"}],\"scattercarpet\":[{\"marker\":{\"colorbar\":{\"outlinewidth\":0,\"ticks\":\"\"}},\"type\":\"scattercarpet\"}],\"scattergeo\":[{\"marker\":{\"colorbar\":{\"outlinewidth\":0,\"ticks\":\"\"}},\"type\":\"scattergeo\"}],\"scattergl\":[{\"marker\":{\"colorbar\":{\"outlinewidth\":0,\"ticks\":\"\"}},\"type\":\"scattergl\"}],\"scattermapbox\":[{\"marker\":{\"colorbar\":{\"outlinewidth\":0,\"ticks\":\"\"}},\"type\":\"scattermapbox\"}],\"scatterpolargl\":[{\"marker\":{\"colorbar\":{\"outlinewidth\":0,\"ticks\":\"\"}},\"type\":\"scatterpolargl\"}],\"scatterpolar\":[{\"marker\":{\"colorbar\":{\"outlinewidth\":0,\"ticks\":\"\"}},\"type\":\"scatterpolar\"}],\"scatter\":[{\"fillpattern\":{\"fillmode\":\"overlay\",\"size\":10,\"solidity\":0.2},\"type\":\"scatter\"}],\"scatterternary\":[{\"marker\":{\"colorbar\":{\"outlinewidth\":0,\"ticks\":\"\"}},\"type\":\"scatterternary\"}],\"surface\":[{\"colorbar\":{\"outlinewidth\":0,\"ticks\":\"\"},\"colorscale\":[[0.0,\"#0d0887\"],[0.1111111111111111,\"#46039f\"],[0.2222222222222222,\"#7201a8\"],[0.3333333333333333,\"#9c179e\"],[0.4444444444444444,\"#bd3786\"],[0.5555555555555556,\"#d8576b\"],[0.6666666666666666,\"#ed7953\"],[0.7777777777777778,\"#fb9f3a\"],[0.8888888888888888,\"#fdca26\"],[1.0,\"#f0f921\"]],\"type\":\"surface\"}],\"table\":[{\"cells\":{\"fill\":{\"color\":\"#EBF0F8\"},\"line\":{\"color\":\"white\"}},\"header\":{\"fill\":{\"color\":\"#C8D4E3\"},\"line\":{\"color\":\"white\"}},\"type\":\"table\"}]},\"layout\":{\"annotationdefaults\":{\"arrowcolor\":\"#2a3f5f\",\"arrowhead\":0,\"arrowwidth\":1},\"autotypenumbers\":\"strict\",\"coloraxis\":{\"colorbar\":{\"outlinewidth\":0,\"ticks\":\"\"}},\"colorscale\":{\"diverging\":[[0,\"#8e0152\"],[0.1,\"#c51b7d\"],[0.2,\"#de77ae\"],[0.3,\"#f1b6da\"],[0.4,\"#fde0ef\"],[0.5,\"#f7f7f7\"],[0.6,\"#e6f5d0\"],[0.7,\"#b8e186\"],[0.8,\"#7fbc41\"],[0.9,\"#4d9221\"],[1,\"#276419\"]],\"sequential\":[[0.0,\"#0d0887\"],[0.1111111111111111,\"#46039f\"],[0.2222222222222222,\"#7201a8\"],[0.3333333333333333,\"#9c179e\"],[0.4444444444444444,\"#bd3786\"],[0.5555555555555556,\"#d8576b\"],[0.6666666666666666,\"#ed7953\"],[0.7777777777777778,\"#fb9f3a\"],[0.8888888888888888,\"#fdca26\"],[1.0,\"#f0f921\"]],\"sequentialminus\":[[0.0,\"#0d0887\"],[0.1111111111111111,\"#46039f\"],[0.2222222222222222,\"#7201a8\"],[0.3333333333333333,\"#9c179e\"],[0.4444444444444444,\"#bd3786\"],[0.5555555555555556,\"#d8576b\"],[0.6666666666666666,\"#ed7953\"],[0.7777777777777778,\"#fb9f3a\"],[0.8888888888888888,\"#fdca26\"],[1.0,\"#f0f921\"]]},\"colorway\":[\"#636efa\",\"#EF553B\",\"#00cc96\",\"#ab63fa\",\"#FFA15A\",\"#19d3f3\",\"#FF6692\",\"#B6E880\",\"#FF97FF\",\"#FECB52\"],\"font\":{\"color\":\"#2a3f5f\"},\"geo\":{\"bgcolor\":\"white\",\"lakecolor\":\"white\",\"landcolor\":\"#E5ECF6\",\"showlakes\":true,\"showland\":true,\"subunitcolor\":\"white\"},\"hoverlabel\":{\"align\":\"left\"},\"hovermode\":\"closest\",\"mapbox\":{\"style\":\"light\"},\"paper_bgcolor\":\"white\",\"plot_bgcolor\":\"#E5ECF6\",\"polar\":{\"angularaxis\":{\"gridcolor\":\"white\",\"linecolor\":\"white\",\"ticks\":\"\"},\"bgcolor\":\"#E5ECF6\",\"radialaxis\":{\"gridcolor\":\"white\",\"linecolor\":\"white\",\"ticks\":\"\"}},\"scene\":{\"xaxis\":{\"backgroundcolor\":\"#E5ECF6\",\"gridcolor\":\"white\",\"gridwidth\":2,\"linecolor\":\"white\",\"showbackground\":true,\"ticks\":\"\",\"zerolinecolor\":\"white\"},\"yaxis\":{\"backgroundcolor\":\"#E5ECF6\",\"gridcolor\":\"white\",\"gridwidth\":2,\"linecolor\":\"white\",\"showbackground\":true,\"ticks\":\"\",\"zerolinecolor\":\"white\"},\"zaxis\":{\"backgroundcolor\":\"#E5ECF6\",\"gridcolor\":\"white\",\"gridwidth\":2,\"linecolor\":\"white\",\"showbackground\":true,\"ticks\":\"\",\"zerolinecolor\":\"white\"}},\"shapedefaults\":{\"line\":{\"color\":\"#2a3f5f\"}},\"ternary\":{\"aaxis\":{\"gridcolor\":\"white\",\"linecolor\":\"white\",\"ticks\":\"\"},\"baxis\":{\"gridcolor\":\"white\",\"linecolor\":\"white\",\"ticks\":\"\"},\"bgcolor\":\"#E5ECF6\",\"caxis\":{\"gridcolor\":\"white\",\"linecolor\":\"white\",\"ticks\":\"\"}},\"title\":{\"x\":0.05},\"xaxis\":{\"automargin\":true,\"gridcolor\":\"white\",\"linecolor\":\"white\",\"ticks\":\"\",\"title\":{\"standoff\":15},\"zerolinecolor\":\"white\",\"zerolinewidth\":2},\"yaxis\":{\"automargin\":true,\"gridcolor\":\"white\",\"linecolor\":\"white\",\"ticks\":\"\",\"title\":{\"standoff\":15},\"zerolinecolor\":\"white\",\"zerolinewidth\":2}}},\"title\":{\"font\":{\"color\":\"#4D5663\"}},\"xaxis\":{\"gridcolor\":\"#E1E5ED\",\"showgrid\":true,\"tickfont\":{\"color\":\"#4D5663\"},\"title\":{\"font\":{\"color\":\"#4D5663\"},\"text\":\"\"},\"zerolinecolor\":\"#E1E5ED\"},\"yaxis\":{\"gridcolor\":\"#E1E5ED\",\"showgrid\":true,\"tickfont\":{\"color\":\"#4D5663\"},\"title\":{\"font\":{\"color\":\"#4D5663\"},\"text\":\"\"},\"zerolinecolor\":\"#E1E5ED\"}},                        {\"showLink\": true, \"linkText\": \"Export to plot.ly\", \"plotlyServerURL\": \"https://plot.ly\", \"responsive\": true}                    ).then(function(){\n",
       "                            \n",
       "var gd = document.getElementById('c1cbe586-3f01-4fc7-83ab-e1b4d0e9f831');\n",
       "var x = new MutationObserver(function (mutations, observer) {{\n",
       "        var display = window.getComputedStyle(gd).display;\n",
       "        if (!display || display === 'none') {{\n",
       "            console.log([gd, 'removed!']);\n",
       "            Plotly.purge(gd);\n",
       "            observer.disconnect();\n",
       "        }}\n",
       "}});\n",
       "\n",
       "// Listen for the removal of the full notebook cells\n",
       "var notebookContainer = gd.closest('#notebook-container');\n",
       "if (notebookContainer) {{\n",
       "    x.observe(notebookContainer, {childList: true});\n",
       "}}\n",
       "\n",
       "// Listen for the clearing of the current output cell\n",
       "var outputEl = gd.closest('.output');\n",
       "if (outputEl) {{\n",
       "    x.observe(outputEl, {childList: true});\n",
       "}}\n",
       "\n",
       "                        })                };                });            </script>        </div>"
      ]
     },
     "metadata": {},
     "output_type": "display_data"
    }
   ],
   "source": [
    "df.count().iplot(kind = 'bar')"
   ]
  },
  {
   "cell_type": "code",
   "execution_count": 15,
   "metadata": {},
   "outputs": [
    {
     "data": {
      "application/vnd.plotly.v1+json": {
       "config": {
        "linkText": "Export to plot.ly",
        "plotlyServerURL": "https://plot.ly",
        "showLink": true
       },
       "data": [
        {
         "boxpoints": false,
         "line": {
          "width": 1.3
         },
         "marker": {
          "color": "rgba(255, 153, 51, 1.0)"
         },
         "name": "A",
         "orientation": "v",
         "type": "box",
         "y": [
          0.6851931426351257,
          0.011776897866929925,
          0.6711687969096942,
          0.7602761239010867,
          0.3340338832786466,
          0.7816642209869414,
          0.5146777368811686,
          0.27757936324960786,
          0.45619519359886995,
          0.7826118703504528,
          0.1793926410604133,
          0.3733918907281869,
          0.40085382837520656,
          0.7618058206808223,
          0.9548275340972647,
          0.9359040309881265,
          0.9292539323643081,
          0.26699051788428463,
          0.10651570835837199,
          0.47149437820267437,
          0.4723558429116048,
          0.8924910812604379,
          0.6033388501809807,
          0.4182015649088362,
          0.770232704093313,
          0.009509643654387667,
          0.19572361958541018,
          0.9554512516562105,
          0.6532818924769286,
          0.5036202794270261,
          0.16213807970495941,
          0.3259476854783766,
          0.4767630067990336,
          0.19238066856053038,
          0.5094150020031566,
          0.15289906315505475,
          0.25973946838954154,
          0.8479357729311677,
          0.7315736915507024,
          0.8759466725937207,
          0.0039892864183248555,
          0.9223470930587958,
          0.6197722470563477,
          0.8915203806250959,
          0.49874906370424277,
          0.8225743297774892,
          0.8321877277647997,
          0.9337619528161556,
          0.566430332989835,
          0.08749478659048193,
          0.7062816404886239,
          0.10971798726716797,
          0.8090217481133684,
          0.9348440936553413,
          0.5470523235663101,
          0.9929227017449651,
          0.3055033289453378,
          0.8233020655085458,
          0.6399880075867787,
          0.4259085634802027,
          0.2271003082781351,
          0.9603863275665787,
          0.5754718198360809,
          0.6855922475545655,
          0.8000215864503785,
          0.8882799595071866,
          0.3241319292623662,
          0.02510558337714941,
          0.06417188996909506,
          0.04396342402257025,
          0.09297676877375738,
          0.8371524654524803,
          0.6923717442984694,
          0.017999027479590257,
          0.6084020829648865,
          0.8653194757514951,
          0.892365537710933,
          0.9669928639688513,
          0.9172442534485912,
          0.7037940251904705,
          0.535592906715179,
          0.5143379520921977,
          0.03561205339677431,
          0.841369886530009,
          0.724365948331164,
          0.4113079899678703,
          0.9664246333130304,
          0.9775693874432042,
          0.2442457321332865,
          0.10445602074912241,
          0.04761806409626401,
          0.520870656725141,
          0.9114110263365339,
          0.9649354330695963,
          0.5508033886063982,
          0.9174235511977848,
          0.7837412414053477,
          0.36246755694057575,
          0.1328875015634834,
          0.6268064453069518
         ]
        },
        {
         "boxpoints": false,
         "line": {
          "width": 1.3
         },
         "marker": {
          "color": "rgba(55, 128, 191, 1.0)"
         },
         "name": "B",
         "orientation": "v",
         "type": "box",
         "y": [
          0.42266747208389555,
          0.4025529479209352,
          0.39329654633743705,
          0.7089745237385758,
          0.8860223422354788,
          0.39529151946139907,
          0.8858426705003635,
          0.7331624810794318,
          0.7988126303942001,
          0.07056472330669372,
          0.690489663051068,
          0.7550914443538574,
          0.2346450175788274,
          0.3472108096739044,
          0.6940324907465701,
          0.9854109807099428,
          0.17432375474191653,
          0.6323086937207173,
          0.018811432365633207,
          0.34363817749418213,
          0.16907863810594215,
          0.1880173195378385,
          0.2838855731082722,
          0.58633569166344,
          0.7313784980764263,
          0.4217352907134324,
          0.0821310918890209,
          0.5802391456930355,
          0.3227803268815147,
          0.1374991881569092,
          0.2864621476593546,
          0.19149129939914444,
          0.9832226435073113,
          0.6364963320943695,
          0.27947567276258256,
          0.26949286081671076,
          0.9805085759405282,
          0.6999272814650266,
          0.591582308601422,
          0.8607311892983199,
          0.25907295320215706,
          0.10024379132139893,
          0.5819390306343086,
          0.5522721660384126,
          0.22890535806939616,
          0.5545316245108332,
          0.6440610954172484,
          0.1114944589432354,
          0.7479585083642296,
          0.3874151625265263,
          0.9761135772858062,
          0.7332172159647825,
          0.3422539745509602,
          0.6429353253166763,
          0.8821621570152173,
          0.4884007673373636,
          0.6959144740845423,
          0.18689551402856497,
          0.20447107279468102,
          0.1612271442359685,
          0.49526183884171393,
          0.902412854780535,
          0.039160470695294824,
          0.023922135921567778,
          0.4623623853095533,
          0.5671486755300885,
          0.79530536593901,
          0.23776063858335006,
          0.7334239134015752,
          0.8329837817282485,
          0.21663846070326986,
          0.48422265908275763,
          0.7183641746039793,
          0.7886167134052354,
          0.1595354492877974,
          0.3716498483596541,
          0.9311235868724613,
          0.6447795579762172,
          0.30540876045655563,
          0.02459361591469833,
          0.8829687393024542,
          0.4566429789993859,
          0.16355927849690421,
          0.6187702383650091,
          0.8931607555718876,
          0.711878986423076,
          0.43774619353263144,
          0.49253425211216895,
          0.9330458248294381,
          0.8519322649822875,
          0.75431544317232,
          0.24172360392386216,
          0.5482403192688711,
          0.6137944497061548,
          0.8364759617290806,
          0.45066006104456136,
          0.24196271044178141,
          0.7692594805027758,
          0.8516824597359812,
          0.3178770681491705
         ]
        },
        {
         "boxpoints": false,
         "line": {
          "width": 1.3
         },
         "marker": {
          "color": "rgba(50, 171, 96, 1.0)"
         },
         "name": "C",
         "orientation": "v",
         "type": "box",
         "y": [
          0.3561863707076981,
          0.9448437071452328,
          0.24016336710711983,
          0.20118829755988143,
          0.15122255005135588,
          0.7804239345315636,
          0.583442592245674,
          0.9317406155751462,
          0.020397336716458825,
          0.9221974697055461,
          0.969220929430213,
          0.4994436983275503,
          0.7409697236583278,
          0.2527226186058037,
          0.9106129807500702,
          0.6717553184456281,
          0.1644188664973485,
          0.8421021071277454,
          0.24119401432572796,
          0.028815001251824346,
          0.9862055539762161,
          0.3348294121333627,
          0.826378510588906,
          0.14699937935962082,
          0.1050604236752457,
          0.010542068162520568,
          0.9086668473608321,
          0.26111228444865375,
          0.8577786750884392,
          0.7357068239886501,
          0.42211420163979485,
          0.7763496305081379,
          0.10803103894923038,
          0.6196586808828559,
          0.3583614227712998,
          0.5749464239799403,
          0.5293617523700247,
          0.022347185878035414,
          0.9731980020346253,
          0.8085068496606375,
          0.750686493998964,
          0.06768860341887539,
          0.027188845790728222,
          0.7794611561171221,
          0.3802631573621915,
          0.5565253385381683,
          0.15713255087980393,
          0.16107058240896932,
          0.0520871062072914,
          0.8394125768292143,
          0.3513460012875611,
          0.5834937761978631,
          0.19982349674560151,
          0.417322466510775,
          0.09629981288181944,
          0.4432969950349469,
          0.25318275830921466,
          0.8554790719324762,
          0.059818508715041574,
          0.9626685089221783,
          0.9003271238147534,
          0.5567904350940756,
          0.4473074252440554,
          0.2886902602847431,
          0.9651792138770191,
          0.8246177381143381,
          0.9924892364838382,
          0.31094051901930964,
          0.4334051683236698,
          0.9922000162432826,
          0.6968619880540602,
          0.5407420844786678,
          0.3775034242332611,
          0.9880124505614459,
          0.7168056061730363,
          0.7003658727213367,
          0.04918458352508104,
          0.1855393966634099,
          0.45170507227682033,
          0.46822868302000464,
          0.8037542592515516,
          0.3566362118823373,
          0.3667783104507647,
          0.43326252126560916,
          0.34629264313038244,
          0.4282254595695727,
          0.6483932009699541,
          0.03387976178319785,
          0.11817002616495953,
          0.1583982562677405,
          0.7797592566530991,
          0.34593762633057257,
          0.9578904850416811,
          0.859251575103357,
          0.7495379839412252,
          0.3908377043896525,
          0.402766640482052,
          0.15978080940718775,
          0.3066437123731758,
          0.6905367675289896
         ]
        },
        {
         "boxpoints": false,
         "line": {
          "width": 1.3
         },
         "marker": {
          "color": "rgba(128, 0, 128, 1.0)"
         },
         "name": "D",
         "orientation": "v",
         "type": "box",
         "y": [
          0.513848738914716,
          0.42977757057042876,
          0.10404217987035047,
          0.2745074314932867,
          0.04301631766497371,
          0.8969887150784384,
          0.5119088701917631,
          0.20404357546512708,
          0.5654167975052121,
          0.4394687696077685,
          0.04407639536910135,
          0.7810437250424924,
          0.7964006085675379,
          0.20816080983540752,
          0.130680096786555,
          0.9531701361707676,
          0.3742102515282032,
          0.7564134576287697,
          0.11939718784517306,
          0.4521046655661525,
          0.6291081640422204,
          0.6337482536151205,
          0.6032444625101666,
          0.7261227901390499,
          0.23436359410130259,
          0.782061673452562,
          0.6284063391933995,
          0.886406318484242,
          0.9517333856837241,
          0.4296400691315553,
          0.9595637085004282,
          0.9364460584729372,
          0.30226805634933374,
          0.5929930953145905,
          0.0013296841360473932,
          0.2537294350847856,
          0.2688187642937363,
          0.9451439748109275,
          0.7104073366692222,
          0.010044500237195941,
          0.8015423801211405,
          0.22368684905970593,
          0.5111509479923415,
          0.826365848108864,
          0.6238125508673099,
          0.6787808110095238,
          0.9249643723079329,
          0.7677274533923302,
          0.2542119373423205,
          0.3706560220374955,
          0.7001388965154516,
          0.3446378881583999,
          0.531477734122208,
          0.7967797379676417,
          0.22396077446105223,
          0.07760519798197008,
          0.797589907107909,
          0.6836767318244401,
          0.718681383647882,
          0.3841168957077452,
          0.4546832200635279,
          0.5782513144471789,
          0.1865298586951185,
          0.5085657218954693,
          0.9910756830740246,
          0.39827577537651526,
          0.4430204861164805,
          0.949776783369075,
          0.4853560851477894,
          0.01386154011211671,
          0.13546953501017456,
          0.5375780990899847,
          0.18388052146452305,
          0.7671198891708962,
          0.2727439022915653,
          0.6290082432524554,
          0.9579333743328089,
          0.6833621106505054,
          0.8294951812809604,
          0.37096456958776913,
          0.5281327258678865,
          0.44729687309537025,
          0.3402145870974209,
          0.5190595659418663,
          0.8770973675132958,
          0.7720527050089664,
          0.5352708236886218,
          0.9074215381978286,
          0.7418431157607439,
          0.2193984356690759,
          0.7127875493795898,
          0.01408416173515703,
          0.028284679491114684,
          0.42825824277476265,
          0.21590929657528535,
          0.38099575910710004,
          0.4330368351109082,
          0.23769354646014562,
          0.8382726021223676,
          0.4443104281055954
         ]
        }
       ],
       "layout": {
        "legend": {
         "bgcolor": "#F5F6F9",
         "font": {
          "color": "#4D5663"
         }
        },
        "paper_bgcolor": "#F5F6F9",
        "plot_bgcolor": "#F5F6F9",
        "template": {
         "data": {
          "bar": [
           {
            "error_x": {
             "color": "#2a3f5f"
            },
            "error_y": {
             "color": "#2a3f5f"
            },
            "marker": {
             "line": {
              "color": "#E5ECF6",
              "width": 0.5
             },
             "pattern": {
              "fillmode": "overlay",
              "size": 10,
              "solidity": 0.2
             }
            },
            "type": "bar"
           }
          ],
          "barpolar": [
           {
            "marker": {
             "line": {
              "color": "#E5ECF6",
              "width": 0.5
             },
             "pattern": {
              "fillmode": "overlay",
              "size": 10,
              "solidity": 0.2
             }
            },
            "type": "barpolar"
           }
          ],
          "carpet": [
           {
            "aaxis": {
             "endlinecolor": "#2a3f5f",
             "gridcolor": "white",
             "linecolor": "white",
             "minorgridcolor": "white",
             "startlinecolor": "#2a3f5f"
            },
            "baxis": {
             "endlinecolor": "#2a3f5f",
             "gridcolor": "white",
             "linecolor": "white",
             "minorgridcolor": "white",
             "startlinecolor": "#2a3f5f"
            },
            "type": "carpet"
           }
          ],
          "choropleth": [
           {
            "colorbar": {
             "outlinewidth": 0,
             "ticks": ""
            },
            "type": "choropleth"
           }
          ],
          "contour": [
           {
            "colorbar": {
             "outlinewidth": 0,
             "ticks": ""
            },
            "colorscale": [
             [
              0,
              "#0d0887"
             ],
             [
              0.1111111111111111,
              "#46039f"
             ],
             [
              0.2222222222222222,
              "#7201a8"
             ],
             [
              0.3333333333333333,
              "#9c179e"
             ],
             [
              0.4444444444444444,
              "#bd3786"
             ],
             [
              0.5555555555555556,
              "#d8576b"
             ],
             [
              0.6666666666666666,
              "#ed7953"
             ],
             [
              0.7777777777777778,
              "#fb9f3a"
             ],
             [
              0.8888888888888888,
              "#fdca26"
             ],
             [
              1,
              "#f0f921"
             ]
            ],
            "type": "contour"
           }
          ],
          "contourcarpet": [
           {
            "colorbar": {
             "outlinewidth": 0,
             "ticks": ""
            },
            "type": "contourcarpet"
           }
          ],
          "heatmap": [
           {
            "colorbar": {
             "outlinewidth": 0,
             "ticks": ""
            },
            "colorscale": [
             [
              0,
              "#0d0887"
             ],
             [
              0.1111111111111111,
              "#46039f"
             ],
             [
              0.2222222222222222,
              "#7201a8"
             ],
             [
              0.3333333333333333,
              "#9c179e"
             ],
             [
              0.4444444444444444,
              "#bd3786"
             ],
             [
              0.5555555555555556,
              "#d8576b"
             ],
             [
              0.6666666666666666,
              "#ed7953"
             ],
             [
              0.7777777777777778,
              "#fb9f3a"
             ],
             [
              0.8888888888888888,
              "#fdca26"
             ],
             [
              1,
              "#f0f921"
             ]
            ],
            "type": "heatmap"
           }
          ],
          "heatmapgl": [
           {
            "colorbar": {
             "outlinewidth": 0,
             "ticks": ""
            },
            "colorscale": [
             [
              0,
              "#0d0887"
             ],
             [
              0.1111111111111111,
              "#46039f"
             ],
             [
              0.2222222222222222,
              "#7201a8"
             ],
             [
              0.3333333333333333,
              "#9c179e"
             ],
             [
              0.4444444444444444,
              "#bd3786"
             ],
             [
              0.5555555555555556,
              "#d8576b"
             ],
             [
              0.6666666666666666,
              "#ed7953"
             ],
             [
              0.7777777777777778,
              "#fb9f3a"
             ],
             [
              0.8888888888888888,
              "#fdca26"
             ],
             [
              1,
              "#f0f921"
             ]
            ],
            "type": "heatmapgl"
           }
          ],
          "histogram": [
           {
            "marker": {
             "pattern": {
              "fillmode": "overlay",
              "size": 10,
              "solidity": 0.2
             }
            },
            "type": "histogram"
           }
          ],
          "histogram2d": [
           {
            "colorbar": {
             "outlinewidth": 0,
             "ticks": ""
            },
            "colorscale": [
             [
              0,
              "#0d0887"
             ],
             [
              0.1111111111111111,
              "#46039f"
             ],
             [
              0.2222222222222222,
              "#7201a8"
             ],
             [
              0.3333333333333333,
              "#9c179e"
             ],
             [
              0.4444444444444444,
              "#bd3786"
             ],
             [
              0.5555555555555556,
              "#d8576b"
             ],
             [
              0.6666666666666666,
              "#ed7953"
             ],
             [
              0.7777777777777778,
              "#fb9f3a"
             ],
             [
              0.8888888888888888,
              "#fdca26"
             ],
             [
              1,
              "#f0f921"
             ]
            ],
            "type": "histogram2d"
           }
          ],
          "histogram2dcontour": [
           {
            "colorbar": {
             "outlinewidth": 0,
             "ticks": ""
            },
            "colorscale": [
             [
              0,
              "#0d0887"
             ],
             [
              0.1111111111111111,
              "#46039f"
             ],
             [
              0.2222222222222222,
              "#7201a8"
             ],
             [
              0.3333333333333333,
              "#9c179e"
             ],
             [
              0.4444444444444444,
              "#bd3786"
             ],
             [
              0.5555555555555556,
              "#d8576b"
             ],
             [
              0.6666666666666666,
              "#ed7953"
             ],
             [
              0.7777777777777778,
              "#fb9f3a"
             ],
             [
              0.8888888888888888,
              "#fdca26"
             ],
             [
              1,
              "#f0f921"
             ]
            ],
            "type": "histogram2dcontour"
           }
          ],
          "mesh3d": [
           {
            "colorbar": {
             "outlinewidth": 0,
             "ticks": ""
            },
            "type": "mesh3d"
           }
          ],
          "parcoords": [
           {
            "line": {
             "colorbar": {
              "outlinewidth": 0,
              "ticks": ""
             }
            },
            "type": "parcoords"
           }
          ],
          "pie": [
           {
            "automargin": true,
            "type": "pie"
           }
          ],
          "scatter": [
           {
            "fillpattern": {
             "fillmode": "overlay",
             "size": 10,
             "solidity": 0.2
            },
            "type": "scatter"
           }
          ],
          "scatter3d": [
           {
            "line": {
             "colorbar": {
              "outlinewidth": 0,
              "ticks": ""
             }
            },
            "marker": {
             "colorbar": {
              "outlinewidth": 0,
              "ticks": ""
             }
            },
            "type": "scatter3d"
           }
          ],
          "scattercarpet": [
           {
            "marker": {
             "colorbar": {
              "outlinewidth": 0,
              "ticks": ""
             }
            },
            "type": "scattercarpet"
           }
          ],
          "scattergeo": [
           {
            "marker": {
             "colorbar": {
              "outlinewidth": 0,
              "ticks": ""
             }
            },
            "type": "scattergeo"
           }
          ],
          "scattergl": [
           {
            "marker": {
             "colorbar": {
              "outlinewidth": 0,
              "ticks": ""
             }
            },
            "type": "scattergl"
           }
          ],
          "scattermapbox": [
           {
            "marker": {
             "colorbar": {
              "outlinewidth": 0,
              "ticks": ""
             }
            },
            "type": "scattermapbox"
           }
          ],
          "scatterpolar": [
           {
            "marker": {
             "colorbar": {
              "outlinewidth": 0,
              "ticks": ""
             }
            },
            "type": "scatterpolar"
           }
          ],
          "scatterpolargl": [
           {
            "marker": {
             "colorbar": {
              "outlinewidth": 0,
              "ticks": ""
             }
            },
            "type": "scatterpolargl"
           }
          ],
          "scatterternary": [
           {
            "marker": {
             "colorbar": {
              "outlinewidth": 0,
              "ticks": ""
             }
            },
            "type": "scatterternary"
           }
          ],
          "surface": [
           {
            "colorbar": {
             "outlinewidth": 0,
             "ticks": ""
            },
            "colorscale": [
             [
              0,
              "#0d0887"
             ],
             [
              0.1111111111111111,
              "#46039f"
             ],
             [
              0.2222222222222222,
              "#7201a8"
             ],
             [
              0.3333333333333333,
              "#9c179e"
             ],
             [
              0.4444444444444444,
              "#bd3786"
             ],
             [
              0.5555555555555556,
              "#d8576b"
             ],
             [
              0.6666666666666666,
              "#ed7953"
             ],
             [
              0.7777777777777778,
              "#fb9f3a"
             ],
             [
              0.8888888888888888,
              "#fdca26"
             ],
             [
              1,
              "#f0f921"
             ]
            ],
            "type": "surface"
           }
          ],
          "table": [
           {
            "cells": {
             "fill": {
              "color": "#EBF0F8"
             },
             "line": {
              "color": "white"
             }
            },
            "header": {
             "fill": {
              "color": "#C8D4E3"
             },
             "line": {
              "color": "white"
             }
            },
            "type": "table"
           }
          ]
         },
         "layout": {
          "annotationdefaults": {
           "arrowcolor": "#2a3f5f",
           "arrowhead": 0,
           "arrowwidth": 1
          },
          "autotypenumbers": "strict",
          "coloraxis": {
           "colorbar": {
            "outlinewidth": 0,
            "ticks": ""
           }
          },
          "colorscale": {
           "diverging": [
            [
             0,
             "#8e0152"
            ],
            [
             0.1,
             "#c51b7d"
            ],
            [
             0.2,
             "#de77ae"
            ],
            [
             0.3,
             "#f1b6da"
            ],
            [
             0.4,
             "#fde0ef"
            ],
            [
             0.5,
             "#f7f7f7"
            ],
            [
             0.6,
             "#e6f5d0"
            ],
            [
             0.7,
             "#b8e186"
            ],
            [
             0.8,
             "#7fbc41"
            ],
            [
             0.9,
             "#4d9221"
            ],
            [
             1,
             "#276419"
            ]
           ],
           "sequential": [
            [
             0,
             "#0d0887"
            ],
            [
             0.1111111111111111,
             "#46039f"
            ],
            [
             0.2222222222222222,
             "#7201a8"
            ],
            [
             0.3333333333333333,
             "#9c179e"
            ],
            [
             0.4444444444444444,
             "#bd3786"
            ],
            [
             0.5555555555555556,
             "#d8576b"
            ],
            [
             0.6666666666666666,
             "#ed7953"
            ],
            [
             0.7777777777777778,
             "#fb9f3a"
            ],
            [
             0.8888888888888888,
             "#fdca26"
            ],
            [
             1,
             "#f0f921"
            ]
           ],
           "sequentialminus": [
            [
             0,
             "#0d0887"
            ],
            [
             0.1111111111111111,
             "#46039f"
            ],
            [
             0.2222222222222222,
             "#7201a8"
            ],
            [
             0.3333333333333333,
             "#9c179e"
            ],
            [
             0.4444444444444444,
             "#bd3786"
            ],
            [
             0.5555555555555556,
             "#d8576b"
            ],
            [
             0.6666666666666666,
             "#ed7953"
            ],
            [
             0.7777777777777778,
             "#fb9f3a"
            ],
            [
             0.8888888888888888,
             "#fdca26"
            ],
            [
             1,
             "#f0f921"
            ]
           ]
          },
          "colorway": [
           "#636efa",
           "#EF553B",
           "#00cc96",
           "#ab63fa",
           "#FFA15A",
           "#19d3f3",
           "#FF6692",
           "#B6E880",
           "#FF97FF",
           "#FECB52"
          ],
          "font": {
           "color": "#2a3f5f"
          },
          "geo": {
           "bgcolor": "white",
           "lakecolor": "white",
           "landcolor": "#E5ECF6",
           "showlakes": true,
           "showland": true,
           "subunitcolor": "white"
          },
          "hoverlabel": {
           "align": "left"
          },
          "hovermode": "closest",
          "mapbox": {
           "style": "light"
          },
          "paper_bgcolor": "white",
          "plot_bgcolor": "#E5ECF6",
          "polar": {
           "angularaxis": {
            "gridcolor": "white",
            "linecolor": "white",
            "ticks": ""
           },
           "bgcolor": "#E5ECF6",
           "radialaxis": {
            "gridcolor": "white",
            "linecolor": "white",
            "ticks": ""
           }
          },
          "scene": {
           "xaxis": {
            "backgroundcolor": "#E5ECF6",
            "gridcolor": "white",
            "gridwidth": 2,
            "linecolor": "white",
            "showbackground": true,
            "ticks": "",
            "zerolinecolor": "white"
           },
           "yaxis": {
            "backgroundcolor": "#E5ECF6",
            "gridcolor": "white",
            "gridwidth": 2,
            "linecolor": "white",
            "showbackground": true,
            "ticks": "",
            "zerolinecolor": "white"
           },
           "zaxis": {
            "backgroundcolor": "#E5ECF6",
            "gridcolor": "white",
            "gridwidth": 2,
            "linecolor": "white",
            "showbackground": true,
            "ticks": "",
            "zerolinecolor": "white"
           }
          },
          "shapedefaults": {
           "line": {
            "color": "#2a3f5f"
           }
          },
          "ternary": {
           "aaxis": {
            "gridcolor": "white",
            "linecolor": "white",
            "ticks": ""
           },
           "baxis": {
            "gridcolor": "white",
            "linecolor": "white",
            "ticks": ""
           },
           "bgcolor": "#E5ECF6",
           "caxis": {
            "gridcolor": "white",
            "linecolor": "white",
            "ticks": ""
           }
          },
          "title": {
           "x": 0.05
          },
          "xaxis": {
           "automargin": true,
           "gridcolor": "white",
           "linecolor": "white",
           "ticks": "",
           "title": {
            "standoff": 15
           },
           "zerolinecolor": "white",
           "zerolinewidth": 2
          },
          "yaxis": {
           "automargin": true,
           "gridcolor": "white",
           "linecolor": "white",
           "ticks": "",
           "title": {
            "standoff": 15
           },
           "zerolinecolor": "white",
           "zerolinewidth": 2
          }
         }
        },
        "title": {
         "font": {
          "color": "#4D5663"
         }
        },
        "xaxis": {
         "gridcolor": "#E1E5ED",
         "showgrid": true,
         "tickfont": {
          "color": "#4D5663"
         },
         "title": {
          "font": {
           "color": "#4D5663"
          },
          "text": ""
         },
         "zerolinecolor": "#E1E5ED"
        },
        "yaxis": {
         "gridcolor": "#E1E5ED",
         "showgrid": true,
         "tickfont": {
          "color": "#4D5663"
         },
         "title": {
          "font": {
           "color": "#4D5663"
          },
          "text": ""
         },
         "zerolinecolor": "#E1E5ED"
        }
       }
      },
      "text/html": [
       "<div>                            <div id=\"1a826b9f-b979-4cca-b503-eead2ece142e\" class=\"plotly-graph-div\" style=\"height:525px; width:100%;\"></div>            <script type=\"text/javascript\">                require([\"plotly\"], function(Plotly) {                    window.PLOTLYENV=window.PLOTLYENV || {};\n",
       "                    window.PLOTLYENV.BASE_URL='https://plot.ly';                                    if (document.getElementById(\"1a826b9f-b979-4cca-b503-eead2ece142e\")) {                    Plotly.newPlot(                        \"1a826b9f-b979-4cca-b503-eead2ece142e\",                        [{\"boxpoints\":false,\"line\":{\"width\":1.3},\"marker\":{\"color\":\"rgba(255, 153, 51, 1.0)\"},\"name\":\"A\",\"orientation\":\"v\",\"y\":[0.6851931426351257,0.011776897866929925,0.6711687969096942,0.7602761239010867,0.3340338832786466,0.7816642209869414,0.5146777368811686,0.27757936324960786,0.45619519359886995,0.7826118703504528,0.1793926410604133,0.3733918907281869,0.40085382837520656,0.7618058206808223,0.9548275340972647,0.9359040309881265,0.9292539323643081,0.26699051788428463,0.10651570835837199,0.47149437820267437,0.4723558429116048,0.8924910812604379,0.6033388501809807,0.4182015649088362,0.770232704093313,0.009509643654387667,0.19572361958541018,0.9554512516562105,0.6532818924769286,0.5036202794270261,0.16213807970495941,0.3259476854783766,0.4767630067990336,0.19238066856053038,0.5094150020031566,0.15289906315505475,0.25973946838954154,0.8479357729311677,0.7315736915507024,0.8759466725937207,0.0039892864183248555,0.9223470930587958,0.6197722470563477,0.8915203806250959,0.49874906370424277,0.8225743297774892,0.8321877277647997,0.9337619528161556,0.566430332989835,0.08749478659048193,0.7062816404886239,0.10971798726716797,0.8090217481133684,0.9348440936553413,0.5470523235663101,0.9929227017449651,0.3055033289453378,0.8233020655085458,0.6399880075867787,0.4259085634802027,0.2271003082781351,0.9603863275665787,0.5754718198360809,0.6855922475545655,0.8000215864503785,0.8882799595071866,0.3241319292623662,0.02510558337714941,0.06417188996909506,0.04396342402257025,0.09297676877375738,0.8371524654524803,0.6923717442984694,0.017999027479590257,0.6084020829648865,0.8653194757514951,0.892365537710933,0.9669928639688513,0.9172442534485912,0.7037940251904705,0.535592906715179,0.5143379520921977,0.03561205339677431,0.841369886530009,0.724365948331164,0.4113079899678703,0.9664246333130304,0.9775693874432042,0.2442457321332865,0.10445602074912241,0.04761806409626401,0.520870656725141,0.9114110263365339,0.9649354330695963,0.5508033886063982,0.9174235511977848,0.7837412414053477,0.36246755694057575,0.1328875015634834,0.6268064453069518],\"type\":\"box\"},{\"boxpoints\":false,\"line\":{\"width\":1.3},\"marker\":{\"color\":\"rgba(55, 128, 191, 1.0)\"},\"name\":\"B\",\"orientation\":\"v\",\"y\":[0.42266747208389555,0.4025529479209352,0.39329654633743705,0.7089745237385758,0.8860223422354788,0.39529151946139907,0.8858426705003635,0.7331624810794318,0.7988126303942001,0.07056472330669372,0.690489663051068,0.7550914443538574,0.2346450175788274,0.3472108096739044,0.6940324907465701,0.9854109807099428,0.17432375474191653,0.6323086937207173,0.018811432365633207,0.34363817749418213,0.16907863810594215,0.1880173195378385,0.2838855731082722,0.58633569166344,0.7313784980764263,0.4217352907134324,0.0821310918890209,0.5802391456930355,0.3227803268815147,0.1374991881569092,0.2864621476593546,0.19149129939914444,0.9832226435073113,0.6364963320943695,0.27947567276258256,0.26949286081671076,0.9805085759405282,0.6999272814650266,0.591582308601422,0.8607311892983199,0.25907295320215706,0.10024379132139893,0.5819390306343086,0.5522721660384126,0.22890535806939616,0.5545316245108332,0.6440610954172484,0.1114944589432354,0.7479585083642296,0.3874151625265263,0.9761135772858062,0.7332172159647825,0.3422539745509602,0.6429353253166763,0.8821621570152173,0.4884007673373636,0.6959144740845423,0.18689551402856497,0.20447107279468102,0.1612271442359685,0.49526183884171393,0.902412854780535,0.039160470695294824,0.023922135921567778,0.4623623853095533,0.5671486755300885,0.79530536593901,0.23776063858335006,0.7334239134015752,0.8329837817282485,0.21663846070326986,0.48422265908275763,0.7183641746039793,0.7886167134052354,0.1595354492877974,0.3716498483596541,0.9311235868724613,0.6447795579762172,0.30540876045655563,0.02459361591469833,0.8829687393024542,0.4566429789993859,0.16355927849690421,0.6187702383650091,0.8931607555718876,0.711878986423076,0.43774619353263144,0.49253425211216895,0.9330458248294381,0.8519322649822875,0.75431544317232,0.24172360392386216,0.5482403192688711,0.6137944497061548,0.8364759617290806,0.45066006104456136,0.24196271044178141,0.7692594805027758,0.8516824597359812,0.3178770681491705],\"type\":\"box\"},{\"boxpoints\":false,\"line\":{\"width\":1.3},\"marker\":{\"color\":\"rgba(50, 171, 96, 1.0)\"},\"name\":\"C\",\"orientation\":\"v\",\"y\":[0.3561863707076981,0.9448437071452328,0.24016336710711983,0.20118829755988143,0.15122255005135588,0.7804239345315636,0.583442592245674,0.9317406155751462,0.020397336716458825,0.9221974697055461,0.969220929430213,0.4994436983275503,0.7409697236583278,0.2527226186058037,0.9106129807500702,0.6717553184456281,0.1644188664973485,0.8421021071277454,0.24119401432572796,0.028815001251824346,0.9862055539762161,0.3348294121333627,0.826378510588906,0.14699937935962082,0.1050604236752457,0.010542068162520568,0.9086668473608321,0.26111228444865375,0.8577786750884392,0.7357068239886501,0.42211420163979485,0.7763496305081379,0.10803103894923038,0.6196586808828559,0.3583614227712998,0.5749464239799403,0.5293617523700247,0.022347185878035414,0.9731980020346253,0.8085068496606375,0.750686493998964,0.06768860341887539,0.027188845790728222,0.7794611561171221,0.3802631573621915,0.5565253385381683,0.15713255087980393,0.16107058240896932,0.0520871062072914,0.8394125768292143,0.3513460012875611,0.5834937761978631,0.19982349674560151,0.417322466510775,0.09629981288181944,0.4432969950349469,0.25318275830921466,0.8554790719324762,0.059818508715041574,0.9626685089221783,0.9003271238147534,0.5567904350940756,0.4473074252440554,0.2886902602847431,0.9651792138770191,0.8246177381143381,0.9924892364838382,0.31094051901930964,0.4334051683236698,0.9922000162432826,0.6968619880540602,0.5407420844786678,0.3775034242332611,0.9880124505614459,0.7168056061730363,0.7003658727213367,0.04918458352508104,0.1855393966634099,0.45170507227682033,0.46822868302000464,0.8037542592515516,0.3566362118823373,0.3667783104507647,0.43326252126560916,0.34629264313038244,0.4282254595695727,0.6483932009699541,0.03387976178319785,0.11817002616495953,0.1583982562677405,0.7797592566530991,0.34593762633057257,0.9578904850416811,0.859251575103357,0.7495379839412252,0.3908377043896525,0.402766640482052,0.15978080940718775,0.3066437123731758,0.6905367675289896],\"type\":\"box\"},{\"boxpoints\":false,\"line\":{\"width\":1.3},\"marker\":{\"color\":\"rgba(128, 0, 128, 1.0)\"},\"name\":\"D\",\"orientation\":\"v\",\"y\":[0.513848738914716,0.42977757057042876,0.10404217987035047,0.2745074314932867,0.04301631766497371,0.8969887150784384,0.5119088701917631,0.20404357546512708,0.5654167975052121,0.4394687696077685,0.04407639536910135,0.7810437250424924,0.7964006085675379,0.20816080983540752,0.130680096786555,0.9531701361707676,0.3742102515282032,0.7564134576287697,0.11939718784517306,0.4521046655661525,0.6291081640422204,0.6337482536151205,0.6032444625101666,0.7261227901390499,0.23436359410130259,0.782061673452562,0.6284063391933995,0.886406318484242,0.9517333856837241,0.4296400691315553,0.9595637085004282,0.9364460584729372,0.30226805634933374,0.5929930953145905,0.0013296841360473932,0.2537294350847856,0.2688187642937363,0.9451439748109275,0.7104073366692222,0.010044500237195941,0.8015423801211405,0.22368684905970593,0.5111509479923415,0.826365848108864,0.6238125508673099,0.6787808110095238,0.9249643723079329,0.7677274533923302,0.2542119373423205,0.3706560220374955,0.7001388965154516,0.3446378881583999,0.531477734122208,0.7967797379676417,0.22396077446105223,0.07760519798197008,0.797589907107909,0.6836767318244401,0.718681383647882,0.3841168957077452,0.4546832200635279,0.5782513144471789,0.1865298586951185,0.5085657218954693,0.9910756830740246,0.39827577537651526,0.4430204861164805,0.949776783369075,0.4853560851477894,0.01386154011211671,0.13546953501017456,0.5375780990899847,0.18388052146452305,0.7671198891708962,0.2727439022915653,0.6290082432524554,0.9579333743328089,0.6833621106505054,0.8294951812809604,0.37096456958776913,0.5281327258678865,0.44729687309537025,0.3402145870974209,0.5190595659418663,0.8770973675132958,0.7720527050089664,0.5352708236886218,0.9074215381978286,0.7418431157607439,0.2193984356690759,0.7127875493795898,0.01408416173515703,0.028284679491114684,0.42825824277476265,0.21590929657528535,0.38099575910710004,0.4330368351109082,0.23769354646014562,0.8382726021223676,0.4443104281055954],\"type\":\"box\"}],                        {\"legend\":{\"bgcolor\":\"#F5F6F9\",\"font\":{\"color\":\"#4D5663\"}},\"paper_bgcolor\":\"#F5F6F9\",\"plot_bgcolor\":\"#F5F6F9\",\"template\":{\"data\":{\"barpolar\":[{\"marker\":{\"line\":{\"color\":\"#E5ECF6\",\"width\":0.5},\"pattern\":{\"fillmode\":\"overlay\",\"size\":10,\"solidity\":0.2}},\"type\":\"barpolar\"}],\"bar\":[{\"error_x\":{\"color\":\"#2a3f5f\"},\"error_y\":{\"color\":\"#2a3f5f\"},\"marker\":{\"line\":{\"color\":\"#E5ECF6\",\"width\":0.5},\"pattern\":{\"fillmode\":\"overlay\",\"size\":10,\"solidity\":0.2}},\"type\":\"bar\"}],\"carpet\":[{\"aaxis\":{\"endlinecolor\":\"#2a3f5f\",\"gridcolor\":\"white\",\"linecolor\":\"white\",\"minorgridcolor\":\"white\",\"startlinecolor\":\"#2a3f5f\"},\"baxis\":{\"endlinecolor\":\"#2a3f5f\",\"gridcolor\":\"white\",\"linecolor\":\"white\",\"minorgridcolor\":\"white\",\"startlinecolor\":\"#2a3f5f\"},\"type\":\"carpet\"}],\"choropleth\":[{\"colorbar\":{\"outlinewidth\":0,\"ticks\":\"\"},\"type\":\"choropleth\"}],\"contourcarpet\":[{\"colorbar\":{\"outlinewidth\":0,\"ticks\":\"\"},\"type\":\"contourcarpet\"}],\"contour\":[{\"colorbar\":{\"outlinewidth\":0,\"ticks\":\"\"},\"colorscale\":[[0.0,\"#0d0887\"],[0.1111111111111111,\"#46039f\"],[0.2222222222222222,\"#7201a8\"],[0.3333333333333333,\"#9c179e\"],[0.4444444444444444,\"#bd3786\"],[0.5555555555555556,\"#d8576b\"],[0.6666666666666666,\"#ed7953\"],[0.7777777777777778,\"#fb9f3a\"],[0.8888888888888888,\"#fdca26\"],[1.0,\"#f0f921\"]],\"type\":\"contour\"}],\"heatmapgl\":[{\"colorbar\":{\"outlinewidth\":0,\"ticks\":\"\"},\"colorscale\":[[0.0,\"#0d0887\"],[0.1111111111111111,\"#46039f\"],[0.2222222222222222,\"#7201a8\"],[0.3333333333333333,\"#9c179e\"],[0.4444444444444444,\"#bd3786\"],[0.5555555555555556,\"#d8576b\"],[0.6666666666666666,\"#ed7953\"],[0.7777777777777778,\"#fb9f3a\"],[0.8888888888888888,\"#fdca26\"],[1.0,\"#f0f921\"]],\"type\":\"heatmapgl\"}],\"heatmap\":[{\"colorbar\":{\"outlinewidth\":0,\"ticks\":\"\"},\"colorscale\":[[0.0,\"#0d0887\"],[0.1111111111111111,\"#46039f\"],[0.2222222222222222,\"#7201a8\"],[0.3333333333333333,\"#9c179e\"],[0.4444444444444444,\"#bd3786\"],[0.5555555555555556,\"#d8576b\"],[0.6666666666666666,\"#ed7953\"],[0.7777777777777778,\"#fb9f3a\"],[0.8888888888888888,\"#fdca26\"],[1.0,\"#f0f921\"]],\"type\":\"heatmap\"}],\"histogram2dcontour\":[{\"colorbar\":{\"outlinewidth\":0,\"ticks\":\"\"},\"colorscale\":[[0.0,\"#0d0887\"],[0.1111111111111111,\"#46039f\"],[0.2222222222222222,\"#7201a8\"],[0.3333333333333333,\"#9c179e\"],[0.4444444444444444,\"#bd3786\"],[0.5555555555555556,\"#d8576b\"],[0.6666666666666666,\"#ed7953\"],[0.7777777777777778,\"#fb9f3a\"],[0.8888888888888888,\"#fdca26\"],[1.0,\"#f0f921\"]],\"type\":\"histogram2dcontour\"}],\"histogram2d\":[{\"colorbar\":{\"outlinewidth\":0,\"ticks\":\"\"},\"colorscale\":[[0.0,\"#0d0887\"],[0.1111111111111111,\"#46039f\"],[0.2222222222222222,\"#7201a8\"],[0.3333333333333333,\"#9c179e\"],[0.4444444444444444,\"#bd3786\"],[0.5555555555555556,\"#d8576b\"],[0.6666666666666666,\"#ed7953\"],[0.7777777777777778,\"#fb9f3a\"],[0.8888888888888888,\"#fdca26\"],[1.0,\"#f0f921\"]],\"type\":\"histogram2d\"}],\"histogram\":[{\"marker\":{\"pattern\":{\"fillmode\":\"overlay\",\"size\":10,\"solidity\":0.2}},\"type\":\"histogram\"}],\"mesh3d\":[{\"colorbar\":{\"outlinewidth\":0,\"ticks\":\"\"},\"type\":\"mesh3d\"}],\"parcoords\":[{\"line\":{\"colorbar\":{\"outlinewidth\":0,\"ticks\":\"\"}},\"type\":\"parcoords\"}],\"pie\":[{\"automargin\":true,\"type\":\"pie\"}],\"scatter3d\":[{\"line\":{\"colorbar\":{\"outlinewidth\":0,\"ticks\":\"\"}},\"marker\":{\"colorbar\":{\"outlinewidth\":0,\"ticks\":\"\"}},\"type\":\"scatter3d\"}],\"scattercarpet\":[{\"marker\":{\"colorbar\":{\"outlinewidth\":0,\"ticks\":\"\"}},\"type\":\"scattercarpet\"}],\"scattergeo\":[{\"marker\":{\"colorbar\":{\"outlinewidth\":0,\"ticks\":\"\"}},\"type\":\"scattergeo\"}],\"scattergl\":[{\"marker\":{\"colorbar\":{\"outlinewidth\":0,\"ticks\":\"\"}},\"type\":\"scattergl\"}],\"scattermapbox\":[{\"marker\":{\"colorbar\":{\"outlinewidth\":0,\"ticks\":\"\"}},\"type\":\"scattermapbox\"}],\"scatterpolargl\":[{\"marker\":{\"colorbar\":{\"outlinewidth\":0,\"ticks\":\"\"}},\"type\":\"scatterpolargl\"}],\"scatterpolar\":[{\"marker\":{\"colorbar\":{\"outlinewidth\":0,\"ticks\":\"\"}},\"type\":\"scatterpolar\"}],\"scatter\":[{\"fillpattern\":{\"fillmode\":\"overlay\",\"size\":10,\"solidity\":0.2},\"type\":\"scatter\"}],\"scatterternary\":[{\"marker\":{\"colorbar\":{\"outlinewidth\":0,\"ticks\":\"\"}},\"type\":\"scatterternary\"}],\"surface\":[{\"colorbar\":{\"outlinewidth\":0,\"ticks\":\"\"},\"colorscale\":[[0.0,\"#0d0887\"],[0.1111111111111111,\"#46039f\"],[0.2222222222222222,\"#7201a8\"],[0.3333333333333333,\"#9c179e\"],[0.4444444444444444,\"#bd3786\"],[0.5555555555555556,\"#d8576b\"],[0.6666666666666666,\"#ed7953\"],[0.7777777777777778,\"#fb9f3a\"],[0.8888888888888888,\"#fdca26\"],[1.0,\"#f0f921\"]],\"type\":\"surface\"}],\"table\":[{\"cells\":{\"fill\":{\"color\":\"#EBF0F8\"},\"line\":{\"color\":\"white\"}},\"header\":{\"fill\":{\"color\":\"#C8D4E3\"},\"line\":{\"color\":\"white\"}},\"type\":\"table\"}]},\"layout\":{\"annotationdefaults\":{\"arrowcolor\":\"#2a3f5f\",\"arrowhead\":0,\"arrowwidth\":1},\"autotypenumbers\":\"strict\",\"coloraxis\":{\"colorbar\":{\"outlinewidth\":0,\"ticks\":\"\"}},\"colorscale\":{\"diverging\":[[0,\"#8e0152\"],[0.1,\"#c51b7d\"],[0.2,\"#de77ae\"],[0.3,\"#f1b6da\"],[0.4,\"#fde0ef\"],[0.5,\"#f7f7f7\"],[0.6,\"#e6f5d0\"],[0.7,\"#b8e186\"],[0.8,\"#7fbc41\"],[0.9,\"#4d9221\"],[1,\"#276419\"]],\"sequential\":[[0.0,\"#0d0887\"],[0.1111111111111111,\"#46039f\"],[0.2222222222222222,\"#7201a8\"],[0.3333333333333333,\"#9c179e\"],[0.4444444444444444,\"#bd3786\"],[0.5555555555555556,\"#d8576b\"],[0.6666666666666666,\"#ed7953\"],[0.7777777777777778,\"#fb9f3a\"],[0.8888888888888888,\"#fdca26\"],[1.0,\"#f0f921\"]],\"sequentialminus\":[[0.0,\"#0d0887\"],[0.1111111111111111,\"#46039f\"],[0.2222222222222222,\"#7201a8\"],[0.3333333333333333,\"#9c179e\"],[0.4444444444444444,\"#bd3786\"],[0.5555555555555556,\"#d8576b\"],[0.6666666666666666,\"#ed7953\"],[0.7777777777777778,\"#fb9f3a\"],[0.8888888888888888,\"#fdca26\"],[1.0,\"#f0f921\"]]},\"colorway\":[\"#636efa\",\"#EF553B\",\"#00cc96\",\"#ab63fa\",\"#FFA15A\",\"#19d3f3\",\"#FF6692\",\"#B6E880\",\"#FF97FF\",\"#FECB52\"],\"font\":{\"color\":\"#2a3f5f\"},\"geo\":{\"bgcolor\":\"white\",\"lakecolor\":\"white\",\"landcolor\":\"#E5ECF6\",\"showlakes\":true,\"showland\":true,\"subunitcolor\":\"white\"},\"hoverlabel\":{\"align\":\"left\"},\"hovermode\":\"closest\",\"mapbox\":{\"style\":\"light\"},\"paper_bgcolor\":\"white\",\"plot_bgcolor\":\"#E5ECF6\",\"polar\":{\"angularaxis\":{\"gridcolor\":\"white\",\"linecolor\":\"white\",\"ticks\":\"\"},\"bgcolor\":\"#E5ECF6\",\"radialaxis\":{\"gridcolor\":\"white\",\"linecolor\":\"white\",\"ticks\":\"\"}},\"scene\":{\"xaxis\":{\"backgroundcolor\":\"#E5ECF6\",\"gridcolor\":\"white\",\"gridwidth\":2,\"linecolor\":\"white\",\"showbackground\":true,\"ticks\":\"\",\"zerolinecolor\":\"white\"},\"yaxis\":{\"backgroundcolor\":\"#E5ECF6\",\"gridcolor\":\"white\",\"gridwidth\":2,\"linecolor\":\"white\",\"showbackground\":true,\"ticks\":\"\",\"zerolinecolor\":\"white\"},\"zaxis\":{\"backgroundcolor\":\"#E5ECF6\",\"gridcolor\":\"white\",\"gridwidth\":2,\"linecolor\":\"white\",\"showbackground\":true,\"ticks\":\"\",\"zerolinecolor\":\"white\"}},\"shapedefaults\":{\"line\":{\"color\":\"#2a3f5f\"}},\"ternary\":{\"aaxis\":{\"gridcolor\":\"white\",\"linecolor\":\"white\",\"ticks\":\"\"},\"baxis\":{\"gridcolor\":\"white\",\"linecolor\":\"white\",\"ticks\":\"\"},\"bgcolor\":\"#E5ECF6\",\"caxis\":{\"gridcolor\":\"white\",\"linecolor\":\"white\",\"ticks\":\"\"}},\"title\":{\"x\":0.05},\"xaxis\":{\"automargin\":true,\"gridcolor\":\"white\",\"linecolor\":\"white\",\"ticks\":\"\",\"title\":{\"standoff\":15},\"zerolinecolor\":\"white\",\"zerolinewidth\":2},\"yaxis\":{\"automargin\":true,\"gridcolor\":\"white\",\"linecolor\":\"white\",\"ticks\":\"\",\"title\":{\"standoff\":15},\"zerolinecolor\":\"white\",\"zerolinewidth\":2}}},\"title\":{\"font\":{\"color\":\"#4D5663\"}},\"xaxis\":{\"gridcolor\":\"#E1E5ED\",\"showgrid\":true,\"tickfont\":{\"color\":\"#4D5663\"},\"title\":{\"font\":{\"color\":\"#4D5663\"},\"text\":\"\"},\"zerolinecolor\":\"#E1E5ED\"},\"yaxis\":{\"gridcolor\":\"#E1E5ED\",\"showgrid\":true,\"tickfont\":{\"color\":\"#4D5663\"},\"title\":{\"font\":{\"color\":\"#4D5663\"},\"text\":\"\"},\"zerolinecolor\":\"#E1E5ED\"}},                        {\"showLink\": true, \"linkText\": \"Export to plot.ly\", \"plotlyServerURL\": \"https://plot.ly\", \"responsive\": true}                    ).then(function(){\n",
       "                            \n",
       "var gd = document.getElementById('1a826b9f-b979-4cca-b503-eead2ece142e');\n",
       "var x = new MutationObserver(function (mutations, observer) {{\n",
       "        var display = window.getComputedStyle(gd).display;\n",
       "        if (!display || display === 'none') {{\n",
       "            console.log([gd, 'removed!']);\n",
       "            Plotly.purge(gd);\n",
       "            observer.disconnect();\n",
       "        }}\n",
       "}});\n",
       "\n",
       "// Listen for the removal of the full notebook cells\n",
       "var notebookContainer = gd.closest('#notebook-container');\n",
       "if (notebookContainer) {{\n",
       "    x.observe(notebookContainer, {childList: true});\n",
       "}}\n",
       "\n",
       "// Listen for the clearing of the current output cell\n",
       "var outputEl = gd.closest('.output');\n",
       "if (outputEl) {{\n",
       "    x.observe(outputEl, {childList: true});\n",
       "}}\n",
       "\n",
       "                        })                };                });            </script>        </div>"
      ]
     },
     "metadata": {},
     "output_type": "display_data"
    }
   ],
   "source": [
    "df.iplot(kind = 'box')"
   ]
  },
  {
   "cell_type": "code",
   "execution_count": 16,
   "metadata": {},
   "outputs": [
    {
     "data": {
      "application/vnd.plotly.v1+json": {
       "config": {
        "linkText": "Export to plot.ly",
        "plotlyServerURL": "https://plot.ly",
        "showLink": true
       },
       "data": [
        {
         "colorscale": [
          [
           0,
           "rgb(165,0,38)"
          ],
          [
           0.1,
           "rgb(215,48,39)"
          ],
          [
           0.2,
           "rgb(244,109,67)"
          ],
          [
           0.3,
           "rgb(253,174,97)"
          ],
          [
           0.4,
           "rgb(254,224,144)"
          ],
          [
           0.5,
           "rgb(255,255,191)"
          ],
          [
           0.6,
           "rgb(224,243,248)"
          ],
          [
           0.7,
           "rgb(171,217,233)"
          ],
          [
           0.8,
           "rgb(116,173,209)"
          ],
          [
           0.9,
           "rgb(69,117,180)"
          ],
          [
           1,
           "rgb(49,54,149)"
          ]
         ],
         "type": "surface",
         "x": [
          0,
          1,
          2,
          3,
          4
         ],
         "y": [
          "x",
          "y",
          "z"
         ],
         "z": [
          [
           1,
           2,
           3,
           4,
           5
          ],
          [
           10,
           20,
           30,
           20,
           10
          ],
          [
           5,
           4,
           3,
           2,
           1
          ]
         ]
        }
       ],
       "layout": {
        "legend": {
         "bgcolor": "#F5F6F9",
         "font": {
          "color": "#4D5663"
         }
        },
        "paper_bgcolor": "#F5F6F9",
        "plot_bgcolor": "#F5F6F9",
        "template": {
         "data": {
          "bar": [
           {
            "error_x": {
             "color": "#2a3f5f"
            },
            "error_y": {
             "color": "#2a3f5f"
            },
            "marker": {
             "line": {
              "color": "#E5ECF6",
              "width": 0.5
             },
             "pattern": {
              "fillmode": "overlay",
              "size": 10,
              "solidity": 0.2
             }
            },
            "type": "bar"
           }
          ],
          "barpolar": [
           {
            "marker": {
             "line": {
              "color": "#E5ECF6",
              "width": 0.5
             },
             "pattern": {
              "fillmode": "overlay",
              "size": 10,
              "solidity": 0.2
             }
            },
            "type": "barpolar"
           }
          ],
          "carpet": [
           {
            "aaxis": {
             "endlinecolor": "#2a3f5f",
             "gridcolor": "white",
             "linecolor": "white",
             "minorgridcolor": "white",
             "startlinecolor": "#2a3f5f"
            },
            "baxis": {
             "endlinecolor": "#2a3f5f",
             "gridcolor": "white",
             "linecolor": "white",
             "minorgridcolor": "white",
             "startlinecolor": "#2a3f5f"
            },
            "type": "carpet"
           }
          ],
          "choropleth": [
           {
            "colorbar": {
             "outlinewidth": 0,
             "ticks": ""
            },
            "type": "choropleth"
           }
          ],
          "contour": [
           {
            "colorbar": {
             "outlinewidth": 0,
             "ticks": ""
            },
            "colorscale": [
             [
              0,
              "#0d0887"
             ],
             [
              0.1111111111111111,
              "#46039f"
             ],
             [
              0.2222222222222222,
              "#7201a8"
             ],
             [
              0.3333333333333333,
              "#9c179e"
             ],
             [
              0.4444444444444444,
              "#bd3786"
             ],
             [
              0.5555555555555556,
              "#d8576b"
             ],
             [
              0.6666666666666666,
              "#ed7953"
             ],
             [
              0.7777777777777778,
              "#fb9f3a"
             ],
             [
              0.8888888888888888,
              "#fdca26"
             ],
             [
              1,
              "#f0f921"
             ]
            ],
            "type": "contour"
           }
          ],
          "contourcarpet": [
           {
            "colorbar": {
             "outlinewidth": 0,
             "ticks": ""
            },
            "type": "contourcarpet"
           }
          ],
          "heatmap": [
           {
            "colorbar": {
             "outlinewidth": 0,
             "ticks": ""
            },
            "colorscale": [
             [
              0,
              "#0d0887"
             ],
             [
              0.1111111111111111,
              "#46039f"
             ],
             [
              0.2222222222222222,
              "#7201a8"
             ],
             [
              0.3333333333333333,
              "#9c179e"
             ],
             [
              0.4444444444444444,
              "#bd3786"
             ],
             [
              0.5555555555555556,
              "#d8576b"
             ],
             [
              0.6666666666666666,
              "#ed7953"
             ],
             [
              0.7777777777777778,
              "#fb9f3a"
             ],
             [
              0.8888888888888888,
              "#fdca26"
             ],
             [
              1,
              "#f0f921"
             ]
            ],
            "type": "heatmap"
           }
          ],
          "heatmapgl": [
           {
            "colorbar": {
             "outlinewidth": 0,
             "ticks": ""
            },
            "colorscale": [
             [
              0,
              "#0d0887"
             ],
             [
              0.1111111111111111,
              "#46039f"
             ],
             [
              0.2222222222222222,
              "#7201a8"
             ],
             [
              0.3333333333333333,
              "#9c179e"
             ],
             [
              0.4444444444444444,
              "#bd3786"
             ],
             [
              0.5555555555555556,
              "#d8576b"
             ],
             [
              0.6666666666666666,
              "#ed7953"
             ],
             [
              0.7777777777777778,
              "#fb9f3a"
             ],
             [
              0.8888888888888888,
              "#fdca26"
             ],
             [
              1,
              "#f0f921"
             ]
            ],
            "type": "heatmapgl"
           }
          ],
          "histogram": [
           {
            "marker": {
             "pattern": {
              "fillmode": "overlay",
              "size": 10,
              "solidity": 0.2
             }
            },
            "type": "histogram"
           }
          ],
          "histogram2d": [
           {
            "colorbar": {
             "outlinewidth": 0,
             "ticks": ""
            },
            "colorscale": [
             [
              0,
              "#0d0887"
             ],
             [
              0.1111111111111111,
              "#46039f"
             ],
             [
              0.2222222222222222,
              "#7201a8"
             ],
             [
              0.3333333333333333,
              "#9c179e"
             ],
             [
              0.4444444444444444,
              "#bd3786"
             ],
             [
              0.5555555555555556,
              "#d8576b"
             ],
             [
              0.6666666666666666,
              "#ed7953"
             ],
             [
              0.7777777777777778,
              "#fb9f3a"
             ],
             [
              0.8888888888888888,
              "#fdca26"
             ],
             [
              1,
              "#f0f921"
             ]
            ],
            "type": "histogram2d"
           }
          ],
          "histogram2dcontour": [
           {
            "colorbar": {
             "outlinewidth": 0,
             "ticks": ""
            },
            "colorscale": [
             [
              0,
              "#0d0887"
             ],
             [
              0.1111111111111111,
              "#46039f"
             ],
             [
              0.2222222222222222,
              "#7201a8"
             ],
             [
              0.3333333333333333,
              "#9c179e"
             ],
             [
              0.4444444444444444,
              "#bd3786"
             ],
             [
              0.5555555555555556,
              "#d8576b"
             ],
             [
              0.6666666666666666,
              "#ed7953"
             ],
             [
              0.7777777777777778,
              "#fb9f3a"
             ],
             [
              0.8888888888888888,
              "#fdca26"
             ],
             [
              1,
              "#f0f921"
             ]
            ],
            "type": "histogram2dcontour"
           }
          ],
          "mesh3d": [
           {
            "colorbar": {
             "outlinewidth": 0,
             "ticks": ""
            },
            "type": "mesh3d"
           }
          ],
          "parcoords": [
           {
            "line": {
             "colorbar": {
              "outlinewidth": 0,
              "ticks": ""
             }
            },
            "type": "parcoords"
           }
          ],
          "pie": [
           {
            "automargin": true,
            "type": "pie"
           }
          ],
          "scatter": [
           {
            "fillpattern": {
             "fillmode": "overlay",
             "size": 10,
             "solidity": 0.2
            },
            "type": "scatter"
           }
          ],
          "scatter3d": [
           {
            "line": {
             "colorbar": {
              "outlinewidth": 0,
              "ticks": ""
             }
            },
            "marker": {
             "colorbar": {
              "outlinewidth": 0,
              "ticks": ""
             }
            },
            "type": "scatter3d"
           }
          ],
          "scattercarpet": [
           {
            "marker": {
             "colorbar": {
              "outlinewidth": 0,
              "ticks": ""
             }
            },
            "type": "scattercarpet"
           }
          ],
          "scattergeo": [
           {
            "marker": {
             "colorbar": {
              "outlinewidth": 0,
              "ticks": ""
             }
            },
            "type": "scattergeo"
           }
          ],
          "scattergl": [
           {
            "marker": {
             "colorbar": {
              "outlinewidth": 0,
              "ticks": ""
             }
            },
            "type": "scattergl"
           }
          ],
          "scattermapbox": [
           {
            "marker": {
             "colorbar": {
              "outlinewidth": 0,
              "ticks": ""
             }
            },
            "type": "scattermapbox"
           }
          ],
          "scatterpolar": [
           {
            "marker": {
             "colorbar": {
              "outlinewidth": 0,
              "ticks": ""
             }
            },
            "type": "scatterpolar"
           }
          ],
          "scatterpolargl": [
           {
            "marker": {
             "colorbar": {
              "outlinewidth": 0,
              "ticks": ""
             }
            },
            "type": "scatterpolargl"
           }
          ],
          "scatterternary": [
           {
            "marker": {
             "colorbar": {
              "outlinewidth": 0,
              "ticks": ""
             }
            },
            "type": "scatterternary"
           }
          ],
          "surface": [
           {
            "colorbar": {
             "outlinewidth": 0,
             "ticks": ""
            },
            "colorscale": [
             [
              0,
              "#0d0887"
             ],
             [
              0.1111111111111111,
              "#46039f"
             ],
             [
              0.2222222222222222,
              "#7201a8"
             ],
             [
              0.3333333333333333,
              "#9c179e"
             ],
             [
              0.4444444444444444,
              "#bd3786"
             ],
             [
              0.5555555555555556,
              "#d8576b"
             ],
             [
              0.6666666666666666,
              "#ed7953"
             ],
             [
              0.7777777777777778,
              "#fb9f3a"
             ],
             [
              0.8888888888888888,
              "#fdca26"
             ],
             [
              1,
              "#f0f921"
             ]
            ],
            "type": "surface"
           }
          ],
          "table": [
           {
            "cells": {
             "fill": {
              "color": "#EBF0F8"
             },
             "line": {
              "color": "white"
             }
            },
            "header": {
             "fill": {
              "color": "#C8D4E3"
             },
             "line": {
              "color": "white"
             }
            },
            "type": "table"
           }
          ]
         },
         "layout": {
          "annotationdefaults": {
           "arrowcolor": "#2a3f5f",
           "arrowhead": 0,
           "arrowwidth": 1
          },
          "autotypenumbers": "strict",
          "coloraxis": {
           "colorbar": {
            "outlinewidth": 0,
            "ticks": ""
           }
          },
          "colorscale": {
           "diverging": [
            [
             0,
             "#8e0152"
            ],
            [
             0.1,
             "#c51b7d"
            ],
            [
             0.2,
             "#de77ae"
            ],
            [
             0.3,
             "#f1b6da"
            ],
            [
             0.4,
             "#fde0ef"
            ],
            [
             0.5,
             "#f7f7f7"
            ],
            [
             0.6,
             "#e6f5d0"
            ],
            [
             0.7,
             "#b8e186"
            ],
            [
             0.8,
             "#7fbc41"
            ],
            [
             0.9,
             "#4d9221"
            ],
            [
             1,
             "#276419"
            ]
           ],
           "sequential": [
            [
             0,
             "#0d0887"
            ],
            [
             0.1111111111111111,
             "#46039f"
            ],
            [
             0.2222222222222222,
             "#7201a8"
            ],
            [
             0.3333333333333333,
             "#9c179e"
            ],
            [
             0.4444444444444444,
             "#bd3786"
            ],
            [
             0.5555555555555556,
             "#d8576b"
            ],
            [
             0.6666666666666666,
             "#ed7953"
            ],
            [
             0.7777777777777778,
             "#fb9f3a"
            ],
            [
             0.8888888888888888,
             "#fdca26"
            ],
            [
             1,
             "#f0f921"
            ]
           ],
           "sequentialminus": [
            [
             0,
             "#0d0887"
            ],
            [
             0.1111111111111111,
             "#46039f"
            ],
            [
             0.2222222222222222,
             "#7201a8"
            ],
            [
             0.3333333333333333,
             "#9c179e"
            ],
            [
             0.4444444444444444,
             "#bd3786"
            ],
            [
             0.5555555555555556,
             "#d8576b"
            ],
            [
             0.6666666666666666,
             "#ed7953"
            ],
            [
             0.7777777777777778,
             "#fb9f3a"
            ],
            [
             0.8888888888888888,
             "#fdca26"
            ],
            [
             1,
             "#f0f921"
            ]
           ]
          },
          "colorway": [
           "#636efa",
           "#EF553B",
           "#00cc96",
           "#ab63fa",
           "#FFA15A",
           "#19d3f3",
           "#FF6692",
           "#B6E880",
           "#FF97FF",
           "#FECB52"
          ],
          "font": {
           "color": "#2a3f5f"
          },
          "geo": {
           "bgcolor": "white",
           "lakecolor": "white",
           "landcolor": "#E5ECF6",
           "showlakes": true,
           "showland": true,
           "subunitcolor": "white"
          },
          "hoverlabel": {
           "align": "left"
          },
          "hovermode": "closest",
          "mapbox": {
           "style": "light"
          },
          "paper_bgcolor": "white",
          "plot_bgcolor": "#E5ECF6",
          "polar": {
           "angularaxis": {
            "gridcolor": "white",
            "linecolor": "white",
            "ticks": ""
           },
           "bgcolor": "#E5ECF6",
           "radialaxis": {
            "gridcolor": "white",
            "linecolor": "white",
            "ticks": ""
           }
          },
          "scene": {
           "xaxis": {
            "backgroundcolor": "#E5ECF6",
            "gridcolor": "white",
            "gridwidth": 2,
            "linecolor": "white",
            "showbackground": true,
            "ticks": "",
            "zerolinecolor": "white"
           },
           "yaxis": {
            "backgroundcolor": "#E5ECF6",
            "gridcolor": "white",
            "gridwidth": 2,
            "linecolor": "white",
            "showbackground": true,
            "ticks": "",
            "zerolinecolor": "white"
           },
           "zaxis": {
            "backgroundcolor": "#E5ECF6",
            "gridcolor": "white",
            "gridwidth": 2,
            "linecolor": "white",
            "showbackground": true,
            "ticks": "",
            "zerolinecolor": "white"
           }
          },
          "shapedefaults": {
           "line": {
            "color": "#2a3f5f"
           }
          },
          "ternary": {
           "aaxis": {
            "gridcolor": "white",
            "linecolor": "white",
            "ticks": ""
           },
           "baxis": {
            "gridcolor": "white",
            "linecolor": "white",
            "ticks": ""
           },
           "bgcolor": "#E5ECF6",
           "caxis": {
            "gridcolor": "white",
            "linecolor": "white",
            "ticks": ""
           }
          },
          "title": {
           "x": 0.05
          },
          "xaxis": {
           "automargin": true,
           "gridcolor": "white",
           "linecolor": "white",
           "ticks": "",
           "title": {
            "standoff": 15
           },
           "zerolinecolor": "white",
           "zerolinewidth": 2
          },
          "yaxis": {
           "automargin": true,
           "gridcolor": "white",
           "linecolor": "white",
           "ticks": "",
           "title": {
            "standoff": 15
           },
           "zerolinecolor": "white",
           "zerolinewidth": 2
          }
         }
        },
        "title": {
         "font": {
          "color": "#4D5663"
         }
        },
        "xaxis": {
         "gridcolor": "#E1E5ED",
         "showgrid": true,
         "tickfont": {
          "color": "#4D5663"
         },
         "title": {
          "font": {
           "color": "#4D5663"
          },
          "text": ""
         },
         "zerolinecolor": "#E1E5ED"
        },
        "yaxis": {
         "gridcolor": "#E1E5ED",
         "showgrid": true,
         "tickfont": {
          "color": "#4D5663"
         },
         "title": {
          "font": {
           "color": "#4D5663"
          },
          "text": ""
         },
         "zerolinecolor": "#E1E5ED"
        }
       }
      },
      "text/html": [
       "<div>                            <div id=\"e70cd75e-6d78-4583-af00-5dbfe834ca14\" class=\"plotly-graph-div\" style=\"height:525px; width:100%;\"></div>            <script type=\"text/javascript\">                require([\"plotly\"], function(Plotly) {                    window.PLOTLYENV=window.PLOTLYENV || {};\n",
       "                    window.PLOTLYENV.BASE_URL='https://plot.ly';                                    if (document.getElementById(\"e70cd75e-6d78-4583-af00-5dbfe834ca14\")) {                    Plotly.newPlot(                        \"e70cd75e-6d78-4583-af00-5dbfe834ca14\",                        [{\"colorscale\":[[0.0,\"rgb(165,0,38)\"],[0.1,\"rgb(215,48,39)\"],[0.2,\"rgb(244,109,67)\"],[0.3,\"rgb(253,174,97)\"],[0.4,\"rgb(254,224,144)\"],[0.5,\"rgb(255,255,191)\"],[0.6,\"rgb(224,243,248)\"],[0.7,\"rgb(171,217,233)\"],[0.8,\"rgb(116,173,209)\"],[0.9,\"rgb(69,117,180)\"],[1.0,\"rgb(49,54,149)\"]],\"x\":[0,1,2,3,4],\"y\":[\"x\",\"y\",\"z\"],\"z\":[[1,2,3,4,5],[10,20,30,20,10],[5,4,3,2,1]],\"type\":\"surface\"}],                        {\"legend\":{\"bgcolor\":\"#F5F6F9\",\"font\":{\"color\":\"#4D5663\"}},\"paper_bgcolor\":\"#F5F6F9\",\"plot_bgcolor\":\"#F5F6F9\",\"template\":{\"data\":{\"barpolar\":[{\"marker\":{\"line\":{\"color\":\"#E5ECF6\",\"width\":0.5},\"pattern\":{\"fillmode\":\"overlay\",\"size\":10,\"solidity\":0.2}},\"type\":\"barpolar\"}],\"bar\":[{\"error_x\":{\"color\":\"#2a3f5f\"},\"error_y\":{\"color\":\"#2a3f5f\"},\"marker\":{\"line\":{\"color\":\"#E5ECF6\",\"width\":0.5},\"pattern\":{\"fillmode\":\"overlay\",\"size\":10,\"solidity\":0.2}},\"type\":\"bar\"}],\"carpet\":[{\"aaxis\":{\"endlinecolor\":\"#2a3f5f\",\"gridcolor\":\"white\",\"linecolor\":\"white\",\"minorgridcolor\":\"white\",\"startlinecolor\":\"#2a3f5f\"},\"baxis\":{\"endlinecolor\":\"#2a3f5f\",\"gridcolor\":\"white\",\"linecolor\":\"white\",\"minorgridcolor\":\"white\",\"startlinecolor\":\"#2a3f5f\"},\"type\":\"carpet\"}],\"choropleth\":[{\"colorbar\":{\"outlinewidth\":0,\"ticks\":\"\"},\"type\":\"choropleth\"}],\"contourcarpet\":[{\"colorbar\":{\"outlinewidth\":0,\"ticks\":\"\"},\"type\":\"contourcarpet\"}],\"contour\":[{\"colorbar\":{\"outlinewidth\":0,\"ticks\":\"\"},\"colorscale\":[[0.0,\"#0d0887\"],[0.1111111111111111,\"#46039f\"],[0.2222222222222222,\"#7201a8\"],[0.3333333333333333,\"#9c179e\"],[0.4444444444444444,\"#bd3786\"],[0.5555555555555556,\"#d8576b\"],[0.6666666666666666,\"#ed7953\"],[0.7777777777777778,\"#fb9f3a\"],[0.8888888888888888,\"#fdca26\"],[1.0,\"#f0f921\"]],\"type\":\"contour\"}],\"heatmapgl\":[{\"colorbar\":{\"outlinewidth\":0,\"ticks\":\"\"},\"colorscale\":[[0.0,\"#0d0887\"],[0.1111111111111111,\"#46039f\"],[0.2222222222222222,\"#7201a8\"],[0.3333333333333333,\"#9c179e\"],[0.4444444444444444,\"#bd3786\"],[0.5555555555555556,\"#d8576b\"],[0.6666666666666666,\"#ed7953\"],[0.7777777777777778,\"#fb9f3a\"],[0.8888888888888888,\"#fdca26\"],[1.0,\"#f0f921\"]],\"type\":\"heatmapgl\"}],\"heatmap\":[{\"colorbar\":{\"outlinewidth\":0,\"ticks\":\"\"},\"colorscale\":[[0.0,\"#0d0887\"],[0.1111111111111111,\"#46039f\"],[0.2222222222222222,\"#7201a8\"],[0.3333333333333333,\"#9c179e\"],[0.4444444444444444,\"#bd3786\"],[0.5555555555555556,\"#d8576b\"],[0.6666666666666666,\"#ed7953\"],[0.7777777777777778,\"#fb9f3a\"],[0.8888888888888888,\"#fdca26\"],[1.0,\"#f0f921\"]],\"type\":\"heatmap\"}],\"histogram2dcontour\":[{\"colorbar\":{\"outlinewidth\":0,\"ticks\":\"\"},\"colorscale\":[[0.0,\"#0d0887\"],[0.1111111111111111,\"#46039f\"],[0.2222222222222222,\"#7201a8\"],[0.3333333333333333,\"#9c179e\"],[0.4444444444444444,\"#bd3786\"],[0.5555555555555556,\"#d8576b\"],[0.6666666666666666,\"#ed7953\"],[0.7777777777777778,\"#fb9f3a\"],[0.8888888888888888,\"#fdca26\"],[1.0,\"#f0f921\"]],\"type\":\"histogram2dcontour\"}],\"histogram2d\":[{\"colorbar\":{\"outlinewidth\":0,\"ticks\":\"\"},\"colorscale\":[[0.0,\"#0d0887\"],[0.1111111111111111,\"#46039f\"],[0.2222222222222222,\"#7201a8\"],[0.3333333333333333,\"#9c179e\"],[0.4444444444444444,\"#bd3786\"],[0.5555555555555556,\"#d8576b\"],[0.6666666666666666,\"#ed7953\"],[0.7777777777777778,\"#fb9f3a\"],[0.8888888888888888,\"#fdca26\"],[1.0,\"#f0f921\"]],\"type\":\"histogram2d\"}],\"histogram\":[{\"marker\":{\"pattern\":{\"fillmode\":\"overlay\",\"size\":10,\"solidity\":0.2}},\"type\":\"histogram\"}],\"mesh3d\":[{\"colorbar\":{\"outlinewidth\":0,\"ticks\":\"\"},\"type\":\"mesh3d\"}],\"parcoords\":[{\"line\":{\"colorbar\":{\"outlinewidth\":0,\"ticks\":\"\"}},\"type\":\"parcoords\"}],\"pie\":[{\"automargin\":true,\"type\":\"pie\"}],\"scatter3d\":[{\"line\":{\"colorbar\":{\"outlinewidth\":0,\"ticks\":\"\"}},\"marker\":{\"colorbar\":{\"outlinewidth\":0,\"ticks\":\"\"}},\"type\":\"scatter3d\"}],\"scattercarpet\":[{\"marker\":{\"colorbar\":{\"outlinewidth\":0,\"ticks\":\"\"}},\"type\":\"scattercarpet\"}],\"scattergeo\":[{\"marker\":{\"colorbar\":{\"outlinewidth\":0,\"ticks\":\"\"}},\"type\":\"scattergeo\"}],\"scattergl\":[{\"marker\":{\"colorbar\":{\"outlinewidth\":0,\"ticks\":\"\"}},\"type\":\"scattergl\"}],\"scattermapbox\":[{\"marker\":{\"colorbar\":{\"outlinewidth\":0,\"ticks\":\"\"}},\"type\":\"scattermapbox\"}],\"scatterpolargl\":[{\"marker\":{\"colorbar\":{\"outlinewidth\":0,\"ticks\":\"\"}},\"type\":\"scatterpolargl\"}],\"scatterpolar\":[{\"marker\":{\"colorbar\":{\"outlinewidth\":0,\"ticks\":\"\"}},\"type\":\"scatterpolar\"}],\"scatter\":[{\"fillpattern\":{\"fillmode\":\"overlay\",\"size\":10,\"solidity\":0.2},\"type\":\"scatter\"}],\"scatterternary\":[{\"marker\":{\"colorbar\":{\"outlinewidth\":0,\"ticks\":\"\"}},\"type\":\"scatterternary\"}],\"surface\":[{\"colorbar\":{\"outlinewidth\":0,\"ticks\":\"\"},\"colorscale\":[[0.0,\"#0d0887\"],[0.1111111111111111,\"#46039f\"],[0.2222222222222222,\"#7201a8\"],[0.3333333333333333,\"#9c179e\"],[0.4444444444444444,\"#bd3786\"],[0.5555555555555556,\"#d8576b\"],[0.6666666666666666,\"#ed7953\"],[0.7777777777777778,\"#fb9f3a\"],[0.8888888888888888,\"#fdca26\"],[1.0,\"#f0f921\"]],\"type\":\"surface\"}],\"table\":[{\"cells\":{\"fill\":{\"color\":\"#EBF0F8\"},\"line\":{\"color\":\"white\"}},\"header\":{\"fill\":{\"color\":\"#C8D4E3\"},\"line\":{\"color\":\"white\"}},\"type\":\"table\"}]},\"layout\":{\"annotationdefaults\":{\"arrowcolor\":\"#2a3f5f\",\"arrowhead\":0,\"arrowwidth\":1},\"autotypenumbers\":\"strict\",\"coloraxis\":{\"colorbar\":{\"outlinewidth\":0,\"ticks\":\"\"}},\"colorscale\":{\"diverging\":[[0,\"#8e0152\"],[0.1,\"#c51b7d\"],[0.2,\"#de77ae\"],[0.3,\"#f1b6da\"],[0.4,\"#fde0ef\"],[0.5,\"#f7f7f7\"],[0.6,\"#e6f5d0\"],[0.7,\"#b8e186\"],[0.8,\"#7fbc41\"],[0.9,\"#4d9221\"],[1,\"#276419\"]],\"sequential\":[[0.0,\"#0d0887\"],[0.1111111111111111,\"#46039f\"],[0.2222222222222222,\"#7201a8\"],[0.3333333333333333,\"#9c179e\"],[0.4444444444444444,\"#bd3786\"],[0.5555555555555556,\"#d8576b\"],[0.6666666666666666,\"#ed7953\"],[0.7777777777777778,\"#fb9f3a\"],[0.8888888888888888,\"#fdca26\"],[1.0,\"#f0f921\"]],\"sequentialminus\":[[0.0,\"#0d0887\"],[0.1111111111111111,\"#46039f\"],[0.2222222222222222,\"#7201a8\"],[0.3333333333333333,\"#9c179e\"],[0.4444444444444444,\"#bd3786\"],[0.5555555555555556,\"#d8576b\"],[0.6666666666666666,\"#ed7953\"],[0.7777777777777778,\"#fb9f3a\"],[0.8888888888888888,\"#fdca26\"],[1.0,\"#f0f921\"]]},\"colorway\":[\"#636efa\",\"#EF553B\",\"#00cc96\",\"#ab63fa\",\"#FFA15A\",\"#19d3f3\",\"#FF6692\",\"#B6E880\",\"#FF97FF\",\"#FECB52\"],\"font\":{\"color\":\"#2a3f5f\"},\"geo\":{\"bgcolor\":\"white\",\"lakecolor\":\"white\",\"landcolor\":\"#E5ECF6\",\"showlakes\":true,\"showland\":true,\"subunitcolor\":\"white\"},\"hoverlabel\":{\"align\":\"left\"},\"hovermode\":\"closest\",\"mapbox\":{\"style\":\"light\"},\"paper_bgcolor\":\"white\",\"plot_bgcolor\":\"#E5ECF6\",\"polar\":{\"angularaxis\":{\"gridcolor\":\"white\",\"linecolor\":\"white\",\"ticks\":\"\"},\"bgcolor\":\"#E5ECF6\",\"radialaxis\":{\"gridcolor\":\"white\",\"linecolor\":\"white\",\"ticks\":\"\"}},\"scene\":{\"xaxis\":{\"backgroundcolor\":\"#E5ECF6\",\"gridcolor\":\"white\",\"gridwidth\":2,\"linecolor\":\"white\",\"showbackground\":true,\"ticks\":\"\",\"zerolinecolor\":\"white\"},\"yaxis\":{\"backgroundcolor\":\"#E5ECF6\",\"gridcolor\":\"white\",\"gridwidth\":2,\"linecolor\":\"white\",\"showbackground\":true,\"ticks\":\"\",\"zerolinecolor\":\"white\"},\"zaxis\":{\"backgroundcolor\":\"#E5ECF6\",\"gridcolor\":\"white\",\"gridwidth\":2,\"linecolor\":\"white\",\"showbackground\":true,\"ticks\":\"\",\"zerolinecolor\":\"white\"}},\"shapedefaults\":{\"line\":{\"color\":\"#2a3f5f\"}},\"ternary\":{\"aaxis\":{\"gridcolor\":\"white\",\"linecolor\":\"white\",\"ticks\":\"\"},\"baxis\":{\"gridcolor\":\"white\",\"linecolor\":\"white\",\"ticks\":\"\"},\"bgcolor\":\"#E5ECF6\",\"caxis\":{\"gridcolor\":\"white\",\"linecolor\":\"white\",\"ticks\":\"\"}},\"title\":{\"x\":0.05},\"xaxis\":{\"automargin\":true,\"gridcolor\":\"white\",\"linecolor\":\"white\",\"ticks\":\"\",\"title\":{\"standoff\":15},\"zerolinecolor\":\"white\",\"zerolinewidth\":2},\"yaxis\":{\"automargin\":true,\"gridcolor\":\"white\",\"linecolor\":\"white\",\"ticks\":\"\",\"title\":{\"standoff\":15},\"zerolinecolor\":\"white\",\"zerolinewidth\":2}}},\"title\":{\"font\":{\"color\":\"#4D5663\"}},\"xaxis\":{\"gridcolor\":\"#E1E5ED\",\"showgrid\":true,\"tickfont\":{\"color\":\"#4D5663\"},\"title\":{\"font\":{\"color\":\"#4D5663\"},\"text\":\"\"},\"zerolinecolor\":\"#E1E5ED\"},\"yaxis\":{\"gridcolor\":\"#E1E5ED\",\"showgrid\":true,\"tickfont\":{\"color\":\"#4D5663\"},\"title\":{\"font\":{\"color\":\"#4D5663\"},\"text\":\"\"},\"zerolinecolor\":\"#E1E5ED\"}},                        {\"showLink\": true, \"linkText\": \"Export to plot.ly\", \"plotlyServerURL\": \"https://plot.ly\", \"responsive\": true}                    ).then(function(){\n",
       "                            \n",
       "var gd = document.getElementById('e70cd75e-6d78-4583-af00-5dbfe834ca14');\n",
       "var x = new MutationObserver(function (mutations, observer) {{\n",
       "        var display = window.getComputedStyle(gd).display;\n",
       "        if (!display || display === 'none') {{\n",
       "            console.log([gd, 'removed!']);\n",
       "            Plotly.purge(gd);\n",
       "            observer.disconnect();\n",
       "        }}\n",
       "}});\n",
       "\n",
       "// Listen for the removal of the full notebook cells\n",
       "var notebookContainer = gd.closest('#notebook-container');\n",
       "if (notebookContainer) {{\n",
       "    x.observe(notebookContainer, {childList: true});\n",
       "}}\n",
       "\n",
       "// Listen for the clearing of the current output cell\n",
       "var outputEl = gd.closest('.output');\n",
       "if (outputEl) {{\n",
       "    x.observe(outputEl, {childList: true});\n",
       "}}\n",
       "\n",
       "                        })                };                });            </script>        </div>"
      ]
     },
     "metadata": {},
     "output_type": "display_data"
    }
   ],
   "source": [
    "df3 = pd.DataFrame({'x':[1,2,3,4,5],'y':[10,20,30,20,10],'z':[5,4,3,2,1]})\n",
    "df3.iplot(kind='surface',colorscale='rdylbu')"
   ]
  },
  {
   "cell_type": "code",
   "execution_count": 20,
   "metadata": {},
   "outputs": [
    {
     "data": {
      "application/vnd.plotly.v1+json": {
       "config": {
        "linkText": "Export to plot.ly",
        "plotlyServerURL": "https://plot.ly",
        "showLink": true
       },
       "data": [
        {
         "histfunc": "count",
         "histnorm": "",
         "marker": {
          "color": "rgba(255, 153, 51, 1.0)",
          "line": {
           "color": "#4D5663",
           "width": 1.3
          }
         },
         "name": "A",
         "nbinsx": 25,
         "opacity": 0.8,
         "orientation": "v",
         "type": "histogram",
         "x": [
          0.6851931426351257,
          0.011776897866929925,
          0.6711687969096942,
          0.7602761239010867,
          0.3340338832786466,
          0.7816642209869414,
          0.5146777368811686,
          0.27757936324960786,
          0.45619519359886995,
          0.7826118703504528,
          0.1793926410604133,
          0.3733918907281869,
          0.40085382837520656,
          0.7618058206808223,
          0.9548275340972647,
          0.9359040309881265,
          0.9292539323643081,
          0.26699051788428463,
          0.10651570835837199,
          0.47149437820267437,
          0.4723558429116048,
          0.8924910812604379,
          0.6033388501809807,
          0.4182015649088362,
          0.770232704093313,
          0.009509643654387667,
          0.19572361958541018,
          0.9554512516562105,
          0.6532818924769286,
          0.5036202794270261,
          0.16213807970495941,
          0.3259476854783766,
          0.4767630067990336,
          0.19238066856053038,
          0.5094150020031566,
          0.15289906315505475,
          0.25973946838954154,
          0.8479357729311677,
          0.7315736915507024,
          0.8759466725937207,
          0.0039892864183248555,
          0.9223470930587958,
          0.6197722470563477,
          0.8915203806250959,
          0.49874906370424277,
          0.8225743297774892,
          0.8321877277647997,
          0.9337619528161556,
          0.566430332989835,
          0.08749478659048193,
          0.7062816404886239,
          0.10971798726716797,
          0.8090217481133684,
          0.9348440936553413,
          0.5470523235663101,
          0.9929227017449651,
          0.3055033289453378,
          0.8233020655085458,
          0.6399880075867787,
          0.4259085634802027,
          0.2271003082781351,
          0.9603863275665787,
          0.5754718198360809,
          0.6855922475545655,
          0.8000215864503785,
          0.8882799595071866,
          0.3241319292623662,
          0.02510558337714941,
          0.06417188996909506,
          0.04396342402257025,
          0.09297676877375738,
          0.8371524654524803,
          0.6923717442984694,
          0.017999027479590257,
          0.6084020829648865,
          0.8653194757514951,
          0.892365537710933,
          0.9669928639688513,
          0.9172442534485912,
          0.7037940251904705,
          0.535592906715179,
          0.5143379520921977,
          0.03561205339677431,
          0.841369886530009,
          0.724365948331164,
          0.4113079899678703,
          0.9664246333130304,
          0.9775693874432042,
          0.2442457321332865,
          0.10445602074912241,
          0.04761806409626401,
          0.520870656725141,
          0.9114110263365339,
          0.9649354330695963,
          0.5508033886063982,
          0.9174235511977848,
          0.7837412414053477,
          0.36246755694057575,
          0.1328875015634834,
          0.6268064453069518
         ]
        }
       ],
       "layout": {
        "barmode": "overlay",
        "legend": {
         "bgcolor": "#F5F6F9",
         "font": {
          "color": "#4D5663"
         }
        },
        "paper_bgcolor": "#F5F6F9",
        "plot_bgcolor": "#F5F6F9",
        "template": {
         "data": {
          "bar": [
           {
            "error_x": {
             "color": "#2a3f5f"
            },
            "error_y": {
             "color": "#2a3f5f"
            },
            "marker": {
             "line": {
              "color": "#E5ECF6",
              "width": 0.5
             },
             "pattern": {
              "fillmode": "overlay",
              "size": 10,
              "solidity": 0.2
             }
            },
            "type": "bar"
           }
          ],
          "barpolar": [
           {
            "marker": {
             "line": {
              "color": "#E5ECF6",
              "width": 0.5
             },
             "pattern": {
              "fillmode": "overlay",
              "size": 10,
              "solidity": 0.2
             }
            },
            "type": "barpolar"
           }
          ],
          "carpet": [
           {
            "aaxis": {
             "endlinecolor": "#2a3f5f",
             "gridcolor": "white",
             "linecolor": "white",
             "minorgridcolor": "white",
             "startlinecolor": "#2a3f5f"
            },
            "baxis": {
             "endlinecolor": "#2a3f5f",
             "gridcolor": "white",
             "linecolor": "white",
             "minorgridcolor": "white",
             "startlinecolor": "#2a3f5f"
            },
            "type": "carpet"
           }
          ],
          "choropleth": [
           {
            "colorbar": {
             "outlinewidth": 0,
             "ticks": ""
            },
            "type": "choropleth"
           }
          ],
          "contour": [
           {
            "colorbar": {
             "outlinewidth": 0,
             "ticks": ""
            },
            "colorscale": [
             [
              0,
              "#0d0887"
             ],
             [
              0.1111111111111111,
              "#46039f"
             ],
             [
              0.2222222222222222,
              "#7201a8"
             ],
             [
              0.3333333333333333,
              "#9c179e"
             ],
             [
              0.4444444444444444,
              "#bd3786"
             ],
             [
              0.5555555555555556,
              "#d8576b"
             ],
             [
              0.6666666666666666,
              "#ed7953"
             ],
             [
              0.7777777777777778,
              "#fb9f3a"
             ],
             [
              0.8888888888888888,
              "#fdca26"
             ],
             [
              1,
              "#f0f921"
             ]
            ],
            "type": "contour"
           }
          ],
          "contourcarpet": [
           {
            "colorbar": {
             "outlinewidth": 0,
             "ticks": ""
            },
            "type": "contourcarpet"
           }
          ],
          "heatmap": [
           {
            "colorbar": {
             "outlinewidth": 0,
             "ticks": ""
            },
            "colorscale": [
             [
              0,
              "#0d0887"
             ],
             [
              0.1111111111111111,
              "#46039f"
             ],
             [
              0.2222222222222222,
              "#7201a8"
             ],
             [
              0.3333333333333333,
              "#9c179e"
             ],
             [
              0.4444444444444444,
              "#bd3786"
             ],
             [
              0.5555555555555556,
              "#d8576b"
             ],
             [
              0.6666666666666666,
              "#ed7953"
             ],
             [
              0.7777777777777778,
              "#fb9f3a"
             ],
             [
              0.8888888888888888,
              "#fdca26"
             ],
             [
              1,
              "#f0f921"
             ]
            ],
            "type": "heatmap"
           }
          ],
          "heatmapgl": [
           {
            "colorbar": {
             "outlinewidth": 0,
             "ticks": ""
            },
            "colorscale": [
             [
              0,
              "#0d0887"
             ],
             [
              0.1111111111111111,
              "#46039f"
             ],
             [
              0.2222222222222222,
              "#7201a8"
             ],
             [
              0.3333333333333333,
              "#9c179e"
             ],
             [
              0.4444444444444444,
              "#bd3786"
             ],
             [
              0.5555555555555556,
              "#d8576b"
             ],
             [
              0.6666666666666666,
              "#ed7953"
             ],
             [
              0.7777777777777778,
              "#fb9f3a"
             ],
             [
              0.8888888888888888,
              "#fdca26"
             ],
             [
              1,
              "#f0f921"
             ]
            ],
            "type": "heatmapgl"
           }
          ],
          "histogram": [
           {
            "marker": {
             "pattern": {
              "fillmode": "overlay",
              "size": 10,
              "solidity": 0.2
             }
            },
            "type": "histogram"
           }
          ],
          "histogram2d": [
           {
            "colorbar": {
             "outlinewidth": 0,
             "ticks": ""
            },
            "colorscale": [
             [
              0,
              "#0d0887"
             ],
             [
              0.1111111111111111,
              "#46039f"
             ],
             [
              0.2222222222222222,
              "#7201a8"
             ],
             [
              0.3333333333333333,
              "#9c179e"
             ],
             [
              0.4444444444444444,
              "#bd3786"
             ],
             [
              0.5555555555555556,
              "#d8576b"
             ],
             [
              0.6666666666666666,
              "#ed7953"
             ],
             [
              0.7777777777777778,
              "#fb9f3a"
             ],
             [
              0.8888888888888888,
              "#fdca26"
             ],
             [
              1,
              "#f0f921"
             ]
            ],
            "type": "histogram2d"
           }
          ],
          "histogram2dcontour": [
           {
            "colorbar": {
             "outlinewidth": 0,
             "ticks": ""
            },
            "colorscale": [
             [
              0,
              "#0d0887"
             ],
             [
              0.1111111111111111,
              "#46039f"
             ],
             [
              0.2222222222222222,
              "#7201a8"
             ],
             [
              0.3333333333333333,
              "#9c179e"
             ],
             [
              0.4444444444444444,
              "#bd3786"
             ],
             [
              0.5555555555555556,
              "#d8576b"
             ],
             [
              0.6666666666666666,
              "#ed7953"
             ],
             [
              0.7777777777777778,
              "#fb9f3a"
             ],
             [
              0.8888888888888888,
              "#fdca26"
             ],
             [
              1,
              "#f0f921"
             ]
            ],
            "type": "histogram2dcontour"
           }
          ],
          "mesh3d": [
           {
            "colorbar": {
             "outlinewidth": 0,
             "ticks": ""
            },
            "type": "mesh3d"
           }
          ],
          "parcoords": [
           {
            "line": {
             "colorbar": {
              "outlinewidth": 0,
              "ticks": ""
             }
            },
            "type": "parcoords"
           }
          ],
          "pie": [
           {
            "automargin": true,
            "type": "pie"
           }
          ],
          "scatter": [
           {
            "fillpattern": {
             "fillmode": "overlay",
             "size": 10,
             "solidity": 0.2
            },
            "type": "scatter"
           }
          ],
          "scatter3d": [
           {
            "line": {
             "colorbar": {
              "outlinewidth": 0,
              "ticks": ""
             }
            },
            "marker": {
             "colorbar": {
              "outlinewidth": 0,
              "ticks": ""
             }
            },
            "type": "scatter3d"
           }
          ],
          "scattercarpet": [
           {
            "marker": {
             "colorbar": {
              "outlinewidth": 0,
              "ticks": ""
             }
            },
            "type": "scattercarpet"
           }
          ],
          "scattergeo": [
           {
            "marker": {
             "colorbar": {
              "outlinewidth": 0,
              "ticks": ""
             }
            },
            "type": "scattergeo"
           }
          ],
          "scattergl": [
           {
            "marker": {
             "colorbar": {
              "outlinewidth": 0,
              "ticks": ""
             }
            },
            "type": "scattergl"
           }
          ],
          "scattermapbox": [
           {
            "marker": {
             "colorbar": {
              "outlinewidth": 0,
              "ticks": ""
             }
            },
            "type": "scattermapbox"
           }
          ],
          "scatterpolar": [
           {
            "marker": {
             "colorbar": {
              "outlinewidth": 0,
              "ticks": ""
             }
            },
            "type": "scatterpolar"
           }
          ],
          "scatterpolargl": [
           {
            "marker": {
             "colorbar": {
              "outlinewidth": 0,
              "ticks": ""
             }
            },
            "type": "scatterpolargl"
           }
          ],
          "scatterternary": [
           {
            "marker": {
             "colorbar": {
              "outlinewidth": 0,
              "ticks": ""
             }
            },
            "type": "scatterternary"
           }
          ],
          "surface": [
           {
            "colorbar": {
             "outlinewidth": 0,
             "ticks": ""
            },
            "colorscale": [
             [
              0,
              "#0d0887"
             ],
             [
              0.1111111111111111,
              "#46039f"
             ],
             [
              0.2222222222222222,
              "#7201a8"
             ],
             [
              0.3333333333333333,
              "#9c179e"
             ],
             [
              0.4444444444444444,
              "#bd3786"
             ],
             [
              0.5555555555555556,
              "#d8576b"
             ],
             [
              0.6666666666666666,
              "#ed7953"
             ],
             [
              0.7777777777777778,
              "#fb9f3a"
             ],
             [
              0.8888888888888888,
              "#fdca26"
             ],
             [
              1,
              "#f0f921"
             ]
            ],
            "type": "surface"
           }
          ],
          "table": [
           {
            "cells": {
             "fill": {
              "color": "#EBF0F8"
             },
             "line": {
              "color": "white"
             }
            },
            "header": {
             "fill": {
              "color": "#C8D4E3"
             },
             "line": {
              "color": "white"
             }
            },
            "type": "table"
           }
          ]
         },
         "layout": {
          "annotationdefaults": {
           "arrowcolor": "#2a3f5f",
           "arrowhead": 0,
           "arrowwidth": 1
          },
          "autotypenumbers": "strict",
          "coloraxis": {
           "colorbar": {
            "outlinewidth": 0,
            "ticks": ""
           }
          },
          "colorscale": {
           "diverging": [
            [
             0,
             "#8e0152"
            ],
            [
             0.1,
             "#c51b7d"
            ],
            [
             0.2,
             "#de77ae"
            ],
            [
             0.3,
             "#f1b6da"
            ],
            [
             0.4,
             "#fde0ef"
            ],
            [
             0.5,
             "#f7f7f7"
            ],
            [
             0.6,
             "#e6f5d0"
            ],
            [
             0.7,
             "#b8e186"
            ],
            [
             0.8,
             "#7fbc41"
            ],
            [
             0.9,
             "#4d9221"
            ],
            [
             1,
             "#276419"
            ]
           ],
           "sequential": [
            [
             0,
             "#0d0887"
            ],
            [
             0.1111111111111111,
             "#46039f"
            ],
            [
             0.2222222222222222,
             "#7201a8"
            ],
            [
             0.3333333333333333,
             "#9c179e"
            ],
            [
             0.4444444444444444,
             "#bd3786"
            ],
            [
             0.5555555555555556,
             "#d8576b"
            ],
            [
             0.6666666666666666,
             "#ed7953"
            ],
            [
             0.7777777777777778,
             "#fb9f3a"
            ],
            [
             0.8888888888888888,
             "#fdca26"
            ],
            [
             1,
             "#f0f921"
            ]
           ],
           "sequentialminus": [
            [
             0,
             "#0d0887"
            ],
            [
             0.1111111111111111,
             "#46039f"
            ],
            [
             0.2222222222222222,
             "#7201a8"
            ],
            [
             0.3333333333333333,
             "#9c179e"
            ],
            [
             0.4444444444444444,
             "#bd3786"
            ],
            [
             0.5555555555555556,
             "#d8576b"
            ],
            [
             0.6666666666666666,
             "#ed7953"
            ],
            [
             0.7777777777777778,
             "#fb9f3a"
            ],
            [
             0.8888888888888888,
             "#fdca26"
            ],
            [
             1,
             "#f0f921"
            ]
           ]
          },
          "colorway": [
           "#636efa",
           "#EF553B",
           "#00cc96",
           "#ab63fa",
           "#FFA15A",
           "#19d3f3",
           "#FF6692",
           "#B6E880",
           "#FF97FF",
           "#FECB52"
          ],
          "font": {
           "color": "#2a3f5f"
          },
          "geo": {
           "bgcolor": "white",
           "lakecolor": "white",
           "landcolor": "#E5ECF6",
           "showlakes": true,
           "showland": true,
           "subunitcolor": "white"
          },
          "hoverlabel": {
           "align": "left"
          },
          "hovermode": "closest",
          "mapbox": {
           "style": "light"
          },
          "paper_bgcolor": "white",
          "plot_bgcolor": "#E5ECF6",
          "polar": {
           "angularaxis": {
            "gridcolor": "white",
            "linecolor": "white",
            "ticks": ""
           },
           "bgcolor": "#E5ECF6",
           "radialaxis": {
            "gridcolor": "white",
            "linecolor": "white",
            "ticks": ""
           }
          },
          "scene": {
           "xaxis": {
            "backgroundcolor": "#E5ECF6",
            "gridcolor": "white",
            "gridwidth": 2,
            "linecolor": "white",
            "showbackground": true,
            "ticks": "",
            "zerolinecolor": "white"
           },
           "yaxis": {
            "backgroundcolor": "#E5ECF6",
            "gridcolor": "white",
            "gridwidth": 2,
            "linecolor": "white",
            "showbackground": true,
            "ticks": "",
            "zerolinecolor": "white"
           },
           "zaxis": {
            "backgroundcolor": "#E5ECF6",
            "gridcolor": "white",
            "gridwidth": 2,
            "linecolor": "white",
            "showbackground": true,
            "ticks": "",
            "zerolinecolor": "white"
           }
          },
          "shapedefaults": {
           "line": {
            "color": "#2a3f5f"
           }
          },
          "ternary": {
           "aaxis": {
            "gridcolor": "white",
            "linecolor": "white",
            "ticks": ""
           },
           "baxis": {
            "gridcolor": "white",
            "linecolor": "white",
            "ticks": ""
           },
           "bgcolor": "#E5ECF6",
           "caxis": {
            "gridcolor": "white",
            "linecolor": "white",
            "ticks": ""
           }
          },
          "title": {
           "x": 0.05
          },
          "xaxis": {
           "automargin": true,
           "gridcolor": "white",
           "linecolor": "white",
           "ticks": "",
           "title": {
            "standoff": 15
           },
           "zerolinecolor": "white",
           "zerolinewidth": 2
          },
          "yaxis": {
           "automargin": true,
           "gridcolor": "white",
           "linecolor": "white",
           "ticks": "",
           "title": {
            "standoff": 15
           },
           "zerolinecolor": "white",
           "zerolinewidth": 2
          }
         }
        },
        "title": {
         "font": {
          "color": "#4D5663"
         }
        },
        "xaxis": {
         "gridcolor": "#E1E5ED",
         "showgrid": true,
         "tickfont": {
          "color": "#4D5663"
         },
         "title": {
          "font": {
           "color": "#4D5663"
          },
          "text": ""
         },
         "zerolinecolor": "#E1E5ED"
        },
        "yaxis": {
         "gridcolor": "#E1E5ED",
         "showgrid": true,
         "tickfont": {
          "color": "#4D5663"
         },
         "title": {
          "font": {
           "color": "#4D5663"
          },
          "text": ""
         },
         "zerolinecolor": "#E1E5ED"
        }
       }
      },
      "text/html": [
       "<div>                            <div id=\"7f27fdc4-b946-4588-91ef-64fc007cd643\" class=\"plotly-graph-div\" style=\"height:525px; width:100%;\"></div>            <script type=\"text/javascript\">                require([\"plotly\"], function(Plotly) {                    window.PLOTLYENV=window.PLOTLYENV || {};\n",
       "                    window.PLOTLYENV.BASE_URL='https://plot.ly';                                    if (document.getElementById(\"7f27fdc4-b946-4588-91ef-64fc007cd643\")) {                    Plotly.newPlot(                        \"7f27fdc4-b946-4588-91ef-64fc007cd643\",                        [{\"histfunc\":\"count\",\"histnorm\":\"\",\"marker\":{\"color\":\"rgba(255, 153, 51, 1.0)\",\"line\":{\"color\":\"#4D5663\",\"width\":1.3}},\"name\":\"A\",\"nbinsx\":25,\"opacity\":0.8,\"orientation\":\"v\",\"x\":[0.6851931426351257,0.011776897866929925,0.6711687969096942,0.7602761239010867,0.3340338832786466,0.7816642209869414,0.5146777368811686,0.27757936324960786,0.45619519359886995,0.7826118703504528,0.1793926410604133,0.3733918907281869,0.40085382837520656,0.7618058206808223,0.9548275340972647,0.9359040309881265,0.9292539323643081,0.26699051788428463,0.10651570835837199,0.47149437820267437,0.4723558429116048,0.8924910812604379,0.6033388501809807,0.4182015649088362,0.770232704093313,0.009509643654387667,0.19572361958541018,0.9554512516562105,0.6532818924769286,0.5036202794270261,0.16213807970495941,0.3259476854783766,0.4767630067990336,0.19238066856053038,0.5094150020031566,0.15289906315505475,0.25973946838954154,0.8479357729311677,0.7315736915507024,0.8759466725937207,0.0039892864183248555,0.9223470930587958,0.6197722470563477,0.8915203806250959,0.49874906370424277,0.8225743297774892,0.8321877277647997,0.9337619528161556,0.566430332989835,0.08749478659048193,0.7062816404886239,0.10971798726716797,0.8090217481133684,0.9348440936553413,0.5470523235663101,0.9929227017449651,0.3055033289453378,0.8233020655085458,0.6399880075867787,0.4259085634802027,0.2271003082781351,0.9603863275665787,0.5754718198360809,0.6855922475545655,0.8000215864503785,0.8882799595071866,0.3241319292623662,0.02510558337714941,0.06417188996909506,0.04396342402257025,0.09297676877375738,0.8371524654524803,0.6923717442984694,0.017999027479590257,0.6084020829648865,0.8653194757514951,0.892365537710933,0.9669928639688513,0.9172442534485912,0.7037940251904705,0.535592906715179,0.5143379520921977,0.03561205339677431,0.841369886530009,0.724365948331164,0.4113079899678703,0.9664246333130304,0.9775693874432042,0.2442457321332865,0.10445602074912241,0.04761806409626401,0.520870656725141,0.9114110263365339,0.9649354330695963,0.5508033886063982,0.9174235511977848,0.7837412414053477,0.36246755694057575,0.1328875015634834,0.6268064453069518],\"type\":\"histogram\"}],                        {\"barmode\":\"overlay\",\"legend\":{\"bgcolor\":\"#F5F6F9\",\"font\":{\"color\":\"#4D5663\"}},\"paper_bgcolor\":\"#F5F6F9\",\"plot_bgcolor\":\"#F5F6F9\",\"template\":{\"data\":{\"barpolar\":[{\"marker\":{\"line\":{\"color\":\"#E5ECF6\",\"width\":0.5},\"pattern\":{\"fillmode\":\"overlay\",\"size\":10,\"solidity\":0.2}},\"type\":\"barpolar\"}],\"bar\":[{\"error_x\":{\"color\":\"#2a3f5f\"},\"error_y\":{\"color\":\"#2a3f5f\"},\"marker\":{\"line\":{\"color\":\"#E5ECF6\",\"width\":0.5},\"pattern\":{\"fillmode\":\"overlay\",\"size\":10,\"solidity\":0.2}},\"type\":\"bar\"}],\"carpet\":[{\"aaxis\":{\"endlinecolor\":\"#2a3f5f\",\"gridcolor\":\"white\",\"linecolor\":\"white\",\"minorgridcolor\":\"white\",\"startlinecolor\":\"#2a3f5f\"},\"baxis\":{\"endlinecolor\":\"#2a3f5f\",\"gridcolor\":\"white\",\"linecolor\":\"white\",\"minorgridcolor\":\"white\",\"startlinecolor\":\"#2a3f5f\"},\"type\":\"carpet\"}],\"choropleth\":[{\"colorbar\":{\"outlinewidth\":0,\"ticks\":\"\"},\"type\":\"choropleth\"}],\"contourcarpet\":[{\"colorbar\":{\"outlinewidth\":0,\"ticks\":\"\"},\"type\":\"contourcarpet\"}],\"contour\":[{\"colorbar\":{\"outlinewidth\":0,\"ticks\":\"\"},\"colorscale\":[[0.0,\"#0d0887\"],[0.1111111111111111,\"#46039f\"],[0.2222222222222222,\"#7201a8\"],[0.3333333333333333,\"#9c179e\"],[0.4444444444444444,\"#bd3786\"],[0.5555555555555556,\"#d8576b\"],[0.6666666666666666,\"#ed7953\"],[0.7777777777777778,\"#fb9f3a\"],[0.8888888888888888,\"#fdca26\"],[1.0,\"#f0f921\"]],\"type\":\"contour\"}],\"heatmapgl\":[{\"colorbar\":{\"outlinewidth\":0,\"ticks\":\"\"},\"colorscale\":[[0.0,\"#0d0887\"],[0.1111111111111111,\"#46039f\"],[0.2222222222222222,\"#7201a8\"],[0.3333333333333333,\"#9c179e\"],[0.4444444444444444,\"#bd3786\"],[0.5555555555555556,\"#d8576b\"],[0.6666666666666666,\"#ed7953\"],[0.7777777777777778,\"#fb9f3a\"],[0.8888888888888888,\"#fdca26\"],[1.0,\"#f0f921\"]],\"type\":\"heatmapgl\"}],\"heatmap\":[{\"colorbar\":{\"outlinewidth\":0,\"ticks\":\"\"},\"colorscale\":[[0.0,\"#0d0887\"],[0.1111111111111111,\"#46039f\"],[0.2222222222222222,\"#7201a8\"],[0.3333333333333333,\"#9c179e\"],[0.4444444444444444,\"#bd3786\"],[0.5555555555555556,\"#d8576b\"],[0.6666666666666666,\"#ed7953\"],[0.7777777777777778,\"#fb9f3a\"],[0.8888888888888888,\"#fdca26\"],[1.0,\"#f0f921\"]],\"type\":\"heatmap\"}],\"histogram2dcontour\":[{\"colorbar\":{\"outlinewidth\":0,\"ticks\":\"\"},\"colorscale\":[[0.0,\"#0d0887\"],[0.1111111111111111,\"#46039f\"],[0.2222222222222222,\"#7201a8\"],[0.3333333333333333,\"#9c179e\"],[0.4444444444444444,\"#bd3786\"],[0.5555555555555556,\"#d8576b\"],[0.6666666666666666,\"#ed7953\"],[0.7777777777777778,\"#fb9f3a\"],[0.8888888888888888,\"#fdca26\"],[1.0,\"#f0f921\"]],\"type\":\"histogram2dcontour\"}],\"histogram2d\":[{\"colorbar\":{\"outlinewidth\":0,\"ticks\":\"\"},\"colorscale\":[[0.0,\"#0d0887\"],[0.1111111111111111,\"#46039f\"],[0.2222222222222222,\"#7201a8\"],[0.3333333333333333,\"#9c179e\"],[0.4444444444444444,\"#bd3786\"],[0.5555555555555556,\"#d8576b\"],[0.6666666666666666,\"#ed7953\"],[0.7777777777777778,\"#fb9f3a\"],[0.8888888888888888,\"#fdca26\"],[1.0,\"#f0f921\"]],\"type\":\"histogram2d\"}],\"histogram\":[{\"marker\":{\"pattern\":{\"fillmode\":\"overlay\",\"size\":10,\"solidity\":0.2}},\"type\":\"histogram\"}],\"mesh3d\":[{\"colorbar\":{\"outlinewidth\":0,\"ticks\":\"\"},\"type\":\"mesh3d\"}],\"parcoords\":[{\"line\":{\"colorbar\":{\"outlinewidth\":0,\"ticks\":\"\"}},\"type\":\"parcoords\"}],\"pie\":[{\"automargin\":true,\"type\":\"pie\"}],\"scatter3d\":[{\"line\":{\"colorbar\":{\"outlinewidth\":0,\"ticks\":\"\"}},\"marker\":{\"colorbar\":{\"outlinewidth\":0,\"ticks\":\"\"}},\"type\":\"scatter3d\"}],\"scattercarpet\":[{\"marker\":{\"colorbar\":{\"outlinewidth\":0,\"ticks\":\"\"}},\"type\":\"scattercarpet\"}],\"scattergeo\":[{\"marker\":{\"colorbar\":{\"outlinewidth\":0,\"ticks\":\"\"}},\"type\":\"scattergeo\"}],\"scattergl\":[{\"marker\":{\"colorbar\":{\"outlinewidth\":0,\"ticks\":\"\"}},\"type\":\"scattergl\"}],\"scattermapbox\":[{\"marker\":{\"colorbar\":{\"outlinewidth\":0,\"ticks\":\"\"}},\"type\":\"scattermapbox\"}],\"scatterpolargl\":[{\"marker\":{\"colorbar\":{\"outlinewidth\":0,\"ticks\":\"\"}},\"type\":\"scatterpolargl\"}],\"scatterpolar\":[{\"marker\":{\"colorbar\":{\"outlinewidth\":0,\"ticks\":\"\"}},\"type\":\"scatterpolar\"}],\"scatter\":[{\"fillpattern\":{\"fillmode\":\"overlay\",\"size\":10,\"solidity\":0.2},\"type\":\"scatter\"}],\"scatterternary\":[{\"marker\":{\"colorbar\":{\"outlinewidth\":0,\"ticks\":\"\"}},\"type\":\"scatterternary\"}],\"surface\":[{\"colorbar\":{\"outlinewidth\":0,\"ticks\":\"\"},\"colorscale\":[[0.0,\"#0d0887\"],[0.1111111111111111,\"#46039f\"],[0.2222222222222222,\"#7201a8\"],[0.3333333333333333,\"#9c179e\"],[0.4444444444444444,\"#bd3786\"],[0.5555555555555556,\"#d8576b\"],[0.6666666666666666,\"#ed7953\"],[0.7777777777777778,\"#fb9f3a\"],[0.8888888888888888,\"#fdca26\"],[1.0,\"#f0f921\"]],\"type\":\"surface\"}],\"table\":[{\"cells\":{\"fill\":{\"color\":\"#EBF0F8\"},\"line\":{\"color\":\"white\"}},\"header\":{\"fill\":{\"color\":\"#C8D4E3\"},\"line\":{\"color\":\"white\"}},\"type\":\"table\"}]},\"layout\":{\"annotationdefaults\":{\"arrowcolor\":\"#2a3f5f\",\"arrowhead\":0,\"arrowwidth\":1},\"autotypenumbers\":\"strict\",\"coloraxis\":{\"colorbar\":{\"outlinewidth\":0,\"ticks\":\"\"}},\"colorscale\":{\"diverging\":[[0,\"#8e0152\"],[0.1,\"#c51b7d\"],[0.2,\"#de77ae\"],[0.3,\"#f1b6da\"],[0.4,\"#fde0ef\"],[0.5,\"#f7f7f7\"],[0.6,\"#e6f5d0\"],[0.7,\"#b8e186\"],[0.8,\"#7fbc41\"],[0.9,\"#4d9221\"],[1,\"#276419\"]],\"sequential\":[[0.0,\"#0d0887\"],[0.1111111111111111,\"#46039f\"],[0.2222222222222222,\"#7201a8\"],[0.3333333333333333,\"#9c179e\"],[0.4444444444444444,\"#bd3786\"],[0.5555555555555556,\"#d8576b\"],[0.6666666666666666,\"#ed7953\"],[0.7777777777777778,\"#fb9f3a\"],[0.8888888888888888,\"#fdca26\"],[1.0,\"#f0f921\"]],\"sequentialminus\":[[0.0,\"#0d0887\"],[0.1111111111111111,\"#46039f\"],[0.2222222222222222,\"#7201a8\"],[0.3333333333333333,\"#9c179e\"],[0.4444444444444444,\"#bd3786\"],[0.5555555555555556,\"#d8576b\"],[0.6666666666666666,\"#ed7953\"],[0.7777777777777778,\"#fb9f3a\"],[0.8888888888888888,\"#fdca26\"],[1.0,\"#f0f921\"]]},\"colorway\":[\"#636efa\",\"#EF553B\",\"#00cc96\",\"#ab63fa\",\"#FFA15A\",\"#19d3f3\",\"#FF6692\",\"#B6E880\",\"#FF97FF\",\"#FECB52\"],\"font\":{\"color\":\"#2a3f5f\"},\"geo\":{\"bgcolor\":\"white\",\"lakecolor\":\"white\",\"landcolor\":\"#E5ECF6\",\"showlakes\":true,\"showland\":true,\"subunitcolor\":\"white\"},\"hoverlabel\":{\"align\":\"left\"},\"hovermode\":\"closest\",\"mapbox\":{\"style\":\"light\"},\"paper_bgcolor\":\"white\",\"plot_bgcolor\":\"#E5ECF6\",\"polar\":{\"angularaxis\":{\"gridcolor\":\"white\",\"linecolor\":\"white\",\"ticks\":\"\"},\"bgcolor\":\"#E5ECF6\",\"radialaxis\":{\"gridcolor\":\"white\",\"linecolor\":\"white\",\"ticks\":\"\"}},\"scene\":{\"xaxis\":{\"backgroundcolor\":\"#E5ECF6\",\"gridcolor\":\"white\",\"gridwidth\":2,\"linecolor\":\"white\",\"showbackground\":true,\"ticks\":\"\",\"zerolinecolor\":\"white\"},\"yaxis\":{\"backgroundcolor\":\"#E5ECF6\",\"gridcolor\":\"white\",\"gridwidth\":2,\"linecolor\":\"white\",\"showbackground\":true,\"ticks\":\"\",\"zerolinecolor\":\"white\"},\"zaxis\":{\"backgroundcolor\":\"#E5ECF6\",\"gridcolor\":\"white\",\"gridwidth\":2,\"linecolor\":\"white\",\"showbackground\":true,\"ticks\":\"\",\"zerolinecolor\":\"white\"}},\"shapedefaults\":{\"line\":{\"color\":\"#2a3f5f\"}},\"ternary\":{\"aaxis\":{\"gridcolor\":\"white\",\"linecolor\":\"white\",\"ticks\":\"\"},\"baxis\":{\"gridcolor\":\"white\",\"linecolor\":\"white\",\"ticks\":\"\"},\"bgcolor\":\"#E5ECF6\",\"caxis\":{\"gridcolor\":\"white\",\"linecolor\":\"white\",\"ticks\":\"\"}},\"title\":{\"x\":0.05},\"xaxis\":{\"automargin\":true,\"gridcolor\":\"white\",\"linecolor\":\"white\",\"ticks\":\"\",\"title\":{\"standoff\":15},\"zerolinecolor\":\"white\",\"zerolinewidth\":2},\"yaxis\":{\"automargin\":true,\"gridcolor\":\"white\",\"linecolor\":\"white\",\"ticks\":\"\",\"title\":{\"standoff\":15},\"zerolinecolor\":\"white\",\"zerolinewidth\":2}}},\"title\":{\"font\":{\"color\":\"#4D5663\"}},\"xaxis\":{\"gridcolor\":\"#E1E5ED\",\"showgrid\":true,\"tickfont\":{\"color\":\"#4D5663\"},\"title\":{\"font\":{\"color\":\"#4D5663\"},\"text\":\"\"},\"zerolinecolor\":\"#E1E5ED\"},\"yaxis\":{\"gridcolor\":\"#E1E5ED\",\"showgrid\":true,\"tickfont\":{\"color\":\"#4D5663\"},\"title\":{\"font\":{\"color\":\"#4D5663\"},\"text\":\"\"},\"zerolinecolor\":\"#E1E5ED\"}},                        {\"showLink\": true, \"linkText\": \"Export to plot.ly\", \"plotlyServerURL\": \"https://plot.ly\", \"responsive\": true}                    ).then(function(){\n",
       "                            \n",
       "var gd = document.getElementById('7f27fdc4-b946-4588-91ef-64fc007cd643');\n",
       "var x = new MutationObserver(function (mutations, observer) {{\n",
       "        var display = window.getComputedStyle(gd).display;\n",
       "        if (!display || display === 'none') {{\n",
       "            console.log([gd, 'removed!']);\n",
       "            Plotly.purge(gd);\n",
       "            observer.disconnect();\n",
       "        }}\n",
       "}});\n",
       "\n",
       "// Listen for the removal of the full notebook cells\n",
       "var notebookContainer = gd.closest('#notebook-container');\n",
       "if (notebookContainer) {{\n",
       "    x.observe(notebookContainer, {childList: true});\n",
       "}}\n",
       "\n",
       "// Listen for the clearing of the current output cell\n",
       "var outputEl = gd.closest('.output');\n",
       "if (outputEl) {{\n",
       "    x.observe(outputEl, {childList: true});\n",
       "}}\n",
       "\n",
       "                        })                };                });            </script>        </div>"
      ]
     },
     "metadata": {},
     "output_type": "display_data"
    }
   ],
   "source": [
    "df['A'].iplot(kind='hist',bins=25)"
   ]
  },
  {
   "cell_type": "code",
   "execution_count": 21,
   "metadata": {},
   "outputs": [
    {
     "data": {
      "application/vnd.plotly.v1+json": {
       "config": {
        "linkText": "Export to plot.ly",
        "plotlyServerURL": "https://plot.ly",
        "showLink": true
       },
       "data": [
        {
         "marker": {
          "color": [
           "rgb(255, 153, 51)",
           "rgb(55, 128, 191)",
           "rgb(50, 171, 96)",
           "rgb(128, 0, 128)",
           "rgb(219, 64, 82)",
           "rgb(0, 128, 128)",
           "rgb(255, 255, 51)",
           "rgb(128, 128, 0)",
           "rgb(251, 128, 114)",
           "rgb(128, 177, 211)"
          ],
          "line": {
           "width": 1.3
          },
          "size": [
           47,
           107,
           35,
           31,
           26,
           90,
           70,
           105,
           13,
           104,
           109,
           61,
           86,
           36,
           103,
           79,
           27,
           96,
           35,
           13,
           111,
           45,
           95,
           25,
           21,
           12,
           103,
           37,
           98,
           85,
           53,
           89,
           21,
           74,
           47,
           69,
           64,
           13,
           110,
           93,
           87,
           17,
           13,
           90,
           49,
           67,
           26,
           27,
           16,
           96,
           46,
           70,
           31,
           53,
           20,
           56,
           36,
           98,
           17,
           108,
           102,
           67,
           56,
           40,
           109,
           94,
           112,
           42,
           55,
           111,
           81,
           65,
           49,
           111,
           83,
           82,
           15,
           29,
           56,
           58,
           92,
           47,
           48,
           55,
           46,
           54,
           76,
           14,
           22,
           27,
           90,
           46,
           108,
           98,
           87,
           50,
           51,
           27,
           42,
           81
          ],
          "symbol": "circle"
         },
         "mode": "markers",
         "text": "",
         "type": "scatter",
         "x": [
          0.6851931426351257,
          0.011776897866929925,
          0.6711687969096942,
          0.7602761239010867,
          0.3340338832786466,
          0.7816642209869414,
          0.5146777368811686,
          0.27757936324960786,
          0.45619519359886995,
          0.7826118703504528,
          0.1793926410604133,
          0.3733918907281869,
          0.40085382837520656,
          0.7618058206808223,
          0.9548275340972647,
          0.9359040309881265,
          0.9292539323643081,
          0.26699051788428463,
          0.10651570835837199,
          0.47149437820267437,
          0.4723558429116048,
          0.8924910812604379,
          0.6033388501809807,
          0.4182015649088362,
          0.770232704093313,
          0.009509643654387667,
          0.19572361958541018,
          0.9554512516562105,
          0.6532818924769286,
          0.5036202794270261,
          0.16213807970495941,
          0.3259476854783766,
          0.4767630067990336,
          0.19238066856053038,
          0.5094150020031566,
          0.15289906315505475,
          0.25973946838954154,
          0.8479357729311677,
          0.7315736915507024,
          0.8759466725937207,
          0.0039892864183248555,
          0.9223470930587958,
          0.6197722470563477,
          0.8915203806250959,
          0.49874906370424277,
          0.8225743297774892,
          0.8321877277647997,
          0.9337619528161556,
          0.566430332989835,
          0.08749478659048193,
          0.7062816404886239,
          0.10971798726716797,
          0.8090217481133684,
          0.9348440936553413,
          0.5470523235663101,
          0.9929227017449651,
          0.3055033289453378,
          0.8233020655085458,
          0.6399880075867787,
          0.4259085634802027,
          0.2271003082781351,
          0.9603863275665787,
          0.5754718198360809,
          0.6855922475545655,
          0.8000215864503785,
          0.8882799595071866,
          0.3241319292623662,
          0.02510558337714941,
          0.06417188996909506,
          0.04396342402257025,
          0.09297676877375738,
          0.8371524654524803,
          0.6923717442984694,
          0.017999027479590257,
          0.6084020829648865,
          0.8653194757514951,
          0.892365537710933,
          0.9669928639688513,
          0.9172442534485912,
          0.7037940251904705,
          0.535592906715179,
          0.5143379520921977,
          0.03561205339677431,
          0.841369886530009,
          0.724365948331164,
          0.4113079899678703,
          0.9664246333130304,
          0.9775693874432042,
          0.2442457321332865,
          0.10445602074912241,
          0.04761806409626401,
          0.520870656725141,
          0.9114110263365339,
          0.9649354330695963,
          0.5508033886063982,
          0.9174235511977848,
          0.7837412414053477,
          0.36246755694057575,
          0.1328875015634834,
          0.6268064453069518
         ],
         "y": [
          0.42266747208389555,
          0.4025529479209352,
          0.39329654633743705,
          0.7089745237385758,
          0.8860223422354788,
          0.39529151946139907,
          0.8858426705003635,
          0.7331624810794318,
          0.7988126303942001,
          0.07056472330669372,
          0.690489663051068,
          0.7550914443538574,
          0.2346450175788274,
          0.3472108096739044,
          0.6940324907465701,
          0.9854109807099428,
          0.17432375474191653,
          0.6323086937207173,
          0.018811432365633207,
          0.34363817749418213,
          0.16907863810594215,
          0.1880173195378385,
          0.2838855731082722,
          0.58633569166344,
          0.7313784980764263,
          0.4217352907134324,
          0.0821310918890209,
          0.5802391456930355,
          0.3227803268815147,
          0.1374991881569092,
          0.2864621476593546,
          0.19149129939914444,
          0.9832226435073113,
          0.6364963320943695,
          0.27947567276258256,
          0.26949286081671076,
          0.9805085759405282,
          0.6999272814650266,
          0.591582308601422,
          0.8607311892983199,
          0.25907295320215706,
          0.10024379132139893,
          0.5819390306343086,
          0.5522721660384126,
          0.22890535806939616,
          0.5545316245108332,
          0.6440610954172484,
          0.1114944589432354,
          0.7479585083642296,
          0.3874151625265263,
          0.9761135772858062,
          0.7332172159647825,
          0.3422539745509602,
          0.6429353253166763,
          0.8821621570152173,
          0.4884007673373636,
          0.6959144740845423,
          0.18689551402856497,
          0.20447107279468102,
          0.1612271442359685,
          0.49526183884171393,
          0.902412854780535,
          0.039160470695294824,
          0.023922135921567778,
          0.4623623853095533,
          0.5671486755300885,
          0.79530536593901,
          0.23776063858335006,
          0.7334239134015752,
          0.8329837817282485,
          0.21663846070326986,
          0.48422265908275763,
          0.7183641746039793,
          0.7886167134052354,
          0.1595354492877974,
          0.3716498483596541,
          0.9311235868724613,
          0.6447795579762172,
          0.30540876045655563,
          0.02459361591469833,
          0.8829687393024542,
          0.4566429789993859,
          0.16355927849690421,
          0.6187702383650091,
          0.8931607555718876,
          0.711878986423076,
          0.43774619353263144,
          0.49253425211216895,
          0.9330458248294381,
          0.8519322649822875,
          0.75431544317232,
          0.24172360392386216,
          0.5482403192688711,
          0.6137944497061548,
          0.8364759617290806,
          0.45066006104456136,
          0.24196271044178141,
          0.7692594805027758,
          0.8516824597359812,
          0.3178770681491705
         ]
        }
       ],
       "layout": {
        "legend": {
         "bgcolor": "#F5F6F9",
         "font": {
          "color": "#4D5663"
         }
        },
        "paper_bgcolor": "#F5F6F9",
        "plot_bgcolor": "#F5F6F9",
        "template": {
         "data": {
          "bar": [
           {
            "error_x": {
             "color": "#2a3f5f"
            },
            "error_y": {
             "color": "#2a3f5f"
            },
            "marker": {
             "line": {
              "color": "#E5ECF6",
              "width": 0.5
             },
             "pattern": {
              "fillmode": "overlay",
              "size": 10,
              "solidity": 0.2
             }
            },
            "type": "bar"
           }
          ],
          "barpolar": [
           {
            "marker": {
             "line": {
              "color": "#E5ECF6",
              "width": 0.5
             },
             "pattern": {
              "fillmode": "overlay",
              "size": 10,
              "solidity": 0.2
             }
            },
            "type": "barpolar"
           }
          ],
          "carpet": [
           {
            "aaxis": {
             "endlinecolor": "#2a3f5f",
             "gridcolor": "white",
             "linecolor": "white",
             "minorgridcolor": "white",
             "startlinecolor": "#2a3f5f"
            },
            "baxis": {
             "endlinecolor": "#2a3f5f",
             "gridcolor": "white",
             "linecolor": "white",
             "minorgridcolor": "white",
             "startlinecolor": "#2a3f5f"
            },
            "type": "carpet"
           }
          ],
          "choropleth": [
           {
            "colorbar": {
             "outlinewidth": 0,
             "ticks": ""
            },
            "type": "choropleth"
           }
          ],
          "contour": [
           {
            "colorbar": {
             "outlinewidth": 0,
             "ticks": ""
            },
            "colorscale": [
             [
              0,
              "#0d0887"
             ],
             [
              0.1111111111111111,
              "#46039f"
             ],
             [
              0.2222222222222222,
              "#7201a8"
             ],
             [
              0.3333333333333333,
              "#9c179e"
             ],
             [
              0.4444444444444444,
              "#bd3786"
             ],
             [
              0.5555555555555556,
              "#d8576b"
             ],
             [
              0.6666666666666666,
              "#ed7953"
             ],
             [
              0.7777777777777778,
              "#fb9f3a"
             ],
             [
              0.8888888888888888,
              "#fdca26"
             ],
             [
              1,
              "#f0f921"
             ]
            ],
            "type": "contour"
           }
          ],
          "contourcarpet": [
           {
            "colorbar": {
             "outlinewidth": 0,
             "ticks": ""
            },
            "type": "contourcarpet"
           }
          ],
          "heatmap": [
           {
            "colorbar": {
             "outlinewidth": 0,
             "ticks": ""
            },
            "colorscale": [
             [
              0,
              "#0d0887"
             ],
             [
              0.1111111111111111,
              "#46039f"
             ],
             [
              0.2222222222222222,
              "#7201a8"
             ],
             [
              0.3333333333333333,
              "#9c179e"
             ],
             [
              0.4444444444444444,
              "#bd3786"
             ],
             [
              0.5555555555555556,
              "#d8576b"
             ],
             [
              0.6666666666666666,
              "#ed7953"
             ],
             [
              0.7777777777777778,
              "#fb9f3a"
             ],
             [
              0.8888888888888888,
              "#fdca26"
             ],
             [
              1,
              "#f0f921"
             ]
            ],
            "type": "heatmap"
           }
          ],
          "heatmapgl": [
           {
            "colorbar": {
             "outlinewidth": 0,
             "ticks": ""
            },
            "colorscale": [
             [
              0,
              "#0d0887"
             ],
             [
              0.1111111111111111,
              "#46039f"
             ],
             [
              0.2222222222222222,
              "#7201a8"
             ],
             [
              0.3333333333333333,
              "#9c179e"
             ],
             [
              0.4444444444444444,
              "#bd3786"
             ],
             [
              0.5555555555555556,
              "#d8576b"
             ],
             [
              0.6666666666666666,
              "#ed7953"
             ],
             [
              0.7777777777777778,
              "#fb9f3a"
             ],
             [
              0.8888888888888888,
              "#fdca26"
             ],
             [
              1,
              "#f0f921"
             ]
            ],
            "type": "heatmapgl"
           }
          ],
          "histogram": [
           {
            "marker": {
             "pattern": {
              "fillmode": "overlay",
              "size": 10,
              "solidity": 0.2
             }
            },
            "type": "histogram"
           }
          ],
          "histogram2d": [
           {
            "colorbar": {
             "outlinewidth": 0,
             "ticks": ""
            },
            "colorscale": [
             [
              0,
              "#0d0887"
             ],
             [
              0.1111111111111111,
              "#46039f"
             ],
             [
              0.2222222222222222,
              "#7201a8"
             ],
             [
              0.3333333333333333,
              "#9c179e"
             ],
             [
              0.4444444444444444,
              "#bd3786"
             ],
             [
              0.5555555555555556,
              "#d8576b"
             ],
             [
              0.6666666666666666,
              "#ed7953"
             ],
             [
              0.7777777777777778,
              "#fb9f3a"
             ],
             [
              0.8888888888888888,
              "#fdca26"
             ],
             [
              1,
              "#f0f921"
             ]
            ],
            "type": "histogram2d"
           }
          ],
          "histogram2dcontour": [
           {
            "colorbar": {
             "outlinewidth": 0,
             "ticks": ""
            },
            "colorscale": [
             [
              0,
              "#0d0887"
             ],
             [
              0.1111111111111111,
              "#46039f"
             ],
             [
              0.2222222222222222,
              "#7201a8"
             ],
             [
              0.3333333333333333,
              "#9c179e"
             ],
             [
              0.4444444444444444,
              "#bd3786"
             ],
             [
              0.5555555555555556,
              "#d8576b"
             ],
             [
              0.6666666666666666,
              "#ed7953"
             ],
             [
              0.7777777777777778,
              "#fb9f3a"
             ],
             [
              0.8888888888888888,
              "#fdca26"
             ],
             [
              1,
              "#f0f921"
             ]
            ],
            "type": "histogram2dcontour"
           }
          ],
          "mesh3d": [
           {
            "colorbar": {
             "outlinewidth": 0,
             "ticks": ""
            },
            "type": "mesh3d"
           }
          ],
          "parcoords": [
           {
            "line": {
             "colorbar": {
              "outlinewidth": 0,
              "ticks": ""
             }
            },
            "type": "parcoords"
           }
          ],
          "pie": [
           {
            "automargin": true,
            "type": "pie"
           }
          ],
          "scatter": [
           {
            "fillpattern": {
             "fillmode": "overlay",
             "size": 10,
             "solidity": 0.2
            },
            "type": "scatter"
           }
          ],
          "scatter3d": [
           {
            "line": {
             "colorbar": {
              "outlinewidth": 0,
              "ticks": ""
             }
            },
            "marker": {
             "colorbar": {
              "outlinewidth": 0,
              "ticks": ""
             }
            },
            "type": "scatter3d"
           }
          ],
          "scattercarpet": [
           {
            "marker": {
             "colorbar": {
              "outlinewidth": 0,
              "ticks": ""
             }
            },
            "type": "scattercarpet"
           }
          ],
          "scattergeo": [
           {
            "marker": {
             "colorbar": {
              "outlinewidth": 0,
              "ticks": ""
             }
            },
            "type": "scattergeo"
           }
          ],
          "scattergl": [
           {
            "marker": {
             "colorbar": {
              "outlinewidth": 0,
              "ticks": ""
             }
            },
            "type": "scattergl"
           }
          ],
          "scattermapbox": [
           {
            "marker": {
             "colorbar": {
              "outlinewidth": 0,
              "ticks": ""
             }
            },
            "type": "scattermapbox"
           }
          ],
          "scatterpolar": [
           {
            "marker": {
             "colorbar": {
              "outlinewidth": 0,
              "ticks": ""
             }
            },
            "type": "scatterpolar"
           }
          ],
          "scatterpolargl": [
           {
            "marker": {
             "colorbar": {
              "outlinewidth": 0,
              "ticks": ""
             }
            },
            "type": "scatterpolargl"
           }
          ],
          "scatterternary": [
           {
            "marker": {
             "colorbar": {
              "outlinewidth": 0,
              "ticks": ""
             }
            },
            "type": "scatterternary"
           }
          ],
          "surface": [
           {
            "colorbar": {
             "outlinewidth": 0,
             "ticks": ""
            },
            "colorscale": [
             [
              0,
              "#0d0887"
             ],
             [
              0.1111111111111111,
              "#46039f"
             ],
             [
              0.2222222222222222,
              "#7201a8"
             ],
             [
              0.3333333333333333,
              "#9c179e"
             ],
             [
              0.4444444444444444,
              "#bd3786"
             ],
             [
              0.5555555555555556,
              "#d8576b"
             ],
             [
              0.6666666666666666,
              "#ed7953"
             ],
             [
              0.7777777777777778,
              "#fb9f3a"
             ],
             [
              0.8888888888888888,
              "#fdca26"
             ],
             [
              1,
              "#f0f921"
             ]
            ],
            "type": "surface"
           }
          ],
          "table": [
           {
            "cells": {
             "fill": {
              "color": "#EBF0F8"
             },
             "line": {
              "color": "white"
             }
            },
            "header": {
             "fill": {
              "color": "#C8D4E3"
             },
             "line": {
              "color": "white"
             }
            },
            "type": "table"
           }
          ]
         },
         "layout": {
          "annotationdefaults": {
           "arrowcolor": "#2a3f5f",
           "arrowhead": 0,
           "arrowwidth": 1
          },
          "autotypenumbers": "strict",
          "coloraxis": {
           "colorbar": {
            "outlinewidth": 0,
            "ticks": ""
           }
          },
          "colorscale": {
           "diverging": [
            [
             0,
             "#8e0152"
            ],
            [
             0.1,
             "#c51b7d"
            ],
            [
             0.2,
             "#de77ae"
            ],
            [
             0.3,
             "#f1b6da"
            ],
            [
             0.4,
             "#fde0ef"
            ],
            [
             0.5,
             "#f7f7f7"
            ],
            [
             0.6,
             "#e6f5d0"
            ],
            [
             0.7,
             "#b8e186"
            ],
            [
             0.8,
             "#7fbc41"
            ],
            [
             0.9,
             "#4d9221"
            ],
            [
             1,
             "#276419"
            ]
           ],
           "sequential": [
            [
             0,
             "#0d0887"
            ],
            [
             0.1111111111111111,
             "#46039f"
            ],
            [
             0.2222222222222222,
             "#7201a8"
            ],
            [
             0.3333333333333333,
             "#9c179e"
            ],
            [
             0.4444444444444444,
             "#bd3786"
            ],
            [
             0.5555555555555556,
             "#d8576b"
            ],
            [
             0.6666666666666666,
             "#ed7953"
            ],
            [
             0.7777777777777778,
             "#fb9f3a"
            ],
            [
             0.8888888888888888,
             "#fdca26"
            ],
            [
             1,
             "#f0f921"
            ]
           ],
           "sequentialminus": [
            [
             0,
             "#0d0887"
            ],
            [
             0.1111111111111111,
             "#46039f"
            ],
            [
             0.2222222222222222,
             "#7201a8"
            ],
            [
             0.3333333333333333,
             "#9c179e"
            ],
            [
             0.4444444444444444,
             "#bd3786"
            ],
            [
             0.5555555555555556,
             "#d8576b"
            ],
            [
             0.6666666666666666,
             "#ed7953"
            ],
            [
             0.7777777777777778,
             "#fb9f3a"
            ],
            [
             0.8888888888888888,
             "#fdca26"
            ],
            [
             1,
             "#f0f921"
            ]
           ]
          },
          "colorway": [
           "#636efa",
           "#EF553B",
           "#00cc96",
           "#ab63fa",
           "#FFA15A",
           "#19d3f3",
           "#FF6692",
           "#B6E880",
           "#FF97FF",
           "#FECB52"
          ],
          "font": {
           "color": "#2a3f5f"
          },
          "geo": {
           "bgcolor": "white",
           "lakecolor": "white",
           "landcolor": "#E5ECF6",
           "showlakes": true,
           "showland": true,
           "subunitcolor": "white"
          },
          "hoverlabel": {
           "align": "left"
          },
          "hovermode": "closest",
          "mapbox": {
           "style": "light"
          },
          "paper_bgcolor": "white",
          "plot_bgcolor": "#E5ECF6",
          "polar": {
           "angularaxis": {
            "gridcolor": "white",
            "linecolor": "white",
            "ticks": ""
           },
           "bgcolor": "#E5ECF6",
           "radialaxis": {
            "gridcolor": "white",
            "linecolor": "white",
            "ticks": ""
           }
          },
          "scene": {
           "xaxis": {
            "backgroundcolor": "#E5ECF6",
            "gridcolor": "white",
            "gridwidth": 2,
            "linecolor": "white",
            "showbackground": true,
            "ticks": "",
            "zerolinecolor": "white"
           },
           "yaxis": {
            "backgroundcolor": "#E5ECF6",
            "gridcolor": "white",
            "gridwidth": 2,
            "linecolor": "white",
            "showbackground": true,
            "ticks": "",
            "zerolinecolor": "white"
           },
           "zaxis": {
            "backgroundcolor": "#E5ECF6",
            "gridcolor": "white",
            "gridwidth": 2,
            "linecolor": "white",
            "showbackground": true,
            "ticks": "",
            "zerolinecolor": "white"
           }
          },
          "shapedefaults": {
           "line": {
            "color": "#2a3f5f"
           }
          },
          "ternary": {
           "aaxis": {
            "gridcolor": "white",
            "linecolor": "white",
            "ticks": ""
           },
           "baxis": {
            "gridcolor": "white",
            "linecolor": "white",
            "ticks": ""
           },
           "bgcolor": "#E5ECF6",
           "caxis": {
            "gridcolor": "white",
            "linecolor": "white",
            "ticks": ""
           }
          },
          "title": {
           "x": 0.05
          },
          "xaxis": {
           "automargin": true,
           "gridcolor": "white",
           "linecolor": "white",
           "ticks": "",
           "title": {
            "standoff": 15
           },
           "zerolinecolor": "white",
           "zerolinewidth": 2
          },
          "yaxis": {
           "automargin": true,
           "gridcolor": "white",
           "linecolor": "white",
           "ticks": "",
           "title": {
            "standoff": 15
           },
           "zerolinecolor": "white",
           "zerolinewidth": 2
          }
         }
        },
        "title": {
         "font": {
          "color": "#4D5663"
         }
        },
        "xaxis": {
         "gridcolor": "#E1E5ED",
         "showgrid": true,
         "tickfont": {
          "color": "#4D5663"
         },
         "title": {
          "font": {
           "color": "#4D5663"
          },
          "text": ""
         },
         "zerolinecolor": "#E1E5ED"
        },
        "yaxis": {
         "gridcolor": "#E1E5ED",
         "showgrid": true,
         "tickfont": {
          "color": "#4D5663"
         },
         "title": {
          "font": {
           "color": "#4D5663"
          },
          "text": ""
         },
         "zerolinecolor": "#E1E5ED"
        }
       }
      },
      "text/html": [
       "<div>                            <div id=\"b44d1316-bd7c-4cb1-b6c4-26756fb228f3\" class=\"plotly-graph-div\" style=\"height:525px; width:100%;\"></div>            <script type=\"text/javascript\">                require([\"plotly\"], function(Plotly) {                    window.PLOTLYENV=window.PLOTLYENV || {};\n",
       "                    window.PLOTLYENV.BASE_URL='https://plot.ly';                                    if (document.getElementById(\"b44d1316-bd7c-4cb1-b6c4-26756fb228f3\")) {                    Plotly.newPlot(                        \"b44d1316-bd7c-4cb1-b6c4-26756fb228f3\",                        [{\"marker\":{\"color\":[\"rgb(255, 153, 51)\",\"rgb(55, 128, 191)\",\"rgb(50, 171, 96)\",\"rgb(128, 0, 128)\",\"rgb(219, 64, 82)\",\"rgb(0, 128, 128)\",\"rgb(255, 255, 51)\",\"rgb(128, 128, 0)\",\"rgb(251, 128, 114)\",\"rgb(128, 177, 211)\"],\"line\":{\"width\":1.3},\"size\":[47,107,35,31,26,90,70,105,13,104,109,61,86,36,103,79,27,96,35,13,111,45,95,25,21,12,103,37,98,85,53,89,21,74,47,69,64,13,110,93,87,17,13,90,49,67,26,27,16,96,46,70,31,53,20,56,36,98,17,108,102,67,56,40,109,94,112,42,55,111,81,65,49,111,83,82,15,29,56,58,92,47,48,55,46,54,76,14,22,27,90,46,108,98,87,50,51,27,42,81],\"symbol\":\"circle\"},\"mode\":\"markers\",\"text\":\"\",\"x\":[0.6851931426351257,0.011776897866929925,0.6711687969096942,0.7602761239010867,0.3340338832786466,0.7816642209869414,0.5146777368811686,0.27757936324960786,0.45619519359886995,0.7826118703504528,0.1793926410604133,0.3733918907281869,0.40085382837520656,0.7618058206808223,0.9548275340972647,0.9359040309881265,0.9292539323643081,0.26699051788428463,0.10651570835837199,0.47149437820267437,0.4723558429116048,0.8924910812604379,0.6033388501809807,0.4182015649088362,0.770232704093313,0.009509643654387667,0.19572361958541018,0.9554512516562105,0.6532818924769286,0.5036202794270261,0.16213807970495941,0.3259476854783766,0.4767630067990336,0.19238066856053038,0.5094150020031566,0.15289906315505475,0.25973946838954154,0.8479357729311677,0.7315736915507024,0.8759466725937207,0.0039892864183248555,0.9223470930587958,0.6197722470563477,0.8915203806250959,0.49874906370424277,0.8225743297774892,0.8321877277647997,0.9337619528161556,0.566430332989835,0.08749478659048193,0.7062816404886239,0.10971798726716797,0.8090217481133684,0.9348440936553413,0.5470523235663101,0.9929227017449651,0.3055033289453378,0.8233020655085458,0.6399880075867787,0.4259085634802027,0.2271003082781351,0.9603863275665787,0.5754718198360809,0.6855922475545655,0.8000215864503785,0.8882799595071866,0.3241319292623662,0.02510558337714941,0.06417188996909506,0.04396342402257025,0.09297676877375738,0.8371524654524803,0.6923717442984694,0.017999027479590257,0.6084020829648865,0.8653194757514951,0.892365537710933,0.9669928639688513,0.9172442534485912,0.7037940251904705,0.535592906715179,0.5143379520921977,0.03561205339677431,0.841369886530009,0.724365948331164,0.4113079899678703,0.9664246333130304,0.9775693874432042,0.2442457321332865,0.10445602074912241,0.04761806409626401,0.520870656725141,0.9114110263365339,0.9649354330695963,0.5508033886063982,0.9174235511977848,0.7837412414053477,0.36246755694057575,0.1328875015634834,0.6268064453069518],\"y\":[0.42266747208389555,0.4025529479209352,0.39329654633743705,0.7089745237385758,0.8860223422354788,0.39529151946139907,0.8858426705003635,0.7331624810794318,0.7988126303942001,0.07056472330669372,0.690489663051068,0.7550914443538574,0.2346450175788274,0.3472108096739044,0.6940324907465701,0.9854109807099428,0.17432375474191653,0.6323086937207173,0.018811432365633207,0.34363817749418213,0.16907863810594215,0.1880173195378385,0.2838855731082722,0.58633569166344,0.7313784980764263,0.4217352907134324,0.0821310918890209,0.5802391456930355,0.3227803268815147,0.1374991881569092,0.2864621476593546,0.19149129939914444,0.9832226435073113,0.6364963320943695,0.27947567276258256,0.26949286081671076,0.9805085759405282,0.6999272814650266,0.591582308601422,0.8607311892983199,0.25907295320215706,0.10024379132139893,0.5819390306343086,0.5522721660384126,0.22890535806939616,0.5545316245108332,0.6440610954172484,0.1114944589432354,0.7479585083642296,0.3874151625265263,0.9761135772858062,0.7332172159647825,0.3422539745509602,0.6429353253166763,0.8821621570152173,0.4884007673373636,0.6959144740845423,0.18689551402856497,0.20447107279468102,0.1612271442359685,0.49526183884171393,0.902412854780535,0.039160470695294824,0.023922135921567778,0.4623623853095533,0.5671486755300885,0.79530536593901,0.23776063858335006,0.7334239134015752,0.8329837817282485,0.21663846070326986,0.48422265908275763,0.7183641746039793,0.7886167134052354,0.1595354492877974,0.3716498483596541,0.9311235868724613,0.6447795579762172,0.30540876045655563,0.02459361591469833,0.8829687393024542,0.4566429789993859,0.16355927849690421,0.6187702383650091,0.8931607555718876,0.711878986423076,0.43774619353263144,0.49253425211216895,0.9330458248294381,0.8519322649822875,0.75431544317232,0.24172360392386216,0.5482403192688711,0.6137944497061548,0.8364759617290806,0.45066006104456136,0.24196271044178141,0.7692594805027758,0.8516824597359812,0.3178770681491705],\"type\":\"scatter\"}],                        {\"legend\":{\"bgcolor\":\"#F5F6F9\",\"font\":{\"color\":\"#4D5663\"}},\"paper_bgcolor\":\"#F5F6F9\",\"plot_bgcolor\":\"#F5F6F9\",\"template\":{\"data\":{\"barpolar\":[{\"marker\":{\"line\":{\"color\":\"#E5ECF6\",\"width\":0.5},\"pattern\":{\"fillmode\":\"overlay\",\"size\":10,\"solidity\":0.2}},\"type\":\"barpolar\"}],\"bar\":[{\"error_x\":{\"color\":\"#2a3f5f\"},\"error_y\":{\"color\":\"#2a3f5f\"},\"marker\":{\"line\":{\"color\":\"#E5ECF6\",\"width\":0.5},\"pattern\":{\"fillmode\":\"overlay\",\"size\":10,\"solidity\":0.2}},\"type\":\"bar\"}],\"carpet\":[{\"aaxis\":{\"endlinecolor\":\"#2a3f5f\",\"gridcolor\":\"white\",\"linecolor\":\"white\",\"minorgridcolor\":\"white\",\"startlinecolor\":\"#2a3f5f\"},\"baxis\":{\"endlinecolor\":\"#2a3f5f\",\"gridcolor\":\"white\",\"linecolor\":\"white\",\"minorgridcolor\":\"white\",\"startlinecolor\":\"#2a3f5f\"},\"type\":\"carpet\"}],\"choropleth\":[{\"colorbar\":{\"outlinewidth\":0,\"ticks\":\"\"},\"type\":\"choropleth\"}],\"contourcarpet\":[{\"colorbar\":{\"outlinewidth\":0,\"ticks\":\"\"},\"type\":\"contourcarpet\"}],\"contour\":[{\"colorbar\":{\"outlinewidth\":0,\"ticks\":\"\"},\"colorscale\":[[0.0,\"#0d0887\"],[0.1111111111111111,\"#46039f\"],[0.2222222222222222,\"#7201a8\"],[0.3333333333333333,\"#9c179e\"],[0.4444444444444444,\"#bd3786\"],[0.5555555555555556,\"#d8576b\"],[0.6666666666666666,\"#ed7953\"],[0.7777777777777778,\"#fb9f3a\"],[0.8888888888888888,\"#fdca26\"],[1.0,\"#f0f921\"]],\"type\":\"contour\"}],\"heatmapgl\":[{\"colorbar\":{\"outlinewidth\":0,\"ticks\":\"\"},\"colorscale\":[[0.0,\"#0d0887\"],[0.1111111111111111,\"#46039f\"],[0.2222222222222222,\"#7201a8\"],[0.3333333333333333,\"#9c179e\"],[0.4444444444444444,\"#bd3786\"],[0.5555555555555556,\"#d8576b\"],[0.6666666666666666,\"#ed7953\"],[0.7777777777777778,\"#fb9f3a\"],[0.8888888888888888,\"#fdca26\"],[1.0,\"#f0f921\"]],\"type\":\"heatmapgl\"}],\"heatmap\":[{\"colorbar\":{\"outlinewidth\":0,\"ticks\":\"\"},\"colorscale\":[[0.0,\"#0d0887\"],[0.1111111111111111,\"#46039f\"],[0.2222222222222222,\"#7201a8\"],[0.3333333333333333,\"#9c179e\"],[0.4444444444444444,\"#bd3786\"],[0.5555555555555556,\"#d8576b\"],[0.6666666666666666,\"#ed7953\"],[0.7777777777777778,\"#fb9f3a\"],[0.8888888888888888,\"#fdca26\"],[1.0,\"#f0f921\"]],\"type\":\"heatmap\"}],\"histogram2dcontour\":[{\"colorbar\":{\"outlinewidth\":0,\"ticks\":\"\"},\"colorscale\":[[0.0,\"#0d0887\"],[0.1111111111111111,\"#46039f\"],[0.2222222222222222,\"#7201a8\"],[0.3333333333333333,\"#9c179e\"],[0.4444444444444444,\"#bd3786\"],[0.5555555555555556,\"#d8576b\"],[0.6666666666666666,\"#ed7953\"],[0.7777777777777778,\"#fb9f3a\"],[0.8888888888888888,\"#fdca26\"],[1.0,\"#f0f921\"]],\"type\":\"histogram2dcontour\"}],\"histogram2d\":[{\"colorbar\":{\"outlinewidth\":0,\"ticks\":\"\"},\"colorscale\":[[0.0,\"#0d0887\"],[0.1111111111111111,\"#46039f\"],[0.2222222222222222,\"#7201a8\"],[0.3333333333333333,\"#9c179e\"],[0.4444444444444444,\"#bd3786\"],[0.5555555555555556,\"#d8576b\"],[0.6666666666666666,\"#ed7953\"],[0.7777777777777778,\"#fb9f3a\"],[0.8888888888888888,\"#fdca26\"],[1.0,\"#f0f921\"]],\"type\":\"histogram2d\"}],\"histogram\":[{\"marker\":{\"pattern\":{\"fillmode\":\"overlay\",\"size\":10,\"solidity\":0.2}},\"type\":\"histogram\"}],\"mesh3d\":[{\"colorbar\":{\"outlinewidth\":0,\"ticks\":\"\"},\"type\":\"mesh3d\"}],\"parcoords\":[{\"line\":{\"colorbar\":{\"outlinewidth\":0,\"ticks\":\"\"}},\"type\":\"parcoords\"}],\"pie\":[{\"automargin\":true,\"type\":\"pie\"}],\"scatter3d\":[{\"line\":{\"colorbar\":{\"outlinewidth\":0,\"ticks\":\"\"}},\"marker\":{\"colorbar\":{\"outlinewidth\":0,\"ticks\":\"\"}},\"type\":\"scatter3d\"}],\"scattercarpet\":[{\"marker\":{\"colorbar\":{\"outlinewidth\":0,\"ticks\":\"\"}},\"type\":\"scattercarpet\"}],\"scattergeo\":[{\"marker\":{\"colorbar\":{\"outlinewidth\":0,\"ticks\":\"\"}},\"type\":\"scattergeo\"}],\"scattergl\":[{\"marker\":{\"colorbar\":{\"outlinewidth\":0,\"ticks\":\"\"}},\"type\":\"scattergl\"}],\"scattermapbox\":[{\"marker\":{\"colorbar\":{\"outlinewidth\":0,\"ticks\":\"\"}},\"type\":\"scattermapbox\"}],\"scatterpolargl\":[{\"marker\":{\"colorbar\":{\"outlinewidth\":0,\"ticks\":\"\"}},\"type\":\"scatterpolargl\"}],\"scatterpolar\":[{\"marker\":{\"colorbar\":{\"outlinewidth\":0,\"ticks\":\"\"}},\"type\":\"scatterpolar\"}],\"scatter\":[{\"fillpattern\":{\"fillmode\":\"overlay\",\"size\":10,\"solidity\":0.2},\"type\":\"scatter\"}],\"scatterternary\":[{\"marker\":{\"colorbar\":{\"outlinewidth\":0,\"ticks\":\"\"}},\"type\":\"scatterternary\"}],\"surface\":[{\"colorbar\":{\"outlinewidth\":0,\"ticks\":\"\"},\"colorscale\":[[0.0,\"#0d0887\"],[0.1111111111111111,\"#46039f\"],[0.2222222222222222,\"#7201a8\"],[0.3333333333333333,\"#9c179e\"],[0.4444444444444444,\"#bd3786\"],[0.5555555555555556,\"#d8576b\"],[0.6666666666666666,\"#ed7953\"],[0.7777777777777778,\"#fb9f3a\"],[0.8888888888888888,\"#fdca26\"],[1.0,\"#f0f921\"]],\"type\":\"surface\"}],\"table\":[{\"cells\":{\"fill\":{\"color\":\"#EBF0F8\"},\"line\":{\"color\":\"white\"}},\"header\":{\"fill\":{\"color\":\"#C8D4E3\"},\"line\":{\"color\":\"white\"}},\"type\":\"table\"}]},\"layout\":{\"annotationdefaults\":{\"arrowcolor\":\"#2a3f5f\",\"arrowhead\":0,\"arrowwidth\":1},\"autotypenumbers\":\"strict\",\"coloraxis\":{\"colorbar\":{\"outlinewidth\":0,\"ticks\":\"\"}},\"colorscale\":{\"diverging\":[[0,\"#8e0152\"],[0.1,\"#c51b7d\"],[0.2,\"#de77ae\"],[0.3,\"#f1b6da\"],[0.4,\"#fde0ef\"],[0.5,\"#f7f7f7\"],[0.6,\"#e6f5d0\"],[0.7,\"#b8e186\"],[0.8,\"#7fbc41\"],[0.9,\"#4d9221\"],[1,\"#276419\"]],\"sequential\":[[0.0,\"#0d0887\"],[0.1111111111111111,\"#46039f\"],[0.2222222222222222,\"#7201a8\"],[0.3333333333333333,\"#9c179e\"],[0.4444444444444444,\"#bd3786\"],[0.5555555555555556,\"#d8576b\"],[0.6666666666666666,\"#ed7953\"],[0.7777777777777778,\"#fb9f3a\"],[0.8888888888888888,\"#fdca26\"],[1.0,\"#f0f921\"]],\"sequentialminus\":[[0.0,\"#0d0887\"],[0.1111111111111111,\"#46039f\"],[0.2222222222222222,\"#7201a8\"],[0.3333333333333333,\"#9c179e\"],[0.4444444444444444,\"#bd3786\"],[0.5555555555555556,\"#d8576b\"],[0.6666666666666666,\"#ed7953\"],[0.7777777777777778,\"#fb9f3a\"],[0.8888888888888888,\"#fdca26\"],[1.0,\"#f0f921\"]]},\"colorway\":[\"#636efa\",\"#EF553B\",\"#00cc96\",\"#ab63fa\",\"#FFA15A\",\"#19d3f3\",\"#FF6692\",\"#B6E880\",\"#FF97FF\",\"#FECB52\"],\"font\":{\"color\":\"#2a3f5f\"},\"geo\":{\"bgcolor\":\"white\",\"lakecolor\":\"white\",\"landcolor\":\"#E5ECF6\",\"showlakes\":true,\"showland\":true,\"subunitcolor\":\"white\"},\"hoverlabel\":{\"align\":\"left\"},\"hovermode\":\"closest\",\"mapbox\":{\"style\":\"light\"},\"paper_bgcolor\":\"white\",\"plot_bgcolor\":\"#E5ECF6\",\"polar\":{\"angularaxis\":{\"gridcolor\":\"white\",\"linecolor\":\"white\",\"ticks\":\"\"},\"bgcolor\":\"#E5ECF6\",\"radialaxis\":{\"gridcolor\":\"white\",\"linecolor\":\"white\",\"ticks\":\"\"}},\"scene\":{\"xaxis\":{\"backgroundcolor\":\"#E5ECF6\",\"gridcolor\":\"white\",\"gridwidth\":2,\"linecolor\":\"white\",\"showbackground\":true,\"ticks\":\"\",\"zerolinecolor\":\"white\"},\"yaxis\":{\"backgroundcolor\":\"#E5ECF6\",\"gridcolor\":\"white\",\"gridwidth\":2,\"linecolor\":\"white\",\"showbackground\":true,\"ticks\":\"\",\"zerolinecolor\":\"white\"},\"zaxis\":{\"backgroundcolor\":\"#E5ECF6\",\"gridcolor\":\"white\",\"gridwidth\":2,\"linecolor\":\"white\",\"showbackground\":true,\"ticks\":\"\",\"zerolinecolor\":\"white\"}},\"shapedefaults\":{\"line\":{\"color\":\"#2a3f5f\"}},\"ternary\":{\"aaxis\":{\"gridcolor\":\"white\",\"linecolor\":\"white\",\"ticks\":\"\"},\"baxis\":{\"gridcolor\":\"white\",\"linecolor\":\"white\",\"ticks\":\"\"},\"bgcolor\":\"#E5ECF6\",\"caxis\":{\"gridcolor\":\"white\",\"linecolor\":\"white\",\"ticks\":\"\"}},\"title\":{\"x\":0.05},\"xaxis\":{\"automargin\":true,\"gridcolor\":\"white\",\"linecolor\":\"white\",\"ticks\":\"\",\"title\":{\"standoff\":15},\"zerolinecolor\":\"white\",\"zerolinewidth\":2},\"yaxis\":{\"automargin\":true,\"gridcolor\":\"white\",\"linecolor\":\"white\",\"ticks\":\"\",\"title\":{\"standoff\":15},\"zerolinecolor\":\"white\",\"zerolinewidth\":2}}},\"title\":{\"font\":{\"color\":\"#4D5663\"}},\"xaxis\":{\"gridcolor\":\"#E1E5ED\",\"showgrid\":true,\"tickfont\":{\"color\":\"#4D5663\"},\"title\":{\"font\":{\"color\":\"#4D5663\"},\"text\":\"\"},\"zerolinecolor\":\"#E1E5ED\"},\"yaxis\":{\"gridcolor\":\"#E1E5ED\",\"showgrid\":true,\"tickfont\":{\"color\":\"#4D5663\"},\"title\":{\"font\":{\"color\":\"#4D5663\"},\"text\":\"\"},\"zerolinecolor\":\"#E1E5ED\"}},                        {\"showLink\": true, \"linkText\": \"Export to plot.ly\", \"plotlyServerURL\": \"https://plot.ly\", \"responsive\": true}                    ).then(function(){\n",
       "                            \n",
       "var gd = document.getElementById('b44d1316-bd7c-4cb1-b6c4-26756fb228f3');\n",
       "var x = new MutationObserver(function (mutations, observer) {{\n",
       "        var display = window.getComputedStyle(gd).display;\n",
       "        if (!display || display === 'none') {{\n",
       "            console.log([gd, 'removed!']);\n",
       "            Plotly.purge(gd);\n",
       "            observer.disconnect();\n",
       "        }}\n",
       "}});\n",
       "\n",
       "// Listen for the removal of the full notebook cells\n",
       "var notebookContainer = gd.closest('#notebook-container');\n",
       "if (notebookContainer) {{\n",
       "    x.observe(notebookContainer, {childList: true});\n",
       "}}\n",
       "\n",
       "// Listen for the clearing of the current output cell\n",
       "var outputEl = gd.closest('.output');\n",
       "if (outputEl) {{\n",
       "    x.observe(outputEl, {childList: true});\n",
       "}}\n",
       "\n",
       "                        })                };                });            </script>        </div>"
      ]
     },
     "metadata": {},
     "output_type": "display_data"
    }
   ],
   "source": [
    "df.iplot(kind='bubble',x='A',y='B',size='C')"
   ]
  },
  {
   "cell_type": "code",
   "execution_count": 22,
   "metadata": {},
   "outputs": [
    {
     "data": {
      "application/vnd.plotly.v1+json": {
       "config": {
        "linkText": "Export to plot.ly",
        "plotlyServerURL": "https://plot.ly",
        "showLink": true
       },
       "data": [
        {
         "histfunc": "count",
         "histnorm": "",
         "marker": {
          "color": "rgba(255, 153, 51, 1.0)",
          "line": {
           "color": "#4D5663",
           "width": 1.3
          }
         },
         "name": "A",
         "nbinsx": 10,
         "opacity": 0.8,
         "orientation": "v",
         "type": "histogram",
         "x": [
          0.6851931426351257,
          0.011776897866929925,
          0.6711687969096942,
          0.7602761239010867,
          0.3340338832786466,
          0.7816642209869414,
          0.5146777368811686,
          0.27757936324960786,
          0.45619519359886995,
          0.7826118703504528,
          0.1793926410604133,
          0.3733918907281869,
          0.40085382837520656,
          0.7618058206808223,
          0.9548275340972647,
          0.9359040309881265,
          0.9292539323643081,
          0.26699051788428463,
          0.10651570835837199,
          0.47149437820267437,
          0.4723558429116048,
          0.8924910812604379,
          0.6033388501809807,
          0.4182015649088362,
          0.770232704093313,
          0.009509643654387667,
          0.19572361958541018,
          0.9554512516562105,
          0.6532818924769286,
          0.5036202794270261,
          0.16213807970495941,
          0.3259476854783766,
          0.4767630067990336,
          0.19238066856053038,
          0.5094150020031566,
          0.15289906315505475,
          0.25973946838954154,
          0.8479357729311677,
          0.7315736915507024,
          0.8759466725937207,
          0.0039892864183248555,
          0.9223470930587958,
          0.6197722470563477,
          0.8915203806250959,
          0.49874906370424277,
          0.8225743297774892,
          0.8321877277647997,
          0.9337619528161556,
          0.566430332989835,
          0.08749478659048193,
          0.7062816404886239,
          0.10971798726716797,
          0.8090217481133684,
          0.9348440936553413,
          0.5470523235663101,
          0.9929227017449651,
          0.3055033289453378,
          0.8233020655085458,
          0.6399880075867787,
          0.4259085634802027,
          0.2271003082781351,
          0.9603863275665787,
          0.5754718198360809,
          0.6855922475545655,
          0.8000215864503785,
          0.8882799595071866,
          0.3241319292623662,
          0.02510558337714941,
          0.06417188996909506,
          0.04396342402257025,
          0.09297676877375738,
          0.8371524654524803,
          0.6923717442984694,
          0.017999027479590257,
          0.6084020829648865,
          0.8653194757514951,
          0.892365537710933,
          0.9669928639688513,
          0.9172442534485912,
          0.7037940251904705,
          0.535592906715179,
          0.5143379520921977,
          0.03561205339677431,
          0.841369886530009,
          0.724365948331164,
          0.4113079899678703,
          0.9664246333130304,
          0.9775693874432042,
          0.2442457321332865,
          0.10445602074912241,
          0.04761806409626401,
          0.520870656725141,
          0.9114110263365339,
          0.9649354330695963,
          0.5508033886063982,
          0.9174235511977848,
          0.7837412414053477,
          0.36246755694057575,
          0.1328875015634834,
          0.6268064453069518
         ],
         "xaxis": "x",
         "yaxis": "y"
        },
        {
         "line": {
          "color": "rgba(128, 128, 128, 1.0)",
          "dash": "solid",
          "shape": "linear",
          "width": 1.3
         },
         "marker": {
          "size": 2,
          "symbol": "circle"
         },
         "mode": "markers",
         "name": "A",
         "text": "",
         "type": "scatter",
         "x": [
          0.42266747208389555,
          0.4025529479209352,
          0.39329654633743705,
          0.7089745237385758,
          0.8860223422354788,
          0.39529151946139907,
          0.8858426705003635,
          0.7331624810794318,
          0.7988126303942001,
          0.07056472330669372,
          0.690489663051068,
          0.7550914443538574,
          0.2346450175788274,
          0.3472108096739044,
          0.6940324907465701,
          0.9854109807099428,
          0.17432375474191653,
          0.6323086937207173,
          0.018811432365633207,
          0.34363817749418213,
          0.16907863810594215,
          0.1880173195378385,
          0.2838855731082722,
          0.58633569166344,
          0.7313784980764263,
          0.4217352907134324,
          0.0821310918890209,
          0.5802391456930355,
          0.3227803268815147,
          0.1374991881569092,
          0.2864621476593546,
          0.19149129939914444,
          0.9832226435073113,
          0.6364963320943695,
          0.27947567276258256,
          0.26949286081671076,
          0.9805085759405282,
          0.6999272814650266,
          0.591582308601422,
          0.8607311892983199,
          0.25907295320215706,
          0.10024379132139893,
          0.5819390306343086,
          0.5522721660384126,
          0.22890535806939616,
          0.5545316245108332,
          0.6440610954172484,
          0.1114944589432354,
          0.7479585083642296,
          0.3874151625265263,
          0.9761135772858062,
          0.7332172159647825,
          0.3422539745509602,
          0.6429353253166763,
          0.8821621570152173,
          0.4884007673373636,
          0.6959144740845423,
          0.18689551402856497,
          0.20447107279468102,
          0.1612271442359685,
          0.49526183884171393,
          0.902412854780535,
          0.039160470695294824,
          0.023922135921567778,
          0.4623623853095533,
          0.5671486755300885,
          0.79530536593901,
          0.23776063858335006,
          0.7334239134015752,
          0.8329837817282485,
          0.21663846070326986,
          0.48422265908275763,
          0.7183641746039793,
          0.7886167134052354,
          0.1595354492877974,
          0.3716498483596541,
          0.9311235868724613,
          0.6447795579762172,
          0.30540876045655563,
          0.02459361591469833,
          0.8829687393024542,
          0.4566429789993859,
          0.16355927849690421,
          0.6187702383650091,
          0.8931607555718876,
          0.711878986423076,
          0.43774619353263144,
          0.49253425211216895,
          0.9330458248294381,
          0.8519322649822875,
          0.75431544317232,
          0.24172360392386216,
          0.5482403192688711,
          0.6137944497061548,
          0.8364759617290806,
          0.45066006104456136,
          0.24196271044178141,
          0.7692594805027758,
          0.8516824597359812,
          0.3178770681491705
         ],
         "xaxis": "x2",
         "y": [
          0.6851931426351257,
          0.011776897866929925,
          0.6711687969096942,
          0.7602761239010867,
          0.3340338832786466,
          0.7816642209869414,
          0.5146777368811686,
          0.27757936324960786,
          0.45619519359886995,
          0.7826118703504528,
          0.1793926410604133,
          0.3733918907281869,
          0.40085382837520656,
          0.7618058206808223,
          0.9548275340972647,
          0.9359040309881265,
          0.9292539323643081,
          0.26699051788428463,
          0.10651570835837199,
          0.47149437820267437,
          0.4723558429116048,
          0.8924910812604379,
          0.6033388501809807,
          0.4182015649088362,
          0.770232704093313,
          0.009509643654387667,
          0.19572361958541018,
          0.9554512516562105,
          0.6532818924769286,
          0.5036202794270261,
          0.16213807970495941,
          0.3259476854783766,
          0.4767630067990336,
          0.19238066856053038,
          0.5094150020031566,
          0.15289906315505475,
          0.25973946838954154,
          0.8479357729311677,
          0.7315736915507024,
          0.8759466725937207,
          0.0039892864183248555,
          0.9223470930587958,
          0.6197722470563477,
          0.8915203806250959,
          0.49874906370424277,
          0.8225743297774892,
          0.8321877277647997,
          0.9337619528161556,
          0.566430332989835,
          0.08749478659048193,
          0.7062816404886239,
          0.10971798726716797,
          0.8090217481133684,
          0.9348440936553413,
          0.5470523235663101,
          0.9929227017449651,
          0.3055033289453378,
          0.8233020655085458,
          0.6399880075867787,
          0.4259085634802027,
          0.2271003082781351,
          0.9603863275665787,
          0.5754718198360809,
          0.6855922475545655,
          0.8000215864503785,
          0.8882799595071866,
          0.3241319292623662,
          0.02510558337714941,
          0.06417188996909506,
          0.04396342402257025,
          0.09297676877375738,
          0.8371524654524803,
          0.6923717442984694,
          0.017999027479590257,
          0.6084020829648865,
          0.8653194757514951,
          0.892365537710933,
          0.9669928639688513,
          0.9172442534485912,
          0.7037940251904705,
          0.535592906715179,
          0.5143379520921977,
          0.03561205339677431,
          0.841369886530009,
          0.724365948331164,
          0.4113079899678703,
          0.9664246333130304,
          0.9775693874432042,
          0.2442457321332865,
          0.10445602074912241,
          0.04761806409626401,
          0.520870656725141,
          0.9114110263365339,
          0.9649354330695963,
          0.5508033886063982,
          0.9174235511977848,
          0.7837412414053477,
          0.36246755694057575,
          0.1328875015634834,
          0.6268064453069518
         ],
         "yaxis": "y2"
        },
        {
         "line": {
          "color": "rgba(128, 128, 128, 1.0)",
          "dash": "solid",
          "shape": "linear",
          "width": 1.3
         },
         "marker": {
          "size": 2,
          "symbol": "circle"
         },
         "mode": "markers",
         "name": "A",
         "text": "",
         "type": "scatter",
         "x": [
          0.3561863707076981,
          0.9448437071452328,
          0.24016336710711983,
          0.20118829755988143,
          0.15122255005135588,
          0.7804239345315636,
          0.583442592245674,
          0.9317406155751462,
          0.020397336716458825,
          0.9221974697055461,
          0.969220929430213,
          0.4994436983275503,
          0.7409697236583278,
          0.2527226186058037,
          0.9106129807500702,
          0.6717553184456281,
          0.1644188664973485,
          0.8421021071277454,
          0.24119401432572796,
          0.028815001251824346,
          0.9862055539762161,
          0.3348294121333627,
          0.826378510588906,
          0.14699937935962082,
          0.1050604236752457,
          0.010542068162520568,
          0.9086668473608321,
          0.26111228444865375,
          0.8577786750884392,
          0.7357068239886501,
          0.42211420163979485,
          0.7763496305081379,
          0.10803103894923038,
          0.6196586808828559,
          0.3583614227712998,
          0.5749464239799403,
          0.5293617523700247,
          0.022347185878035414,
          0.9731980020346253,
          0.8085068496606375,
          0.750686493998964,
          0.06768860341887539,
          0.027188845790728222,
          0.7794611561171221,
          0.3802631573621915,
          0.5565253385381683,
          0.15713255087980393,
          0.16107058240896932,
          0.0520871062072914,
          0.8394125768292143,
          0.3513460012875611,
          0.5834937761978631,
          0.19982349674560151,
          0.417322466510775,
          0.09629981288181944,
          0.4432969950349469,
          0.25318275830921466,
          0.8554790719324762,
          0.059818508715041574,
          0.9626685089221783,
          0.9003271238147534,
          0.5567904350940756,
          0.4473074252440554,
          0.2886902602847431,
          0.9651792138770191,
          0.8246177381143381,
          0.9924892364838382,
          0.31094051901930964,
          0.4334051683236698,
          0.9922000162432826,
          0.6968619880540602,
          0.5407420844786678,
          0.3775034242332611,
          0.9880124505614459,
          0.7168056061730363,
          0.7003658727213367,
          0.04918458352508104,
          0.1855393966634099,
          0.45170507227682033,
          0.46822868302000464,
          0.8037542592515516,
          0.3566362118823373,
          0.3667783104507647,
          0.43326252126560916,
          0.34629264313038244,
          0.4282254595695727,
          0.6483932009699541,
          0.03387976178319785,
          0.11817002616495953,
          0.1583982562677405,
          0.7797592566530991,
          0.34593762633057257,
          0.9578904850416811,
          0.859251575103357,
          0.7495379839412252,
          0.3908377043896525,
          0.402766640482052,
          0.15978080940718775,
          0.3066437123731758,
          0.6905367675289896
         ],
         "xaxis": "x3",
         "y": [
          0.6851931426351257,
          0.011776897866929925,
          0.6711687969096942,
          0.7602761239010867,
          0.3340338832786466,
          0.7816642209869414,
          0.5146777368811686,
          0.27757936324960786,
          0.45619519359886995,
          0.7826118703504528,
          0.1793926410604133,
          0.3733918907281869,
          0.40085382837520656,
          0.7618058206808223,
          0.9548275340972647,
          0.9359040309881265,
          0.9292539323643081,
          0.26699051788428463,
          0.10651570835837199,
          0.47149437820267437,
          0.4723558429116048,
          0.8924910812604379,
          0.6033388501809807,
          0.4182015649088362,
          0.770232704093313,
          0.009509643654387667,
          0.19572361958541018,
          0.9554512516562105,
          0.6532818924769286,
          0.5036202794270261,
          0.16213807970495941,
          0.3259476854783766,
          0.4767630067990336,
          0.19238066856053038,
          0.5094150020031566,
          0.15289906315505475,
          0.25973946838954154,
          0.8479357729311677,
          0.7315736915507024,
          0.8759466725937207,
          0.0039892864183248555,
          0.9223470930587958,
          0.6197722470563477,
          0.8915203806250959,
          0.49874906370424277,
          0.8225743297774892,
          0.8321877277647997,
          0.9337619528161556,
          0.566430332989835,
          0.08749478659048193,
          0.7062816404886239,
          0.10971798726716797,
          0.8090217481133684,
          0.9348440936553413,
          0.5470523235663101,
          0.9929227017449651,
          0.3055033289453378,
          0.8233020655085458,
          0.6399880075867787,
          0.4259085634802027,
          0.2271003082781351,
          0.9603863275665787,
          0.5754718198360809,
          0.6855922475545655,
          0.8000215864503785,
          0.8882799595071866,
          0.3241319292623662,
          0.02510558337714941,
          0.06417188996909506,
          0.04396342402257025,
          0.09297676877375738,
          0.8371524654524803,
          0.6923717442984694,
          0.017999027479590257,
          0.6084020829648865,
          0.8653194757514951,
          0.892365537710933,
          0.9669928639688513,
          0.9172442534485912,
          0.7037940251904705,
          0.535592906715179,
          0.5143379520921977,
          0.03561205339677431,
          0.841369886530009,
          0.724365948331164,
          0.4113079899678703,
          0.9664246333130304,
          0.9775693874432042,
          0.2442457321332865,
          0.10445602074912241,
          0.04761806409626401,
          0.520870656725141,
          0.9114110263365339,
          0.9649354330695963,
          0.5508033886063982,
          0.9174235511977848,
          0.7837412414053477,
          0.36246755694057575,
          0.1328875015634834,
          0.6268064453069518
         ],
         "yaxis": "y3"
        },
        {
         "line": {
          "color": "rgba(128, 128, 128, 1.0)",
          "dash": "solid",
          "shape": "linear",
          "width": 1.3
         },
         "marker": {
          "size": 2,
          "symbol": "circle"
         },
         "mode": "markers",
         "name": "A",
         "text": "",
         "type": "scatter",
         "x": [
          0.513848738914716,
          0.42977757057042876,
          0.10404217987035047,
          0.2745074314932867,
          0.04301631766497371,
          0.8969887150784384,
          0.5119088701917631,
          0.20404357546512708,
          0.5654167975052121,
          0.4394687696077685,
          0.04407639536910135,
          0.7810437250424924,
          0.7964006085675379,
          0.20816080983540752,
          0.130680096786555,
          0.9531701361707676,
          0.3742102515282032,
          0.7564134576287697,
          0.11939718784517306,
          0.4521046655661525,
          0.6291081640422204,
          0.6337482536151205,
          0.6032444625101666,
          0.7261227901390499,
          0.23436359410130259,
          0.782061673452562,
          0.6284063391933995,
          0.886406318484242,
          0.9517333856837241,
          0.4296400691315553,
          0.9595637085004282,
          0.9364460584729372,
          0.30226805634933374,
          0.5929930953145905,
          0.0013296841360473932,
          0.2537294350847856,
          0.2688187642937363,
          0.9451439748109275,
          0.7104073366692222,
          0.010044500237195941,
          0.8015423801211405,
          0.22368684905970593,
          0.5111509479923415,
          0.826365848108864,
          0.6238125508673099,
          0.6787808110095238,
          0.9249643723079329,
          0.7677274533923302,
          0.2542119373423205,
          0.3706560220374955,
          0.7001388965154516,
          0.3446378881583999,
          0.531477734122208,
          0.7967797379676417,
          0.22396077446105223,
          0.07760519798197008,
          0.797589907107909,
          0.6836767318244401,
          0.718681383647882,
          0.3841168957077452,
          0.4546832200635279,
          0.5782513144471789,
          0.1865298586951185,
          0.5085657218954693,
          0.9910756830740246,
          0.39827577537651526,
          0.4430204861164805,
          0.949776783369075,
          0.4853560851477894,
          0.01386154011211671,
          0.13546953501017456,
          0.5375780990899847,
          0.18388052146452305,
          0.7671198891708962,
          0.2727439022915653,
          0.6290082432524554,
          0.9579333743328089,
          0.6833621106505054,
          0.8294951812809604,
          0.37096456958776913,
          0.5281327258678865,
          0.44729687309537025,
          0.3402145870974209,
          0.5190595659418663,
          0.8770973675132958,
          0.7720527050089664,
          0.5352708236886218,
          0.9074215381978286,
          0.7418431157607439,
          0.2193984356690759,
          0.7127875493795898,
          0.01408416173515703,
          0.028284679491114684,
          0.42825824277476265,
          0.21590929657528535,
          0.38099575910710004,
          0.4330368351109082,
          0.23769354646014562,
          0.8382726021223676,
          0.4443104281055954
         ],
         "xaxis": "x4",
         "y": [
          0.6851931426351257,
          0.011776897866929925,
          0.6711687969096942,
          0.7602761239010867,
          0.3340338832786466,
          0.7816642209869414,
          0.5146777368811686,
          0.27757936324960786,
          0.45619519359886995,
          0.7826118703504528,
          0.1793926410604133,
          0.3733918907281869,
          0.40085382837520656,
          0.7618058206808223,
          0.9548275340972647,
          0.9359040309881265,
          0.9292539323643081,
          0.26699051788428463,
          0.10651570835837199,
          0.47149437820267437,
          0.4723558429116048,
          0.8924910812604379,
          0.6033388501809807,
          0.4182015649088362,
          0.770232704093313,
          0.009509643654387667,
          0.19572361958541018,
          0.9554512516562105,
          0.6532818924769286,
          0.5036202794270261,
          0.16213807970495941,
          0.3259476854783766,
          0.4767630067990336,
          0.19238066856053038,
          0.5094150020031566,
          0.15289906315505475,
          0.25973946838954154,
          0.8479357729311677,
          0.7315736915507024,
          0.8759466725937207,
          0.0039892864183248555,
          0.9223470930587958,
          0.6197722470563477,
          0.8915203806250959,
          0.49874906370424277,
          0.8225743297774892,
          0.8321877277647997,
          0.9337619528161556,
          0.566430332989835,
          0.08749478659048193,
          0.7062816404886239,
          0.10971798726716797,
          0.8090217481133684,
          0.9348440936553413,
          0.5470523235663101,
          0.9929227017449651,
          0.3055033289453378,
          0.8233020655085458,
          0.6399880075867787,
          0.4259085634802027,
          0.2271003082781351,
          0.9603863275665787,
          0.5754718198360809,
          0.6855922475545655,
          0.8000215864503785,
          0.8882799595071866,
          0.3241319292623662,
          0.02510558337714941,
          0.06417188996909506,
          0.04396342402257025,
          0.09297676877375738,
          0.8371524654524803,
          0.6923717442984694,
          0.017999027479590257,
          0.6084020829648865,
          0.8653194757514951,
          0.892365537710933,
          0.9669928639688513,
          0.9172442534485912,
          0.7037940251904705,
          0.535592906715179,
          0.5143379520921977,
          0.03561205339677431,
          0.841369886530009,
          0.724365948331164,
          0.4113079899678703,
          0.9664246333130304,
          0.9775693874432042,
          0.2442457321332865,
          0.10445602074912241,
          0.04761806409626401,
          0.520870656725141,
          0.9114110263365339,
          0.9649354330695963,
          0.5508033886063982,
          0.9174235511977848,
          0.7837412414053477,
          0.36246755694057575,
          0.1328875015634834,
          0.6268064453069518
         ],
         "yaxis": "y4"
        },
        {
         "line": {
          "color": "rgba(128, 128, 128, 1.0)",
          "dash": "solid",
          "shape": "linear",
          "width": 1.3
         },
         "marker": {
          "size": 2,
          "symbol": "circle"
         },
         "mode": "markers",
         "name": "B",
         "text": "",
         "type": "scatter",
         "x": [
          0.6851931426351257,
          0.011776897866929925,
          0.6711687969096942,
          0.7602761239010867,
          0.3340338832786466,
          0.7816642209869414,
          0.5146777368811686,
          0.27757936324960786,
          0.45619519359886995,
          0.7826118703504528,
          0.1793926410604133,
          0.3733918907281869,
          0.40085382837520656,
          0.7618058206808223,
          0.9548275340972647,
          0.9359040309881265,
          0.9292539323643081,
          0.26699051788428463,
          0.10651570835837199,
          0.47149437820267437,
          0.4723558429116048,
          0.8924910812604379,
          0.6033388501809807,
          0.4182015649088362,
          0.770232704093313,
          0.009509643654387667,
          0.19572361958541018,
          0.9554512516562105,
          0.6532818924769286,
          0.5036202794270261,
          0.16213807970495941,
          0.3259476854783766,
          0.4767630067990336,
          0.19238066856053038,
          0.5094150020031566,
          0.15289906315505475,
          0.25973946838954154,
          0.8479357729311677,
          0.7315736915507024,
          0.8759466725937207,
          0.0039892864183248555,
          0.9223470930587958,
          0.6197722470563477,
          0.8915203806250959,
          0.49874906370424277,
          0.8225743297774892,
          0.8321877277647997,
          0.9337619528161556,
          0.566430332989835,
          0.08749478659048193,
          0.7062816404886239,
          0.10971798726716797,
          0.8090217481133684,
          0.9348440936553413,
          0.5470523235663101,
          0.9929227017449651,
          0.3055033289453378,
          0.8233020655085458,
          0.6399880075867787,
          0.4259085634802027,
          0.2271003082781351,
          0.9603863275665787,
          0.5754718198360809,
          0.6855922475545655,
          0.8000215864503785,
          0.8882799595071866,
          0.3241319292623662,
          0.02510558337714941,
          0.06417188996909506,
          0.04396342402257025,
          0.09297676877375738,
          0.8371524654524803,
          0.6923717442984694,
          0.017999027479590257,
          0.6084020829648865,
          0.8653194757514951,
          0.892365537710933,
          0.9669928639688513,
          0.9172442534485912,
          0.7037940251904705,
          0.535592906715179,
          0.5143379520921977,
          0.03561205339677431,
          0.841369886530009,
          0.724365948331164,
          0.4113079899678703,
          0.9664246333130304,
          0.9775693874432042,
          0.2442457321332865,
          0.10445602074912241,
          0.04761806409626401,
          0.520870656725141,
          0.9114110263365339,
          0.9649354330695963,
          0.5508033886063982,
          0.9174235511977848,
          0.7837412414053477,
          0.36246755694057575,
          0.1328875015634834,
          0.6268064453069518
         ],
         "xaxis": "x5",
         "y": [
          0.42266747208389555,
          0.4025529479209352,
          0.39329654633743705,
          0.7089745237385758,
          0.8860223422354788,
          0.39529151946139907,
          0.8858426705003635,
          0.7331624810794318,
          0.7988126303942001,
          0.07056472330669372,
          0.690489663051068,
          0.7550914443538574,
          0.2346450175788274,
          0.3472108096739044,
          0.6940324907465701,
          0.9854109807099428,
          0.17432375474191653,
          0.6323086937207173,
          0.018811432365633207,
          0.34363817749418213,
          0.16907863810594215,
          0.1880173195378385,
          0.2838855731082722,
          0.58633569166344,
          0.7313784980764263,
          0.4217352907134324,
          0.0821310918890209,
          0.5802391456930355,
          0.3227803268815147,
          0.1374991881569092,
          0.2864621476593546,
          0.19149129939914444,
          0.9832226435073113,
          0.6364963320943695,
          0.27947567276258256,
          0.26949286081671076,
          0.9805085759405282,
          0.6999272814650266,
          0.591582308601422,
          0.8607311892983199,
          0.25907295320215706,
          0.10024379132139893,
          0.5819390306343086,
          0.5522721660384126,
          0.22890535806939616,
          0.5545316245108332,
          0.6440610954172484,
          0.1114944589432354,
          0.7479585083642296,
          0.3874151625265263,
          0.9761135772858062,
          0.7332172159647825,
          0.3422539745509602,
          0.6429353253166763,
          0.8821621570152173,
          0.4884007673373636,
          0.6959144740845423,
          0.18689551402856497,
          0.20447107279468102,
          0.1612271442359685,
          0.49526183884171393,
          0.902412854780535,
          0.039160470695294824,
          0.023922135921567778,
          0.4623623853095533,
          0.5671486755300885,
          0.79530536593901,
          0.23776063858335006,
          0.7334239134015752,
          0.8329837817282485,
          0.21663846070326986,
          0.48422265908275763,
          0.7183641746039793,
          0.7886167134052354,
          0.1595354492877974,
          0.3716498483596541,
          0.9311235868724613,
          0.6447795579762172,
          0.30540876045655563,
          0.02459361591469833,
          0.8829687393024542,
          0.4566429789993859,
          0.16355927849690421,
          0.6187702383650091,
          0.8931607555718876,
          0.711878986423076,
          0.43774619353263144,
          0.49253425211216895,
          0.9330458248294381,
          0.8519322649822875,
          0.75431544317232,
          0.24172360392386216,
          0.5482403192688711,
          0.6137944497061548,
          0.8364759617290806,
          0.45066006104456136,
          0.24196271044178141,
          0.7692594805027758,
          0.8516824597359812,
          0.3178770681491705
         ],
         "yaxis": "y5"
        },
        {
         "histfunc": "count",
         "histnorm": "",
         "marker": {
          "color": "rgba(55, 128, 191, 1.0)",
          "line": {
           "color": "#4D5663",
           "width": 1.3
          }
         },
         "name": "B",
         "nbinsx": 10,
         "opacity": 0.8,
         "orientation": "v",
         "type": "histogram",
         "x": [
          0.42266747208389555,
          0.4025529479209352,
          0.39329654633743705,
          0.7089745237385758,
          0.8860223422354788,
          0.39529151946139907,
          0.8858426705003635,
          0.7331624810794318,
          0.7988126303942001,
          0.07056472330669372,
          0.690489663051068,
          0.7550914443538574,
          0.2346450175788274,
          0.3472108096739044,
          0.6940324907465701,
          0.9854109807099428,
          0.17432375474191653,
          0.6323086937207173,
          0.018811432365633207,
          0.34363817749418213,
          0.16907863810594215,
          0.1880173195378385,
          0.2838855731082722,
          0.58633569166344,
          0.7313784980764263,
          0.4217352907134324,
          0.0821310918890209,
          0.5802391456930355,
          0.3227803268815147,
          0.1374991881569092,
          0.2864621476593546,
          0.19149129939914444,
          0.9832226435073113,
          0.6364963320943695,
          0.27947567276258256,
          0.26949286081671076,
          0.9805085759405282,
          0.6999272814650266,
          0.591582308601422,
          0.8607311892983199,
          0.25907295320215706,
          0.10024379132139893,
          0.5819390306343086,
          0.5522721660384126,
          0.22890535806939616,
          0.5545316245108332,
          0.6440610954172484,
          0.1114944589432354,
          0.7479585083642296,
          0.3874151625265263,
          0.9761135772858062,
          0.7332172159647825,
          0.3422539745509602,
          0.6429353253166763,
          0.8821621570152173,
          0.4884007673373636,
          0.6959144740845423,
          0.18689551402856497,
          0.20447107279468102,
          0.1612271442359685,
          0.49526183884171393,
          0.902412854780535,
          0.039160470695294824,
          0.023922135921567778,
          0.4623623853095533,
          0.5671486755300885,
          0.79530536593901,
          0.23776063858335006,
          0.7334239134015752,
          0.8329837817282485,
          0.21663846070326986,
          0.48422265908275763,
          0.7183641746039793,
          0.7886167134052354,
          0.1595354492877974,
          0.3716498483596541,
          0.9311235868724613,
          0.6447795579762172,
          0.30540876045655563,
          0.02459361591469833,
          0.8829687393024542,
          0.4566429789993859,
          0.16355927849690421,
          0.6187702383650091,
          0.8931607555718876,
          0.711878986423076,
          0.43774619353263144,
          0.49253425211216895,
          0.9330458248294381,
          0.8519322649822875,
          0.75431544317232,
          0.24172360392386216,
          0.5482403192688711,
          0.6137944497061548,
          0.8364759617290806,
          0.45066006104456136,
          0.24196271044178141,
          0.7692594805027758,
          0.8516824597359812,
          0.3178770681491705
         ],
         "xaxis": "x6",
         "yaxis": "y6"
        },
        {
         "line": {
          "color": "rgba(128, 128, 128, 1.0)",
          "dash": "solid",
          "shape": "linear",
          "width": 1.3
         },
         "marker": {
          "size": 2,
          "symbol": "circle"
         },
         "mode": "markers",
         "name": "B",
         "text": "",
         "type": "scatter",
         "x": [
          0.3561863707076981,
          0.9448437071452328,
          0.24016336710711983,
          0.20118829755988143,
          0.15122255005135588,
          0.7804239345315636,
          0.583442592245674,
          0.9317406155751462,
          0.020397336716458825,
          0.9221974697055461,
          0.969220929430213,
          0.4994436983275503,
          0.7409697236583278,
          0.2527226186058037,
          0.9106129807500702,
          0.6717553184456281,
          0.1644188664973485,
          0.8421021071277454,
          0.24119401432572796,
          0.028815001251824346,
          0.9862055539762161,
          0.3348294121333627,
          0.826378510588906,
          0.14699937935962082,
          0.1050604236752457,
          0.010542068162520568,
          0.9086668473608321,
          0.26111228444865375,
          0.8577786750884392,
          0.7357068239886501,
          0.42211420163979485,
          0.7763496305081379,
          0.10803103894923038,
          0.6196586808828559,
          0.3583614227712998,
          0.5749464239799403,
          0.5293617523700247,
          0.022347185878035414,
          0.9731980020346253,
          0.8085068496606375,
          0.750686493998964,
          0.06768860341887539,
          0.027188845790728222,
          0.7794611561171221,
          0.3802631573621915,
          0.5565253385381683,
          0.15713255087980393,
          0.16107058240896932,
          0.0520871062072914,
          0.8394125768292143,
          0.3513460012875611,
          0.5834937761978631,
          0.19982349674560151,
          0.417322466510775,
          0.09629981288181944,
          0.4432969950349469,
          0.25318275830921466,
          0.8554790719324762,
          0.059818508715041574,
          0.9626685089221783,
          0.9003271238147534,
          0.5567904350940756,
          0.4473074252440554,
          0.2886902602847431,
          0.9651792138770191,
          0.8246177381143381,
          0.9924892364838382,
          0.31094051901930964,
          0.4334051683236698,
          0.9922000162432826,
          0.6968619880540602,
          0.5407420844786678,
          0.3775034242332611,
          0.9880124505614459,
          0.7168056061730363,
          0.7003658727213367,
          0.04918458352508104,
          0.1855393966634099,
          0.45170507227682033,
          0.46822868302000464,
          0.8037542592515516,
          0.3566362118823373,
          0.3667783104507647,
          0.43326252126560916,
          0.34629264313038244,
          0.4282254595695727,
          0.6483932009699541,
          0.03387976178319785,
          0.11817002616495953,
          0.1583982562677405,
          0.7797592566530991,
          0.34593762633057257,
          0.9578904850416811,
          0.859251575103357,
          0.7495379839412252,
          0.3908377043896525,
          0.402766640482052,
          0.15978080940718775,
          0.3066437123731758,
          0.6905367675289896
         ],
         "xaxis": "x7",
         "y": [
          0.42266747208389555,
          0.4025529479209352,
          0.39329654633743705,
          0.7089745237385758,
          0.8860223422354788,
          0.39529151946139907,
          0.8858426705003635,
          0.7331624810794318,
          0.7988126303942001,
          0.07056472330669372,
          0.690489663051068,
          0.7550914443538574,
          0.2346450175788274,
          0.3472108096739044,
          0.6940324907465701,
          0.9854109807099428,
          0.17432375474191653,
          0.6323086937207173,
          0.018811432365633207,
          0.34363817749418213,
          0.16907863810594215,
          0.1880173195378385,
          0.2838855731082722,
          0.58633569166344,
          0.7313784980764263,
          0.4217352907134324,
          0.0821310918890209,
          0.5802391456930355,
          0.3227803268815147,
          0.1374991881569092,
          0.2864621476593546,
          0.19149129939914444,
          0.9832226435073113,
          0.6364963320943695,
          0.27947567276258256,
          0.26949286081671076,
          0.9805085759405282,
          0.6999272814650266,
          0.591582308601422,
          0.8607311892983199,
          0.25907295320215706,
          0.10024379132139893,
          0.5819390306343086,
          0.5522721660384126,
          0.22890535806939616,
          0.5545316245108332,
          0.6440610954172484,
          0.1114944589432354,
          0.7479585083642296,
          0.3874151625265263,
          0.9761135772858062,
          0.7332172159647825,
          0.3422539745509602,
          0.6429353253166763,
          0.8821621570152173,
          0.4884007673373636,
          0.6959144740845423,
          0.18689551402856497,
          0.20447107279468102,
          0.1612271442359685,
          0.49526183884171393,
          0.902412854780535,
          0.039160470695294824,
          0.023922135921567778,
          0.4623623853095533,
          0.5671486755300885,
          0.79530536593901,
          0.23776063858335006,
          0.7334239134015752,
          0.8329837817282485,
          0.21663846070326986,
          0.48422265908275763,
          0.7183641746039793,
          0.7886167134052354,
          0.1595354492877974,
          0.3716498483596541,
          0.9311235868724613,
          0.6447795579762172,
          0.30540876045655563,
          0.02459361591469833,
          0.8829687393024542,
          0.4566429789993859,
          0.16355927849690421,
          0.6187702383650091,
          0.8931607555718876,
          0.711878986423076,
          0.43774619353263144,
          0.49253425211216895,
          0.9330458248294381,
          0.8519322649822875,
          0.75431544317232,
          0.24172360392386216,
          0.5482403192688711,
          0.6137944497061548,
          0.8364759617290806,
          0.45066006104456136,
          0.24196271044178141,
          0.7692594805027758,
          0.8516824597359812,
          0.3178770681491705
         ],
         "yaxis": "y7"
        },
        {
         "line": {
          "color": "rgba(128, 128, 128, 1.0)",
          "dash": "solid",
          "shape": "linear",
          "width": 1.3
         },
         "marker": {
          "size": 2,
          "symbol": "circle"
         },
         "mode": "markers",
         "name": "B",
         "text": "",
         "type": "scatter",
         "x": [
          0.513848738914716,
          0.42977757057042876,
          0.10404217987035047,
          0.2745074314932867,
          0.04301631766497371,
          0.8969887150784384,
          0.5119088701917631,
          0.20404357546512708,
          0.5654167975052121,
          0.4394687696077685,
          0.04407639536910135,
          0.7810437250424924,
          0.7964006085675379,
          0.20816080983540752,
          0.130680096786555,
          0.9531701361707676,
          0.3742102515282032,
          0.7564134576287697,
          0.11939718784517306,
          0.4521046655661525,
          0.6291081640422204,
          0.6337482536151205,
          0.6032444625101666,
          0.7261227901390499,
          0.23436359410130259,
          0.782061673452562,
          0.6284063391933995,
          0.886406318484242,
          0.9517333856837241,
          0.4296400691315553,
          0.9595637085004282,
          0.9364460584729372,
          0.30226805634933374,
          0.5929930953145905,
          0.0013296841360473932,
          0.2537294350847856,
          0.2688187642937363,
          0.9451439748109275,
          0.7104073366692222,
          0.010044500237195941,
          0.8015423801211405,
          0.22368684905970593,
          0.5111509479923415,
          0.826365848108864,
          0.6238125508673099,
          0.6787808110095238,
          0.9249643723079329,
          0.7677274533923302,
          0.2542119373423205,
          0.3706560220374955,
          0.7001388965154516,
          0.3446378881583999,
          0.531477734122208,
          0.7967797379676417,
          0.22396077446105223,
          0.07760519798197008,
          0.797589907107909,
          0.6836767318244401,
          0.718681383647882,
          0.3841168957077452,
          0.4546832200635279,
          0.5782513144471789,
          0.1865298586951185,
          0.5085657218954693,
          0.9910756830740246,
          0.39827577537651526,
          0.4430204861164805,
          0.949776783369075,
          0.4853560851477894,
          0.01386154011211671,
          0.13546953501017456,
          0.5375780990899847,
          0.18388052146452305,
          0.7671198891708962,
          0.2727439022915653,
          0.6290082432524554,
          0.9579333743328089,
          0.6833621106505054,
          0.8294951812809604,
          0.37096456958776913,
          0.5281327258678865,
          0.44729687309537025,
          0.3402145870974209,
          0.5190595659418663,
          0.8770973675132958,
          0.7720527050089664,
          0.5352708236886218,
          0.9074215381978286,
          0.7418431157607439,
          0.2193984356690759,
          0.7127875493795898,
          0.01408416173515703,
          0.028284679491114684,
          0.42825824277476265,
          0.21590929657528535,
          0.38099575910710004,
          0.4330368351109082,
          0.23769354646014562,
          0.8382726021223676,
          0.4443104281055954
         ],
         "xaxis": "x8",
         "y": [
          0.42266747208389555,
          0.4025529479209352,
          0.39329654633743705,
          0.7089745237385758,
          0.8860223422354788,
          0.39529151946139907,
          0.8858426705003635,
          0.7331624810794318,
          0.7988126303942001,
          0.07056472330669372,
          0.690489663051068,
          0.7550914443538574,
          0.2346450175788274,
          0.3472108096739044,
          0.6940324907465701,
          0.9854109807099428,
          0.17432375474191653,
          0.6323086937207173,
          0.018811432365633207,
          0.34363817749418213,
          0.16907863810594215,
          0.1880173195378385,
          0.2838855731082722,
          0.58633569166344,
          0.7313784980764263,
          0.4217352907134324,
          0.0821310918890209,
          0.5802391456930355,
          0.3227803268815147,
          0.1374991881569092,
          0.2864621476593546,
          0.19149129939914444,
          0.9832226435073113,
          0.6364963320943695,
          0.27947567276258256,
          0.26949286081671076,
          0.9805085759405282,
          0.6999272814650266,
          0.591582308601422,
          0.8607311892983199,
          0.25907295320215706,
          0.10024379132139893,
          0.5819390306343086,
          0.5522721660384126,
          0.22890535806939616,
          0.5545316245108332,
          0.6440610954172484,
          0.1114944589432354,
          0.7479585083642296,
          0.3874151625265263,
          0.9761135772858062,
          0.7332172159647825,
          0.3422539745509602,
          0.6429353253166763,
          0.8821621570152173,
          0.4884007673373636,
          0.6959144740845423,
          0.18689551402856497,
          0.20447107279468102,
          0.1612271442359685,
          0.49526183884171393,
          0.902412854780535,
          0.039160470695294824,
          0.023922135921567778,
          0.4623623853095533,
          0.5671486755300885,
          0.79530536593901,
          0.23776063858335006,
          0.7334239134015752,
          0.8329837817282485,
          0.21663846070326986,
          0.48422265908275763,
          0.7183641746039793,
          0.7886167134052354,
          0.1595354492877974,
          0.3716498483596541,
          0.9311235868724613,
          0.6447795579762172,
          0.30540876045655563,
          0.02459361591469833,
          0.8829687393024542,
          0.4566429789993859,
          0.16355927849690421,
          0.6187702383650091,
          0.8931607555718876,
          0.711878986423076,
          0.43774619353263144,
          0.49253425211216895,
          0.9330458248294381,
          0.8519322649822875,
          0.75431544317232,
          0.24172360392386216,
          0.5482403192688711,
          0.6137944497061548,
          0.8364759617290806,
          0.45066006104456136,
          0.24196271044178141,
          0.7692594805027758,
          0.8516824597359812,
          0.3178770681491705
         ],
         "yaxis": "y8"
        },
        {
         "line": {
          "color": "rgba(128, 128, 128, 1.0)",
          "dash": "solid",
          "shape": "linear",
          "width": 1.3
         },
         "marker": {
          "size": 2,
          "symbol": "circle"
         },
         "mode": "markers",
         "name": "C",
         "text": "",
         "type": "scatter",
         "x": [
          0.6851931426351257,
          0.011776897866929925,
          0.6711687969096942,
          0.7602761239010867,
          0.3340338832786466,
          0.7816642209869414,
          0.5146777368811686,
          0.27757936324960786,
          0.45619519359886995,
          0.7826118703504528,
          0.1793926410604133,
          0.3733918907281869,
          0.40085382837520656,
          0.7618058206808223,
          0.9548275340972647,
          0.9359040309881265,
          0.9292539323643081,
          0.26699051788428463,
          0.10651570835837199,
          0.47149437820267437,
          0.4723558429116048,
          0.8924910812604379,
          0.6033388501809807,
          0.4182015649088362,
          0.770232704093313,
          0.009509643654387667,
          0.19572361958541018,
          0.9554512516562105,
          0.6532818924769286,
          0.5036202794270261,
          0.16213807970495941,
          0.3259476854783766,
          0.4767630067990336,
          0.19238066856053038,
          0.5094150020031566,
          0.15289906315505475,
          0.25973946838954154,
          0.8479357729311677,
          0.7315736915507024,
          0.8759466725937207,
          0.0039892864183248555,
          0.9223470930587958,
          0.6197722470563477,
          0.8915203806250959,
          0.49874906370424277,
          0.8225743297774892,
          0.8321877277647997,
          0.9337619528161556,
          0.566430332989835,
          0.08749478659048193,
          0.7062816404886239,
          0.10971798726716797,
          0.8090217481133684,
          0.9348440936553413,
          0.5470523235663101,
          0.9929227017449651,
          0.3055033289453378,
          0.8233020655085458,
          0.6399880075867787,
          0.4259085634802027,
          0.2271003082781351,
          0.9603863275665787,
          0.5754718198360809,
          0.6855922475545655,
          0.8000215864503785,
          0.8882799595071866,
          0.3241319292623662,
          0.02510558337714941,
          0.06417188996909506,
          0.04396342402257025,
          0.09297676877375738,
          0.8371524654524803,
          0.6923717442984694,
          0.017999027479590257,
          0.6084020829648865,
          0.8653194757514951,
          0.892365537710933,
          0.9669928639688513,
          0.9172442534485912,
          0.7037940251904705,
          0.535592906715179,
          0.5143379520921977,
          0.03561205339677431,
          0.841369886530009,
          0.724365948331164,
          0.4113079899678703,
          0.9664246333130304,
          0.9775693874432042,
          0.2442457321332865,
          0.10445602074912241,
          0.04761806409626401,
          0.520870656725141,
          0.9114110263365339,
          0.9649354330695963,
          0.5508033886063982,
          0.9174235511977848,
          0.7837412414053477,
          0.36246755694057575,
          0.1328875015634834,
          0.6268064453069518
         ],
         "xaxis": "x9",
         "y": [
          0.3561863707076981,
          0.9448437071452328,
          0.24016336710711983,
          0.20118829755988143,
          0.15122255005135588,
          0.7804239345315636,
          0.583442592245674,
          0.9317406155751462,
          0.020397336716458825,
          0.9221974697055461,
          0.969220929430213,
          0.4994436983275503,
          0.7409697236583278,
          0.2527226186058037,
          0.9106129807500702,
          0.6717553184456281,
          0.1644188664973485,
          0.8421021071277454,
          0.24119401432572796,
          0.028815001251824346,
          0.9862055539762161,
          0.3348294121333627,
          0.826378510588906,
          0.14699937935962082,
          0.1050604236752457,
          0.010542068162520568,
          0.9086668473608321,
          0.26111228444865375,
          0.8577786750884392,
          0.7357068239886501,
          0.42211420163979485,
          0.7763496305081379,
          0.10803103894923038,
          0.6196586808828559,
          0.3583614227712998,
          0.5749464239799403,
          0.5293617523700247,
          0.022347185878035414,
          0.9731980020346253,
          0.8085068496606375,
          0.750686493998964,
          0.06768860341887539,
          0.027188845790728222,
          0.7794611561171221,
          0.3802631573621915,
          0.5565253385381683,
          0.15713255087980393,
          0.16107058240896932,
          0.0520871062072914,
          0.8394125768292143,
          0.3513460012875611,
          0.5834937761978631,
          0.19982349674560151,
          0.417322466510775,
          0.09629981288181944,
          0.4432969950349469,
          0.25318275830921466,
          0.8554790719324762,
          0.059818508715041574,
          0.9626685089221783,
          0.9003271238147534,
          0.5567904350940756,
          0.4473074252440554,
          0.2886902602847431,
          0.9651792138770191,
          0.8246177381143381,
          0.9924892364838382,
          0.31094051901930964,
          0.4334051683236698,
          0.9922000162432826,
          0.6968619880540602,
          0.5407420844786678,
          0.3775034242332611,
          0.9880124505614459,
          0.7168056061730363,
          0.7003658727213367,
          0.04918458352508104,
          0.1855393966634099,
          0.45170507227682033,
          0.46822868302000464,
          0.8037542592515516,
          0.3566362118823373,
          0.3667783104507647,
          0.43326252126560916,
          0.34629264313038244,
          0.4282254595695727,
          0.6483932009699541,
          0.03387976178319785,
          0.11817002616495953,
          0.1583982562677405,
          0.7797592566530991,
          0.34593762633057257,
          0.9578904850416811,
          0.859251575103357,
          0.7495379839412252,
          0.3908377043896525,
          0.402766640482052,
          0.15978080940718775,
          0.3066437123731758,
          0.6905367675289896
         ],
         "yaxis": "y9"
        },
        {
         "line": {
          "color": "rgba(128, 128, 128, 1.0)",
          "dash": "solid",
          "shape": "linear",
          "width": 1.3
         },
         "marker": {
          "size": 2,
          "symbol": "circle"
         },
         "mode": "markers",
         "name": "C",
         "text": "",
         "type": "scatter",
         "x": [
          0.42266747208389555,
          0.4025529479209352,
          0.39329654633743705,
          0.7089745237385758,
          0.8860223422354788,
          0.39529151946139907,
          0.8858426705003635,
          0.7331624810794318,
          0.7988126303942001,
          0.07056472330669372,
          0.690489663051068,
          0.7550914443538574,
          0.2346450175788274,
          0.3472108096739044,
          0.6940324907465701,
          0.9854109807099428,
          0.17432375474191653,
          0.6323086937207173,
          0.018811432365633207,
          0.34363817749418213,
          0.16907863810594215,
          0.1880173195378385,
          0.2838855731082722,
          0.58633569166344,
          0.7313784980764263,
          0.4217352907134324,
          0.0821310918890209,
          0.5802391456930355,
          0.3227803268815147,
          0.1374991881569092,
          0.2864621476593546,
          0.19149129939914444,
          0.9832226435073113,
          0.6364963320943695,
          0.27947567276258256,
          0.26949286081671076,
          0.9805085759405282,
          0.6999272814650266,
          0.591582308601422,
          0.8607311892983199,
          0.25907295320215706,
          0.10024379132139893,
          0.5819390306343086,
          0.5522721660384126,
          0.22890535806939616,
          0.5545316245108332,
          0.6440610954172484,
          0.1114944589432354,
          0.7479585083642296,
          0.3874151625265263,
          0.9761135772858062,
          0.7332172159647825,
          0.3422539745509602,
          0.6429353253166763,
          0.8821621570152173,
          0.4884007673373636,
          0.6959144740845423,
          0.18689551402856497,
          0.20447107279468102,
          0.1612271442359685,
          0.49526183884171393,
          0.902412854780535,
          0.039160470695294824,
          0.023922135921567778,
          0.4623623853095533,
          0.5671486755300885,
          0.79530536593901,
          0.23776063858335006,
          0.7334239134015752,
          0.8329837817282485,
          0.21663846070326986,
          0.48422265908275763,
          0.7183641746039793,
          0.7886167134052354,
          0.1595354492877974,
          0.3716498483596541,
          0.9311235868724613,
          0.6447795579762172,
          0.30540876045655563,
          0.02459361591469833,
          0.8829687393024542,
          0.4566429789993859,
          0.16355927849690421,
          0.6187702383650091,
          0.8931607555718876,
          0.711878986423076,
          0.43774619353263144,
          0.49253425211216895,
          0.9330458248294381,
          0.8519322649822875,
          0.75431544317232,
          0.24172360392386216,
          0.5482403192688711,
          0.6137944497061548,
          0.8364759617290806,
          0.45066006104456136,
          0.24196271044178141,
          0.7692594805027758,
          0.8516824597359812,
          0.3178770681491705
         ],
         "xaxis": "x10",
         "y": [
          0.3561863707076981,
          0.9448437071452328,
          0.24016336710711983,
          0.20118829755988143,
          0.15122255005135588,
          0.7804239345315636,
          0.583442592245674,
          0.9317406155751462,
          0.020397336716458825,
          0.9221974697055461,
          0.969220929430213,
          0.4994436983275503,
          0.7409697236583278,
          0.2527226186058037,
          0.9106129807500702,
          0.6717553184456281,
          0.1644188664973485,
          0.8421021071277454,
          0.24119401432572796,
          0.028815001251824346,
          0.9862055539762161,
          0.3348294121333627,
          0.826378510588906,
          0.14699937935962082,
          0.1050604236752457,
          0.010542068162520568,
          0.9086668473608321,
          0.26111228444865375,
          0.8577786750884392,
          0.7357068239886501,
          0.42211420163979485,
          0.7763496305081379,
          0.10803103894923038,
          0.6196586808828559,
          0.3583614227712998,
          0.5749464239799403,
          0.5293617523700247,
          0.022347185878035414,
          0.9731980020346253,
          0.8085068496606375,
          0.750686493998964,
          0.06768860341887539,
          0.027188845790728222,
          0.7794611561171221,
          0.3802631573621915,
          0.5565253385381683,
          0.15713255087980393,
          0.16107058240896932,
          0.0520871062072914,
          0.8394125768292143,
          0.3513460012875611,
          0.5834937761978631,
          0.19982349674560151,
          0.417322466510775,
          0.09629981288181944,
          0.4432969950349469,
          0.25318275830921466,
          0.8554790719324762,
          0.059818508715041574,
          0.9626685089221783,
          0.9003271238147534,
          0.5567904350940756,
          0.4473074252440554,
          0.2886902602847431,
          0.9651792138770191,
          0.8246177381143381,
          0.9924892364838382,
          0.31094051901930964,
          0.4334051683236698,
          0.9922000162432826,
          0.6968619880540602,
          0.5407420844786678,
          0.3775034242332611,
          0.9880124505614459,
          0.7168056061730363,
          0.7003658727213367,
          0.04918458352508104,
          0.1855393966634099,
          0.45170507227682033,
          0.46822868302000464,
          0.8037542592515516,
          0.3566362118823373,
          0.3667783104507647,
          0.43326252126560916,
          0.34629264313038244,
          0.4282254595695727,
          0.6483932009699541,
          0.03387976178319785,
          0.11817002616495953,
          0.1583982562677405,
          0.7797592566530991,
          0.34593762633057257,
          0.9578904850416811,
          0.859251575103357,
          0.7495379839412252,
          0.3908377043896525,
          0.402766640482052,
          0.15978080940718775,
          0.3066437123731758,
          0.6905367675289896
         ],
         "yaxis": "y10"
        },
        {
         "histfunc": "count",
         "histnorm": "",
         "marker": {
          "color": "rgba(50, 171, 96, 1.0)",
          "line": {
           "color": "#4D5663",
           "width": 1.3
          }
         },
         "name": "C",
         "nbinsx": 10,
         "opacity": 0.8,
         "orientation": "v",
         "type": "histogram",
         "x": [
          0.3561863707076981,
          0.9448437071452328,
          0.24016336710711983,
          0.20118829755988143,
          0.15122255005135588,
          0.7804239345315636,
          0.583442592245674,
          0.9317406155751462,
          0.020397336716458825,
          0.9221974697055461,
          0.969220929430213,
          0.4994436983275503,
          0.7409697236583278,
          0.2527226186058037,
          0.9106129807500702,
          0.6717553184456281,
          0.1644188664973485,
          0.8421021071277454,
          0.24119401432572796,
          0.028815001251824346,
          0.9862055539762161,
          0.3348294121333627,
          0.826378510588906,
          0.14699937935962082,
          0.1050604236752457,
          0.010542068162520568,
          0.9086668473608321,
          0.26111228444865375,
          0.8577786750884392,
          0.7357068239886501,
          0.42211420163979485,
          0.7763496305081379,
          0.10803103894923038,
          0.6196586808828559,
          0.3583614227712998,
          0.5749464239799403,
          0.5293617523700247,
          0.022347185878035414,
          0.9731980020346253,
          0.8085068496606375,
          0.750686493998964,
          0.06768860341887539,
          0.027188845790728222,
          0.7794611561171221,
          0.3802631573621915,
          0.5565253385381683,
          0.15713255087980393,
          0.16107058240896932,
          0.0520871062072914,
          0.8394125768292143,
          0.3513460012875611,
          0.5834937761978631,
          0.19982349674560151,
          0.417322466510775,
          0.09629981288181944,
          0.4432969950349469,
          0.25318275830921466,
          0.8554790719324762,
          0.059818508715041574,
          0.9626685089221783,
          0.9003271238147534,
          0.5567904350940756,
          0.4473074252440554,
          0.2886902602847431,
          0.9651792138770191,
          0.8246177381143381,
          0.9924892364838382,
          0.31094051901930964,
          0.4334051683236698,
          0.9922000162432826,
          0.6968619880540602,
          0.5407420844786678,
          0.3775034242332611,
          0.9880124505614459,
          0.7168056061730363,
          0.7003658727213367,
          0.04918458352508104,
          0.1855393966634099,
          0.45170507227682033,
          0.46822868302000464,
          0.8037542592515516,
          0.3566362118823373,
          0.3667783104507647,
          0.43326252126560916,
          0.34629264313038244,
          0.4282254595695727,
          0.6483932009699541,
          0.03387976178319785,
          0.11817002616495953,
          0.1583982562677405,
          0.7797592566530991,
          0.34593762633057257,
          0.9578904850416811,
          0.859251575103357,
          0.7495379839412252,
          0.3908377043896525,
          0.402766640482052,
          0.15978080940718775,
          0.3066437123731758,
          0.6905367675289896
         ],
         "xaxis": "x11",
         "yaxis": "y11"
        },
        {
         "line": {
          "color": "rgba(128, 128, 128, 1.0)",
          "dash": "solid",
          "shape": "linear",
          "width": 1.3
         },
         "marker": {
          "size": 2,
          "symbol": "circle"
         },
         "mode": "markers",
         "name": "C",
         "text": "",
         "type": "scatter",
         "x": [
          0.513848738914716,
          0.42977757057042876,
          0.10404217987035047,
          0.2745074314932867,
          0.04301631766497371,
          0.8969887150784384,
          0.5119088701917631,
          0.20404357546512708,
          0.5654167975052121,
          0.4394687696077685,
          0.04407639536910135,
          0.7810437250424924,
          0.7964006085675379,
          0.20816080983540752,
          0.130680096786555,
          0.9531701361707676,
          0.3742102515282032,
          0.7564134576287697,
          0.11939718784517306,
          0.4521046655661525,
          0.6291081640422204,
          0.6337482536151205,
          0.6032444625101666,
          0.7261227901390499,
          0.23436359410130259,
          0.782061673452562,
          0.6284063391933995,
          0.886406318484242,
          0.9517333856837241,
          0.4296400691315553,
          0.9595637085004282,
          0.9364460584729372,
          0.30226805634933374,
          0.5929930953145905,
          0.0013296841360473932,
          0.2537294350847856,
          0.2688187642937363,
          0.9451439748109275,
          0.7104073366692222,
          0.010044500237195941,
          0.8015423801211405,
          0.22368684905970593,
          0.5111509479923415,
          0.826365848108864,
          0.6238125508673099,
          0.6787808110095238,
          0.9249643723079329,
          0.7677274533923302,
          0.2542119373423205,
          0.3706560220374955,
          0.7001388965154516,
          0.3446378881583999,
          0.531477734122208,
          0.7967797379676417,
          0.22396077446105223,
          0.07760519798197008,
          0.797589907107909,
          0.6836767318244401,
          0.718681383647882,
          0.3841168957077452,
          0.4546832200635279,
          0.5782513144471789,
          0.1865298586951185,
          0.5085657218954693,
          0.9910756830740246,
          0.39827577537651526,
          0.4430204861164805,
          0.949776783369075,
          0.4853560851477894,
          0.01386154011211671,
          0.13546953501017456,
          0.5375780990899847,
          0.18388052146452305,
          0.7671198891708962,
          0.2727439022915653,
          0.6290082432524554,
          0.9579333743328089,
          0.6833621106505054,
          0.8294951812809604,
          0.37096456958776913,
          0.5281327258678865,
          0.44729687309537025,
          0.3402145870974209,
          0.5190595659418663,
          0.8770973675132958,
          0.7720527050089664,
          0.5352708236886218,
          0.9074215381978286,
          0.7418431157607439,
          0.2193984356690759,
          0.7127875493795898,
          0.01408416173515703,
          0.028284679491114684,
          0.42825824277476265,
          0.21590929657528535,
          0.38099575910710004,
          0.4330368351109082,
          0.23769354646014562,
          0.8382726021223676,
          0.4443104281055954
         ],
         "xaxis": "x12",
         "y": [
          0.3561863707076981,
          0.9448437071452328,
          0.24016336710711983,
          0.20118829755988143,
          0.15122255005135588,
          0.7804239345315636,
          0.583442592245674,
          0.9317406155751462,
          0.020397336716458825,
          0.9221974697055461,
          0.969220929430213,
          0.4994436983275503,
          0.7409697236583278,
          0.2527226186058037,
          0.9106129807500702,
          0.6717553184456281,
          0.1644188664973485,
          0.8421021071277454,
          0.24119401432572796,
          0.028815001251824346,
          0.9862055539762161,
          0.3348294121333627,
          0.826378510588906,
          0.14699937935962082,
          0.1050604236752457,
          0.010542068162520568,
          0.9086668473608321,
          0.26111228444865375,
          0.8577786750884392,
          0.7357068239886501,
          0.42211420163979485,
          0.7763496305081379,
          0.10803103894923038,
          0.6196586808828559,
          0.3583614227712998,
          0.5749464239799403,
          0.5293617523700247,
          0.022347185878035414,
          0.9731980020346253,
          0.8085068496606375,
          0.750686493998964,
          0.06768860341887539,
          0.027188845790728222,
          0.7794611561171221,
          0.3802631573621915,
          0.5565253385381683,
          0.15713255087980393,
          0.16107058240896932,
          0.0520871062072914,
          0.8394125768292143,
          0.3513460012875611,
          0.5834937761978631,
          0.19982349674560151,
          0.417322466510775,
          0.09629981288181944,
          0.4432969950349469,
          0.25318275830921466,
          0.8554790719324762,
          0.059818508715041574,
          0.9626685089221783,
          0.9003271238147534,
          0.5567904350940756,
          0.4473074252440554,
          0.2886902602847431,
          0.9651792138770191,
          0.8246177381143381,
          0.9924892364838382,
          0.31094051901930964,
          0.4334051683236698,
          0.9922000162432826,
          0.6968619880540602,
          0.5407420844786678,
          0.3775034242332611,
          0.9880124505614459,
          0.7168056061730363,
          0.7003658727213367,
          0.04918458352508104,
          0.1855393966634099,
          0.45170507227682033,
          0.46822868302000464,
          0.8037542592515516,
          0.3566362118823373,
          0.3667783104507647,
          0.43326252126560916,
          0.34629264313038244,
          0.4282254595695727,
          0.6483932009699541,
          0.03387976178319785,
          0.11817002616495953,
          0.1583982562677405,
          0.7797592566530991,
          0.34593762633057257,
          0.9578904850416811,
          0.859251575103357,
          0.7495379839412252,
          0.3908377043896525,
          0.402766640482052,
          0.15978080940718775,
          0.3066437123731758,
          0.6905367675289896
         ],
         "yaxis": "y12"
        },
        {
         "line": {
          "color": "rgba(128, 128, 128, 1.0)",
          "dash": "solid",
          "shape": "linear",
          "width": 1.3
         },
         "marker": {
          "size": 2,
          "symbol": "circle"
         },
         "mode": "markers",
         "name": "D",
         "text": "",
         "type": "scatter",
         "x": [
          0.6851931426351257,
          0.011776897866929925,
          0.6711687969096942,
          0.7602761239010867,
          0.3340338832786466,
          0.7816642209869414,
          0.5146777368811686,
          0.27757936324960786,
          0.45619519359886995,
          0.7826118703504528,
          0.1793926410604133,
          0.3733918907281869,
          0.40085382837520656,
          0.7618058206808223,
          0.9548275340972647,
          0.9359040309881265,
          0.9292539323643081,
          0.26699051788428463,
          0.10651570835837199,
          0.47149437820267437,
          0.4723558429116048,
          0.8924910812604379,
          0.6033388501809807,
          0.4182015649088362,
          0.770232704093313,
          0.009509643654387667,
          0.19572361958541018,
          0.9554512516562105,
          0.6532818924769286,
          0.5036202794270261,
          0.16213807970495941,
          0.3259476854783766,
          0.4767630067990336,
          0.19238066856053038,
          0.5094150020031566,
          0.15289906315505475,
          0.25973946838954154,
          0.8479357729311677,
          0.7315736915507024,
          0.8759466725937207,
          0.0039892864183248555,
          0.9223470930587958,
          0.6197722470563477,
          0.8915203806250959,
          0.49874906370424277,
          0.8225743297774892,
          0.8321877277647997,
          0.9337619528161556,
          0.566430332989835,
          0.08749478659048193,
          0.7062816404886239,
          0.10971798726716797,
          0.8090217481133684,
          0.9348440936553413,
          0.5470523235663101,
          0.9929227017449651,
          0.3055033289453378,
          0.8233020655085458,
          0.6399880075867787,
          0.4259085634802027,
          0.2271003082781351,
          0.9603863275665787,
          0.5754718198360809,
          0.6855922475545655,
          0.8000215864503785,
          0.8882799595071866,
          0.3241319292623662,
          0.02510558337714941,
          0.06417188996909506,
          0.04396342402257025,
          0.09297676877375738,
          0.8371524654524803,
          0.6923717442984694,
          0.017999027479590257,
          0.6084020829648865,
          0.8653194757514951,
          0.892365537710933,
          0.9669928639688513,
          0.9172442534485912,
          0.7037940251904705,
          0.535592906715179,
          0.5143379520921977,
          0.03561205339677431,
          0.841369886530009,
          0.724365948331164,
          0.4113079899678703,
          0.9664246333130304,
          0.9775693874432042,
          0.2442457321332865,
          0.10445602074912241,
          0.04761806409626401,
          0.520870656725141,
          0.9114110263365339,
          0.9649354330695963,
          0.5508033886063982,
          0.9174235511977848,
          0.7837412414053477,
          0.36246755694057575,
          0.1328875015634834,
          0.6268064453069518
         ],
         "xaxis": "x13",
         "y": [
          0.513848738914716,
          0.42977757057042876,
          0.10404217987035047,
          0.2745074314932867,
          0.04301631766497371,
          0.8969887150784384,
          0.5119088701917631,
          0.20404357546512708,
          0.5654167975052121,
          0.4394687696077685,
          0.04407639536910135,
          0.7810437250424924,
          0.7964006085675379,
          0.20816080983540752,
          0.130680096786555,
          0.9531701361707676,
          0.3742102515282032,
          0.7564134576287697,
          0.11939718784517306,
          0.4521046655661525,
          0.6291081640422204,
          0.6337482536151205,
          0.6032444625101666,
          0.7261227901390499,
          0.23436359410130259,
          0.782061673452562,
          0.6284063391933995,
          0.886406318484242,
          0.9517333856837241,
          0.4296400691315553,
          0.9595637085004282,
          0.9364460584729372,
          0.30226805634933374,
          0.5929930953145905,
          0.0013296841360473932,
          0.2537294350847856,
          0.2688187642937363,
          0.9451439748109275,
          0.7104073366692222,
          0.010044500237195941,
          0.8015423801211405,
          0.22368684905970593,
          0.5111509479923415,
          0.826365848108864,
          0.6238125508673099,
          0.6787808110095238,
          0.9249643723079329,
          0.7677274533923302,
          0.2542119373423205,
          0.3706560220374955,
          0.7001388965154516,
          0.3446378881583999,
          0.531477734122208,
          0.7967797379676417,
          0.22396077446105223,
          0.07760519798197008,
          0.797589907107909,
          0.6836767318244401,
          0.718681383647882,
          0.3841168957077452,
          0.4546832200635279,
          0.5782513144471789,
          0.1865298586951185,
          0.5085657218954693,
          0.9910756830740246,
          0.39827577537651526,
          0.4430204861164805,
          0.949776783369075,
          0.4853560851477894,
          0.01386154011211671,
          0.13546953501017456,
          0.5375780990899847,
          0.18388052146452305,
          0.7671198891708962,
          0.2727439022915653,
          0.6290082432524554,
          0.9579333743328089,
          0.6833621106505054,
          0.8294951812809604,
          0.37096456958776913,
          0.5281327258678865,
          0.44729687309537025,
          0.3402145870974209,
          0.5190595659418663,
          0.8770973675132958,
          0.7720527050089664,
          0.5352708236886218,
          0.9074215381978286,
          0.7418431157607439,
          0.2193984356690759,
          0.7127875493795898,
          0.01408416173515703,
          0.028284679491114684,
          0.42825824277476265,
          0.21590929657528535,
          0.38099575910710004,
          0.4330368351109082,
          0.23769354646014562,
          0.8382726021223676,
          0.4443104281055954
         ],
         "yaxis": "y13"
        },
        {
         "line": {
          "color": "rgba(128, 128, 128, 1.0)",
          "dash": "solid",
          "shape": "linear",
          "width": 1.3
         },
         "marker": {
          "size": 2,
          "symbol": "circle"
         },
         "mode": "markers",
         "name": "D",
         "text": "",
         "type": "scatter",
         "x": [
          0.42266747208389555,
          0.4025529479209352,
          0.39329654633743705,
          0.7089745237385758,
          0.8860223422354788,
          0.39529151946139907,
          0.8858426705003635,
          0.7331624810794318,
          0.7988126303942001,
          0.07056472330669372,
          0.690489663051068,
          0.7550914443538574,
          0.2346450175788274,
          0.3472108096739044,
          0.6940324907465701,
          0.9854109807099428,
          0.17432375474191653,
          0.6323086937207173,
          0.018811432365633207,
          0.34363817749418213,
          0.16907863810594215,
          0.1880173195378385,
          0.2838855731082722,
          0.58633569166344,
          0.7313784980764263,
          0.4217352907134324,
          0.0821310918890209,
          0.5802391456930355,
          0.3227803268815147,
          0.1374991881569092,
          0.2864621476593546,
          0.19149129939914444,
          0.9832226435073113,
          0.6364963320943695,
          0.27947567276258256,
          0.26949286081671076,
          0.9805085759405282,
          0.6999272814650266,
          0.591582308601422,
          0.8607311892983199,
          0.25907295320215706,
          0.10024379132139893,
          0.5819390306343086,
          0.5522721660384126,
          0.22890535806939616,
          0.5545316245108332,
          0.6440610954172484,
          0.1114944589432354,
          0.7479585083642296,
          0.3874151625265263,
          0.9761135772858062,
          0.7332172159647825,
          0.3422539745509602,
          0.6429353253166763,
          0.8821621570152173,
          0.4884007673373636,
          0.6959144740845423,
          0.18689551402856497,
          0.20447107279468102,
          0.1612271442359685,
          0.49526183884171393,
          0.902412854780535,
          0.039160470695294824,
          0.023922135921567778,
          0.4623623853095533,
          0.5671486755300885,
          0.79530536593901,
          0.23776063858335006,
          0.7334239134015752,
          0.8329837817282485,
          0.21663846070326986,
          0.48422265908275763,
          0.7183641746039793,
          0.7886167134052354,
          0.1595354492877974,
          0.3716498483596541,
          0.9311235868724613,
          0.6447795579762172,
          0.30540876045655563,
          0.02459361591469833,
          0.8829687393024542,
          0.4566429789993859,
          0.16355927849690421,
          0.6187702383650091,
          0.8931607555718876,
          0.711878986423076,
          0.43774619353263144,
          0.49253425211216895,
          0.9330458248294381,
          0.8519322649822875,
          0.75431544317232,
          0.24172360392386216,
          0.5482403192688711,
          0.6137944497061548,
          0.8364759617290806,
          0.45066006104456136,
          0.24196271044178141,
          0.7692594805027758,
          0.8516824597359812,
          0.3178770681491705
         ],
         "xaxis": "x14",
         "y": [
          0.513848738914716,
          0.42977757057042876,
          0.10404217987035047,
          0.2745074314932867,
          0.04301631766497371,
          0.8969887150784384,
          0.5119088701917631,
          0.20404357546512708,
          0.5654167975052121,
          0.4394687696077685,
          0.04407639536910135,
          0.7810437250424924,
          0.7964006085675379,
          0.20816080983540752,
          0.130680096786555,
          0.9531701361707676,
          0.3742102515282032,
          0.7564134576287697,
          0.11939718784517306,
          0.4521046655661525,
          0.6291081640422204,
          0.6337482536151205,
          0.6032444625101666,
          0.7261227901390499,
          0.23436359410130259,
          0.782061673452562,
          0.6284063391933995,
          0.886406318484242,
          0.9517333856837241,
          0.4296400691315553,
          0.9595637085004282,
          0.9364460584729372,
          0.30226805634933374,
          0.5929930953145905,
          0.0013296841360473932,
          0.2537294350847856,
          0.2688187642937363,
          0.9451439748109275,
          0.7104073366692222,
          0.010044500237195941,
          0.8015423801211405,
          0.22368684905970593,
          0.5111509479923415,
          0.826365848108864,
          0.6238125508673099,
          0.6787808110095238,
          0.9249643723079329,
          0.7677274533923302,
          0.2542119373423205,
          0.3706560220374955,
          0.7001388965154516,
          0.3446378881583999,
          0.531477734122208,
          0.7967797379676417,
          0.22396077446105223,
          0.07760519798197008,
          0.797589907107909,
          0.6836767318244401,
          0.718681383647882,
          0.3841168957077452,
          0.4546832200635279,
          0.5782513144471789,
          0.1865298586951185,
          0.5085657218954693,
          0.9910756830740246,
          0.39827577537651526,
          0.4430204861164805,
          0.949776783369075,
          0.4853560851477894,
          0.01386154011211671,
          0.13546953501017456,
          0.5375780990899847,
          0.18388052146452305,
          0.7671198891708962,
          0.2727439022915653,
          0.6290082432524554,
          0.9579333743328089,
          0.6833621106505054,
          0.8294951812809604,
          0.37096456958776913,
          0.5281327258678865,
          0.44729687309537025,
          0.3402145870974209,
          0.5190595659418663,
          0.8770973675132958,
          0.7720527050089664,
          0.5352708236886218,
          0.9074215381978286,
          0.7418431157607439,
          0.2193984356690759,
          0.7127875493795898,
          0.01408416173515703,
          0.028284679491114684,
          0.42825824277476265,
          0.21590929657528535,
          0.38099575910710004,
          0.4330368351109082,
          0.23769354646014562,
          0.8382726021223676,
          0.4443104281055954
         ],
         "yaxis": "y14"
        },
        {
         "line": {
          "color": "rgba(128, 128, 128, 1.0)",
          "dash": "solid",
          "shape": "linear",
          "width": 1.3
         },
         "marker": {
          "size": 2,
          "symbol": "circle"
         },
         "mode": "markers",
         "name": "D",
         "text": "",
         "type": "scatter",
         "x": [
          0.3561863707076981,
          0.9448437071452328,
          0.24016336710711983,
          0.20118829755988143,
          0.15122255005135588,
          0.7804239345315636,
          0.583442592245674,
          0.9317406155751462,
          0.020397336716458825,
          0.9221974697055461,
          0.969220929430213,
          0.4994436983275503,
          0.7409697236583278,
          0.2527226186058037,
          0.9106129807500702,
          0.6717553184456281,
          0.1644188664973485,
          0.8421021071277454,
          0.24119401432572796,
          0.028815001251824346,
          0.9862055539762161,
          0.3348294121333627,
          0.826378510588906,
          0.14699937935962082,
          0.1050604236752457,
          0.010542068162520568,
          0.9086668473608321,
          0.26111228444865375,
          0.8577786750884392,
          0.7357068239886501,
          0.42211420163979485,
          0.7763496305081379,
          0.10803103894923038,
          0.6196586808828559,
          0.3583614227712998,
          0.5749464239799403,
          0.5293617523700247,
          0.022347185878035414,
          0.9731980020346253,
          0.8085068496606375,
          0.750686493998964,
          0.06768860341887539,
          0.027188845790728222,
          0.7794611561171221,
          0.3802631573621915,
          0.5565253385381683,
          0.15713255087980393,
          0.16107058240896932,
          0.0520871062072914,
          0.8394125768292143,
          0.3513460012875611,
          0.5834937761978631,
          0.19982349674560151,
          0.417322466510775,
          0.09629981288181944,
          0.4432969950349469,
          0.25318275830921466,
          0.8554790719324762,
          0.059818508715041574,
          0.9626685089221783,
          0.9003271238147534,
          0.5567904350940756,
          0.4473074252440554,
          0.2886902602847431,
          0.9651792138770191,
          0.8246177381143381,
          0.9924892364838382,
          0.31094051901930964,
          0.4334051683236698,
          0.9922000162432826,
          0.6968619880540602,
          0.5407420844786678,
          0.3775034242332611,
          0.9880124505614459,
          0.7168056061730363,
          0.7003658727213367,
          0.04918458352508104,
          0.1855393966634099,
          0.45170507227682033,
          0.46822868302000464,
          0.8037542592515516,
          0.3566362118823373,
          0.3667783104507647,
          0.43326252126560916,
          0.34629264313038244,
          0.4282254595695727,
          0.6483932009699541,
          0.03387976178319785,
          0.11817002616495953,
          0.1583982562677405,
          0.7797592566530991,
          0.34593762633057257,
          0.9578904850416811,
          0.859251575103357,
          0.7495379839412252,
          0.3908377043896525,
          0.402766640482052,
          0.15978080940718775,
          0.3066437123731758,
          0.6905367675289896
         ],
         "xaxis": "x15",
         "y": [
          0.513848738914716,
          0.42977757057042876,
          0.10404217987035047,
          0.2745074314932867,
          0.04301631766497371,
          0.8969887150784384,
          0.5119088701917631,
          0.20404357546512708,
          0.5654167975052121,
          0.4394687696077685,
          0.04407639536910135,
          0.7810437250424924,
          0.7964006085675379,
          0.20816080983540752,
          0.130680096786555,
          0.9531701361707676,
          0.3742102515282032,
          0.7564134576287697,
          0.11939718784517306,
          0.4521046655661525,
          0.6291081640422204,
          0.6337482536151205,
          0.6032444625101666,
          0.7261227901390499,
          0.23436359410130259,
          0.782061673452562,
          0.6284063391933995,
          0.886406318484242,
          0.9517333856837241,
          0.4296400691315553,
          0.9595637085004282,
          0.9364460584729372,
          0.30226805634933374,
          0.5929930953145905,
          0.0013296841360473932,
          0.2537294350847856,
          0.2688187642937363,
          0.9451439748109275,
          0.7104073366692222,
          0.010044500237195941,
          0.8015423801211405,
          0.22368684905970593,
          0.5111509479923415,
          0.826365848108864,
          0.6238125508673099,
          0.6787808110095238,
          0.9249643723079329,
          0.7677274533923302,
          0.2542119373423205,
          0.3706560220374955,
          0.7001388965154516,
          0.3446378881583999,
          0.531477734122208,
          0.7967797379676417,
          0.22396077446105223,
          0.07760519798197008,
          0.797589907107909,
          0.6836767318244401,
          0.718681383647882,
          0.3841168957077452,
          0.4546832200635279,
          0.5782513144471789,
          0.1865298586951185,
          0.5085657218954693,
          0.9910756830740246,
          0.39827577537651526,
          0.4430204861164805,
          0.949776783369075,
          0.4853560851477894,
          0.01386154011211671,
          0.13546953501017456,
          0.5375780990899847,
          0.18388052146452305,
          0.7671198891708962,
          0.2727439022915653,
          0.6290082432524554,
          0.9579333743328089,
          0.6833621106505054,
          0.8294951812809604,
          0.37096456958776913,
          0.5281327258678865,
          0.44729687309537025,
          0.3402145870974209,
          0.5190595659418663,
          0.8770973675132958,
          0.7720527050089664,
          0.5352708236886218,
          0.9074215381978286,
          0.7418431157607439,
          0.2193984356690759,
          0.7127875493795898,
          0.01408416173515703,
          0.028284679491114684,
          0.42825824277476265,
          0.21590929657528535,
          0.38099575910710004,
          0.4330368351109082,
          0.23769354646014562,
          0.8382726021223676,
          0.4443104281055954
         ],
         "yaxis": "y15"
        },
        {
         "histfunc": "count",
         "histnorm": "",
         "marker": {
          "color": "rgba(128, 0, 128, 1.0)",
          "line": {
           "color": "#4D5663",
           "width": 1.3
          }
         },
         "name": "D",
         "nbinsx": 10,
         "opacity": 0.8,
         "orientation": "v",
         "type": "histogram",
         "x": [
          0.513848738914716,
          0.42977757057042876,
          0.10404217987035047,
          0.2745074314932867,
          0.04301631766497371,
          0.8969887150784384,
          0.5119088701917631,
          0.20404357546512708,
          0.5654167975052121,
          0.4394687696077685,
          0.04407639536910135,
          0.7810437250424924,
          0.7964006085675379,
          0.20816080983540752,
          0.130680096786555,
          0.9531701361707676,
          0.3742102515282032,
          0.7564134576287697,
          0.11939718784517306,
          0.4521046655661525,
          0.6291081640422204,
          0.6337482536151205,
          0.6032444625101666,
          0.7261227901390499,
          0.23436359410130259,
          0.782061673452562,
          0.6284063391933995,
          0.886406318484242,
          0.9517333856837241,
          0.4296400691315553,
          0.9595637085004282,
          0.9364460584729372,
          0.30226805634933374,
          0.5929930953145905,
          0.0013296841360473932,
          0.2537294350847856,
          0.2688187642937363,
          0.9451439748109275,
          0.7104073366692222,
          0.010044500237195941,
          0.8015423801211405,
          0.22368684905970593,
          0.5111509479923415,
          0.826365848108864,
          0.6238125508673099,
          0.6787808110095238,
          0.9249643723079329,
          0.7677274533923302,
          0.2542119373423205,
          0.3706560220374955,
          0.7001388965154516,
          0.3446378881583999,
          0.531477734122208,
          0.7967797379676417,
          0.22396077446105223,
          0.07760519798197008,
          0.797589907107909,
          0.6836767318244401,
          0.718681383647882,
          0.3841168957077452,
          0.4546832200635279,
          0.5782513144471789,
          0.1865298586951185,
          0.5085657218954693,
          0.9910756830740246,
          0.39827577537651526,
          0.4430204861164805,
          0.949776783369075,
          0.4853560851477894,
          0.01386154011211671,
          0.13546953501017456,
          0.5375780990899847,
          0.18388052146452305,
          0.7671198891708962,
          0.2727439022915653,
          0.6290082432524554,
          0.9579333743328089,
          0.6833621106505054,
          0.8294951812809604,
          0.37096456958776913,
          0.5281327258678865,
          0.44729687309537025,
          0.3402145870974209,
          0.5190595659418663,
          0.8770973675132958,
          0.7720527050089664,
          0.5352708236886218,
          0.9074215381978286,
          0.7418431157607439,
          0.2193984356690759,
          0.7127875493795898,
          0.01408416173515703,
          0.028284679491114684,
          0.42825824277476265,
          0.21590929657528535,
          0.38099575910710004,
          0.4330368351109082,
          0.23769354646014562,
          0.8382726021223676,
          0.4443104281055954
         ],
         "xaxis": "x16",
         "yaxis": "y16"
        }
       ],
       "layout": {
        "bargap": 0.02,
        "legend": {
         "bgcolor": "#F5F6F9",
         "font": {
          "color": "#4D5663"
         }
        },
        "paper_bgcolor": "#F5F6F9",
        "plot_bgcolor": "#F5F6F9",
        "showlegend": false,
        "template": {
         "data": {
          "bar": [
           {
            "error_x": {
             "color": "#2a3f5f"
            },
            "error_y": {
             "color": "#2a3f5f"
            },
            "marker": {
             "line": {
              "color": "#E5ECF6",
              "width": 0.5
             },
             "pattern": {
              "fillmode": "overlay",
              "size": 10,
              "solidity": 0.2
             }
            },
            "type": "bar"
           }
          ],
          "barpolar": [
           {
            "marker": {
             "line": {
              "color": "#E5ECF6",
              "width": 0.5
             },
             "pattern": {
              "fillmode": "overlay",
              "size": 10,
              "solidity": 0.2
             }
            },
            "type": "barpolar"
           }
          ],
          "carpet": [
           {
            "aaxis": {
             "endlinecolor": "#2a3f5f",
             "gridcolor": "white",
             "linecolor": "white",
             "minorgridcolor": "white",
             "startlinecolor": "#2a3f5f"
            },
            "baxis": {
             "endlinecolor": "#2a3f5f",
             "gridcolor": "white",
             "linecolor": "white",
             "minorgridcolor": "white",
             "startlinecolor": "#2a3f5f"
            },
            "type": "carpet"
           }
          ],
          "choropleth": [
           {
            "colorbar": {
             "outlinewidth": 0,
             "ticks": ""
            },
            "type": "choropleth"
           }
          ],
          "contour": [
           {
            "colorbar": {
             "outlinewidth": 0,
             "ticks": ""
            },
            "colorscale": [
             [
              0,
              "#0d0887"
             ],
             [
              0.1111111111111111,
              "#46039f"
             ],
             [
              0.2222222222222222,
              "#7201a8"
             ],
             [
              0.3333333333333333,
              "#9c179e"
             ],
             [
              0.4444444444444444,
              "#bd3786"
             ],
             [
              0.5555555555555556,
              "#d8576b"
             ],
             [
              0.6666666666666666,
              "#ed7953"
             ],
             [
              0.7777777777777778,
              "#fb9f3a"
             ],
             [
              0.8888888888888888,
              "#fdca26"
             ],
             [
              1,
              "#f0f921"
             ]
            ],
            "type": "contour"
           }
          ],
          "contourcarpet": [
           {
            "colorbar": {
             "outlinewidth": 0,
             "ticks": ""
            },
            "type": "contourcarpet"
           }
          ],
          "heatmap": [
           {
            "colorbar": {
             "outlinewidth": 0,
             "ticks": ""
            },
            "colorscale": [
             [
              0,
              "#0d0887"
             ],
             [
              0.1111111111111111,
              "#46039f"
             ],
             [
              0.2222222222222222,
              "#7201a8"
             ],
             [
              0.3333333333333333,
              "#9c179e"
             ],
             [
              0.4444444444444444,
              "#bd3786"
             ],
             [
              0.5555555555555556,
              "#d8576b"
             ],
             [
              0.6666666666666666,
              "#ed7953"
             ],
             [
              0.7777777777777778,
              "#fb9f3a"
             ],
             [
              0.8888888888888888,
              "#fdca26"
             ],
             [
              1,
              "#f0f921"
             ]
            ],
            "type": "heatmap"
           }
          ],
          "heatmapgl": [
           {
            "colorbar": {
             "outlinewidth": 0,
             "ticks": ""
            },
            "colorscale": [
             [
              0,
              "#0d0887"
             ],
             [
              0.1111111111111111,
              "#46039f"
             ],
             [
              0.2222222222222222,
              "#7201a8"
             ],
             [
              0.3333333333333333,
              "#9c179e"
             ],
             [
              0.4444444444444444,
              "#bd3786"
             ],
             [
              0.5555555555555556,
              "#d8576b"
             ],
             [
              0.6666666666666666,
              "#ed7953"
             ],
             [
              0.7777777777777778,
              "#fb9f3a"
             ],
             [
              0.8888888888888888,
              "#fdca26"
             ],
             [
              1,
              "#f0f921"
             ]
            ],
            "type": "heatmapgl"
           }
          ],
          "histogram": [
           {
            "marker": {
             "pattern": {
              "fillmode": "overlay",
              "size": 10,
              "solidity": 0.2
             }
            },
            "type": "histogram"
           }
          ],
          "histogram2d": [
           {
            "colorbar": {
             "outlinewidth": 0,
             "ticks": ""
            },
            "colorscale": [
             [
              0,
              "#0d0887"
             ],
             [
              0.1111111111111111,
              "#46039f"
             ],
             [
              0.2222222222222222,
              "#7201a8"
             ],
             [
              0.3333333333333333,
              "#9c179e"
             ],
             [
              0.4444444444444444,
              "#bd3786"
             ],
             [
              0.5555555555555556,
              "#d8576b"
             ],
             [
              0.6666666666666666,
              "#ed7953"
             ],
             [
              0.7777777777777778,
              "#fb9f3a"
             ],
             [
              0.8888888888888888,
              "#fdca26"
             ],
             [
              1,
              "#f0f921"
             ]
            ],
            "type": "histogram2d"
           }
          ],
          "histogram2dcontour": [
           {
            "colorbar": {
             "outlinewidth": 0,
             "ticks": ""
            },
            "colorscale": [
             [
              0,
              "#0d0887"
             ],
             [
              0.1111111111111111,
              "#46039f"
             ],
             [
              0.2222222222222222,
              "#7201a8"
             ],
             [
              0.3333333333333333,
              "#9c179e"
             ],
             [
              0.4444444444444444,
              "#bd3786"
             ],
             [
              0.5555555555555556,
              "#d8576b"
             ],
             [
              0.6666666666666666,
              "#ed7953"
             ],
             [
              0.7777777777777778,
              "#fb9f3a"
             ],
             [
              0.8888888888888888,
              "#fdca26"
             ],
             [
              1,
              "#f0f921"
             ]
            ],
            "type": "histogram2dcontour"
           }
          ],
          "mesh3d": [
           {
            "colorbar": {
             "outlinewidth": 0,
             "ticks": ""
            },
            "type": "mesh3d"
           }
          ],
          "parcoords": [
           {
            "line": {
             "colorbar": {
              "outlinewidth": 0,
              "ticks": ""
             }
            },
            "type": "parcoords"
           }
          ],
          "pie": [
           {
            "automargin": true,
            "type": "pie"
           }
          ],
          "scatter": [
           {
            "fillpattern": {
             "fillmode": "overlay",
             "size": 10,
             "solidity": 0.2
            },
            "type": "scatter"
           }
          ],
          "scatter3d": [
           {
            "line": {
             "colorbar": {
              "outlinewidth": 0,
              "ticks": ""
             }
            },
            "marker": {
             "colorbar": {
              "outlinewidth": 0,
              "ticks": ""
             }
            },
            "type": "scatter3d"
           }
          ],
          "scattercarpet": [
           {
            "marker": {
             "colorbar": {
              "outlinewidth": 0,
              "ticks": ""
             }
            },
            "type": "scattercarpet"
           }
          ],
          "scattergeo": [
           {
            "marker": {
             "colorbar": {
              "outlinewidth": 0,
              "ticks": ""
             }
            },
            "type": "scattergeo"
           }
          ],
          "scattergl": [
           {
            "marker": {
             "colorbar": {
              "outlinewidth": 0,
              "ticks": ""
             }
            },
            "type": "scattergl"
           }
          ],
          "scattermapbox": [
           {
            "marker": {
             "colorbar": {
              "outlinewidth": 0,
              "ticks": ""
             }
            },
            "type": "scattermapbox"
           }
          ],
          "scatterpolar": [
           {
            "marker": {
             "colorbar": {
              "outlinewidth": 0,
              "ticks": ""
             }
            },
            "type": "scatterpolar"
           }
          ],
          "scatterpolargl": [
           {
            "marker": {
             "colorbar": {
              "outlinewidth": 0,
              "ticks": ""
             }
            },
            "type": "scatterpolargl"
           }
          ],
          "scatterternary": [
           {
            "marker": {
             "colorbar": {
              "outlinewidth": 0,
              "ticks": ""
             }
            },
            "type": "scatterternary"
           }
          ],
          "surface": [
           {
            "colorbar": {
             "outlinewidth": 0,
             "ticks": ""
            },
            "colorscale": [
             [
              0,
              "#0d0887"
             ],
             [
              0.1111111111111111,
              "#46039f"
             ],
             [
              0.2222222222222222,
              "#7201a8"
             ],
             [
              0.3333333333333333,
              "#9c179e"
             ],
             [
              0.4444444444444444,
              "#bd3786"
             ],
             [
              0.5555555555555556,
              "#d8576b"
             ],
             [
              0.6666666666666666,
              "#ed7953"
             ],
             [
              0.7777777777777778,
              "#fb9f3a"
             ],
             [
              0.8888888888888888,
              "#fdca26"
             ],
             [
              1,
              "#f0f921"
             ]
            ],
            "type": "surface"
           }
          ],
          "table": [
           {
            "cells": {
             "fill": {
              "color": "#EBF0F8"
             },
             "line": {
              "color": "white"
             }
            },
            "header": {
             "fill": {
              "color": "#C8D4E3"
             },
             "line": {
              "color": "white"
             }
            },
            "type": "table"
           }
          ]
         },
         "layout": {
          "annotationdefaults": {
           "arrowcolor": "#2a3f5f",
           "arrowhead": 0,
           "arrowwidth": 1
          },
          "autotypenumbers": "strict",
          "coloraxis": {
           "colorbar": {
            "outlinewidth": 0,
            "ticks": ""
           }
          },
          "colorscale": {
           "diverging": [
            [
             0,
             "#8e0152"
            ],
            [
             0.1,
             "#c51b7d"
            ],
            [
             0.2,
             "#de77ae"
            ],
            [
             0.3,
             "#f1b6da"
            ],
            [
             0.4,
             "#fde0ef"
            ],
            [
             0.5,
             "#f7f7f7"
            ],
            [
             0.6,
             "#e6f5d0"
            ],
            [
             0.7,
             "#b8e186"
            ],
            [
             0.8,
             "#7fbc41"
            ],
            [
             0.9,
             "#4d9221"
            ],
            [
             1,
             "#276419"
            ]
           ],
           "sequential": [
            [
             0,
             "#0d0887"
            ],
            [
             0.1111111111111111,
             "#46039f"
            ],
            [
             0.2222222222222222,
             "#7201a8"
            ],
            [
             0.3333333333333333,
             "#9c179e"
            ],
            [
             0.4444444444444444,
             "#bd3786"
            ],
            [
             0.5555555555555556,
             "#d8576b"
            ],
            [
             0.6666666666666666,
             "#ed7953"
            ],
            [
             0.7777777777777778,
             "#fb9f3a"
            ],
            [
             0.8888888888888888,
             "#fdca26"
            ],
            [
             1,
             "#f0f921"
            ]
           ],
           "sequentialminus": [
            [
             0,
             "#0d0887"
            ],
            [
             0.1111111111111111,
             "#46039f"
            ],
            [
             0.2222222222222222,
             "#7201a8"
            ],
            [
             0.3333333333333333,
             "#9c179e"
            ],
            [
             0.4444444444444444,
             "#bd3786"
            ],
            [
             0.5555555555555556,
             "#d8576b"
            ],
            [
             0.6666666666666666,
             "#ed7953"
            ],
            [
             0.7777777777777778,
             "#fb9f3a"
            ],
            [
             0.8888888888888888,
             "#fdca26"
            ],
            [
             1,
             "#f0f921"
            ]
           ]
          },
          "colorway": [
           "#636efa",
           "#EF553B",
           "#00cc96",
           "#ab63fa",
           "#FFA15A",
           "#19d3f3",
           "#FF6692",
           "#B6E880",
           "#FF97FF",
           "#FECB52"
          ],
          "font": {
           "color": "#2a3f5f"
          },
          "geo": {
           "bgcolor": "white",
           "lakecolor": "white",
           "landcolor": "#E5ECF6",
           "showlakes": true,
           "showland": true,
           "subunitcolor": "white"
          },
          "hoverlabel": {
           "align": "left"
          },
          "hovermode": "closest",
          "mapbox": {
           "style": "light"
          },
          "paper_bgcolor": "white",
          "plot_bgcolor": "#E5ECF6",
          "polar": {
           "angularaxis": {
            "gridcolor": "white",
            "linecolor": "white",
            "ticks": ""
           },
           "bgcolor": "#E5ECF6",
           "radialaxis": {
            "gridcolor": "white",
            "linecolor": "white",
            "ticks": ""
           }
          },
          "scene": {
           "xaxis": {
            "backgroundcolor": "#E5ECF6",
            "gridcolor": "white",
            "gridwidth": 2,
            "linecolor": "white",
            "showbackground": true,
            "ticks": "",
            "zerolinecolor": "white"
           },
           "yaxis": {
            "backgroundcolor": "#E5ECF6",
            "gridcolor": "white",
            "gridwidth": 2,
            "linecolor": "white",
            "showbackground": true,
            "ticks": "",
            "zerolinecolor": "white"
           },
           "zaxis": {
            "backgroundcolor": "#E5ECF6",
            "gridcolor": "white",
            "gridwidth": 2,
            "linecolor": "white",
            "showbackground": true,
            "ticks": "",
            "zerolinecolor": "white"
           }
          },
          "shapedefaults": {
           "line": {
            "color": "#2a3f5f"
           }
          },
          "ternary": {
           "aaxis": {
            "gridcolor": "white",
            "linecolor": "white",
            "ticks": ""
           },
           "baxis": {
            "gridcolor": "white",
            "linecolor": "white",
            "ticks": ""
           },
           "bgcolor": "#E5ECF6",
           "caxis": {
            "gridcolor": "white",
            "linecolor": "white",
            "ticks": ""
           }
          },
          "title": {
           "x": 0.05
          },
          "xaxis": {
           "automargin": true,
           "gridcolor": "white",
           "linecolor": "white",
           "ticks": "",
           "title": {
            "standoff": 15
           },
           "zerolinecolor": "white",
           "zerolinewidth": 2
          },
          "yaxis": {
           "automargin": true,
           "gridcolor": "white",
           "linecolor": "white",
           "ticks": "",
           "title": {
            "standoff": 15
           },
           "zerolinecolor": "white",
           "zerolinewidth": 2
          }
         }
        },
        "title": {
         "font": {
          "color": "#4D5663"
         }
        },
        "xaxis": {
         "anchor": "y",
         "domain": [
          0,
          0.2125
         ],
         "gridcolor": "#E1E5ED",
         "showgrid": false,
         "tickfont": {
          "color": "#4D5663"
         },
         "title": {
          "font": {
           "color": "#4D5663"
          },
          "text": ""
         },
         "zerolinecolor": "#E1E5ED"
        },
        "xaxis10": {
         "anchor": "y10",
         "domain": [
          0.2625,
          0.475
         ],
         "gridcolor": "#E1E5ED",
         "showgrid": false,
         "tickfont": {
          "color": "#4D5663"
         },
         "title": {
          "font": {
           "color": "#4D5663"
          },
          "text": ""
         },
         "zerolinecolor": "#E1E5ED"
        },
        "xaxis11": {
         "anchor": "y11",
         "domain": [
          0.525,
          0.7375
         ],
         "gridcolor": "#E1E5ED",
         "showgrid": false,
         "tickfont": {
          "color": "#4D5663"
         },
         "title": {
          "font": {
           "color": "#4D5663"
          },
          "text": ""
         },
         "zerolinecolor": "#E1E5ED"
        },
        "xaxis12": {
         "anchor": "y12",
         "domain": [
          0.7875,
          1
         ],
         "gridcolor": "#E1E5ED",
         "showgrid": false,
         "tickfont": {
          "color": "#4D5663"
         },
         "title": {
          "font": {
           "color": "#4D5663"
          },
          "text": ""
         },
         "zerolinecolor": "#E1E5ED"
        },
        "xaxis13": {
         "anchor": "y13",
         "domain": [
          0,
          0.2125
         ],
         "gridcolor": "#E1E5ED",
         "showgrid": false,
         "tickfont": {
          "color": "#4D5663"
         },
         "title": {
          "font": {
           "color": "#4D5663"
          },
          "text": ""
         },
         "zerolinecolor": "#E1E5ED"
        },
        "xaxis14": {
         "anchor": "y14",
         "domain": [
          0.2625,
          0.475
         ],
         "gridcolor": "#E1E5ED",
         "showgrid": false,
         "tickfont": {
          "color": "#4D5663"
         },
         "title": {
          "font": {
           "color": "#4D5663"
          },
          "text": ""
         },
         "zerolinecolor": "#E1E5ED"
        },
        "xaxis15": {
         "anchor": "y15",
         "domain": [
          0.525,
          0.7375
         ],
         "gridcolor": "#E1E5ED",
         "showgrid": false,
         "tickfont": {
          "color": "#4D5663"
         },
         "title": {
          "font": {
           "color": "#4D5663"
          },
          "text": ""
         },
         "zerolinecolor": "#E1E5ED"
        },
        "xaxis16": {
         "anchor": "y16",
         "domain": [
          0.7875,
          1
         ],
         "gridcolor": "#E1E5ED",
         "showgrid": false,
         "tickfont": {
          "color": "#4D5663"
         },
         "title": {
          "font": {
           "color": "#4D5663"
          },
          "text": ""
         },
         "zerolinecolor": "#E1E5ED"
        },
        "xaxis2": {
         "anchor": "y2",
         "domain": [
          0.2625,
          0.475
         ],
         "gridcolor": "#E1E5ED",
         "showgrid": false,
         "tickfont": {
          "color": "#4D5663"
         },
         "title": {
          "font": {
           "color": "#4D5663"
          },
          "text": ""
         },
         "zerolinecolor": "#E1E5ED"
        },
        "xaxis3": {
         "anchor": "y3",
         "domain": [
          0.525,
          0.7375
         ],
         "gridcolor": "#E1E5ED",
         "showgrid": false,
         "tickfont": {
          "color": "#4D5663"
         },
         "title": {
          "font": {
           "color": "#4D5663"
          },
          "text": ""
         },
         "zerolinecolor": "#E1E5ED"
        },
        "xaxis4": {
         "anchor": "y4",
         "domain": [
          0.7875,
          1
         ],
         "gridcolor": "#E1E5ED",
         "showgrid": false,
         "tickfont": {
          "color": "#4D5663"
         },
         "title": {
          "font": {
           "color": "#4D5663"
          },
          "text": ""
         },
         "zerolinecolor": "#E1E5ED"
        },
        "xaxis5": {
         "anchor": "y5",
         "domain": [
          0,
          0.2125
         ],
         "gridcolor": "#E1E5ED",
         "showgrid": false,
         "tickfont": {
          "color": "#4D5663"
         },
         "title": {
          "font": {
           "color": "#4D5663"
          },
          "text": ""
         },
         "zerolinecolor": "#E1E5ED"
        },
        "xaxis6": {
         "anchor": "y6",
         "domain": [
          0.2625,
          0.475
         ],
         "gridcolor": "#E1E5ED",
         "showgrid": false,
         "tickfont": {
          "color": "#4D5663"
         },
         "title": {
          "font": {
           "color": "#4D5663"
          },
          "text": ""
         },
         "zerolinecolor": "#E1E5ED"
        },
        "xaxis7": {
         "anchor": "y7",
         "domain": [
          0.525,
          0.7375
         ],
         "gridcolor": "#E1E5ED",
         "showgrid": false,
         "tickfont": {
          "color": "#4D5663"
         },
         "title": {
          "font": {
           "color": "#4D5663"
          },
          "text": ""
         },
         "zerolinecolor": "#E1E5ED"
        },
        "xaxis8": {
         "anchor": "y8",
         "domain": [
          0.7875,
          1
         ],
         "gridcolor": "#E1E5ED",
         "showgrid": false,
         "tickfont": {
          "color": "#4D5663"
         },
         "title": {
          "font": {
           "color": "#4D5663"
          },
          "text": ""
         },
         "zerolinecolor": "#E1E5ED"
        },
        "xaxis9": {
         "anchor": "y9",
         "domain": [
          0,
          0.2125
         ],
         "gridcolor": "#E1E5ED",
         "showgrid": false,
         "tickfont": {
          "color": "#4D5663"
         },
         "title": {
          "font": {
           "color": "#4D5663"
          },
          "text": ""
         },
         "zerolinecolor": "#E1E5ED"
        },
        "yaxis": {
         "anchor": "x",
         "domain": [
          0.8025,
          1
         ],
         "gridcolor": "#E1E5ED",
         "showgrid": false,
         "tickfont": {
          "color": "#4D5663"
         },
         "title": {
          "font": {
           "color": "#4D5663"
          },
          "text": ""
         },
         "zerolinecolor": "#E1E5ED"
        },
        "yaxis10": {
         "anchor": "x10",
         "domain": [
          0.2675,
          0.465
         ],
         "gridcolor": "#E1E5ED",
         "showgrid": false,
         "tickfont": {
          "color": "#4D5663"
         },
         "title": {
          "font": {
           "color": "#4D5663"
          },
          "text": ""
         },
         "zerolinecolor": "#E1E5ED"
        },
        "yaxis11": {
         "anchor": "x11",
         "domain": [
          0.2675,
          0.465
         ],
         "gridcolor": "#E1E5ED",
         "showgrid": false,
         "tickfont": {
          "color": "#4D5663"
         },
         "title": {
          "font": {
           "color": "#4D5663"
          },
          "text": ""
         },
         "zerolinecolor": "#E1E5ED"
        },
        "yaxis12": {
         "anchor": "x12",
         "domain": [
          0.2675,
          0.465
         ],
         "gridcolor": "#E1E5ED",
         "showgrid": false,
         "tickfont": {
          "color": "#4D5663"
         },
         "title": {
          "font": {
           "color": "#4D5663"
          },
          "text": ""
         },
         "zerolinecolor": "#E1E5ED"
        },
        "yaxis13": {
         "anchor": "x13",
         "domain": [
          0,
          0.1975
         ],
         "gridcolor": "#E1E5ED",
         "showgrid": false,
         "tickfont": {
          "color": "#4D5663"
         },
         "title": {
          "font": {
           "color": "#4D5663"
          },
          "text": ""
         },
         "zerolinecolor": "#E1E5ED"
        },
        "yaxis14": {
         "anchor": "x14",
         "domain": [
          0,
          0.1975
         ],
         "gridcolor": "#E1E5ED",
         "showgrid": false,
         "tickfont": {
          "color": "#4D5663"
         },
         "title": {
          "font": {
           "color": "#4D5663"
          },
          "text": ""
         },
         "zerolinecolor": "#E1E5ED"
        },
        "yaxis15": {
         "anchor": "x15",
         "domain": [
          0,
          0.1975
         ],
         "gridcolor": "#E1E5ED",
         "showgrid": false,
         "tickfont": {
          "color": "#4D5663"
         },
         "title": {
          "font": {
           "color": "#4D5663"
          },
          "text": ""
         },
         "zerolinecolor": "#E1E5ED"
        },
        "yaxis16": {
         "anchor": "x16",
         "domain": [
          0,
          0.1975
         ],
         "gridcolor": "#E1E5ED",
         "showgrid": false,
         "tickfont": {
          "color": "#4D5663"
         },
         "title": {
          "font": {
           "color": "#4D5663"
          },
          "text": ""
         },
         "zerolinecolor": "#E1E5ED"
        },
        "yaxis2": {
         "anchor": "x2",
         "domain": [
          0.8025,
          1
         ],
         "gridcolor": "#E1E5ED",
         "showgrid": false,
         "tickfont": {
          "color": "#4D5663"
         },
         "title": {
          "font": {
           "color": "#4D5663"
          },
          "text": ""
         },
         "zerolinecolor": "#E1E5ED"
        },
        "yaxis3": {
         "anchor": "x3",
         "domain": [
          0.8025,
          1
         ],
         "gridcolor": "#E1E5ED",
         "showgrid": false,
         "tickfont": {
          "color": "#4D5663"
         },
         "title": {
          "font": {
           "color": "#4D5663"
          },
          "text": ""
         },
         "zerolinecolor": "#E1E5ED"
        },
        "yaxis4": {
         "anchor": "x4",
         "domain": [
          0.8025,
          1
         ],
         "gridcolor": "#E1E5ED",
         "showgrid": false,
         "tickfont": {
          "color": "#4D5663"
         },
         "title": {
          "font": {
           "color": "#4D5663"
          },
          "text": ""
         },
         "zerolinecolor": "#E1E5ED"
        },
        "yaxis5": {
         "anchor": "x5",
         "domain": [
          0.535,
          0.7325
         ],
         "gridcolor": "#E1E5ED",
         "showgrid": false,
         "tickfont": {
          "color": "#4D5663"
         },
         "title": {
          "font": {
           "color": "#4D5663"
          },
          "text": ""
         },
         "zerolinecolor": "#E1E5ED"
        },
        "yaxis6": {
         "anchor": "x6",
         "domain": [
          0.535,
          0.7325
         ],
         "gridcolor": "#E1E5ED",
         "showgrid": false,
         "tickfont": {
          "color": "#4D5663"
         },
         "title": {
          "font": {
           "color": "#4D5663"
          },
          "text": ""
         },
         "zerolinecolor": "#E1E5ED"
        },
        "yaxis7": {
         "anchor": "x7",
         "domain": [
          0.535,
          0.7325
         ],
         "gridcolor": "#E1E5ED",
         "showgrid": false,
         "tickfont": {
          "color": "#4D5663"
         },
         "title": {
          "font": {
           "color": "#4D5663"
          },
          "text": ""
         },
         "zerolinecolor": "#E1E5ED"
        },
        "yaxis8": {
         "anchor": "x8",
         "domain": [
          0.535,
          0.7325
         ],
         "gridcolor": "#E1E5ED",
         "showgrid": false,
         "tickfont": {
          "color": "#4D5663"
         },
         "title": {
          "font": {
           "color": "#4D5663"
          },
          "text": ""
         },
         "zerolinecolor": "#E1E5ED"
        },
        "yaxis9": {
         "anchor": "x9",
         "domain": [
          0.2675,
          0.465
         ],
         "gridcolor": "#E1E5ED",
         "showgrid": false,
         "tickfont": {
          "color": "#4D5663"
         },
         "title": {
          "font": {
           "color": "#4D5663"
          },
          "text": ""
         },
         "zerolinecolor": "#E1E5ED"
        }
       }
      },
      "text/html": [
       "<div>                            <div id=\"40083966-747b-4d00-83cc-9cbb2132cbe6\" class=\"plotly-graph-div\" style=\"height:525px; width:100%;\"></div>            <script type=\"text/javascript\">                require([\"plotly\"], function(Plotly) {                    window.PLOTLYENV=window.PLOTLYENV || {};\n",
       "                    window.PLOTLYENV.BASE_URL='https://plot.ly';                                    if (document.getElementById(\"40083966-747b-4d00-83cc-9cbb2132cbe6\")) {                    Plotly.newPlot(                        \"40083966-747b-4d00-83cc-9cbb2132cbe6\",                        [{\"histfunc\":\"count\",\"histnorm\":\"\",\"marker\":{\"color\":\"rgba(255, 153, 51, 1.0)\",\"line\":{\"color\":\"#4D5663\",\"width\":1.3}},\"name\":\"A\",\"nbinsx\":10,\"opacity\":0.8,\"orientation\":\"v\",\"x\":[0.6851931426351257,0.011776897866929925,0.6711687969096942,0.7602761239010867,0.3340338832786466,0.7816642209869414,0.5146777368811686,0.27757936324960786,0.45619519359886995,0.7826118703504528,0.1793926410604133,0.3733918907281869,0.40085382837520656,0.7618058206808223,0.9548275340972647,0.9359040309881265,0.9292539323643081,0.26699051788428463,0.10651570835837199,0.47149437820267437,0.4723558429116048,0.8924910812604379,0.6033388501809807,0.4182015649088362,0.770232704093313,0.009509643654387667,0.19572361958541018,0.9554512516562105,0.6532818924769286,0.5036202794270261,0.16213807970495941,0.3259476854783766,0.4767630067990336,0.19238066856053038,0.5094150020031566,0.15289906315505475,0.25973946838954154,0.8479357729311677,0.7315736915507024,0.8759466725937207,0.0039892864183248555,0.9223470930587958,0.6197722470563477,0.8915203806250959,0.49874906370424277,0.8225743297774892,0.8321877277647997,0.9337619528161556,0.566430332989835,0.08749478659048193,0.7062816404886239,0.10971798726716797,0.8090217481133684,0.9348440936553413,0.5470523235663101,0.9929227017449651,0.3055033289453378,0.8233020655085458,0.6399880075867787,0.4259085634802027,0.2271003082781351,0.9603863275665787,0.5754718198360809,0.6855922475545655,0.8000215864503785,0.8882799595071866,0.3241319292623662,0.02510558337714941,0.06417188996909506,0.04396342402257025,0.09297676877375738,0.8371524654524803,0.6923717442984694,0.017999027479590257,0.6084020829648865,0.8653194757514951,0.892365537710933,0.9669928639688513,0.9172442534485912,0.7037940251904705,0.535592906715179,0.5143379520921977,0.03561205339677431,0.841369886530009,0.724365948331164,0.4113079899678703,0.9664246333130304,0.9775693874432042,0.2442457321332865,0.10445602074912241,0.04761806409626401,0.520870656725141,0.9114110263365339,0.9649354330695963,0.5508033886063982,0.9174235511977848,0.7837412414053477,0.36246755694057575,0.1328875015634834,0.6268064453069518],\"xaxis\":\"x\",\"yaxis\":\"y\",\"type\":\"histogram\"},{\"line\":{\"color\":\"rgba(128, 128, 128, 1.0)\",\"dash\":\"solid\",\"shape\":\"linear\",\"width\":1.3},\"marker\":{\"size\":2,\"symbol\":\"circle\"},\"mode\":\"markers\",\"name\":\"A\",\"text\":\"\",\"x\":[0.42266747208389555,0.4025529479209352,0.39329654633743705,0.7089745237385758,0.8860223422354788,0.39529151946139907,0.8858426705003635,0.7331624810794318,0.7988126303942001,0.07056472330669372,0.690489663051068,0.7550914443538574,0.2346450175788274,0.3472108096739044,0.6940324907465701,0.9854109807099428,0.17432375474191653,0.6323086937207173,0.018811432365633207,0.34363817749418213,0.16907863810594215,0.1880173195378385,0.2838855731082722,0.58633569166344,0.7313784980764263,0.4217352907134324,0.0821310918890209,0.5802391456930355,0.3227803268815147,0.1374991881569092,0.2864621476593546,0.19149129939914444,0.9832226435073113,0.6364963320943695,0.27947567276258256,0.26949286081671076,0.9805085759405282,0.6999272814650266,0.591582308601422,0.8607311892983199,0.25907295320215706,0.10024379132139893,0.5819390306343086,0.5522721660384126,0.22890535806939616,0.5545316245108332,0.6440610954172484,0.1114944589432354,0.7479585083642296,0.3874151625265263,0.9761135772858062,0.7332172159647825,0.3422539745509602,0.6429353253166763,0.8821621570152173,0.4884007673373636,0.6959144740845423,0.18689551402856497,0.20447107279468102,0.1612271442359685,0.49526183884171393,0.902412854780535,0.039160470695294824,0.023922135921567778,0.4623623853095533,0.5671486755300885,0.79530536593901,0.23776063858335006,0.7334239134015752,0.8329837817282485,0.21663846070326986,0.48422265908275763,0.7183641746039793,0.7886167134052354,0.1595354492877974,0.3716498483596541,0.9311235868724613,0.6447795579762172,0.30540876045655563,0.02459361591469833,0.8829687393024542,0.4566429789993859,0.16355927849690421,0.6187702383650091,0.8931607555718876,0.711878986423076,0.43774619353263144,0.49253425211216895,0.9330458248294381,0.8519322649822875,0.75431544317232,0.24172360392386216,0.5482403192688711,0.6137944497061548,0.8364759617290806,0.45066006104456136,0.24196271044178141,0.7692594805027758,0.8516824597359812,0.3178770681491705],\"xaxis\":\"x2\",\"y\":[0.6851931426351257,0.011776897866929925,0.6711687969096942,0.7602761239010867,0.3340338832786466,0.7816642209869414,0.5146777368811686,0.27757936324960786,0.45619519359886995,0.7826118703504528,0.1793926410604133,0.3733918907281869,0.40085382837520656,0.7618058206808223,0.9548275340972647,0.9359040309881265,0.9292539323643081,0.26699051788428463,0.10651570835837199,0.47149437820267437,0.4723558429116048,0.8924910812604379,0.6033388501809807,0.4182015649088362,0.770232704093313,0.009509643654387667,0.19572361958541018,0.9554512516562105,0.6532818924769286,0.5036202794270261,0.16213807970495941,0.3259476854783766,0.4767630067990336,0.19238066856053038,0.5094150020031566,0.15289906315505475,0.25973946838954154,0.8479357729311677,0.7315736915507024,0.8759466725937207,0.0039892864183248555,0.9223470930587958,0.6197722470563477,0.8915203806250959,0.49874906370424277,0.8225743297774892,0.8321877277647997,0.9337619528161556,0.566430332989835,0.08749478659048193,0.7062816404886239,0.10971798726716797,0.8090217481133684,0.9348440936553413,0.5470523235663101,0.9929227017449651,0.3055033289453378,0.8233020655085458,0.6399880075867787,0.4259085634802027,0.2271003082781351,0.9603863275665787,0.5754718198360809,0.6855922475545655,0.8000215864503785,0.8882799595071866,0.3241319292623662,0.02510558337714941,0.06417188996909506,0.04396342402257025,0.09297676877375738,0.8371524654524803,0.6923717442984694,0.017999027479590257,0.6084020829648865,0.8653194757514951,0.892365537710933,0.9669928639688513,0.9172442534485912,0.7037940251904705,0.535592906715179,0.5143379520921977,0.03561205339677431,0.841369886530009,0.724365948331164,0.4113079899678703,0.9664246333130304,0.9775693874432042,0.2442457321332865,0.10445602074912241,0.04761806409626401,0.520870656725141,0.9114110263365339,0.9649354330695963,0.5508033886063982,0.9174235511977848,0.7837412414053477,0.36246755694057575,0.1328875015634834,0.6268064453069518],\"yaxis\":\"y2\",\"type\":\"scatter\"},{\"line\":{\"color\":\"rgba(128, 128, 128, 1.0)\",\"dash\":\"solid\",\"shape\":\"linear\",\"width\":1.3},\"marker\":{\"size\":2,\"symbol\":\"circle\"},\"mode\":\"markers\",\"name\":\"A\",\"text\":\"\",\"x\":[0.3561863707076981,0.9448437071452328,0.24016336710711983,0.20118829755988143,0.15122255005135588,0.7804239345315636,0.583442592245674,0.9317406155751462,0.020397336716458825,0.9221974697055461,0.969220929430213,0.4994436983275503,0.7409697236583278,0.2527226186058037,0.9106129807500702,0.6717553184456281,0.1644188664973485,0.8421021071277454,0.24119401432572796,0.028815001251824346,0.9862055539762161,0.3348294121333627,0.826378510588906,0.14699937935962082,0.1050604236752457,0.010542068162520568,0.9086668473608321,0.26111228444865375,0.8577786750884392,0.7357068239886501,0.42211420163979485,0.7763496305081379,0.10803103894923038,0.6196586808828559,0.3583614227712998,0.5749464239799403,0.5293617523700247,0.022347185878035414,0.9731980020346253,0.8085068496606375,0.750686493998964,0.06768860341887539,0.027188845790728222,0.7794611561171221,0.3802631573621915,0.5565253385381683,0.15713255087980393,0.16107058240896932,0.0520871062072914,0.8394125768292143,0.3513460012875611,0.5834937761978631,0.19982349674560151,0.417322466510775,0.09629981288181944,0.4432969950349469,0.25318275830921466,0.8554790719324762,0.059818508715041574,0.9626685089221783,0.9003271238147534,0.5567904350940756,0.4473074252440554,0.2886902602847431,0.9651792138770191,0.8246177381143381,0.9924892364838382,0.31094051901930964,0.4334051683236698,0.9922000162432826,0.6968619880540602,0.5407420844786678,0.3775034242332611,0.9880124505614459,0.7168056061730363,0.7003658727213367,0.04918458352508104,0.1855393966634099,0.45170507227682033,0.46822868302000464,0.8037542592515516,0.3566362118823373,0.3667783104507647,0.43326252126560916,0.34629264313038244,0.4282254595695727,0.6483932009699541,0.03387976178319785,0.11817002616495953,0.1583982562677405,0.7797592566530991,0.34593762633057257,0.9578904850416811,0.859251575103357,0.7495379839412252,0.3908377043896525,0.402766640482052,0.15978080940718775,0.3066437123731758,0.6905367675289896],\"xaxis\":\"x3\",\"y\":[0.6851931426351257,0.011776897866929925,0.6711687969096942,0.7602761239010867,0.3340338832786466,0.7816642209869414,0.5146777368811686,0.27757936324960786,0.45619519359886995,0.7826118703504528,0.1793926410604133,0.3733918907281869,0.40085382837520656,0.7618058206808223,0.9548275340972647,0.9359040309881265,0.9292539323643081,0.26699051788428463,0.10651570835837199,0.47149437820267437,0.4723558429116048,0.8924910812604379,0.6033388501809807,0.4182015649088362,0.770232704093313,0.009509643654387667,0.19572361958541018,0.9554512516562105,0.6532818924769286,0.5036202794270261,0.16213807970495941,0.3259476854783766,0.4767630067990336,0.19238066856053038,0.5094150020031566,0.15289906315505475,0.25973946838954154,0.8479357729311677,0.7315736915507024,0.8759466725937207,0.0039892864183248555,0.9223470930587958,0.6197722470563477,0.8915203806250959,0.49874906370424277,0.8225743297774892,0.8321877277647997,0.9337619528161556,0.566430332989835,0.08749478659048193,0.7062816404886239,0.10971798726716797,0.8090217481133684,0.9348440936553413,0.5470523235663101,0.9929227017449651,0.3055033289453378,0.8233020655085458,0.6399880075867787,0.4259085634802027,0.2271003082781351,0.9603863275665787,0.5754718198360809,0.6855922475545655,0.8000215864503785,0.8882799595071866,0.3241319292623662,0.02510558337714941,0.06417188996909506,0.04396342402257025,0.09297676877375738,0.8371524654524803,0.6923717442984694,0.017999027479590257,0.6084020829648865,0.8653194757514951,0.892365537710933,0.9669928639688513,0.9172442534485912,0.7037940251904705,0.535592906715179,0.5143379520921977,0.03561205339677431,0.841369886530009,0.724365948331164,0.4113079899678703,0.9664246333130304,0.9775693874432042,0.2442457321332865,0.10445602074912241,0.04761806409626401,0.520870656725141,0.9114110263365339,0.9649354330695963,0.5508033886063982,0.9174235511977848,0.7837412414053477,0.36246755694057575,0.1328875015634834,0.6268064453069518],\"yaxis\":\"y3\",\"type\":\"scatter\"},{\"line\":{\"color\":\"rgba(128, 128, 128, 1.0)\",\"dash\":\"solid\",\"shape\":\"linear\",\"width\":1.3},\"marker\":{\"size\":2,\"symbol\":\"circle\"},\"mode\":\"markers\",\"name\":\"A\",\"text\":\"\",\"x\":[0.513848738914716,0.42977757057042876,0.10404217987035047,0.2745074314932867,0.04301631766497371,0.8969887150784384,0.5119088701917631,0.20404357546512708,0.5654167975052121,0.4394687696077685,0.04407639536910135,0.7810437250424924,0.7964006085675379,0.20816080983540752,0.130680096786555,0.9531701361707676,0.3742102515282032,0.7564134576287697,0.11939718784517306,0.4521046655661525,0.6291081640422204,0.6337482536151205,0.6032444625101666,0.7261227901390499,0.23436359410130259,0.782061673452562,0.6284063391933995,0.886406318484242,0.9517333856837241,0.4296400691315553,0.9595637085004282,0.9364460584729372,0.30226805634933374,0.5929930953145905,0.0013296841360473932,0.2537294350847856,0.2688187642937363,0.9451439748109275,0.7104073366692222,0.010044500237195941,0.8015423801211405,0.22368684905970593,0.5111509479923415,0.826365848108864,0.6238125508673099,0.6787808110095238,0.9249643723079329,0.7677274533923302,0.2542119373423205,0.3706560220374955,0.7001388965154516,0.3446378881583999,0.531477734122208,0.7967797379676417,0.22396077446105223,0.07760519798197008,0.797589907107909,0.6836767318244401,0.718681383647882,0.3841168957077452,0.4546832200635279,0.5782513144471789,0.1865298586951185,0.5085657218954693,0.9910756830740246,0.39827577537651526,0.4430204861164805,0.949776783369075,0.4853560851477894,0.01386154011211671,0.13546953501017456,0.5375780990899847,0.18388052146452305,0.7671198891708962,0.2727439022915653,0.6290082432524554,0.9579333743328089,0.6833621106505054,0.8294951812809604,0.37096456958776913,0.5281327258678865,0.44729687309537025,0.3402145870974209,0.5190595659418663,0.8770973675132958,0.7720527050089664,0.5352708236886218,0.9074215381978286,0.7418431157607439,0.2193984356690759,0.7127875493795898,0.01408416173515703,0.028284679491114684,0.42825824277476265,0.21590929657528535,0.38099575910710004,0.4330368351109082,0.23769354646014562,0.8382726021223676,0.4443104281055954],\"xaxis\":\"x4\",\"y\":[0.6851931426351257,0.011776897866929925,0.6711687969096942,0.7602761239010867,0.3340338832786466,0.7816642209869414,0.5146777368811686,0.27757936324960786,0.45619519359886995,0.7826118703504528,0.1793926410604133,0.3733918907281869,0.40085382837520656,0.7618058206808223,0.9548275340972647,0.9359040309881265,0.9292539323643081,0.26699051788428463,0.10651570835837199,0.47149437820267437,0.4723558429116048,0.8924910812604379,0.6033388501809807,0.4182015649088362,0.770232704093313,0.009509643654387667,0.19572361958541018,0.9554512516562105,0.6532818924769286,0.5036202794270261,0.16213807970495941,0.3259476854783766,0.4767630067990336,0.19238066856053038,0.5094150020031566,0.15289906315505475,0.25973946838954154,0.8479357729311677,0.7315736915507024,0.8759466725937207,0.0039892864183248555,0.9223470930587958,0.6197722470563477,0.8915203806250959,0.49874906370424277,0.8225743297774892,0.8321877277647997,0.9337619528161556,0.566430332989835,0.08749478659048193,0.7062816404886239,0.10971798726716797,0.8090217481133684,0.9348440936553413,0.5470523235663101,0.9929227017449651,0.3055033289453378,0.8233020655085458,0.6399880075867787,0.4259085634802027,0.2271003082781351,0.9603863275665787,0.5754718198360809,0.6855922475545655,0.8000215864503785,0.8882799595071866,0.3241319292623662,0.02510558337714941,0.06417188996909506,0.04396342402257025,0.09297676877375738,0.8371524654524803,0.6923717442984694,0.017999027479590257,0.6084020829648865,0.8653194757514951,0.892365537710933,0.9669928639688513,0.9172442534485912,0.7037940251904705,0.535592906715179,0.5143379520921977,0.03561205339677431,0.841369886530009,0.724365948331164,0.4113079899678703,0.9664246333130304,0.9775693874432042,0.2442457321332865,0.10445602074912241,0.04761806409626401,0.520870656725141,0.9114110263365339,0.9649354330695963,0.5508033886063982,0.9174235511977848,0.7837412414053477,0.36246755694057575,0.1328875015634834,0.6268064453069518],\"yaxis\":\"y4\",\"type\":\"scatter\"},{\"line\":{\"color\":\"rgba(128, 128, 128, 1.0)\",\"dash\":\"solid\",\"shape\":\"linear\",\"width\":1.3},\"marker\":{\"size\":2,\"symbol\":\"circle\"},\"mode\":\"markers\",\"name\":\"B\",\"text\":\"\",\"x\":[0.6851931426351257,0.011776897866929925,0.6711687969096942,0.7602761239010867,0.3340338832786466,0.7816642209869414,0.5146777368811686,0.27757936324960786,0.45619519359886995,0.7826118703504528,0.1793926410604133,0.3733918907281869,0.40085382837520656,0.7618058206808223,0.9548275340972647,0.9359040309881265,0.9292539323643081,0.26699051788428463,0.10651570835837199,0.47149437820267437,0.4723558429116048,0.8924910812604379,0.6033388501809807,0.4182015649088362,0.770232704093313,0.009509643654387667,0.19572361958541018,0.9554512516562105,0.6532818924769286,0.5036202794270261,0.16213807970495941,0.3259476854783766,0.4767630067990336,0.19238066856053038,0.5094150020031566,0.15289906315505475,0.25973946838954154,0.8479357729311677,0.7315736915507024,0.8759466725937207,0.0039892864183248555,0.9223470930587958,0.6197722470563477,0.8915203806250959,0.49874906370424277,0.8225743297774892,0.8321877277647997,0.9337619528161556,0.566430332989835,0.08749478659048193,0.7062816404886239,0.10971798726716797,0.8090217481133684,0.9348440936553413,0.5470523235663101,0.9929227017449651,0.3055033289453378,0.8233020655085458,0.6399880075867787,0.4259085634802027,0.2271003082781351,0.9603863275665787,0.5754718198360809,0.6855922475545655,0.8000215864503785,0.8882799595071866,0.3241319292623662,0.02510558337714941,0.06417188996909506,0.04396342402257025,0.09297676877375738,0.8371524654524803,0.6923717442984694,0.017999027479590257,0.6084020829648865,0.8653194757514951,0.892365537710933,0.9669928639688513,0.9172442534485912,0.7037940251904705,0.535592906715179,0.5143379520921977,0.03561205339677431,0.841369886530009,0.724365948331164,0.4113079899678703,0.9664246333130304,0.9775693874432042,0.2442457321332865,0.10445602074912241,0.04761806409626401,0.520870656725141,0.9114110263365339,0.9649354330695963,0.5508033886063982,0.9174235511977848,0.7837412414053477,0.36246755694057575,0.1328875015634834,0.6268064453069518],\"xaxis\":\"x5\",\"y\":[0.42266747208389555,0.4025529479209352,0.39329654633743705,0.7089745237385758,0.8860223422354788,0.39529151946139907,0.8858426705003635,0.7331624810794318,0.7988126303942001,0.07056472330669372,0.690489663051068,0.7550914443538574,0.2346450175788274,0.3472108096739044,0.6940324907465701,0.9854109807099428,0.17432375474191653,0.6323086937207173,0.018811432365633207,0.34363817749418213,0.16907863810594215,0.1880173195378385,0.2838855731082722,0.58633569166344,0.7313784980764263,0.4217352907134324,0.0821310918890209,0.5802391456930355,0.3227803268815147,0.1374991881569092,0.2864621476593546,0.19149129939914444,0.9832226435073113,0.6364963320943695,0.27947567276258256,0.26949286081671076,0.9805085759405282,0.6999272814650266,0.591582308601422,0.8607311892983199,0.25907295320215706,0.10024379132139893,0.5819390306343086,0.5522721660384126,0.22890535806939616,0.5545316245108332,0.6440610954172484,0.1114944589432354,0.7479585083642296,0.3874151625265263,0.9761135772858062,0.7332172159647825,0.3422539745509602,0.6429353253166763,0.8821621570152173,0.4884007673373636,0.6959144740845423,0.18689551402856497,0.20447107279468102,0.1612271442359685,0.49526183884171393,0.902412854780535,0.039160470695294824,0.023922135921567778,0.4623623853095533,0.5671486755300885,0.79530536593901,0.23776063858335006,0.7334239134015752,0.8329837817282485,0.21663846070326986,0.48422265908275763,0.7183641746039793,0.7886167134052354,0.1595354492877974,0.3716498483596541,0.9311235868724613,0.6447795579762172,0.30540876045655563,0.02459361591469833,0.8829687393024542,0.4566429789993859,0.16355927849690421,0.6187702383650091,0.8931607555718876,0.711878986423076,0.43774619353263144,0.49253425211216895,0.9330458248294381,0.8519322649822875,0.75431544317232,0.24172360392386216,0.5482403192688711,0.6137944497061548,0.8364759617290806,0.45066006104456136,0.24196271044178141,0.7692594805027758,0.8516824597359812,0.3178770681491705],\"yaxis\":\"y5\",\"type\":\"scatter\"},{\"histfunc\":\"count\",\"histnorm\":\"\",\"marker\":{\"color\":\"rgba(55, 128, 191, 1.0)\",\"line\":{\"color\":\"#4D5663\",\"width\":1.3}},\"name\":\"B\",\"nbinsx\":10,\"opacity\":0.8,\"orientation\":\"v\",\"x\":[0.42266747208389555,0.4025529479209352,0.39329654633743705,0.7089745237385758,0.8860223422354788,0.39529151946139907,0.8858426705003635,0.7331624810794318,0.7988126303942001,0.07056472330669372,0.690489663051068,0.7550914443538574,0.2346450175788274,0.3472108096739044,0.6940324907465701,0.9854109807099428,0.17432375474191653,0.6323086937207173,0.018811432365633207,0.34363817749418213,0.16907863810594215,0.1880173195378385,0.2838855731082722,0.58633569166344,0.7313784980764263,0.4217352907134324,0.0821310918890209,0.5802391456930355,0.3227803268815147,0.1374991881569092,0.2864621476593546,0.19149129939914444,0.9832226435073113,0.6364963320943695,0.27947567276258256,0.26949286081671076,0.9805085759405282,0.6999272814650266,0.591582308601422,0.8607311892983199,0.25907295320215706,0.10024379132139893,0.5819390306343086,0.5522721660384126,0.22890535806939616,0.5545316245108332,0.6440610954172484,0.1114944589432354,0.7479585083642296,0.3874151625265263,0.9761135772858062,0.7332172159647825,0.3422539745509602,0.6429353253166763,0.8821621570152173,0.4884007673373636,0.6959144740845423,0.18689551402856497,0.20447107279468102,0.1612271442359685,0.49526183884171393,0.902412854780535,0.039160470695294824,0.023922135921567778,0.4623623853095533,0.5671486755300885,0.79530536593901,0.23776063858335006,0.7334239134015752,0.8329837817282485,0.21663846070326986,0.48422265908275763,0.7183641746039793,0.7886167134052354,0.1595354492877974,0.3716498483596541,0.9311235868724613,0.6447795579762172,0.30540876045655563,0.02459361591469833,0.8829687393024542,0.4566429789993859,0.16355927849690421,0.6187702383650091,0.8931607555718876,0.711878986423076,0.43774619353263144,0.49253425211216895,0.9330458248294381,0.8519322649822875,0.75431544317232,0.24172360392386216,0.5482403192688711,0.6137944497061548,0.8364759617290806,0.45066006104456136,0.24196271044178141,0.7692594805027758,0.8516824597359812,0.3178770681491705],\"xaxis\":\"x6\",\"yaxis\":\"y6\",\"type\":\"histogram\"},{\"line\":{\"color\":\"rgba(128, 128, 128, 1.0)\",\"dash\":\"solid\",\"shape\":\"linear\",\"width\":1.3},\"marker\":{\"size\":2,\"symbol\":\"circle\"},\"mode\":\"markers\",\"name\":\"B\",\"text\":\"\",\"x\":[0.3561863707076981,0.9448437071452328,0.24016336710711983,0.20118829755988143,0.15122255005135588,0.7804239345315636,0.583442592245674,0.9317406155751462,0.020397336716458825,0.9221974697055461,0.969220929430213,0.4994436983275503,0.7409697236583278,0.2527226186058037,0.9106129807500702,0.6717553184456281,0.1644188664973485,0.8421021071277454,0.24119401432572796,0.028815001251824346,0.9862055539762161,0.3348294121333627,0.826378510588906,0.14699937935962082,0.1050604236752457,0.010542068162520568,0.9086668473608321,0.26111228444865375,0.8577786750884392,0.7357068239886501,0.42211420163979485,0.7763496305081379,0.10803103894923038,0.6196586808828559,0.3583614227712998,0.5749464239799403,0.5293617523700247,0.022347185878035414,0.9731980020346253,0.8085068496606375,0.750686493998964,0.06768860341887539,0.027188845790728222,0.7794611561171221,0.3802631573621915,0.5565253385381683,0.15713255087980393,0.16107058240896932,0.0520871062072914,0.8394125768292143,0.3513460012875611,0.5834937761978631,0.19982349674560151,0.417322466510775,0.09629981288181944,0.4432969950349469,0.25318275830921466,0.8554790719324762,0.059818508715041574,0.9626685089221783,0.9003271238147534,0.5567904350940756,0.4473074252440554,0.2886902602847431,0.9651792138770191,0.8246177381143381,0.9924892364838382,0.31094051901930964,0.4334051683236698,0.9922000162432826,0.6968619880540602,0.5407420844786678,0.3775034242332611,0.9880124505614459,0.7168056061730363,0.7003658727213367,0.04918458352508104,0.1855393966634099,0.45170507227682033,0.46822868302000464,0.8037542592515516,0.3566362118823373,0.3667783104507647,0.43326252126560916,0.34629264313038244,0.4282254595695727,0.6483932009699541,0.03387976178319785,0.11817002616495953,0.1583982562677405,0.7797592566530991,0.34593762633057257,0.9578904850416811,0.859251575103357,0.7495379839412252,0.3908377043896525,0.402766640482052,0.15978080940718775,0.3066437123731758,0.6905367675289896],\"xaxis\":\"x7\",\"y\":[0.42266747208389555,0.4025529479209352,0.39329654633743705,0.7089745237385758,0.8860223422354788,0.39529151946139907,0.8858426705003635,0.7331624810794318,0.7988126303942001,0.07056472330669372,0.690489663051068,0.7550914443538574,0.2346450175788274,0.3472108096739044,0.6940324907465701,0.9854109807099428,0.17432375474191653,0.6323086937207173,0.018811432365633207,0.34363817749418213,0.16907863810594215,0.1880173195378385,0.2838855731082722,0.58633569166344,0.7313784980764263,0.4217352907134324,0.0821310918890209,0.5802391456930355,0.3227803268815147,0.1374991881569092,0.2864621476593546,0.19149129939914444,0.9832226435073113,0.6364963320943695,0.27947567276258256,0.26949286081671076,0.9805085759405282,0.6999272814650266,0.591582308601422,0.8607311892983199,0.25907295320215706,0.10024379132139893,0.5819390306343086,0.5522721660384126,0.22890535806939616,0.5545316245108332,0.6440610954172484,0.1114944589432354,0.7479585083642296,0.3874151625265263,0.9761135772858062,0.7332172159647825,0.3422539745509602,0.6429353253166763,0.8821621570152173,0.4884007673373636,0.6959144740845423,0.18689551402856497,0.20447107279468102,0.1612271442359685,0.49526183884171393,0.902412854780535,0.039160470695294824,0.023922135921567778,0.4623623853095533,0.5671486755300885,0.79530536593901,0.23776063858335006,0.7334239134015752,0.8329837817282485,0.21663846070326986,0.48422265908275763,0.7183641746039793,0.7886167134052354,0.1595354492877974,0.3716498483596541,0.9311235868724613,0.6447795579762172,0.30540876045655563,0.02459361591469833,0.8829687393024542,0.4566429789993859,0.16355927849690421,0.6187702383650091,0.8931607555718876,0.711878986423076,0.43774619353263144,0.49253425211216895,0.9330458248294381,0.8519322649822875,0.75431544317232,0.24172360392386216,0.5482403192688711,0.6137944497061548,0.8364759617290806,0.45066006104456136,0.24196271044178141,0.7692594805027758,0.8516824597359812,0.3178770681491705],\"yaxis\":\"y7\",\"type\":\"scatter\"},{\"line\":{\"color\":\"rgba(128, 128, 128, 1.0)\",\"dash\":\"solid\",\"shape\":\"linear\",\"width\":1.3},\"marker\":{\"size\":2,\"symbol\":\"circle\"},\"mode\":\"markers\",\"name\":\"B\",\"text\":\"\",\"x\":[0.513848738914716,0.42977757057042876,0.10404217987035047,0.2745074314932867,0.04301631766497371,0.8969887150784384,0.5119088701917631,0.20404357546512708,0.5654167975052121,0.4394687696077685,0.04407639536910135,0.7810437250424924,0.7964006085675379,0.20816080983540752,0.130680096786555,0.9531701361707676,0.3742102515282032,0.7564134576287697,0.11939718784517306,0.4521046655661525,0.6291081640422204,0.6337482536151205,0.6032444625101666,0.7261227901390499,0.23436359410130259,0.782061673452562,0.6284063391933995,0.886406318484242,0.9517333856837241,0.4296400691315553,0.9595637085004282,0.9364460584729372,0.30226805634933374,0.5929930953145905,0.0013296841360473932,0.2537294350847856,0.2688187642937363,0.9451439748109275,0.7104073366692222,0.010044500237195941,0.8015423801211405,0.22368684905970593,0.5111509479923415,0.826365848108864,0.6238125508673099,0.6787808110095238,0.9249643723079329,0.7677274533923302,0.2542119373423205,0.3706560220374955,0.7001388965154516,0.3446378881583999,0.531477734122208,0.7967797379676417,0.22396077446105223,0.07760519798197008,0.797589907107909,0.6836767318244401,0.718681383647882,0.3841168957077452,0.4546832200635279,0.5782513144471789,0.1865298586951185,0.5085657218954693,0.9910756830740246,0.39827577537651526,0.4430204861164805,0.949776783369075,0.4853560851477894,0.01386154011211671,0.13546953501017456,0.5375780990899847,0.18388052146452305,0.7671198891708962,0.2727439022915653,0.6290082432524554,0.9579333743328089,0.6833621106505054,0.8294951812809604,0.37096456958776913,0.5281327258678865,0.44729687309537025,0.3402145870974209,0.5190595659418663,0.8770973675132958,0.7720527050089664,0.5352708236886218,0.9074215381978286,0.7418431157607439,0.2193984356690759,0.7127875493795898,0.01408416173515703,0.028284679491114684,0.42825824277476265,0.21590929657528535,0.38099575910710004,0.4330368351109082,0.23769354646014562,0.8382726021223676,0.4443104281055954],\"xaxis\":\"x8\",\"y\":[0.42266747208389555,0.4025529479209352,0.39329654633743705,0.7089745237385758,0.8860223422354788,0.39529151946139907,0.8858426705003635,0.7331624810794318,0.7988126303942001,0.07056472330669372,0.690489663051068,0.7550914443538574,0.2346450175788274,0.3472108096739044,0.6940324907465701,0.9854109807099428,0.17432375474191653,0.6323086937207173,0.018811432365633207,0.34363817749418213,0.16907863810594215,0.1880173195378385,0.2838855731082722,0.58633569166344,0.7313784980764263,0.4217352907134324,0.0821310918890209,0.5802391456930355,0.3227803268815147,0.1374991881569092,0.2864621476593546,0.19149129939914444,0.9832226435073113,0.6364963320943695,0.27947567276258256,0.26949286081671076,0.9805085759405282,0.6999272814650266,0.591582308601422,0.8607311892983199,0.25907295320215706,0.10024379132139893,0.5819390306343086,0.5522721660384126,0.22890535806939616,0.5545316245108332,0.6440610954172484,0.1114944589432354,0.7479585083642296,0.3874151625265263,0.9761135772858062,0.7332172159647825,0.3422539745509602,0.6429353253166763,0.8821621570152173,0.4884007673373636,0.6959144740845423,0.18689551402856497,0.20447107279468102,0.1612271442359685,0.49526183884171393,0.902412854780535,0.039160470695294824,0.023922135921567778,0.4623623853095533,0.5671486755300885,0.79530536593901,0.23776063858335006,0.7334239134015752,0.8329837817282485,0.21663846070326986,0.48422265908275763,0.7183641746039793,0.7886167134052354,0.1595354492877974,0.3716498483596541,0.9311235868724613,0.6447795579762172,0.30540876045655563,0.02459361591469833,0.8829687393024542,0.4566429789993859,0.16355927849690421,0.6187702383650091,0.8931607555718876,0.711878986423076,0.43774619353263144,0.49253425211216895,0.9330458248294381,0.8519322649822875,0.75431544317232,0.24172360392386216,0.5482403192688711,0.6137944497061548,0.8364759617290806,0.45066006104456136,0.24196271044178141,0.7692594805027758,0.8516824597359812,0.3178770681491705],\"yaxis\":\"y8\",\"type\":\"scatter\"},{\"line\":{\"color\":\"rgba(128, 128, 128, 1.0)\",\"dash\":\"solid\",\"shape\":\"linear\",\"width\":1.3},\"marker\":{\"size\":2,\"symbol\":\"circle\"},\"mode\":\"markers\",\"name\":\"C\",\"text\":\"\",\"x\":[0.6851931426351257,0.011776897866929925,0.6711687969096942,0.7602761239010867,0.3340338832786466,0.7816642209869414,0.5146777368811686,0.27757936324960786,0.45619519359886995,0.7826118703504528,0.1793926410604133,0.3733918907281869,0.40085382837520656,0.7618058206808223,0.9548275340972647,0.9359040309881265,0.9292539323643081,0.26699051788428463,0.10651570835837199,0.47149437820267437,0.4723558429116048,0.8924910812604379,0.6033388501809807,0.4182015649088362,0.770232704093313,0.009509643654387667,0.19572361958541018,0.9554512516562105,0.6532818924769286,0.5036202794270261,0.16213807970495941,0.3259476854783766,0.4767630067990336,0.19238066856053038,0.5094150020031566,0.15289906315505475,0.25973946838954154,0.8479357729311677,0.7315736915507024,0.8759466725937207,0.0039892864183248555,0.9223470930587958,0.6197722470563477,0.8915203806250959,0.49874906370424277,0.8225743297774892,0.8321877277647997,0.9337619528161556,0.566430332989835,0.08749478659048193,0.7062816404886239,0.10971798726716797,0.8090217481133684,0.9348440936553413,0.5470523235663101,0.9929227017449651,0.3055033289453378,0.8233020655085458,0.6399880075867787,0.4259085634802027,0.2271003082781351,0.9603863275665787,0.5754718198360809,0.6855922475545655,0.8000215864503785,0.8882799595071866,0.3241319292623662,0.02510558337714941,0.06417188996909506,0.04396342402257025,0.09297676877375738,0.8371524654524803,0.6923717442984694,0.017999027479590257,0.6084020829648865,0.8653194757514951,0.892365537710933,0.9669928639688513,0.9172442534485912,0.7037940251904705,0.535592906715179,0.5143379520921977,0.03561205339677431,0.841369886530009,0.724365948331164,0.4113079899678703,0.9664246333130304,0.9775693874432042,0.2442457321332865,0.10445602074912241,0.04761806409626401,0.520870656725141,0.9114110263365339,0.9649354330695963,0.5508033886063982,0.9174235511977848,0.7837412414053477,0.36246755694057575,0.1328875015634834,0.6268064453069518],\"xaxis\":\"x9\",\"y\":[0.3561863707076981,0.9448437071452328,0.24016336710711983,0.20118829755988143,0.15122255005135588,0.7804239345315636,0.583442592245674,0.9317406155751462,0.020397336716458825,0.9221974697055461,0.969220929430213,0.4994436983275503,0.7409697236583278,0.2527226186058037,0.9106129807500702,0.6717553184456281,0.1644188664973485,0.8421021071277454,0.24119401432572796,0.028815001251824346,0.9862055539762161,0.3348294121333627,0.826378510588906,0.14699937935962082,0.1050604236752457,0.010542068162520568,0.9086668473608321,0.26111228444865375,0.8577786750884392,0.7357068239886501,0.42211420163979485,0.7763496305081379,0.10803103894923038,0.6196586808828559,0.3583614227712998,0.5749464239799403,0.5293617523700247,0.022347185878035414,0.9731980020346253,0.8085068496606375,0.750686493998964,0.06768860341887539,0.027188845790728222,0.7794611561171221,0.3802631573621915,0.5565253385381683,0.15713255087980393,0.16107058240896932,0.0520871062072914,0.8394125768292143,0.3513460012875611,0.5834937761978631,0.19982349674560151,0.417322466510775,0.09629981288181944,0.4432969950349469,0.25318275830921466,0.8554790719324762,0.059818508715041574,0.9626685089221783,0.9003271238147534,0.5567904350940756,0.4473074252440554,0.2886902602847431,0.9651792138770191,0.8246177381143381,0.9924892364838382,0.31094051901930964,0.4334051683236698,0.9922000162432826,0.6968619880540602,0.5407420844786678,0.3775034242332611,0.9880124505614459,0.7168056061730363,0.7003658727213367,0.04918458352508104,0.1855393966634099,0.45170507227682033,0.46822868302000464,0.8037542592515516,0.3566362118823373,0.3667783104507647,0.43326252126560916,0.34629264313038244,0.4282254595695727,0.6483932009699541,0.03387976178319785,0.11817002616495953,0.1583982562677405,0.7797592566530991,0.34593762633057257,0.9578904850416811,0.859251575103357,0.7495379839412252,0.3908377043896525,0.402766640482052,0.15978080940718775,0.3066437123731758,0.6905367675289896],\"yaxis\":\"y9\",\"type\":\"scatter\"},{\"line\":{\"color\":\"rgba(128, 128, 128, 1.0)\",\"dash\":\"solid\",\"shape\":\"linear\",\"width\":1.3},\"marker\":{\"size\":2,\"symbol\":\"circle\"},\"mode\":\"markers\",\"name\":\"C\",\"text\":\"\",\"x\":[0.42266747208389555,0.4025529479209352,0.39329654633743705,0.7089745237385758,0.8860223422354788,0.39529151946139907,0.8858426705003635,0.7331624810794318,0.7988126303942001,0.07056472330669372,0.690489663051068,0.7550914443538574,0.2346450175788274,0.3472108096739044,0.6940324907465701,0.9854109807099428,0.17432375474191653,0.6323086937207173,0.018811432365633207,0.34363817749418213,0.16907863810594215,0.1880173195378385,0.2838855731082722,0.58633569166344,0.7313784980764263,0.4217352907134324,0.0821310918890209,0.5802391456930355,0.3227803268815147,0.1374991881569092,0.2864621476593546,0.19149129939914444,0.9832226435073113,0.6364963320943695,0.27947567276258256,0.26949286081671076,0.9805085759405282,0.6999272814650266,0.591582308601422,0.8607311892983199,0.25907295320215706,0.10024379132139893,0.5819390306343086,0.5522721660384126,0.22890535806939616,0.5545316245108332,0.6440610954172484,0.1114944589432354,0.7479585083642296,0.3874151625265263,0.9761135772858062,0.7332172159647825,0.3422539745509602,0.6429353253166763,0.8821621570152173,0.4884007673373636,0.6959144740845423,0.18689551402856497,0.20447107279468102,0.1612271442359685,0.49526183884171393,0.902412854780535,0.039160470695294824,0.023922135921567778,0.4623623853095533,0.5671486755300885,0.79530536593901,0.23776063858335006,0.7334239134015752,0.8329837817282485,0.21663846070326986,0.48422265908275763,0.7183641746039793,0.7886167134052354,0.1595354492877974,0.3716498483596541,0.9311235868724613,0.6447795579762172,0.30540876045655563,0.02459361591469833,0.8829687393024542,0.4566429789993859,0.16355927849690421,0.6187702383650091,0.8931607555718876,0.711878986423076,0.43774619353263144,0.49253425211216895,0.9330458248294381,0.8519322649822875,0.75431544317232,0.24172360392386216,0.5482403192688711,0.6137944497061548,0.8364759617290806,0.45066006104456136,0.24196271044178141,0.7692594805027758,0.8516824597359812,0.3178770681491705],\"xaxis\":\"x10\",\"y\":[0.3561863707076981,0.9448437071452328,0.24016336710711983,0.20118829755988143,0.15122255005135588,0.7804239345315636,0.583442592245674,0.9317406155751462,0.020397336716458825,0.9221974697055461,0.969220929430213,0.4994436983275503,0.7409697236583278,0.2527226186058037,0.9106129807500702,0.6717553184456281,0.1644188664973485,0.8421021071277454,0.24119401432572796,0.028815001251824346,0.9862055539762161,0.3348294121333627,0.826378510588906,0.14699937935962082,0.1050604236752457,0.010542068162520568,0.9086668473608321,0.26111228444865375,0.8577786750884392,0.7357068239886501,0.42211420163979485,0.7763496305081379,0.10803103894923038,0.6196586808828559,0.3583614227712998,0.5749464239799403,0.5293617523700247,0.022347185878035414,0.9731980020346253,0.8085068496606375,0.750686493998964,0.06768860341887539,0.027188845790728222,0.7794611561171221,0.3802631573621915,0.5565253385381683,0.15713255087980393,0.16107058240896932,0.0520871062072914,0.8394125768292143,0.3513460012875611,0.5834937761978631,0.19982349674560151,0.417322466510775,0.09629981288181944,0.4432969950349469,0.25318275830921466,0.8554790719324762,0.059818508715041574,0.9626685089221783,0.9003271238147534,0.5567904350940756,0.4473074252440554,0.2886902602847431,0.9651792138770191,0.8246177381143381,0.9924892364838382,0.31094051901930964,0.4334051683236698,0.9922000162432826,0.6968619880540602,0.5407420844786678,0.3775034242332611,0.9880124505614459,0.7168056061730363,0.7003658727213367,0.04918458352508104,0.1855393966634099,0.45170507227682033,0.46822868302000464,0.8037542592515516,0.3566362118823373,0.3667783104507647,0.43326252126560916,0.34629264313038244,0.4282254595695727,0.6483932009699541,0.03387976178319785,0.11817002616495953,0.1583982562677405,0.7797592566530991,0.34593762633057257,0.9578904850416811,0.859251575103357,0.7495379839412252,0.3908377043896525,0.402766640482052,0.15978080940718775,0.3066437123731758,0.6905367675289896],\"yaxis\":\"y10\",\"type\":\"scatter\"},{\"histfunc\":\"count\",\"histnorm\":\"\",\"marker\":{\"color\":\"rgba(50, 171, 96, 1.0)\",\"line\":{\"color\":\"#4D5663\",\"width\":1.3}},\"name\":\"C\",\"nbinsx\":10,\"opacity\":0.8,\"orientation\":\"v\",\"x\":[0.3561863707076981,0.9448437071452328,0.24016336710711983,0.20118829755988143,0.15122255005135588,0.7804239345315636,0.583442592245674,0.9317406155751462,0.020397336716458825,0.9221974697055461,0.969220929430213,0.4994436983275503,0.7409697236583278,0.2527226186058037,0.9106129807500702,0.6717553184456281,0.1644188664973485,0.8421021071277454,0.24119401432572796,0.028815001251824346,0.9862055539762161,0.3348294121333627,0.826378510588906,0.14699937935962082,0.1050604236752457,0.010542068162520568,0.9086668473608321,0.26111228444865375,0.8577786750884392,0.7357068239886501,0.42211420163979485,0.7763496305081379,0.10803103894923038,0.6196586808828559,0.3583614227712998,0.5749464239799403,0.5293617523700247,0.022347185878035414,0.9731980020346253,0.8085068496606375,0.750686493998964,0.06768860341887539,0.027188845790728222,0.7794611561171221,0.3802631573621915,0.5565253385381683,0.15713255087980393,0.16107058240896932,0.0520871062072914,0.8394125768292143,0.3513460012875611,0.5834937761978631,0.19982349674560151,0.417322466510775,0.09629981288181944,0.4432969950349469,0.25318275830921466,0.8554790719324762,0.059818508715041574,0.9626685089221783,0.9003271238147534,0.5567904350940756,0.4473074252440554,0.2886902602847431,0.9651792138770191,0.8246177381143381,0.9924892364838382,0.31094051901930964,0.4334051683236698,0.9922000162432826,0.6968619880540602,0.5407420844786678,0.3775034242332611,0.9880124505614459,0.7168056061730363,0.7003658727213367,0.04918458352508104,0.1855393966634099,0.45170507227682033,0.46822868302000464,0.8037542592515516,0.3566362118823373,0.3667783104507647,0.43326252126560916,0.34629264313038244,0.4282254595695727,0.6483932009699541,0.03387976178319785,0.11817002616495953,0.1583982562677405,0.7797592566530991,0.34593762633057257,0.9578904850416811,0.859251575103357,0.7495379839412252,0.3908377043896525,0.402766640482052,0.15978080940718775,0.3066437123731758,0.6905367675289896],\"xaxis\":\"x11\",\"yaxis\":\"y11\",\"type\":\"histogram\"},{\"line\":{\"color\":\"rgba(128, 128, 128, 1.0)\",\"dash\":\"solid\",\"shape\":\"linear\",\"width\":1.3},\"marker\":{\"size\":2,\"symbol\":\"circle\"},\"mode\":\"markers\",\"name\":\"C\",\"text\":\"\",\"x\":[0.513848738914716,0.42977757057042876,0.10404217987035047,0.2745074314932867,0.04301631766497371,0.8969887150784384,0.5119088701917631,0.20404357546512708,0.5654167975052121,0.4394687696077685,0.04407639536910135,0.7810437250424924,0.7964006085675379,0.20816080983540752,0.130680096786555,0.9531701361707676,0.3742102515282032,0.7564134576287697,0.11939718784517306,0.4521046655661525,0.6291081640422204,0.6337482536151205,0.6032444625101666,0.7261227901390499,0.23436359410130259,0.782061673452562,0.6284063391933995,0.886406318484242,0.9517333856837241,0.4296400691315553,0.9595637085004282,0.9364460584729372,0.30226805634933374,0.5929930953145905,0.0013296841360473932,0.2537294350847856,0.2688187642937363,0.9451439748109275,0.7104073366692222,0.010044500237195941,0.8015423801211405,0.22368684905970593,0.5111509479923415,0.826365848108864,0.6238125508673099,0.6787808110095238,0.9249643723079329,0.7677274533923302,0.2542119373423205,0.3706560220374955,0.7001388965154516,0.3446378881583999,0.531477734122208,0.7967797379676417,0.22396077446105223,0.07760519798197008,0.797589907107909,0.6836767318244401,0.718681383647882,0.3841168957077452,0.4546832200635279,0.5782513144471789,0.1865298586951185,0.5085657218954693,0.9910756830740246,0.39827577537651526,0.4430204861164805,0.949776783369075,0.4853560851477894,0.01386154011211671,0.13546953501017456,0.5375780990899847,0.18388052146452305,0.7671198891708962,0.2727439022915653,0.6290082432524554,0.9579333743328089,0.6833621106505054,0.8294951812809604,0.37096456958776913,0.5281327258678865,0.44729687309537025,0.3402145870974209,0.5190595659418663,0.8770973675132958,0.7720527050089664,0.5352708236886218,0.9074215381978286,0.7418431157607439,0.2193984356690759,0.7127875493795898,0.01408416173515703,0.028284679491114684,0.42825824277476265,0.21590929657528535,0.38099575910710004,0.4330368351109082,0.23769354646014562,0.8382726021223676,0.4443104281055954],\"xaxis\":\"x12\",\"y\":[0.3561863707076981,0.9448437071452328,0.24016336710711983,0.20118829755988143,0.15122255005135588,0.7804239345315636,0.583442592245674,0.9317406155751462,0.020397336716458825,0.9221974697055461,0.969220929430213,0.4994436983275503,0.7409697236583278,0.2527226186058037,0.9106129807500702,0.6717553184456281,0.1644188664973485,0.8421021071277454,0.24119401432572796,0.028815001251824346,0.9862055539762161,0.3348294121333627,0.826378510588906,0.14699937935962082,0.1050604236752457,0.010542068162520568,0.9086668473608321,0.26111228444865375,0.8577786750884392,0.7357068239886501,0.42211420163979485,0.7763496305081379,0.10803103894923038,0.6196586808828559,0.3583614227712998,0.5749464239799403,0.5293617523700247,0.022347185878035414,0.9731980020346253,0.8085068496606375,0.750686493998964,0.06768860341887539,0.027188845790728222,0.7794611561171221,0.3802631573621915,0.5565253385381683,0.15713255087980393,0.16107058240896932,0.0520871062072914,0.8394125768292143,0.3513460012875611,0.5834937761978631,0.19982349674560151,0.417322466510775,0.09629981288181944,0.4432969950349469,0.25318275830921466,0.8554790719324762,0.059818508715041574,0.9626685089221783,0.9003271238147534,0.5567904350940756,0.4473074252440554,0.2886902602847431,0.9651792138770191,0.8246177381143381,0.9924892364838382,0.31094051901930964,0.4334051683236698,0.9922000162432826,0.6968619880540602,0.5407420844786678,0.3775034242332611,0.9880124505614459,0.7168056061730363,0.7003658727213367,0.04918458352508104,0.1855393966634099,0.45170507227682033,0.46822868302000464,0.8037542592515516,0.3566362118823373,0.3667783104507647,0.43326252126560916,0.34629264313038244,0.4282254595695727,0.6483932009699541,0.03387976178319785,0.11817002616495953,0.1583982562677405,0.7797592566530991,0.34593762633057257,0.9578904850416811,0.859251575103357,0.7495379839412252,0.3908377043896525,0.402766640482052,0.15978080940718775,0.3066437123731758,0.6905367675289896],\"yaxis\":\"y12\",\"type\":\"scatter\"},{\"line\":{\"color\":\"rgba(128, 128, 128, 1.0)\",\"dash\":\"solid\",\"shape\":\"linear\",\"width\":1.3},\"marker\":{\"size\":2,\"symbol\":\"circle\"},\"mode\":\"markers\",\"name\":\"D\",\"text\":\"\",\"x\":[0.6851931426351257,0.011776897866929925,0.6711687969096942,0.7602761239010867,0.3340338832786466,0.7816642209869414,0.5146777368811686,0.27757936324960786,0.45619519359886995,0.7826118703504528,0.1793926410604133,0.3733918907281869,0.40085382837520656,0.7618058206808223,0.9548275340972647,0.9359040309881265,0.9292539323643081,0.26699051788428463,0.10651570835837199,0.47149437820267437,0.4723558429116048,0.8924910812604379,0.6033388501809807,0.4182015649088362,0.770232704093313,0.009509643654387667,0.19572361958541018,0.9554512516562105,0.6532818924769286,0.5036202794270261,0.16213807970495941,0.3259476854783766,0.4767630067990336,0.19238066856053038,0.5094150020031566,0.15289906315505475,0.25973946838954154,0.8479357729311677,0.7315736915507024,0.8759466725937207,0.0039892864183248555,0.9223470930587958,0.6197722470563477,0.8915203806250959,0.49874906370424277,0.8225743297774892,0.8321877277647997,0.9337619528161556,0.566430332989835,0.08749478659048193,0.7062816404886239,0.10971798726716797,0.8090217481133684,0.9348440936553413,0.5470523235663101,0.9929227017449651,0.3055033289453378,0.8233020655085458,0.6399880075867787,0.4259085634802027,0.2271003082781351,0.9603863275665787,0.5754718198360809,0.6855922475545655,0.8000215864503785,0.8882799595071866,0.3241319292623662,0.02510558337714941,0.06417188996909506,0.04396342402257025,0.09297676877375738,0.8371524654524803,0.6923717442984694,0.017999027479590257,0.6084020829648865,0.8653194757514951,0.892365537710933,0.9669928639688513,0.9172442534485912,0.7037940251904705,0.535592906715179,0.5143379520921977,0.03561205339677431,0.841369886530009,0.724365948331164,0.4113079899678703,0.9664246333130304,0.9775693874432042,0.2442457321332865,0.10445602074912241,0.04761806409626401,0.520870656725141,0.9114110263365339,0.9649354330695963,0.5508033886063982,0.9174235511977848,0.7837412414053477,0.36246755694057575,0.1328875015634834,0.6268064453069518],\"xaxis\":\"x13\",\"y\":[0.513848738914716,0.42977757057042876,0.10404217987035047,0.2745074314932867,0.04301631766497371,0.8969887150784384,0.5119088701917631,0.20404357546512708,0.5654167975052121,0.4394687696077685,0.04407639536910135,0.7810437250424924,0.7964006085675379,0.20816080983540752,0.130680096786555,0.9531701361707676,0.3742102515282032,0.7564134576287697,0.11939718784517306,0.4521046655661525,0.6291081640422204,0.6337482536151205,0.6032444625101666,0.7261227901390499,0.23436359410130259,0.782061673452562,0.6284063391933995,0.886406318484242,0.9517333856837241,0.4296400691315553,0.9595637085004282,0.9364460584729372,0.30226805634933374,0.5929930953145905,0.0013296841360473932,0.2537294350847856,0.2688187642937363,0.9451439748109275,0.7104073366692222,0.010044500237195941,0.8015423801211405,0.22368684905970593,0.5111509479923415,0.826365848108864,0.6238125508673099,0.6787808110095238,0.9249643723079329,0.7677274533923302,0.2542119373423205,0.3706560220374955,0.7001388965154516,0.3446378881583999,0.531477734122208,0.7967797379676417,0.22396077446105223,0.07760519798197008,0.797589907107909,0.6836767318244401,0.718681383647882,0.3841168957077452,0.4546832200635279,0.5782513144471789,0.1865298586951185,0.5085657218954693,0.9910756830740246,0.39827577537651526,0.4430204861164805,0.949776783369075,0.4853560851477894,0.01386154011211671,0.13546953501017456,0.5375780990899847,0.18388052146452305,0.7671198891708962,0.2727439022915653,0.6290082432524554,0.9579333743328089,0.6833621106505054,0.8294951812809604,0.37096456958776913,0.5281327258678865,0.44729687309537025,0.3402145870974209,0.5190595659418663,0.8770973675132958,0.7720527050089664,0.5352708236886218,0.9074215381978286,0.7418431157607439,0.2193984356690759,0.7127875493795898,0.01408416173515703,0.028284679491114684,0.42825824277476265,0.21590929657528535,0.38099575910710004,0.4330368351109082,0.23769354646014562,0.8382726021223676,0.4443104281055954],\"yaxis\":\"y13\",\"type\":\"scatter\"},{\"line\":{\"color\":\"rgba(128, 128, 128, 1.0)\",\"dash\":\"solid\",\"shape\":\"linear\",\"width\":1.3},\"marker\":{\"size\":2,\"symbol\":\"circle\"},\"mode\":\"markers\",\"name\":\"D\",\"text\":\"\",\"x\":[0.42266747208389555,0.4025529479209352,0.39329654633743705,0.7089745237385758,0.8860223422354788,0.39529151946139907,0.8858426705003635,0.7331624810794318,0.7988126303942001,0.07056472330669372,0.690489663051068,0.7550914443538574,0.2346450175788274,0.3472108096739044,0.6940324907465701,0.9854109807099428,0.17432375474191653,0.6323086937207173,0.018811432365633207,0.34363817749418213,0.16907863810594215,0.1880173195378385,0.2838855731082722,0.58633569166344,0.7313784980764263,0.4217352907134324,0.0821310918890209,0.5802391456930355,0.3227803268815147,0.1374991881569092,0.2864621476593546,0.19149129939914444,0.9832226435073113,0.6364963320943695,0.27947567276258256,0.26949286081671076,0.9805085759405282,0.6999272814650266,0.591582308601422,0.8607311892983199,0.25907295320215706,0.10024379132139893,0.5819390306343086,0.5522721660384126,0.22890535806939616,0.5545316245108332,0.6440610954172484,0.1114944589432354,0.7479585083642296,0.3874151625265263,0.9761135772858062,0.7332172159647825,0.3422539745509602,0.6429353253166763,0.8821621570152173,0.4884007673373636,0.6959144740845423,0.18689551402856497,0.20447107279468102,0.1612271442359685,0.49526183884171393,0.902412854780535,0.039160470695294824,0.023922135921567778,0.4623623853095533,0.5671486755300885,0.79530536593901,0.23776063858335006,0.7334239134015752,0.8329837817282485,0.21663846070326986,0.48422265908275763,0.7183641746039793,0.7886167134052354,0.1595354492877974,0.3716498483596541,0.9311235868724613,0.6447795579762172,0.30540876045655563,0.02459361591469833,0.8829687393024542,0.4566429789993859,0.16355927849690421,0.6187702383650091,0.8931607555718876,0.711878986423076,0.43774619353263144,0.49253425211216895,0.9330458248294381,0.8519322649822875,0.75431544317232,0.24172360392386216,0.5482403192688711,0.6137944497061548,0.8364759617290806,0.45066006104456136,0.24196271044178141,0.7692594805027758,0.8516824597359812,0.3178770681491705],\"xaxis\":\"x14\",\"y\":[0.513848738914716,0.42977757057042876,0.10404217987035047,0.2745074314932867,0.04301631766497371,0.8969887150784384,0.5119088701917631,0.20404357546512708,0.5654167975052121,0.4394687696077685,0.04407639536910135,0.7810437250424924,0.7964006085675379,0.20816080983540752,0.130680096786555,0.9531701361707676,0.3742102515282032,0.7564134576287697,0.11939718784517306,0.4521046655661525,0.6291081640422204,0.6337482536151205,0.6032444625101666,0.7261227901390499,0.23436359410130259,0.782061673452562,0.6284063391933995,0.886406318484242,0.9517333856837241,0.4296400691315553,0.9595637085004282,0.9364460584729372,0.30226805634933374,0.5929930953145905,0.0013296841360473932,0.2537294350847856,0.2688187642937363,0.9451439748109275,0.7104073366692222,0.010044500237195941,0.8015423801211405,0.22368684905970593,0.5111509479923415,0.826365848108864,0.6238125508673099,0.6787808110095238,0.9249643723079329,0.7677274533923302,0.2542119373423205,0.3706560220374955,0.7001388965154516,0.3446378881583999,0.531477734122208,0.7967797379676417,0.22396077446105223,0.07760519798197008,0.797589907107909,0.6836767318244401,0.718681383647882,0.3841168957077452,0.4546832200635279,0.5782513144471789,0.1865298586951185,0.5085657218954693,0.9910756830740246,0.39827577537651526,0.4430204861164805,0.949776783369075,0.4853560851477894,0.01386154011211671,0.13546953501017456,0.5375780990899847,0.18388052146452305,0.7671198891708962,0.2727439022915653,0.6290082432524554,0.9579333743328089,0.6833621106505054,0.8294951812809604,0.37096456958776913,0.5281327258678865,0.44729687309537025,0.3402145870974209,0.5190595659418663,0.8770973675132958,0.7720527050089664,0.5352708236886218,0.9074215381978286,0.7418431157607439,0.2193984356690759,0.7127875493795898,0.01408416173515703,0.028284679491114684,0.42825824277476265,0.21590929657528535,0.38099575910710004,0.4330368351109082,0.23769354646014562,0.8382726021223676,0.4443104281055954],\"yaxis\":\"y14\",\"type\":\"scatter\"},{\"line\":{\"color\":\"rgba(128, 128, 128, 1.0)\",\"dash\":\"solid\",\"shape\":\"linear\",\"width\":1.3},\"marker\":{\"size\":2,\"symbol\":\"circle\"},\"mode\":\"markers\",\"name\":\"D\",\"text\":\"\",\"x\":[0.3561863707076981,0.9448437071452328,0.24016336710711983,0.20118829755988143,0.15122255005135588,0.7804239345315636,0.583442592245674,0.9317406155751462,0.020397336716458825,0.9221974697055461,0.969220929430213,0.4994436983275503,0.7409697236583278,0.2527226186058037,0.9106129807500702,0.6717553184456281,0.1644188664973485,0.8421021071277454,0.24119401432572796,0.028815001251824346,0.9862055539762161,0.3348294121333627,0.826378510588906,0.14699937935962082,0.1050604236752457,0.010542068162520568,0.9086668473608321,0.26111228444865375,0.8577786750884392,0.7357068239886501,0.42211420163979485,0.7763496305081379,0.10803103894923038,0.6196586808828559,0.3583614227712998,0.5749464239799403,0.5293617523700247,0.022347185878035414,0.9731980020346253,0.8085068496606375,0.750686493998964,0.06768860341887539,0.027188845790728222,0.7794611561171221,0.3802631573621915,0.5565253385381683,0.15713255087980393,0.16107058240896932,0.0520871062072914,0.8394125768292143,0.3513460012875611,0.5834937761978631,0.19982349674560151,0.417322466510775,0.09629981288181944,0.4432969950349469,0.25318275830921466,0.8554790719324762,0.059818508715041574,0.9626685089221783,0.9003271238147534,0.5567904350940756,0.4473074252440554,0.2886902602847431,0.9651792138770191,0.8246177381143381,0.9924892364838382,0.31094051901930964,0.4334051683236698,0.9922000162432826,0.6968619880540602,0.5407420844786678,0.3775034242332611,0.9880124505614459,0.7168056061730363,0.7003658727213367,0.04918458352508104,0.1855393966634099,0.45170507227682033,0.46822868302000464,0.8037542592515516,0.3566362118823373,0.3667783104507647,0.43326252126560916,0.34629264313038244,0.4282254595695727,0.6483932009699541,0.03387976178319785,0.11817002616495953,0.1583982562677405,0.7797592566530991,0.34593762633057257,0.9578904850416811,0.859251575103357,0.7495379839412252,0.3908377043896525,0.402766640482052,0.15978080940718775,0.3066437123731758,0.6905367675289896],\"xaxis\":\"x15\",\"y\":[0.513848738914716,0.42977757057042876,0.10404217987035047,0.2745074314932867,0.04301631766497371,0.8969887150784384,0.5119088701917631,0.20404357546512708,0.5654167975052121,0.4394687696077685,0.04407639536910135,0.7810437250424924,0.7964006085675379,0.20816080983540752,0.130680096786555,0.9531701361707676,0.3742102515282032,0.7564134576287697,0.11939718784517306,0.4521046655661525,0.6291081640422204,0.6337482536151205,0.6032444625101666,0.7261227901390499,0.23436359410130259,0.782061673452562,0.6284063391933995,0.886406318484242,0.9517333856837241,0.4296400691315553,0.9595637085004282,0.9364460584729372,0.30226805634933374,0.5929930953145905,0.0013296841360473932,0.2537294350847856,0.2688187642937363,0.9451439748109275,0.7104073366692222,0.010044500237195941,0.8015423801211405,0.22368684905970593,0.5111509479923415,0.826365848108864,0.6238125508673099,0.6787808110095238,0.9249643723079329,0.7677274533923302,0.2542119373423205,0.3706560220374955,0.7001388965154516,0.3446378881583999,0.531477734122208,0.7967797379676417,0.22396077446105223,0.07760519798197008,0.797589907107909,0.6836767318244401,0.718681383647882,0.3841168957077452,0.4546832200635279,0.5782513144471789,0.1865298586951185,0.5085657218954693,0.9910756830740246,0.39827577537651526,0.4430204861164805,0.949776783369075,0.4853560851477894,0.01386154011211671,0.13546953501017456,0.5375780990899847,0.18388052146452305,0.7671198891708962,0.2727439022915653,0.6290082432524554,0.9579333743328089,0.6833621106505054,0.8294951812809604,0.37096456958776913,0.5281327258678865,0.44729687309537025,0.3402145870974209,0.5190595659418663,0.8770973675132958,0.7720527050089664,0.5352708236886218,0.9074215381978286,0.7418431157607439,0.2193984356690759,0.7127875493795898,0.01408416173515703,0.028284679491114684,0.42825824277476265,0.21590929657528535,0.38099575910710004,0.4330368351109082,0.23769354646014562,0.8382726021223676,0.4443104281055954],\"yaxis\":\"y15\",\"type\":\"scatter\"},{\"histfunc\":\"count\",\"histnorm\":\"\",\"marker\":{\"color\":\"rgba(128, 0, 128, 1.0)\",\"line\":{\"color\":\"#4D5663\",\"width\":1.3}},\"name\":\"D\",\"nbinsx\":10,\"opacity\":0.8,\"orientation\":\"v\",\"x\":[0.513848738914716,0.42977757057042876,0.10404217987035047,0.2745074314932867,0.04301631766497371,0.8969887150784384,0.5119088701917631,0.20404357546512708,0.5654167975052121,0.4394687696077685,0.04407639536910135,0.7810437250424924,0.7964006085675379,0.20816080983540752,0.130680096786555,0.9531701361707676,0.3742102515282032,0.7564134576287697,0.11939718784517306,0.4521046655661525,0.6291081640422204,0.6337482536151205,0.6032444625101666,0.7261227901390499,0.23436359410130259,0.782061673452562,0.6284063391933995,0.886406318484242,0.9517333856837241,0.4296400691315553,0.9595637085004282,0.9364460584729372,0.30226805634933374,0.5929930953145905,0.0013296841360473932,0.2537294350847856,0.2688187642937363,0.9451439748109275,0.7104073366692222,0.010044500237195941,0.8015423801211405,0.22368684905970593,0.5111509479923415,0.826365848108864,0.6238125508673099,0.6787808110095238,0.9249643723079329,0.7677274533923302,0.2542119373423205,0.3706560220374955,0.7001388965154516,0.3446378881583999,0.531477734122208,0.7967797379676417,0.22396077446105223,0.07760519798197008,0.797589907107909,0.6836767318244401,0.718681383647882,0.3841168957077452,0.4546832200635279,0.5782513144471789,0.1865298586951185,0.5085657218954693,0.9910756830740246,0.39827577537651526,0.4430204861164805,0.949776783369075,0.4853560851477894,0.01386154011211671,0.13546953501017456,0.5375780990899847,0.18388052146452305,0.7671198891708962,0.2727439022915653,0.6290082432524554,0.9579333743328089,0.6833621106505054,0.8294951812809604,0.37096456958776913,0.5281327258678865,0.44729687309537025,0.3402145870974209,0.5190595659418663,0.8770973675132958,0.7720527050089664,0.5352708236886218,0.9074215381978286,0.7418431157607439,0.2193984356690759,0.7127875493795898,0.01408416173515703,0.028284679491114684,0.42825824277476265,0.21590929657528535,0.38099575910710004,0.4330368351109082,0.23769354646014562,0.8382726021223676,0.4443104281055954],\"xaxis\":\"x16\",\"yaxis\":\"y16\",\"type\":\"histogram\"}],                        {\"bargap\":0.02,\"legend\":{\"bgcolor\":\"#F5F6F9\",\"font\":{\"color\":\"#4D5663\"}},\"paper_bgcolor\":\"#F5F6F9\",\"plot_bgcolor\":\"#F5F6F9\",\"showlegend\":false,\"template\":{\"data\":{\"barpolar\":[{\"marker\":{\"line\":{\"color\":\"#E5ECF6\",\"width\":0.5},\"pattern\":{\"fillmode\":\"overlay\",\"size\":10,\"solidity\":0.2}},\"type\":\"barpolar\"}],\"bar\":[{\"error_x\":{\"color\":\"#2a3f5f\"},\"error_y\":{\"color\":\"#2a3f5f\"},\"marker\":{\"line\":{\"color\":\"#E5ECF6\",\"width\":0.5},\"pattern\":{\"fillmode\":\"overlay\",\"size\":10,\"solidity\":0.2}},\"type\":\"bar\"}],\"carpet\":[{\"aaxis\":{\"endlinecolor\":\"#2a3f5f\",\"gridcolor\":\"white\",\"linecolor\":\"white\",\"minorgridcolor\":\"white\",\"startlinecolor\":\"#2a3f5f\"},\"baxis\":{\"endlinecolor\":\"#2a3f5f\",\"gridcolor\":\"white\",\"linecolor\":\"white\",\"minorgridcolor\":\"white\",\"startlinecolor\":\"#2a3f5f\"},\"type\":\"carpet\"}],\"choropleth\":[{\"colorbar\":{\"outlinewidth\":0,\"ticks\":\"\"},\"type\":\"choropleth\"}],\"contourcarpet\":[{\"colorbar\":{\"outlinewidth\":0,\"ticks\":\"\"},\"type\":\"contourcarpet\"}],\"contour\":[{\"colorbar\":{\"outlinewidth\":0,\"ticks\":\"\"},\"colorscale\":[[0.0,\"#0d0887\"],[0.1111111111111111,\"#46039f\"],[0.2222222222222222,\"#7201a8\"],[0.3333333333333333,\"#9c179e\"],[0.4444444444444444,\"#bd3786\"],[0.5555555555555556,\"#d8576b\"],[0.6666666666666666,\"#ed7953\"],[0.7777777777777778,\"#fb9f3a\"],[0.8888888888888888,\"#fdca26\"],[1.0,\"#f0f921\"]],\"type\":\"contour\"}],\"heatmapgl\":[{\"colorbar\":{\"outlinewidth\":0,\"ticks\":\"\"},\"colorscale\":[[0.0,\"#0d0887\"],[0.1111111111111111,\"#46039f\"],[0.2222222222222222,\"#7201a8\"],[0.3333333333333333,\"#9c179e\"],[0.4444444444444444,\"#bd3786\"],[0.5555555555555556,\"#d8576b\"],[0.6666666666666666,\"#ed7953\"],[0.7777777777777778,\"#fb9f3a\"],[0.8888888888888888,\"#fdca26\"],[1.0,\"#f0f921\"]],\"type\":\"heatmapgl\"}],\"heatmap\":[{\"colorbar\":{\"outlinewidth\":0,\"ticks\":\"\"},\"colorscale\":[[0.0,\"#0d0887\"],[0.1111111111111111,\"#46039f\"],[0.2222222222222222,\"#7201a8\"],[0.3333333333333333,\"#9c179e\"],[0.4444444444444444,\"#bd3786\"],[0.5555555555555556,\"#d8576b\"],[0.6666666666666666,\"#ed7953\"],[0.7777777777777778,\"#fb9f3a\"],[0.8888888888888888,\"#fdca26\"],[1.0,\"#f0f921\"]],\"type\":\"heatmap\"}],\"histogram2dcontour\":[{\"colorbar\":{\"outlinewidth\":0,\"ticks\":\"\"},\"colorscale\":[[0.0,\"#0d0887\"],[0.1111111111111111,\"#46039f\"],[0.2222222222222222,\"#7201a8\"],[0.3333333333333333,\"#9c179e\"],[0.4444444444444444,\"#bd3786\"],[0.5555555555555556,\"#d8576b\"],[0.6666666666666666,\"#ed7953\"],[0.7777777777777778,\"#fb9f3a\"],[0.8888888888888888,\"#fdca26\"],[1.0,\"#f0f921\"]],\"type\":\"histogram2dcontour\"}],\"histogram2d\":[{\"colorbar\":{\"outlinewidth\":0,\"ticks\":\"\"},\"colorscale\":[[0.0,\"#0d0887\"],[0.1111111111111111,\"#46039f\"],[0.2222222222222222,\"#7201a8\"],[0.3333333333333333,\"#9c179e\"],[0.4444444444444444,\"#bd3786\"],[0.5555555555555556,\"#d8576b\"],[0.6666666666666666,\"#ed7953\"],[0.7777777777777778,\"#fb9f3a\"],[0.8888888888888888,\"#fdca26\"],[1.0,\"#f0f921\"]],\"type\":\"histogram2d\"}],\"histogram\":[{\"marker\":{\"pattern\":{\"fillmode\":\"overlay\",\"size\":10,\"solidity\":0.2}},\"type\":\"histogram\"}],\"mesh3d\":[{\"colorbar\":{\"outlinewidth\":0,\"ticks\":\"\"},\"type\":\"mesh3d\"}],\"parcoords\":[{\"line\":{\"colorbar\":{\"outlinewidth\":0,\"ticks\":\"\"}},\"type\":\"parcoords\"}],\"pie\":[{\"automargin\":true,\"type\":\"pie\"}],\"scatter3d\":[{\"line\":{\"colorbar\":{\"outlinewidth\":0,\"ticks\":\"\"}},\"marker\":{\"colorbar\":{\"outlinewidth\":0,\"ticks\":\"\"}},\"type\":\"scatter3d\"}],\"scattercarpet\":[{\"marker\":{\"colorbar\":{\"outlinewidth\":0,\"ticks\":\"\"}},\"type\":\"scattercarpet\"}],\"scattergeo\":[{\"marker\":{\"colorbar\":{\"outlinewidth\":0,\"ticks\":\"\"}},\"type\":\"scattergeo\"}],\"scattergl\":[{\"marker\":{\"colorbar\":{\"outlinewidth\":0,\"ticks\":\"\"}},\"type\":\"scattergl\"}],\"scattermapbox\":[{\"marker\":{\"colorbar\":{\"outlinewidth\":0,\"ticks\":\"\"}},\"type\":\"scattermapbox\"}],\"scatterpolargl\":[{\"marker\":{\"colorbar\":{\"outlinewidth\":0,\"ticks\":\"\"}},\"type\":\"scatterpolargl\"}],\"scatterpolar\":[{\"marker\":{\"colorbar\":{\"outlinewidth\":0,\"ticks\":\"\"}},\"type\":\"scatterpolar\"}],\"scatter\":[{\"fillpattern\":{\"fillmode\":\"overlay\",\"size\":10,\"solidity\":0.2},\"type\":\"scatter\"}],\"scatterternary\":[{\"marker\":{\"colorbar\":{\"outlinewidth\":0,\"ticks\":\"\"}},\"type\":\"scatterternary\"}],\"surface\":[{\"colorbar\":{\"outlinewidth\":0,\"ticks\":\"\"},\"colorscale\":[[0.0,\"#0d0887\"],[0.1111111111111111,\"#46039f\"],[0.2222222222222222,\"#7201a8\"],[0.3333333333333333,\"#9c179e\"],[0.4444444444444444,\"#bd3786\"],[0.5555555555555556,\"#d8576b\"],[0.6666666666666666,\"#ed7953\"],[0.7777777777777778,\"#fb9f3a\"],[0.8888888888888888,\"#fdca26\"],[1.0,\"#f0f921\"]],\"type\":\"surface\"}],\"table\":[{\"cells\":{\"fill\":{\"color\":\"#EBF0F8\"},\"line\":{\"color\":\"white\"}},\"header\":{\"fill\":{\"color\":\"#C8D4E3\"},\"line\":{\"color\":\"white\"}},\"type\":\"table\"}]},\"layout\":{\"annotationdefaults\":{\"arrowcolor\":\"#2a3f5f\",\"arrowhead\":0,\"arrowwidth\":1},\"autotypenumbers\":\"strict\",\"coloraxis\":{\"colorbar\":{\"outlinewidth\":0,\"ticks\":\"\"}},\"colorscale\":{\"diverging\":[[0,\"#8e0152\"],[0.1,\"#c51b7d\"],[0.2,\"#de77ae\"],[0.3,\"#f1b6da\"],[0.4,\"#fde0ef\"],[0.5,\"#f7f7f7\"],[0.6,\"#e6f5d0\"],[0.7,\"#b8e186\"],[0.8,\"#7fbc41\"],[0.9,\"#4d9221\"],[1,\"#276419\"]],\"sequential\":[[0.0,\"#0d0887\"],[0.1111111111111111,\"#46039f\"],[0.2222222222222222,\"#7201a8\"],[0.3333333333333333,\"#9c179e\"],[0.4444444444444444,\"#bd3786\"],[0.5555555555555556,\"#d8576b\"],[0.6666666666666666,\"#ed7953\"],[0.7777777777777778,\"#fb9f3a\"],[0.8888888888888888,\"#fdca26\"],[1.0,\"#f0f921\"]],\"sequentialminus\":[[0.0,\"#0d0887\"],[0.1111111111111111,\"#46039f\"],[0.2222222222222222,\"#7201a8\"],[0.3333333333333333,\"#9c179e\"],[0.4444444444444444,\"#bd3786\"],[0.5555555555555556,\"#d8576b\"],[0.6666666666666666,\"#ed7953\"],[0.7777777777777778,\"#fb9f3a\"],[0.8888888888888888,\"#fdca26\"],[1.0,\"#f0f921\"]]},\"colorway\":[\"#636efa\",\"#EF553B\",\"#00cc96\",\"#ab63fa\",\"#FFA15A\",\"#19d3f3\",\"#FF6692\",\"#B6E880\",\"#FF97FF\",\"#FECB52\"],\"font\":{\"color\":\"#2a3f5f\"},\"geo\":{\"bgcolor\":\"white\",\"lakecolor\":\"white\",\"landcolor\":\"#E5ECF6\",\"showlakes\":true,\"showland\":true,\"subunitcolor\":\"white\"},\"hoverlabel\":{\"align\":\"left\"},\"hovermode\":\"closest\",\"mapbox\":{\"style\":\"light\"},\"paper_bgcolor\":\"white\",\"plot_bgcolor\":\"#E5ECF6\",\"polar\":{\"angularaxis\":{\"gridcolor\":\"white\",\"linecolor\":\"white\",\"ticks\":\"\"},\"bgcolor\":\"#E5ECF6\",\"radialaxis\":{\"gridcolor\":\"white\",\"linecolor\":\"white\",\"ticks\":\"\"}},\"scene\":{\"xaxis\":{\"backgroundcolor\":\"#E5ECF6\",\"gridcolor\":\"white\",\"gridwidth\":2,\"linecolor\":\"white\",\"showbackground\":true,\"ticks\":\"\",\"zerolinecolor\":\"white\"},\"yaxis\":{\"backgroundcolor\":\"#E5ECF6\",\"gridcolor\":\"white\",\"gridwidth\":2,\"linecolor\":\"white\",\"showbackground\":true,\"ticks\":\"\",\"zerolinecolor\":\"white\"},\"zaxis\":{\"backgroundcolor\":\"#E5ECF6\",\"gridcolor\":\"white\",\"gridwidth\":2,\"linecolor\":\"white\",\"showbackground\":true,\"ticks\":\"\",\"zerolinecolor\":\"white\"}},\"shapedefaults\":{\"line\":{\"color\":\"#2a3f5f\"}},\"ternary\":{\"aaxis\":{\"gridcolor\":\"white\",\"linecolor\":\"white\",\"ticks\":\"\"},\"baxis\":{\"gridcolor\":\"white\",\"linecolor\":\"white\",\"ticks\":\"\"},\"bgcolor\":\"#E5ECF6\",\"caxis\":{\"gridcolor\":\"white\",\"linecolor\":\"white\",\"ticks\":\"\"}},\"title\":{\"x\":0.05},\"xaxis\":{\"automargin\":true,\"gridcolor\":\"white\",\"linecolor\":\"white\",\"ticks\":\"\",\"title\":{\"standoff\":15},\"zerolinecolor\":\"white\",\"zerolinewidth\":2},\"yaxis\":{\"automargin\":true,\"gridcolor\":\"white\",\"linecolor\":\"white\",\"ticks\":\"\",\"title\":{\"standoff\":15},\"zerolinecolor\":\"white\",\"zerolinewidth\":2}}},\"title\":{\"font\":{\"color\":\"#4D5663\"}},\"xaxis\":{\"anchor\":\"y\",\"domain\":[0.0,0.2125],\"gridcolor\":\"#E1E5ED\",\"showgrid\":false,\"tickfont\":{\"color\":\"#4D5663\"},\"title\":{\"font\":{\"color\":\"#4D5663\"},\"text\":\"\"},\"zerolinecolor\":\"#E1E5ED\"},\"yaxis\":{\"anchor\":\"x\",\"domain\":[0.8025,1.0],\"gridcolor\":\"#E1E5ED\",\"showgrid\":false,\"tickfont\":{\"color\":\"#4D5663\"},\"title\":{\"font\":{\"color\":\"#4D5663\"},\"text\":\"\"},\"zerolinecolor\":\"#E1E5ED\"},\"xaxis2\":{\"anchor\":\"y2\",\"domain\":[0.2625,0.475],\"gridcolor\":\"#E1E5ED\",\"showgrid\":false,\"tickfont\":{\"color\":\"#4D5663\"},\"title\":{\"font\":{\"color\":\"#4D5663\"},\"text\":\"\"},\"zerolinecolor\":\"#E1E5ED\"},\"yaxis2\":{\"anchor\":\"x2\",\"domain\":[0.8025,1.0],\"gridcolor\":\"#E1E5ED\",\"showgrid\":false,\"tickfont\":{\"color\":\"#4D5663\"},\"title\":{\"font\":{\"color\":\"#4D5663\"},\"text\":\"\"},\"zerolinecolor\":\"#E1E5ED\"},\"xaxis3\":{\"anchor\":\"y3\",\"domain\":[0.525,0.7375],\"gridcolor\":\"#E1E5ED\",\"showgrid\":false,\"tickfont\":{\"color\":\"#4D5663\"},\"title\":{\"font\":{\"color\":\"#4D5663\"},\"text\":\"\"},\"zerolinecolor\":\"#E1E5ED\"},\"yaxis3\":{\"anchor\":\"x3\",\"domain\":[0.8025,1.0],\"gridcolor\":\"#E1E5ED\",\"showgrid\":false,\"tickfont\":{\"color\":\"#4D5663\"},\"title\":{\"font\":{\"color\":\"#4D5663\"},\"text\":\"\"},\"zerolinecolor\":\"#E1E5ED\"},\"xaxis4\":{\"anchor\":\"y4\",\"domain\":[0.7875,1.0],\"gridcolor\":\"#E1E5ED\",\"showgrid\":false,\"tickfont\":{\"color\":\"#4D5663\"},\"title\":{\"font\":{\"color\":\"#4D5663\"},\"text\":\"\"},\"zerolinecolor\":\"#E1E5ED\"},\"yaxis4\":{\"anchor\":\"x4\",\"domain\":[0.8025,1.0],\"gridcolor\":\"#E1E5ED\",\"showgrid\":false,\"tickfont\":{\"color\":\"#4D5663\"},\"title\":{\"font\":{\"color\":\"#4D5663\"},\"text\":\"\"},\"zerolinecolor\":\"#E1E5ED\"},\"xaxis5\":{\"anchor\":\"y5\",\"domain\":[0.0,0.2125],\"gridcolor\":\"#E1E5ED\",\"showgrid\":false,\"tickfont\":{\"color\":\"#4D5663\"},\"title\":{\"font\":{\"color\":\"#4D5663\"},\"text\":\"\"},\"zerolinecolor\":\"#E1E5ED\"},\"yaxis5\":{\"anchor\":\"x5\",\"domain\":[0.535,0.7325],\"gridcolor\":\"#E1E5ED\",\"showgrid\":false,\"tickfont\":{\"color\":\"#4D5663\"},\"title\":{\"font\":{\"color\":\"#4D5663\"},\"text\":\"\"},\"zerolinecolor\":\"#E1E5ED\"},\"xaxis6\":{\"anchor\":\"y6\",\"domain\":[0.2625,0.475],\"gridcolor\":\"#E1E5ED\",\"showgrid\":false,\"tickfont\":{\"color\":\"#4D5663\"},\"title\":{\"font\":{\"color\":\"#4D5663\"},\"text\":\"\"},\"zerolinecolor\":\"#E1E5ED\"},\"yaxis6\":{\"anchor\":\"x6\",\"domain\":[0.535,0.7325],\"gridcolor\":\"#E1E5ED\",\"showgrid\":false,\"tickfont\":{\"color\":\"#4D5663\"},\"title\":{\"font\":{\"color\":\"#4D5663\"},\"text\":\"\"},\"zerolinecolor\":\"#E1E5ED\"},\"xaxis7\":{\"anchor\":\"y7\",\"domain\":[0.525,0.7375],\"gridcolor\":\"#E1E5ED\",\"showgrid\":false,\"tickfont\":{\"color\":\"#4D5663\"},\"title\":{\"font\":{\"color\":\"#4D5663\"},\"text\":\"\"},\"zerolinecolor\":\"#E1E5ED\"},\"yaxis7\":{\"anchor\":\"x7\",\"domain\":[0.535,0.7325],\"gridcolor\":\"#E1E5ED\",\"showgrid\":false,\"tickfont\":{\"color\":\"#4D5663\"},\"title\":{\"font\":{\"color\":\"#4D5663\"},\"text\":\"\"},\"zerolinecolor\":\"#E1E5ED\"},\"xaxis8\":{\"anchor\":\"y8\",\"domain\":[0.7875,1.0],\"gridcolor\":\"#E1E5ED\",\"showgrid\":false,\"tickfont\":{\"color\":\"#4D5663\"},\"title\":{\"font\":{\"color\":\"#4D5663\"},\"text\":\"\"},\"zerolinecolor\":\"#E1E5ED\"},\"yaxis8\":{\"anchor\":\"x8\",\"domain\":[0.535,0.7325],\"gridcolor\":\"#E1E5ED\",\"showgrid\":false,\"tickfont\":{\"color\":\"#4D5663\"},\"title\":{\"font\":{\"color\":\"#4D5663\"},\"text\":\"\"},\"zerolinecolor\":\"#E1E5ED\"},\"xaxis9\":{\"anchor\":\"y9\",\"domain\":[0.0,0.2125],\"gridcolor\":\"#E1E5ED\",\"showgrid\":false,\"tickfont\":{\"color\":\"#4D5663\"},\"title\":{\"font\":{\"color\":\"#4D5663\"},\"text\":\"\"},\"zerolinecolor\":\"#E1E5ED\"},\"yaxis9\":{\"anchor\":\"x9\",\"domain\":[0.2675,0.465],\"gridcolor\":\"#E1E5ED\",\"showgrid\":false,\"tickfont\":{\"color\":\"#4D5663\"},\"title\":{\"font\":{\"color\":\"#4D5663\"},\"text\":\"\"},\"zerolinecolor\":\"#E1E5ED\"},\"xaxis10\":{\"anchor\":\"y10\",\"domain\":[0.2625,0.475],\"gridcolor\":\"#E1E5ED\",\"showgrid\":false,\"tickfont\":{\"color\":\"#4D5663\"},\"title\":{\"font\":{\"color\":\"#4D5663\"},\"text\":\"\"},\"zerolinecolor\":\"#E1E5ED\"},\"yaxis10\":{\"anchor\":\"x10\",\"domain\":[0.2675,0.465],\"gridcolor\":\"#E1E5ED\",\"showgrid\":false,\"tickfont\":{\"color\":\"#4D5663\"},\"title\":{\"font\":{\"color\":\"#4D5663\"},\"text\":\"\"},\"zerolinecolor\":\"#E1E5ED\"},\"xaxis11\":{\"anchor\":\"y11\",\"domain\":[0.525,0.7375],\"gridcolor\":\"#E1E5ED\",\"showgrid\":false,\"tickfont\":{\"color\":\"#4D5663\"},\"title\":{\"font\":{\"color\":\"#4D5663\"},\"text\":\"\"},\"zerolinecolor\":\"#E1E5ED\"},\"yaxis11\":{\"anchor\":\"x11\",\"domain\":[0.2675,0.465],\"gridcolor\":\"#E1E5ED\",\"showgrid\":false,\"tickfont\":{\"color\":\"#4D5663\"},\"title\":{\"font\":{\"color\":\"#4D5663\"},\"text\":\"\"},\"zerolinecolor\":\"#E1E5ED\"},\"xaxis12\":{\"anchor\":\"y12\",\"domain\":[0.7875,1.0],\"gridcolor\":\"#E1E5ED\",\"showgrid\":false,\"tickfont\":{\"color\":\"#4D5663\"},\"title\":{\"font\":{\"color\":\"#4D5663\"},\"text\":\"\"},\"zerolinecolor\":\"#E1E5ED\"},\"yaxis12\":{\"anchor\":\"x12\",\"domain\":[0.2675,0.465],\"gridcolor\":\"#E1E5ED\",\"showgrid\":false,\"tickfont\":{\"color\":\"#4D5663\"},\"title\":{\"font\":{\"color\":\"#4D5663\"},\"text\":\"\"},\"zerolinecolor\":\"#E1E5ED\"},\"xaxis13\":{\"anchor\":\"y13\",\"domain\":[0.0,0.2125],\"gridcolor\":\"#E1E5ED\",\"showgrid\":false,\"tickfont\":{\"color\":\"#4D5663\"},\"title\":{\"font\":{\"color\":\"#4D5663\"},\"text\":\"\"},\"zerolinecolor\":\"#E1E5ED\"},\"yaxis13\":{\"anchor\":\"x13\",\"domain\":[0.0,0.1975],\"gridcolor\":\"#E1E5ED\",\"showgrid\":false,\"tickfont\":{\"color\":\"#4D5663\"},\"title\":{\"font\":{\"color\":\"#4D5663\"},\"text\":\"\"},\"zerolinecolor\":\"#E1E5ED\"},\"xaxis14\":{\"anchor\":\"y14\",\"domain\":[0.2625,0.475],\"gridcolor\":\"#E1E5ED\",\"showgrid\":false,\"tickfont\":{\"color\":\"#4D5663\"},\"title\":{\"font\":{\"color\":\"#4D5663\"},\"text\":\"\"},\"zerolinecolor\":\"#E1E5ED\"},\"yaxis14\":{\"anchor\":\"x14\",\"domain\":[0.0,0.1975],\"gridcolor\":\"#E1E5ED\",\"showgrid\":false,\"tickfont\":{\"color\":\"#4D5663\"},\"title\":{\"font\":{\"color\":\"#4D5663\"},\"text\":\"\"},\"zerolinecolor\":\"#E1E5ED\"},\"xaxis15\":{\"anchor\":\"y15\",\"domain\":[0.525,0.7375],\"gridcolor\":\"#E1E5ED\",\"showgrid\":false,\"tickfont\":{\"color\":\"#4D5663\"},\"title\":{\"font\":{\"color\":\"#4D5663\"},\"text\":\"\"},\"zerolinecolor\":\"#E1E5ED\"},\"yaxis15\":{\"anchor\":\"x15\",\"domain\":[0.0,0.1975],\"gridcolor\":\"#E1E5ED\",\"showgrid\":false,\"tickfont\":{\"color\":\"#4D5663\"},\"title\":{\"font\":{\"color\":\"#4D5663\"},\"text\":\"\"},\"zerolinecolor\":\"#E1E5ED\"},\"xaxis16\":{\"anchor\":\"y16\",\"domain\":[0.7875,1.0],\"gridcolor\":\"#E1E5ED\",\"showgrid\":false,\"tickfont\":{\"color\":\"#4D5663\"},\"title\":{\"font\":{\"color\":\"#4D5663\"},\"text\":\"\"},\"zerolinecolor\":\"#E1E5ED\"},\"yaxis16\":{\"anchor\":\"x16\",\"domain\":[0.0,0.1975],\"gridcolor\":\"#E1E5ED\",\"showgrid\":false,\"tickfont\":{\"color\":\"#4D5663\"},\"title\":{\"font\":{\"color\":\"#4D5663\"},\"text\":\"\"},\"zerolinecolor\":\"#E1E5ED\"}},                        {\"showLink\": true, \"linkText\": \"Export to plot.ly\", \"plotlyServerURL\": \"https://plot.ly\", \"responsive\": true}                    ).then(function(){\n",
       "                            \n",
       "var gd = document.getElementById('40083966-747b-4d00-83cc-9cbb2132cbe6');\n",
       "var x = new MutationObserver(function (mutations, observer) {{\n",
       "        var display = window.getComputedStyle(gd).display;\n",
       "        if (!display || display === 'none') {{\n",
       "            console.log([gd, 'removed!']);\n",
       "            Plotly.purge(gd);\n",
       "            observer.disconnect();\n",
       "        }}\n",
       "}});\n",
       "\n",
       "// Listen for the removal of the full notebook cells\n",
       "var notebookContainer = gd.closest('#notebook-container');\n",
       "if (notebookContainer) {{\n",
       "    x.observe(notebookContainer, {childList: true});\n",
       "}}\n",
       "\n",
       "// Listen for the clearing of the current output cell\n",
       "var outputEl = gd.closest('.output');\n",
       "if (outputEl) {{\n",
       "    x.observe(outputEl, {childList: true});\n",
       "}}\n",
       "\n",
       "                        })                };                });            </script>        </div>"
      ]
     },
     "metadata": {},
     "output_type": "display_data"
    }
   ],
   "source": [
    "df.scatter_matrix()"
   ]
  },
  {
   "cell_type": "code",
   "execution_count": null,
   "metadata": {},
   "outputs": [],
   "source": []
  },
  {
   "cell_type": "code",
   "execution_count": null,
   "metadata": {},
   "outputs": [],
   "source": []
  }
 ],
 "metadata": {
  "kernelspec": {
   "display_name": "Python 3",
   "language": "python",
   "name": "python3"
  },
  "language_info": {
   "codemirror_mode": {
    "name": "ipython",
    "version": 3
   },
   "file_extension": ".py",
   "mimetype": "text/x-python",
   "name": "python",
   "nbconvert_exporter": "python",
   "pygments_lexer": "ipython3",
   "version": "3.11.1"
  }
 },
 "nbformat": 4,
 "nbformat_minor": 2
}
